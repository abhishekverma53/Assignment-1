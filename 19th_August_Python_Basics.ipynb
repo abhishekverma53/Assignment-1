{
 "cells": [
  {
   "cell_type": "code",
   "execution_count": 13,
   "id": "f4415542-f815-4213-89e2-462ae8959ccb",
   "metadata": {},
   "outputs": [
    {
     "name": "stdout",
     "output_type": "stream",
     "text": [
      "value of x 15\n",
      "value of y 10\n"
     ]
    }
   ],
   "source": [
    "# Ques 1\n",
    "x = 10\n",
    "y = 15\n",
    "x, y = y, x\n",
    "print('value of x', x)\n",
    "print('value of y', y)"
   ]
  },
  {
   "cell_type": "code",
   "execution_count": 47,
   "id": "cd15a54d-47c1-4fd2-8832-652995b1d010",
   "metadata": {},
   "outputs": [
    {
     "name": "stdout",
     "output_type": "stream",
     "text": [
      "PLease enter length of rectangle :\n"
     ]
    },
    {
     "name": "stdin",
     "output_type": "stream",
     "text": [
      " 15\n"
     ]
    },
    {
     "name": "stdout",
     "output_type": "stream",
     "text": [
      "Please enter width of rectangle :\n"
     ]
    },
    {
     "name": "stdin",
     "output_type": "stream",
     "text": [
      " 55\n"
     ]
    },
    {
     "name": "stdout",
     "output_type": "stream",
     "text": [
      "Area of rectangle is : 825\n"
     ]
    }
   ],
   "source": [
    "# Ques 2\n",
    "print('PLease enter length of rectangle :')\n",
    "length = int(input())\n",
    "print('Please enter width of rectangle :')\n",
    "width = int(input())\n",
    "print('Area of rectangle is :', length*width)"
   ]
  },
  {
   "cell_type": "code",
   "execution_count": 46,
   "id": "23c15494-5c11-4376-9c99-84732b466101",
   "metadata": {},
   "outputs": [
    {
     "name": "stdout",
     "output_type": "stream",
     "text": [
      "Enter temperature in celsius :\n"
     ]
    },
    {
     "name": "stdin",
     "output_type": "stream",
     "text": [
      " 37\n"
     ]
    },
    {
     "name": "stdout",
     "output_type": "stream",
     "text": [
      "Temperature in F : 98.6\n"
     ]
    }
   ],
   "source": [
    "# Ques 3\n",
    "print('Enter temperature in celsius :')\n",
    "C = int(input())\n",
    "print('Temperature in F :', C*9/5+32)"
   ]
  },
  {
   "cell_type": "code",
   "execution_count": 45,
   "id": "1472a654-dd6c-473a-8a20-619b1e97e1bc",
   "metadata": {},
   "outputs": [
    {
     "name": "stdout",
     "output_type": "stream",
     "text": [
      "Please enter string :\n"
     ]
    },
    {
     "name": "stdin",
     "output_type": "stream",
     "text": [
      " data science\n"
     ]
    },
    {
     "name": "stdout",
     "output_type": "stream",
     "text": [
      "Length of string : 12\n"
     ]
    }
   ],
   "source": [
    "# Topic String based question\n",
    "# Ques 1\n",
    "print('Please enter string :')\n",
    "s = str(input())\n",
    "print(\"Length of string :\",len(s))"
   ]
  },
  {
   "cell_type": "code",
   "execution_count": 36,
   "id": "2c268530-6d5a-403b-9e73-997331bd55b5",
   "metadata": {},
   "outputs": [
    {
     "name": "stdout",
     "output_type": "stream",
     "text": [
      "Reversed string : kehsihba\n"
     ]
    }
   ],
   "source": [
    "# Ques 3\n",
    "s2 = 'abhishek'\n",
    "print('Reversed string :',s2[::-1])"
   ]
  },
  {
   "cell_type": "code",
   "execution_count": 44,
   "id": "bb8ba316-fd4a-48e0-bda1-f088db240908",
   "metadata": {},
   "outputs": [
    {
     "name": "stdout",
     "output_type": "stream",
     "text": [
      "Enter the word :\n"
     ]
    },
    {
     "name": "stdin",
     "output_type": "stream",
     "text": [
      " pwskills\n"
     ]
    },
    {
     "data": {
      "text/plain": [
       "False"
      ]
     },
     "execution_count": 44,
     "metadata": {},
     "output_type": "execute_result"
    }
   ],
   "source": [
    "# Ques 4\n",
    "print('Enter the word :')\n",
    "s3 =str(input())\n",
    "s3 == s3[::-1]\n"
   ]
  },
  {
   "cell_type": "code",
   "execution_count": 43,
   "id": "dac50fa4-6889-40da-a02b-f31d890151c5",
   "metadata": {},
   "outputs": [
    {
     "name": "stdout",
     "output_type": "stream",
     "text": [
      "Enter the string\n"
     ]
    },
    {
     "name": "stdin",
     "output_type": "stream",
     "text": [
      " my name is abhishek verma\n"
     ]
    },
    {
     "name": "stdout",
     "output_type": "stream",
     "text": [
      "mynameisabhishekverma\n"
     ]
    }
   ],
   "source": [
    "# Ques 5\n",
    "print('Enter the string')\n",
    "s6 =str(input())\n",
    "print(s6.replace(' ',''))"
   ]
  },
  {
   "cell_type": "code",
   "execution_count": null,
   "id": "5c923366-67ef-4a65-956c-08e2c7f3bbca",
   "metadata": {},
   "outputs": [],
   "source": []
  }
 ],
 "metadata": {
  "kernelspec": {
   "display_name": "Python 3 (ipykernel)",
   "language": "python",
   "name": "python3"
  },
  "language_info": {
   "codemirror_mode": {
    "name": "ipython",
    "version": 3
   },
   "file_extension": ".py",
   "mimetype": "text/x-python",
   "name": "python",
   "nbconvert_exporter": "python",
   "pygments_lexer": "ipython3",
   "version": "3.10.8"
  }
 },
 "nbformat": 4,
 "nbformat_minor": 5
}
