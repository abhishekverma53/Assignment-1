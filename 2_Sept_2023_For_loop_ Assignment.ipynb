{
 "cells": [
  {
   "cell_type": "markdown",
   "id": "0888e003-5de8-436b-89c2-385afb1f5655",
   "metadata": {},
   "source": [
    "## BASIC Level\n"
   ]
  },
  {
   "cell_type": "code",
   "execution_count": 1,
   "id": "251c1763-d3b9-45a0-8d8c-6be3aeb34865",
   "metadata": {},
   "outputs": [
    {
     "name": "stdout",
     "output_type": "stream",
     "text": [
      "1\n",
      "2\n",
      "3\n",
      "4\n",
      "5\n",
      "6\n",
      "7\n",
      "8\n",
      "9\n",
      "10\n"
     ]
    }
   ],
   "source": [
    "# ques 1\n",
    "for i in range(1,11):\n",
    "    print(i)"
   ]
  },
  {
   "cell_type": "code",
   "execution_count": 2,
   "id": "2bc870e5-29a3-4f2b-8ec9-3e92138c67e3",
   "metadata": {},
   "outputs": [
    {
     "name": "stdout",
     "output_type": "stream",
     "text": [
      "21\n"
     ]
    }
   ],
   "source": [
    "# ques 2\n",
    "l = [1,2,3,4,5,6]\n",
    "sum = 0\n",
    "for i in l:\n",
    "    sum += i\n",
    "print(sum)"
   ]
  },
  {
   "cell_type": "code",
   "execution_count": 4,
   "id": "cd0bb441-a1a5-410e-b667-39f87e3f919d",
   "metadata": {},
   "outputs": [
    {
     "name": "stdout",
     "output_type": "stream",
     "text": [
      "sllikswp\n"
     ]
    }
   ],
   "source": [
    "# ques 3\n",
    "s = 'pwskills'\n",
    "for i in s:\n",
    "    i = s[::-1]\n",
    "print(i)"
   ]
  },
  {
   "cell_type": "code",
   "execution_count": 5,
   "id": "117f905d-b94e-4ed5-ab36-6f304041a5ee",
   "metadata": {},
   "outputs": [
    {
     "name": "stdin",
     "output_type": "stream",
     "text": [
      "Enter a number:  5\n"
     ]
    },
    {
     "name": "stdout",
     "output_type": "stream",
     "text": [
      "The factorial of 5 is 120\n"
     ]
    }
   ],
   "source": [
    "# ques 4\n",
    "num = int(input(\"Enter a number: \"))\n",
    "factorial = 1\n",
    "\n",
    "if num < 0:\n",
    "    print(\"Sorry, factorial does not exist for negative numbers\")\n",
    "elif num == 0:\n",
    "    print(\"The factorial of 0 is 1\")\n",
    "else:\n",
    "    for i in range(1,num + 1):\n",
    "        factorial = factorial*i\n",
    "    print(\"The factorial of\",num,\"is\",factorial)"
   ]
  },
  {
   "cell_type": "code",
   "execution_count": 1,
   "id": "f8cb0181-94c7-4a6e-bb71-13dd124cc837",
   "metadata": {},
   "outputs": [
    {
     "name": "stdin",
     "output_type": "stream",
     "text": [
      "Enter the number : 2\n"
     ]
    },
    {
     "name": "stdout",
     "output_type": "stream",
     "text": [
      "2 4 6 8 10 12 14 16 18 20 "
     ]
    }
   ],
   "source": [
    "# ques 5\n",
    "num = int(input('Enter the number :'))\n",
    "for i in range(1,11):\n",
    "    print(num*i, end =' ')\n"
   ]
  },
  {
   "cell_type": "code",
   "execution_count": 4,
   "id": "2f120a4b-7db5-4793-98ec-7c0c41c482b9",
   "metadata": {},
   "outputs": [
    {
     "name": "stdout",
     "output_type": "stream",
     "text": [
      "Number of even numbers is : 4\n",
      "Number of odd numbers is : 3\n"
     ]
    }
   ],
   "source": [
    "# ques 6\n",
    "list = [2,5,45,44,75,76,88]\n",
    "even_count = 0\n",
    "odd_count = 0\n",
    "for i in list:\n",
    "    if i % 2 == 0:\n",
    "        even_count += 1\n",
    "    else:\n",
    "        odd_count += 1\n",
    "print(\"Number of even numbers is :\", even_count)\n",
    "print('Number of odd numbers is :',odd_count)"
   ]
  },
  {
   "cell_type": "code",
   "execution_count": 5,
   "id": "5e2d7807-ff3a-4803-ad2e-1e88144c134d",
   "metadata": {},
   "outputs": [
    {
     "name": "stdout",
     "output_type": "stream",
     "text": [
      "1\n",
      "4\n",
      "9\n",
      "16\n",
      "25\n"
     ]
    }
   ],
   "source": [
    "# ques 7\n",
    "for i in range(1,6):\n",
    "    i = i*i\n",
    "    print(i)"
   ]
  },
  {
   "cell_type": "code",
   "execution_count": 4,
   "id": "6008a03d-8a2d-4c17-b7de-7d3cfcc01799",
   "metadata": {},
   "outputs": [
    {
     "name": "stdout",
     "output_type": "stream",
     "text": [
      "5\n"
     ]
    }
   ],
   "source": [
    "# ques 8\n",
    "string = 'Hello'\n",
    "count = 0\n",
    "for i in string:\n",
    "    count += 1\n",
    "print(count)"
   ]
  },
  {
   "cell_type": "code",
   "execution_count": 7,
   "id": "273f444d-58b6-431a-b00f-5693692e2a9e",
   "metadata": {},
   "outputs": [
    {
     "name": "stdout",
     "output_type": "stream",
     "text": [
      "2.5\n"
     ]
    }
   ],
   "source": [
    "# ques 9\n",
    "l = [1,2,3,4]\n",
    "total = 0\n",
    "count = 0\n",
    "for i in l:\n",
    "    total += i\n",
    "    count += 1\n",
    "    average = total/count\n",
    "print(average)"
   ]
  },
  {
   "cell_type": "code",
   "execution_count": 8,
   "id": "1a5d025e-7606-476d-9d8d-84b8bb610a31",
   "metadata": {},
   "outputs": [
    {
     "name": "stdout",
     "output_type": "stream",
     "text": [
      "0\n",
      "1\n",
      "1\n",
      "2\n",
      "3\n",
      "5\n",
      "8\n",
      "13\n",
      "21\n",
      "34\n"
     ]
    }
   ],
   "source": [
    "# ques 10\n",
    "first = 0\n",
    "second = 1\n",
    "print(first)\n",
    "print(second)\n",
    "for i in range(1,9):\n",
    "    third = first + second\n",
    "    print(third)\n",
    "    first, second = second, third"
   ]
  },
  {
   "cell_type": "markdown",
   "id": "6effe645-5b73-4d6d-84dd-bae1856861e7",
   "metadata": {},
   "source": [
    "# Intermediate Level\n",
    "\n"
   ]
  },
  {
   "cell_type": "code",
   "execution_count": 3,
   "id": "cbf1e6c7-da80-490b-b08b-2c58359b37a9",
   "metadata": {},
   "outputs": [
    {
     "name": "stdout",
     "output_type": "stream",
     "text": [
      "[1, 2, 6, 4, 12]\n"
     ]
    }
   ],
   "source": [
    "# ques 11\n",
    "def repeat(x):\n",
    "    repeated = []\n",
    "    size = len(x)\n",
    "    for i in range(size):\n",
    "        k = i +1\n",
    "        for j in range(k,size):\n",
    "            if x[i] == x[j] and x[i] not in repeated:\n",
    "                repeated.append(x[i])\n",
    "    return repeated\n",
    "list1 = [1,2,45,6,4,12,12,4,8,6,1,2]\n",
    "print(repeat(list1))"
   ]
  },
  {
   "cell_type": "code",
   "execution_count": 4,
   "id": "23dfba94-43b5-431e-aa5f-e14df5799746",
   "metadata": {},
   "outputs": [
    {
     "name": "stdout",
     "output_type": "stream",
     "text": [
      "2\n",
      "3\n",
      "5\n",
      "7\n",
      "11\n",
      "13\n",
      "17\n",
      "19\n"
     ]
    }
   ],
   "source": [
    "# ques 12\n",
    "lower = 1\n",
    "upper = 20\n",
    "for num in range(lower, upper + 1):\n",
    "    if num > 1:\n",
    "        for i in range(2,num):\n",
    "            if num%i == 0:\n",
    "                break\n",
    "        else:\n",
    "            print(num)\n"
   ]
  },
  {
   "cell_type": "code",
   "execution_count": 7,
   "id": "0878b3fc-7811-486d-848c-2d464964b85a",
   "metadata": {},
   "outputs": [
    {
     "name": "stdin",
     "output_type": "stream",
     "text": [
      "enter the string : my name is xyz\n"
     ]
    },
    {
     "name": "stdout",
     "output_type": "stream",
     "text": [
      "number of vowels are : 3\n"
     ]
    }
   ],
   "source": [
    "# ques 13\n",
    "s = str(input('enter the string :'))\n",
    "vowels = 0\n",
    "for i in s:\n",
    "    if ( i == 'a' or i == 'e' or i == 'i' or i == 'o' or i == 'u'):\n",
    "        vowels += 1\n",
    "print('number of vowels are :',vowels)"
   ]
  },
  {
   "cell_type": "code",
   "execution_count": 6,
   "id": "547dbb28-ac09-4cab-9e4a-6d274a8fcb49",
   "metadata": {},
   "outputs": [
    {
     "name": "stdout",
     "output_type": "stream",
     "text": [
      "192\n"
     ]
    }
   ],
   "source": [
    "# ques 14\n",
    "def prod(lis):\n",
    "    maxi = 0\n",
    "    for x in lis:\n",
    "        p = 1\n",
    "        for i in x:\n",
    "            p *= i\n",
    "            maxi = max(p,maxi)\n",
    "    return maxi\n",
    "            \n",
    "l = [[1,4,5],[4,8,6]]\n",
    "print(prod(l))"
   ]
  },
  {
   "cell_type": "code",
   "execution_count": 9,
   "id": "b9cf56cc-afde-4567-95e1-0b9599aefb50",
   "metadata": {},
   "outputs": [
    {
     "name": "stdin",
     "output_type": "stream",
     "text": [
      "Enter the number you want to remove : 1\n"
     ]
    },
    {
     "name": "stdout",
     "output_type": "stream",
     "text": [
      "[5, 4, 8, 2, 68, 46, 4, 23]\n"
     ]
    }
   ],
   "source": [
    "# ques 15\n",
    "l = [1,5,4,8,2,1,68,46,4,1,23,1]\n",
    "r_list = int(input('Enter the number you want to remove :'))\n",
    "for i in l:\n",
    "     if i == r_list:\n",
    "            l.remove(i)\n",
    "print(l)\n"
   ]
  },
  {
   "cell_type": "code",
   "execution_count": 12,
   "id": "47a1fe83-b6fa-48dd-b122-18f2887b9fe2",
   "metadata": {},
   "outputs": [
    {
     "name": "stdout",
     "output_type": "stream",
     "text": [
      "1 2 3 4 5 6 7 8 9 10 \n",
      "2 4 6 8 10 12 14 16 18 20 \n",
      "3 6 9 12 15 18 21 24 27 30 \n",
      "4 8 12 16 20 24 28 32 36 40 \n",
      "5 10 15 20 25 30 35 40 45 50 \n"
     ]
    }
   ],
   "source": [
    "# ques 16\n",
    "for i in range(1,6):\n",
    "    for j in range(1,11):\n",
    "        print(i*j, end = ' ' )\n",
    "    print()"
   ]
  },
  {
   "cell_type": "code",
   "execution_count": 8,
   "id": "75229144-e015-4dc8-abe1-9d8bc6e08788",
   "metadata": {},
   "outputs": [
    {
     "name": "stdout",
     "output_type": "stream",
     "text": [
      "List temperature in farhenheit : [50, 98.6, 102, 150]\n",
      "List of temperature in celsius : [10.0, 37.0, 38.888888888888886, 65.55555555555556]\n"
     ]
    }
   ],
   "source": [
    "# ques 17\n",
    "l = [50,98.6,102,150]\n",
    "l1 = []\n",
    "print(\"List temperature in farhenheit :\",l)\n",
    "for i in l:\n",
    "    i = (i-32)*5/9\n",
    "    l1.append(i)\n",
    "print('List of temperature in celsius :',l1)\n",
    "    "
   ]
  },
  {
   "cell_type": "code",
   "execution_count": 10,
   "id": "784f136e-e946-44e6-be2f-96b049ff61b9",
   "metadata": {},
   "outputs": [
    {
     "name": "stdout",
     "output_type": "stream",
     "text": [
      "Common elements between two lists : [3, 4, 5]\n"
     ]
    }
   ],
   "source": [
    "# ques 18\n",
    "l1 = [1,2,3,4,5]\n",
    "l2 = [3,4,5,6,7]\n",
    "l3 = []\n",
    "for i in l1:\n",
    "    if i in l2:\n",
    "        l3.append(i)\n",
    "print('Common elements between two lists :',l3)\n",
    "        "
   ]
  },
  {
   "cell_type": "code",
   "execution_count": 27,
   "id": "43527205-e507-471c-9e62-b7eca33d9c08",
   "metadata": {},
   "outputs": [
    {
     "name": "stdout",
     "output_type": "stream",
     "text": [
      "* \n",
      "* * \n",
      "* * * \n",
      "* * * * \n",
      "* * * * * \n",
      "* * * * * * \n"
     ]
    }
   ],
   "source": [
    "# ques 19\n",
    "l = []\n",
    "for i in range(6):\n",
    "    for j in range(i+1):   \n",
    "        print('*', end = ' ')\n",
    "    print()"
   ]
  },
  {
   "cell_type": "code",
   "execution_count": 28,
   "id": "ee363011-510a-4f9c-99d6-240ccc4c48af",
   "metadata": {},
   "outputs": [
    {
     "name": "stdout",
     "output_type": "stream",
     "text": [
      "GCD of 50 and 100 is: 50\n"
     ]
    }
   ],
   "source": [
    "# ques 20\n",
    "x = 50\n",
    "y = 100\n",
    "if x > y:\n",
    "    x, y = y, x\n",
    "for i in range(1,x+1):\n",
    "    if x%i == 0 and y%i == 0:\n",
    "        gcd = i\n",
    "\n",
    "print(\"GCD of\", x, \"and\", y, \"is:\", gcd)"
   ]
  },
  {
   "cell_type": "markdown",
   "id": "a13c8ab4-dacd-4cad-9397-956763a21a79",
   "metadata": {},
   "source": [
    "## Advanced Level"
   ]
  },
  {
   "cell_type": "code",
   "execution_count": 50,
   "id": "78212102-2342-4271-b5f0-a79ab66d9357",
   "metadata": {},
   "outputs": [
    {
     "name": "stdout",
     "output_type": "stream",
     "text": [
      "6\n"
     ]
    }
   ],
   "source": [
    "# ques 21\n",
    "l = [1,2,3]\n",
    "sum_1 = sum([i for i in l])\n",
    "print(sum_1)"
   ]
  },
  {
   "cell_type": "code",
   "execution_count": 10,
   "id": "490e48b3-7603-4a2c-903a-5fcbd9396575",
   "metadata": {},
   "outputs": [
    {
     "name": "stdin",
     "output_type": "stream",
     "text": [
      "Enter a number to check its prime factors : 30\n"
     ]
    },
    {
     "name": "stdout",
     "output_type": "stream",
     "text": [
      "Prime factors of 30 are : [2, 3, 5]\n"
     ]
    }
   ],
   "source": [
    "# ques 22\n",
    "def is_prime(num):\n",
    "    if num < 2:\n",
    "        return False\n",
    "    for i in range(2, int(num**0.5) + 1):\n",
    "        if num % i == 0:\n",
    "            return False\n",
    "    return True\n",
    "\n",
    "n = int(input('Enter a number to check its prime factors :'))\n",
    "factors = [x for x in range(2, n + 1) if n % x == 0 and is_prime(x)]\n",
    "print(f'Prime factors of {n} are :',factors)\n"
   ]
  },
  {
   "cell_type": "code",
   "execution_count": 14,
   "id": "1d42ea83-f3d9-4055-ad56-fc63f98c3eb8",
   "metadata": {},
   "outputs": [
    {
     "name": "stdout",
     "output_type": "stream",
     "text": [
      "Original list : [1, 2, 3, 4, 5, 6, 7, 8, 9]\n",
      "New list with unique element : [6, 7, 8, 9]\n"
     ]
    }
   ],
   "source": [
    "# ques 23\n",
    "l = [1,2,3,4,5,6,7,8,9]\n",
    "l1 =[ i for i in l if i>5]\n",
    "print('Original list :',l)\n",
    "print('New list with unique element :',l1)"
   ]
  },
  {
   "cell_type": "code",
   "execution_count": 18,
   "id": "8d16f44a-9b9b-432b-b2a9-bc96dbd1e34d",
   "metadata": {},
   "outputs": [
    {
     "name": "stdin",
     "output_type": "stream",
     "text": [
      "Enter the limit:  100\n"
     ]
    },
    {
     "name": "stdout",
     "output_type": "stream",
     "text": [
      "Palindromic numbers up to 100: [1, 2, 3, 4, 5, 6, 7, 8, 9, 11, 22, 33, 44, 55, 66, 77, 88, 99]\n"
     ]
    }
   ],
   "source": [
    "# ques 24\n",
    "def is_palindrome(number):\n",
    "    return str(number) == str(number)[::-1]\n",
    "\n",
    "def generate_palindromic_numbers(limit):\n",
    "    palindromic_numbers = [num for num in range(1, limit + 1) if is_palindrome(num)]\n",
    "    return palindromic_numbers\n",
    "limit = int(input(\"Enter the limit: \"))\n",
    "palindromic_numbers = generate_palindromic_numbers(limit)\n",
    "print(f\"Palindromic numbers up to {limit}: {palindromic_numbers}\")"
   ]
  },
  {
   "cell_type": "code",
   "execution_count": 21,
   "id": "08a92208-0693-4fc8-8aba-961b1c3fca4d",
   "metadata": {},
   "outputs": [
    {
     "name": "stdout",
     "output_type": "stream",
     "text": [
      "Flattened List : [1, 2, 3, 4, 5, 6, 7]\n"
     ]
    }
   ],
   "source": [
    "# ques 25\n",
    "my_list = [[1], [2, 3], [4, 5, 6, 7]]\n",
    "\n",
    "flat_list = [num for sublist in my_list for num in sublist]\n",
    "print('Flattened List :',flat_list)"
   ]
  },
  {
   "cell_type": "code",
   "execution_count": 26,
   "id": "867e00da-d48d-4fe6-b516-01588c080e73",
   "metadata": {},
   "outputs": [
    {
     "name": "stdout",
     "output_type": "stream",
     "text": [
      "Sum of even numbers : 12\n",
      "Sum of odd numbers. : 16\n"
     ]
    }
   ],
   "source": [
    "# ques 26\n",
    "l = [1, 2, 3, 4, 5, 6, 7]\n",
    "l1 = sum([ i for i in l if i%2==0])\n",
    "l2 = sum([ i for i in l if i%2!=0])\n",
    "print('Sum of even numbers :',l1)\n",
    "print('Sum of odd numbers. :',l2)"
   ]
  },
  {
   "cell_type": "code",
   "execution_count": 30,
   "id": "a09f7cf7-be4d-4c94-855a-3744ea7d520b",
   "metadata": {},
   "outputs": [
    {
     "name": "stdout",
     "output_type": "stream",
     "text": [
      "List of squares of odd numbers : [1, 9, 25, 49, 81]\n"
     ]
    }
   ],
   "source": [
    "# ques 27\n",
    "l = [i**2 for i in range(1,11) if i%2!=0]\n",
    "print('List of squares of odd numbers :',l)"
   ]
  },
  {
   "cell_type": "code",
   "execution_count": 51,
   "id": "0c98e921-a664-4c36-ac71-7771413acc4a",
   "metadata": {},
   "outputs": [
    {
     "name": "stdout",
     "output_type": "stream",
     "text": [
      "Combined dictionary : {'Name': 'XYZ', 'Age': 30, 'City': 'Delhi'}\n"
     ]
    }
   ],
   "source": [
    "# ques 28\n",
    "keys = [\"Name\", \"Age\", \"City\"]\n",
    "values = [\"XYZ\", 30, \"Delhi\"]\n",
    "d = {keys[i]: values[i] for i in range(len(keys))}\n",
    "print('Combined dictionary :',d)\n"
   ]
  },
  {
   "cell_type": "code",
   "execution_count": 14,
   "id": "12ec7469-a711-4a4e-9b78-329d2e6c1211",
   "metadata": {},
   "outputs": [
    {
     "name": "stdout",
     "output_type": "stream",
     "text": [
      "['i', 'e', 'u', 'o']\n"
     ]
    }
   ],
   "source": [
    "# ques 29\n",
    "s = 'ineuron'\n",
    "l = [i for i in s if i == 'a' or i =='e' or i=='i' or i =='o' or i =='u']\n",
    "print('String:',s)\n",
    "print(l)"
   ]
  },
  {
   "cell_type": "code",
   "execution_count": 29,
   "id": "729da258-9626-4fc7-a7da-9c4a32751b60",
   "metadata": {},
   "outputs": [
    {
     "name": "stdout",
     "output_type": "stream",
     "text": [
      "['123456']\n"
     ]
    }
   ],
   "source": [
    "# ques 30\n",
    "s = 'Hellowolrd123456'\n",
    "l = [''.join(i for i in s if i.isdigit())]\n",
    "print(l)"
   ]
  },
  {
   "cell_type": "markdown",
   "id": "552f5fc6-14cc-40a2-8479-fa382f084243",
   "metadata": {},
   "source": [
    "## Challenge Level "
   ]
  },
  {
   "cell_type": "code",
   "execution_count": 11,
   "id": "632b194d-0a51-4926-9c92-8d829e637753",
   "metadata": {},
   "outputs": [
    {
     "name": "stdout",
     "output_type": "stream",
     "text": [
      "Prime numbers up to 50 are: [2, 3, 5, 7, 11, 13, 17, 19, 23, 29, 31, 37, 41, 43, 47]\n"
     ]
    }
   ],
   "source": [
    "# ques 31\n",
    "def sieve_of_eratosthenes(n):\n",
    "    is_prime = [True] * (n + 1)\n",
    "    is_prime[0] = is_prime[1] = False\n",
    "    for p in range(2, int(n**0.5) + 1):\n",
    "        if is_prime[p]:\n",
    "            is_prime[p*p::p] = [False] * len(is_prime[p*p::p])\n",
    "    prime_numbers = [p for p in range(2, n + 1) if is_prime[p]]\n",
    "    \n",
    "    return prime_numbers\n",
    "limit = 50\n",
    "prime_list = sieve_of_eratosthenes(limit)\n",
    "print(\"Prime numbers up to\", limit, \"are:\", prime_list)"
   ]
  },
  {
   "cell_type": "code",
   "execution_count": 12,
   "id": "46011cc8-0581-4562-9242-f1d4e1e39865",
   "metadata": {},
   "outputs": [
    {
     "name": "stdout",
     "output_type": "stream",
     "text": [
      "Pythagorean triplets up to 20 are: [(3, 4, 5), (5, 12, 13), (6, 8, 10), (8, 15, 17), (9, 12, 15), (12, 16, 20)]\n"
     ]
    }
   ],
   "source": [
    "# ques 32\n",
    "def generate_pythagorean_triplets(limit):\n",
    "    triplets = [(a, b, c) for a in range(1, limit + 1) for b in range(a, limit + 1) for c in range(b, limit + 1) if a**2 + b**2 == c**2]\n",
    "    return triplets\n",
    "limit = 20\n",
    "pythagorean_triplets = generate_pythagorean_triplets(limit)\n",
    "print(\"Pythagorean triplets up to\", limit, \"are:\", pythagorean_triplets)"
   ]
  },
  {
   "cell_type": "code",
   "execution_count": 13,
   "id": "82bd83d0-042a-4ac7-8324-5b938f188b20",
   "metadata": {},
   "outputs": [
    {
     "name": "stdout",
     "output_type": "stream",
     "text": [
      "All possible combinations of list1 and list2 are: [(1, 'A'), (1, 'B'), (2, 'A'), (2, 'B')]\n"
     ]
    }
   ],
   "source": [
    "# ques 33\n",
    "def generate_combinations(list1, list2):\n",
    "    combinations = [(x, y) for x in list1 for y in list2]\n",
    "    return combinations\n",
    "list1 = [1, 2]\n",
    "list2 = ['A', 'B']\n",
    "combinations = generate_combinations(list1, list2)\n",
    "print(\"All possible combinations of list1 and list2 are:\", combinations)"
   ]
  },
  {
   "cell_type": "code",
   "execution_count": 14,
   "id": "aa72052c-eeb6-4edf-b772-4379fc47caa4",
   "metadata": {},
   "outputs": [
    {
     "name": "stdout",
     "output_type": "stream",
     "text": [
      "Mean: 3.125\n",
      "Median: 3.5\n",
      "Mode: [4]\n"
     ]
    }
   ],
   "source": [
    "# ques 34\n",
    "def calculate_mean(numbers):\n",
    "    mean = sum(numbers) / len(numbers)\n",
    "    return mean\n",
    "\n",
    "def calculate_median(numbers):\n",
    "    sorted_numbers = sorted(numbers)\n",
    "    n = len(sorted_numbers)\n",
    "    \n",
    "    if n % 2 == 0:\n",
    "        middle1 = sorted_numbers[n // 2 - 1]\n",
    "        middle2 = sorted_numbers[n // 2]\n",
    "        median = (middle1 + middle2) / 2\n",
    "    else:\n",
    "        median = sorted_numbers[n // 2]\n",
    "    \n",
    "    return median\n",
    "\n",
    "def calculate_mode(numbers):\n",
    "    number_count = {}\n",
    "    for num in numbers:\n",
    "        if num in number_count:\n",
    "            number_count[num] += 1\n",
    "        else:\n",
    "            number_count[num] = 1\n",
    "\n",
    "    max_count = max(number_count.values())\n",
    "    mode = [num for num, count in number_count.items() if count == max_count]\n",
    "    return mode\n",
    "number_list = [1, 2, 2, 3, 4, 4, 4, 5]\n",
    "mean = calculate_mean(number_list)\n",
    "median = calculate_median(number_list)\n",
    "mode = calculate_mode(number_list)\n",
    "\n",
    "print(\"Mean:\", mean)\n",
    "print(\"Median:\", median)\n",
    "print(\"Mode:\", mode)\n"
   ]
  },
  {
   "cell_type": "code",
   "execution_count": 17,
   "id": "6d1563da-9140-493d-8ddc-9b0629c1365b",
   "metadata": {},
   "outputs": [
    {
     "name": "stdout",
     "output_type": "stream",
     "text": [
      "[1]\n",
      "[1, 1]\n",
      "[1, 2, 1]\n",
      "[1, 3, 3, 1]\n",
      "[1, 4, 6, 4, 1]\n"
     ]
    }
   ],
   "source": [
    "# ques 35\n",
    "def generate_pascals_triangle(n):\n",
    "    triangle = [[1]]\n",
    "    \n",
    "    for i in range(n - 1):\n",
    "        previous_row = triangle[-1]\n",
    "        next_row = [1] + [previous_row[i] + previous_row[i + 1] for i in range(len(previous_row) - 1)] + [1]\n",
    "        triangle.append(next_row)\n",
    "    \n",
    "    return triangle\n",
    "num_rows = 5\n",
    "pascals_triangle = generate_pascals_triangle(num_rows)\n",
    "for row in pascals_triangle:\n",
    "    print(row)\n"
   ]
  },
  {
   "cell_type": "code",
   "execution_count": 40,
   "id": "83e54ae7-f131-4bfc-aace-45429183896d",
   "metadata": {},
   "outputs": [
    {
     "name": "stdout",
     "output_type": "stream",
     "text": [
      "Sum of the digits of factorial from 1 to 5 :\n",
      "1\n",
      "3\n",
      "6\n",
      "10\n",
      "15\n"
     ]
    }
   ],
   "source": [
    "# ques 3\n",
    "def factorial(n):\n",
    "    if n<=1:\n",
    "        return n\n",
    "    else:\n",
    "        return n + factorial(n-1)\n",
    "print('Sum of the digits of factorial from 1 to 5 :')\n",
    "for n in range(1,6):\n",
    "    print(factorial(n))\n",
    "    "
   ]
  },
  {
   "cell_type": "code",
   "execution_count": 53,
   "id": "6916acc8-9c89-491a-945a-8b2cf0492872",
   "metadata": {},
   "outputs": [
    {
     "name": "stdout",
     "output_type": "stream",
     "text": [
      "The longest word in the sentence is: assignment\n"
     ]
    }
   ],
   "source": [
    "# ques 37\n",
    "s = \"This is my for loop assignment\"\n",
    "w = s.split()\n",
    "longest_word = max(w, key=lambda word: len(word))\n",
    "print(\"The longest word in the sentence is:\", longest_word)"
   ]
  },
  {
   "cell_type": "code",
   "execution_count": 58,
   "id": "7a1213b5-246c-4e6c-894f-bb4f21e27593",
   "metadata": {},
   "outputs": [
    {
     "name": "stdout",
     "output_type": "stream",
     "text": [
      "Strings with more than three vowels: ['ineuron', 'data science']\n"
     ]
    }
   ],
   "source": [
    "# ques 38\n",
    "l = [\"hello\", \"world\", \"pwskills\", \"ineuron\", \"data science\", \"goodbye\"]\n",
    "def count_vowels(word):\n",
    "    vowels = \"aeiouAEIOU\"\n",
    "    return sum(1 for i in word if i in vowels)\n",
    "s = [word for word in l if count_vowels(word) > 3]\n",
    "print(\"Strings with more than three vowels:\", s)\n"
   ]
  },
  {
   "cell_type": "code",
   "execution_count": 59,
   "id": "b78b442a-2bf1-4abe-9394-12a512939bd8",
   "metadata": {},
   "outputs": [
    {
     "name": "stdout",
     "output_type": "stream",
     "text": [
      "The total sum of the digits from 1 to 1000 is: 13501\n"
     ]
    }
   ],
   "source": [
    "# ques 39\n",
    "def sum_of_digits(number):\n",
    "    return sum(int(digit) for digit in str(number))\n",
    "sums = [sum_of_digits(i) for i in range(1, 1001)]\n",
    "total_sum = sum(sums)\n",
    "print(\"The total sum of the digits from 1 to 1000 is:\", total_sum)\n"
   ]
  },
  {
   "cell_type": "code",
   "execution_count": 60,
   "id": "0803af24-b030-461c-b6c4-3b9b73cefe3b",
   "metadata": {},
   "outputs": [
    {
     "name": "stdout",
     "output_type": "stream",
     "text": [
      "Prime palindromic numbers: [11, 101, 131, 151, 181, 191, 313, 353, 373, 383, 727, 757, 787, 797, 919, 929]\n"
     ]
    }
   ],
   "source": [
    "# ques 40\n",
    "def is_prime(n):\n",
    "    if n <= 1:\n",
    "        return False\n",
    "    if n <= 3:\n",
    "        return True\n",
    "    if n % 2 == 0 or n % 3 == 0:\n",
    "        return False\n",
    "    i = 5\n",
    "    while i * i <= n:\n",
    "        if n % i == 0 or n % (i + 2) == 0:\n",
    "            return False\n",
    "        i += 6\n",
    "    return True\n",
    "\n",
    "def is_palindrome(n):\n",
    "    return str(n) == str(n)[::-1]\n",
    "prime_palindromes = []\n",
    "for n in range(10, 1000):\n",
    "    if is_prime(n) and is_palindrome(n):\n",
    "        prime_palindromes.append(n)\n",
    "print(\"Prime palindromic numbers:\", prime_palindromes)\n"
   ]
  },
  {
   "cell_type": "code",
   "execution_count": null,
   "id": "b71df330-8bc6-405f-8b3d-6768616ac42b",
   "metadata": {},
   "outputs": [],
   "source": []
  }
 ],
 "metadata": {
  "kernelspec": {
   "display_name": "Python 3 (ipykernel)",
   "language": "python",
   "name": "python3"
  },
  "language_info": {
   "codemirror_mode": {
    "name": "ipython",
    "version": 3
   },
   "file_extension": ".py",
   "mimetype": "text/x-python",
   "name": "python",
   "nbconvert_exporter": "python",
   "pygments_lexer": "ipython3",
   "version": "3.10.8"
  }
 },
 "nbformat": 4,
 "nbformat_minor": 5
}
