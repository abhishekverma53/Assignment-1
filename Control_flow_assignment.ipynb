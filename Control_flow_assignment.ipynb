{
 "cells": [
  {
   "cell_type": "markdown",
   "id": "d074f900-6c22-480f-98e9-989326a87fc2",
   "metadata": {},
   "source": [
    "## Basic If else"
   ]
  },
  {
   "cell_type": "code",
   "execution_count": 9,
   "id": "e9fe3aa1-c980-4b62-aa63-52b7dd0baf2c",
   "metadata": {},
   "outputs": [
    {
     "name": "stdin",
     "output_type": "stream",
     "text": [
      "Enter a number to check : 0\n"
     ]
    },
    {
     "name": "stdout",
     "output_type": "stream",
     "text": [
      "Entered number is zero.\n"
     ]
    }
   ],
   "source": [
    "# ques 1\n",
    "number = int(input('Enter a number to check :'))\n",
    "if number >0:\n",
    "    print('Entered number is positive.')\n",
    "elif number ==0:\n",
    "    print('Entered number is zero.')\n",
    "else:\n",
    "    print('Entered number is negative.')"
   ]
  },
  {
   "cell_type": "code",
   "execution_count": 12,
   "id": "d47daaac-023f-4fb8-9dfb-f020827dc134",
   "metadata": {},
   "outputs": [
    {
     "name": "stdin",
     "output_type": "stream",
     "text": [
      "Enter your age : 20\n"
     ]
    },
    {
     "name": "stdout",
     "output_type": "stream",
     "text": [
      "You are eligible to vote.\n"
     ]
    }
   ],
   "source": [
    "# ques 2\n",
    "age = int(input('Enter your age :'))\n",
    "if age >= 18:\n",
    "    print('You are eligible to vote.')\n",
    "else:\n",
    "    print('You are not eligible to vote.')"
   ]
  },
  {
   "cell_type": "code",
   "execution_count": 37,
   "id": "e25c6acf-8a0a-44f5-bb87-91666879d06d",
   "metadata": {},
   "outputs": [
    {
     "data": {
      "text/plain": [
       "10"
      ]
     },
     "execution_count": 37,
     "metadata": {},
     "output_type": "execute_result"
    }
   ],
   "source": [
    "# ques 3\n",
    "def maximum(a,b):\n",
    "    if a>b:\n",
    "        return a\n",
    "    else:\n",
    "        return b\n",
    "a = 5\n",
    "b = 10\n",
    "maximum(a,b)"
   ]
  },
  {
   "cell_type": "code",
   "execution_count": 66,
   "id": "3c21152c-4d51-429b-9b7d-0bb53e0bae99",
   "metadata": {},
   "outputs": [
    {
     "name": "stdin",
     "output_type": "stream",
     "text": [
      "Enter a year you want to check : 2008\n"
     ]
    },
    {
     "name": "stdout",
     "output_type": "stream",
     "text": [
      "Given year is a leap year.\n"
     ]
    }
   ],
   "source": [
    "# ques 4\n",
    "def leapyear(n):\n",
    "    if (n%4==0 and n%100!=0) or (n%400==0):\n",
    "        print('Given year is a leap year.')\n",
    "    else:\n",
    "        print('Given year is not a leap year.')\n",
    "n = int(input('Enter a year you want to check :'))\n",
    "leapyear(n)"
   ]
  },
  {
   "cell_type": "code",
   "execution_count": 35,
   "id": "1c84e254-b611-4a86-82ba-083088ae1f49",
   "metadata": {},
   "outputs": [
    {
     "name": "stdin",
     "output_type": "stream",
     "text": [
      "Enter a character you want to check : q\n"
     ]
    },
    {
     "name": "stdout",
     "output_type": "stream",
     "text": [
      "Given character is consonant.\n"
     ]
    }
   ],
   "source": [
    "# ques 5\n",
    "def vowel_conso(s):\n",
    "    for i in s:\n",
    "        if i == 'a' or i == 'e' or i == 'i' or i == 'o' or i == 'u':\n",
    "            print('Given character is vowel.')\n",
    "        else:\n",
    "            print('Given character is consonant.')\n",
    "s = input('Enter a character you want to check :')\n",
    "vowel_conso(s)"
   ]
  },
  {
   "cell_type": "code",
   "execution_count": 42,
   "id": "d2547328-6e28-48ed-9144-da924b8a5800",
   "metadata": {},
   "outputs": [
    {
     "name": "stdin",
     "output_type": "stream",
     "text": [
      "Enter a number to check : 3\n"
     ]
    },
    {
     "name": "stdout",
     "output_type": "stream",
     "text": [
      "Given number is odd.\n"
     ]
    }
   ],
   "source": [
    "# ques 6\n",
    "def even_odd(n):\n",
    "        if n%2==0:\n",
    "            print('Given number is even.')\n",
    "        else:\n",
    "            print('Given number is odd.')\n",
    "n = int(input('Enter a number to check :'))\n",
    "even_odd(n)"
   ]
  },
  {
   "cell_type": "code",
   "execution_count": 52,
   "id": "f193749b-034c-4652-b112-ab5a5458e38f",
   "metadata": {},
   "outputs": [
    {
     "name": "stdin",
     "output_type": "stream",
     "text": [
      "Enter a number to check : -10\n"
     ]
    },
    {
     "name": "stdout",
     "output_type": "stream",
     "text": [
      "Absolute value of -10 is :  10\n"
     ]
    }
   ],
   "source": [
    "# ques 7\n",
    "def absolute(n):\n",
    "    if n<0:\n",
    "        return n*-1\n",
    "    else:\n",
    "        return n\n",
    "n = int(input('Enter a number to check :'))\n",
    "print(f'Absolute value of {n} is : ',absolute(n))"
   ]
  },
  {
   "cell_type": "code",
   "execution_count": 55,
   "id": "7f6d8653-b0ba-4816-a00b-9977a5a42c6a",
   "metadata": {},
   "outputs": [
    {
     "name": "stdin",
     "output_type": "stream",
     "text": [
      "Enter first number : 10\n",
      "Enter second number : 15\n",
      "Enter third number : 5\n"
     ]
    },
    {
     "name": "stdout",
     "output_type": "stream",
     "text": [
      "15 is largest number.\n"
     ]
    }
   ],
   "source": [
    "# ques 8\n",
    "def largest_number(a,b,c):\n",
    "    if a>b and a>c:\n",
    "        print(f'{a} is largets number.')\n",
    "    elif b>c and b>a:\n",
    "        print(f'{b} is largest number.')\n",
    "    else:\n",
    "        print(f'{c} is largest number.')\n",
    "a = int(input('Enter first number :'))\n",
    "b = int(input('Enter second number :'))\n",
    "c = int(input('Enter third number :'))\n",
    "largest_number(a,b,c)"
   ]
  },
  {
   "cell_type": "code",
   "execution_count": 58,
   "id": "d14916f3-5b18-4796-97d1-bfe527f9016f",
   "metadata": {},
   "outputs": [
    {
     "name": "stdin",
     "output_type": "stream",
     "text": [
      "Enter a string to check : pwskills\n"
     ]
    },
    {
     "name": "stdout",
     "output_type": "stream",
     "text": [
      "GIven string is not palindrome.\n"
     ]
    }
   ],
   "source": [
    "# ques 9 \n",
    "def palin(s):\n",
    "    if s == s[::-1]:\n",
    "        print('Given string is palindrome.')\n",
    "    else:\n",
    "        print('GIven string is not palindrome.')\n",
    "s = input('Enter a string to check :')\n",
    "palin(s)"
   ]
  },
  {
   "cell_type": "code",
   "execution_count": 67,
   "id": "3cf00bb3-c246-40e1-8f46-2fce9c40a0d5",
   "metadata": {},
   "outputs": [
    {
     "name": "stdin",
     "output_type": "stream",
     "text": [
      "Enter student's score : 55\n"
     ]
    },
    {
     "name": "stdout",
     "output_type": "stream",
     "text": [
      "Student's grade is second.\n"
     ]
    }
   ],
   "source": [
    "# ques 10\n",
    "grade = int(input(\"Enter student's score :\"))\n",
    "if 33 <= grade <40:\n",
    "    print(\"Student's grade is third.\")\n",
    "elif 40 <= grade < 60:\n",
    "    print(\"Student's grade is second.\")\n",
    "elif 60<= grade :\n",
    "    print(\"Student's grade is first.\")\n",
    "else:\n",
    "    print('Student is fail.')"
   ]
  },
  {
   "cell_type": "code",
   "execution_count": null,
   "id": "1c91f1d9-5888-4ae8-a037-2cba6972c83b",
   "metadata": {},
   "outputs": [],
   "source": []
  },
  {
   "cell_type": "markdown",
   "id": "b7c82c58-fb69-4f0a-a9fa-7e70d0b30852",
   "metadata": {},
   "source": [
    "## Nested If Else statement"
   ]
  },
  {
   "cell_type": "code",
   "execution_count": 70,
   "id": "6a0b7de8-0949-4e84-92a8-a1f296fe8d3b",
   "metadata": {},
   "outputs": [
    {
     "name": "stdin",
     "output_type": "stream",
     "text": [
      "Enter first number : 10\n",
      "Enter second number : 15\n",
      "Enter third number : 30\n"
     ]
    },
    {
     "name": "stdout",
     "output_type": "stream",
     "text": [
      "30 is larger than 10 and 15\n"
     ]
    }
   ],
   "source": [
    "# ques 11 \n",
    "def largest_number(a,b,c):\n",
    "    if a > b:\n",
    "        if a>c:\n",
    "            print(f\"{a} is larger than {b} and {c}\")\n",
    "    if b>c:\n",
    "        if b>a:\n",
    "            print(f\"{b} is larger than {a} and {c}\")\n",
    "    else:\n",
    "        print(f\"{c} is larger than {a} and {b}\")\n",
    "a = int(input('Enter first number :'))\n",
    "b = int(input('Enter second number :'))\n",
    "c = int(input('Enter third number :'))\n",
    "largest_number(a,b,c)"
   ]
  },
  {
   "cell_type": "code",
   "execution_count": 16,
   "id": "48acfe5d-34ab-4b4c-9c7e-5bbe1ef2c971",
   "metadata": {},
   "outputs": [
    {
     "name": "stdin",
     "output_type": "stream",
     "text": [
      "Enter the first side of triangle : 10\n",
      "Enter the second side of triangle : 20\n",
      "Enter the third side of triangle : 20\n"
     ]
    },
    {
     "name": "stdout",
     "output_type": "stream",
     "text": [
      "Triangle is isosceles.\n"
     ]
    }
   ],
   "source": [
    "# ques 12\n",
    "side1 = float(input('Enter the first side of triangle :'))\n",
    "side2 = float(input('Enter the second side of triangle :'))\n",
    "side3 = float(input('Enter the third side of triangle :'))\n",
    "if side1 != side2:\n",
    "    if side1 != side3:\n",
    "        if side2 != side3:\n",
    "            print('Triangle is scalene.')\n",
    "if side1 != side2  and side1 == side3 or side2 != side3 and side2 == side1 or side3 != side1 and side3 == side2 :\n",
    "    print('Triangle is isosceles.')\n",
    "if side1 == side2:\n",
    "    if side1 == side3:\n",
    "        if side2 == side3:\n",
    "            print('Triangle is equilateral.')\n",
    "    \n"
   ]
  },
  {
   "cell_type": "code",
   "execution_count": 48,
   "id": "eb1f0166-f2da-4864-98e7-5eece6b16e50",
   "metadata": {},
   "outputs": [
    {
     "name": "stdin",
     "output_type": "stream",
     "text": [
      "Enter a year:  2008\n"
     ]
    },
    {
     "name": "stdout",
     "output_type": "stream",
     "text": [
      "2008 is a leap year.\n",
      "2008 is not a century year.\n"
     ]
    }
   ],
   "source": [
    "# ques 13\n",
    "def is_leap_year(year):\n",
    "    if year % 4 == 0:\n",
    "        if year % 100 == 0:\n",
    "            if year % 400 == 0:\n",
    "                return True\n",
    "            else:\n",
    "                return False\n",
    "        else:\n",
    "            return True\n",
    "    else:\n",
    "        return False\n",
    "\n",
    "def is_century_year(year):\n",
    "    if year % 100 == 0:\n",
    "        return True\n",
    "    else:\n",
    "        return False\n",
    "year = int(input(\"Enter a year: \"))\n",
    "\n",
    "if is_leap_year(year):\n",
    "    print(f\"{year} is a leap year.\")\n",
    "else:\n",
    "    print(f\"{year} is not a leap year.\")\n",
    "\n",
    "if is_century_year(year):\n",
    "    print(f\"{year} is a century year.\")\n",
    "else:\n",
    "    print(f\"{year} is not a century year.\")\n"
   ]
  },
  {
   "cell_type": "code",
   "execution_count": 21,
   "id": "74d6d7b7-c8e5-43cf-9afa-da3bd9858fed",
   "metadata": {},
   "outputs": [
    {
     "name": "stdin",
     "output_type": "stream",
     "text": [
      "Enter a number:  -1\n"
     ]
    },
    {
     "name": "stdout",
     "output_type": "stream",
     "text": [
      "The number is negative.\n"
     ]
    }
   ],
   "source": [
    "# ques 14\n",
    "num = float(input(\"Enter a number: \"))\n",
    "\n",
    "if num >= 0:\n",
    "    if num == 0:\n",
    "        print(\"The number is zero.\")\n",
    "    else:\n",
    "        print(\"The number is positive.\")\n",
    "else:\n",
    "    print(\"The number is negative.\")\n"
   ]
  },
  {
   "cell_type": "code",
   "execution_count": 24,
   "id": "14d15ea4-7cdd-41d9-b318-272d0f32c3db",
   "metadata": {},
   "outputs": [
    {
     "name": "stdin",
     "output_type": "stream",
     "text": [
      "Enter the age of person : 15\n"
     ]
    },
    {
     "name": "stdout",
     "output_type": "stream",
     "text": [
      "Person is a teenager.\n"
     ]
    }
   ],
   "source": [
    "# ques 15\n",
    "age = int(input('Enter the age of person :'))\n",
    "if age >= 13:\n",
    "    if age<=19:\n",
    "        print('Person is a teenager.')\n",
    "    else:\n",
    "        print('Person is not a teenager.')\n",
    "else:\n",
    "    print('Person is not a teenager.')\n",
    "    \n",
    "        "
   ]
  },
  {
   "cell_type": "code",
   "execution_count": 36,
   "id": "3ef289b8-bbd2-42d4-b0f1-db4025bcadba",
   "metadata": {},
   "outputs": [
    {
     "name": "stdin",
     "output_type": "stream",
     "text": [
      "Enter the angle in degrees : 270\n"
     ]
    },
    {
     "name": "stdout",
     "output_type": "stream",
     "text": [
      "Enetered angle is not valid.\n"
     ]
    }
   ],
   "source": [
    "# ques 16\n",
    "angle = float(input('Enter the angle in degrees :'))\n",
    "if angle > 0 and angle < 180:\n",
    "    if angle == 90:\n",
    "        print('Entered angle is right angle.')\n",
    "    if angle < 90:\n",
    "        print('Entered angle is acute angle.')\n",
    "    if angle > 90:\n",
    "        print('Enter angle is obtuse angle.')\n",
    "else:\n",
    "    print('Enetered angle is not valid.')"
   ]
  },
  {
   "cell_type": "code",
   "execution_count": 38,
   "id": "f0a20242-e0b4-471d-b1f8-1fd46c92ce4a",
   "metadata": {},
   "outputs": [
    {
     "name": "stdin",
     "output_type": "stream",
     "text": [
      "Enter the coefficient a:  10\n",
      "Enter the coefficient b:  25\n",
      "Enter the coefficient c:  30\n"
     ]
    },
    {
     "name": "stdout",
     "output_type": "stream",
     "text": [
      "Root 1: -1.25 + 1.1989578808281798i\n",
      "Root 2: -1.25 - 1.1989578808281798i\n"
     ]
    }
   ],
   "source": [
    "# ques 17\n",
    "a = float(input(\"Enter the coefficient a: \"))\n",
    "b = float(input(\"Enter the coefficient b: \"))\n",
    "c = float(input(\"Enter the coefficient c: \"))\n",
    "\n",
    "discriminant = b**2 - 4*a*c\n",
    "if discriminant > 0:\n",
    "    root1 = (-b + discriminant**0.5) / (2*a)\n",
    "    root2 = (-b - discriminant**0.5) / (2*a)\n",
    "    print(f\"Root 1: {root1}\")\n",
    "    print(f\"Root 2: {root2}\")\n",
    "elif discriminant == 0:\n",
    "    root = -b / (2*a)\n",
    "    print(f\"Root: {root}\")\n",
    "else:\n",
    "    real_part = -b / (2*a)\n",
    "    imaginary_part = (-discriminant)**0.5 / (2*a)\n",
    "    print(f\"Root 1: {real_part} + {imaginary_part}i\")\n",
    "    print(f\"Root 2: {real_part} - {imaginary_part}i\")\n",
    "\n"
   ]
  },
  {
   "cell_type": "code",
   "execution_count": 42,
   "id": "b93e0a62-3116-4490-a1ee-519e6ff3bdba",
   "metadata": {},
   "outputs": [
    {
     "name": "stdin",
     "output_type": "stream",
     "text": [
      "Enter the number of the day : 5\n"
     ]
    },
    {
     "name": "stdout",
     "output_type": "stream",
     "text": [
      "It is Friday.\n"
     ]
    }
   ],
   "source": [
    "# ques 18\n",
    "day = int(input('Enter the number of the day :'))\n",
    "if day>=1 and day <=7:\n",
    "    if day == 1:\n",
    "        print('It is Monday.')\n",
    "    if day == 2:\n",
    "        print('It is Tuesday.')\n",
    "    if day == 3:\n",
    "        print('It is Wednesday.')\n",
    "    if day == 4:\n",
    "        print('It is Thursday.')\n",
    "    if day == 5:\n",
    "        print('It is Friday.')\n",
    "    if day == 6:\n",
    "        print('It is Saturday.')\n",
    "    if day == 7:\n",
    "        print('It is Sunday.')\n",
    "else:\n",
    "    print('Entered number of the day is not valid.')\n",
    "        "
   ]
  },
  {
   "cell_type": "code",
   "execution_count": 51,
   "id": "fc022750-dd1a-4da5-89ac-f2143caf69d7",
   "metadata": {},
   "outputs": [
    {
     "name": "stdin",
     "output_type": "stream",
     "text": [
      "Enter a year:  2008\n"
     ]
    },
    {
     "name": "stdout",
     "output_type": "stream",
     "text": [
      "2008 is a leap year.\n"
     ]
    }
   ],
   "source": [
    "# ques 19\n",
    "def is_leap_year(year):\n",
    "    if year % 4 == 0:\n",
    "        if year % 100 == 0:\n",
    "            if year % 400 == 0:\n",
    "                return True\n",
    "            else:\n",
    "                return False\n",
    "        else:\n",
    "            return True\n",
    "    else:\n",
    "        return False\n",
    "\n",
    "year = int(input(\"Enter a year: \"))\n",
    "\n",
    "if is_leap_year(year):\n",
    "    print(f\"{year} is a leap year.\")\n",
    "else:\n",
    "    print(f\"{year} is not a leap year.\")\n",
    "    \n",
    "    "
   ]
  },
  {
   "cell_type": "code",
   "execution_count": 67,
   "id": "413b8b5e-7811-435f-9d06-2ec13e9b327e",
   "metadata": {},
   "outputs": [
    {
     "name": "stdin",
     "output_type": "stream",
     "text": [
      "Enter a number:  89\n"
     ]
    },
    {
     "name": "stdout",
     "output_type": "stream",
     "text": [
      "89 is a prime number.\n"
     ]
    }
   ],
   "source": [
    "# ques 20\n",
    "num = int(input(\"Enter a number: \"))\n",
    "if num > 1:\n",
    "    for i in range(2, int(num ** 0.5) + 1):\n",
    "        if (num % i) == 0:\n",
    "            print(f\"{num} is not a prime number.\")\n",
    "            break\n",
    "    else:\n",
    "        print(f\"{num} is a prime number.\")\n",
    "else:\n",
    "    print(f\"{num} is not a prime number.\")\n"
   ]
  },
  {
   "cell_type": "code",
   "execution_count": null,
   "id": "c2a401af-d8e5-4e3d-8c7e-b999da97e744",
   "metadata": {},
   "outputs": [],
   "source": []
  },
  {
   "cell_type": "markdown",
   "id": "35e68d61-2695-4af0-a8e2-610b67ad069e",
   "metadata": {},
   "source": [
    "## Elif statemenst"
   ]
  },
  {
   "cell_type": "code",
   "execution_count": 77,
   "id": "05895af8-287e-4a2f-b323-0e1c8f4f3b15",
   "metadata": {},
   "outputs": [
    {
     "name": "stdin",
     "output_type": "stream",
     "text": [
      "Enter the score of the student in percenage : 76\n"
     ]
    },
    {
     "name": "stdout",
     "output_type": "stream",
     "text": [
      "Student passed in first division with distinction.\n"
     ]
    }
   ],
   "source": [
    "# ques 21\n",
    "score = float(input('Enter the score of the student in percenage :'))\n",
    "if score>= 33 and score <45:\n",
    "    print('Student passed with third division.')\n",
    "elif score >= 45 and score < 60:\n",
    "    print('Student passed with second division.')\n",
    "elif score >= 60 and score < 75:\n",
    "    print('Student passed with first division.')\n",
    "elif score>=75:\n",
    "    print('Student passed in first division with distinction.')\n",
    "else:\n",
    "    print('Student is failed.')\n",
    "    "
   ]
  },
  {
   "cell_type": "code",
   "execution_count": 81,
   "id": "b4afa81d-8c73-4aa6-b5f0-60fa9651bc06",
   "metadata": {},
   "outputs": [
    {
     "name": "stdin",
     "output_type": "stream",
     "text": [
      "Enter the largest angle of triangle : 117\n"
     ]
    },
    {
     "name": "stdout",
     "output_type": "stream",
     "text": [
      "Triangle is obtuse triangle.\n"
     ]
    }
   ],
   "source": [
    "# ques 22\n",
    "angle = float(input('Enter the largest angle of triangle :'))\n",
    "if angle < 90:\n",
    "    print('Trainle is acute triangle.')\n",
    "elif angle==90:\n",
    "    print('Triangle is right triangle.')\n",
    "else:\n",
    "    print('Triangle is obtuse triangle.')\n",
    "    "
   ]
  },
  {
   "cell_type": "code",
   "execution_count": 88,
   "id": "d7d2c535-326a-4597-b7cb-a1e8df236882",
   "metadata": {},
   "outputs": [
    {
     "name": "stdin",
     "output_type": "stream",
     "text": [
      "Enter the BMI of a person : 25.6\n"
     ]
    },
    {
     "name": "stdout",
     "output_type": "stream",
     "text": [
      "Person is overweight.\n"
     ]
    }
   ],
   "source": [
    "# ques 23\n",
    "BMI = float(input('Enter the BMI of a person :'))\n",
    "if BMI >= 16 and BMI <=18.5:\n",
    "    print('Person is underweight.')\n",
    "elif BMI > 18.5 and BMI <=25:\n",
    "    print('Person is normal.')\n",
    "elif BMI >25 and BMI <= 30:\n",
    "    print('Person is overweight.')\n",
    "elif BMI > 30 and BMI<= 40:\n",
    "    print('Person is obese.')\n",
    "else:\n",
    "    print('Invalid BMI , enter correct BMI')"
   ]
  },
  {
   "cell_type": "code",
   "execution_count": 91,
   "id": "95528c2a-920c-400d-bb6f-48a9704cd576",
   "metadata": {},
   "outputs": [
    {
     "name": "stdin",
     "output_type": "stream",
     "text": [
      "Enter a number to check : -2\n"
     ]
    },
    {
     "name": "stdout",
     "output_type": "stream",
     "text": [
      "Entered number is negative.\n"
     ]
    }
   ],
   "source": [
    "# ques 24\n",
    "number = float(input('Enter a number to check :'))\n",
    "if number == 0:\n",
    "    print('Entered number is zero.')\n",
    "elif number > 0:\n",
    "    print('Entered number is positive.')\n",
    "else:\n",
    "    print('Entered number is negative.')"
   ]
  },
  {
   "cell_type": "code",
   "execution_count": 110,
   "id": "3aa1de90-ee38-44a5-8296-41eb46836519",
   "metadata": {},
   "outputs": [
    {
     "name": "stdin",
     "output_type": "stream",
     "text": [
      "Enter a character to check : )\n"
     ]
    },
    {
     "name": "stdout",
     "output_type": "stream",
     "text": [
      "Entered character is special character.\n"
     ]
    }
   ],
   "source": [
    "# ques 25\n",
    "char = input('Enter a character to check :')\n",
    "if char.isupper():\n",
    "    print('Entered character is in uppercase.')\n",
    "\n",
    "elif char.islower():\n",
    "    print('Entered character is in lowercase.')\n",
    "\n",
    "elif not char.isnumeric():\n",
    "    print('Entered character is special character.')\n",
    "else:\n",
    "    print('Invalid input.')"
   ]
  },
  {
   "cell_type": "code",
   "execution_count": 6,
   "id": "8bdc257d-af64-4f7e-b409-bf39bcec5716",
   "metadata": {},
   "outputs": [
    {
     "name": "stdin",
     "output_type": "stream",
     "text": [
      "Enter the purchase amount:  5000\n"
     ]
    },
    {
     "name": "stdout",
     "output_type": "stream",
     "text": [
      "Original Price: 5000.0\n",
      "Discount Rate: 5.0%\n",
      "Discounted Price: 4750.0\n"
     ]
    }
   ],
   "source": [
    "# ques 26\n",
    "purchase_amount = float(input(\"Enter the purchase amount: \"))\n",
    "discount_rate = 0.0\n",
    "if purchase_amount >= 10000:\n",
    "    discount_rate = 0.10  # 10% discount \n",
    "elif purchase_amount >= 5000:\n",
    "    discount_rate = 0.05  # 5% discount \n",
    "elif purchase_amount >= 2000:\n",
    "    discount_rate = 0.02  # 2% discount \n",
    "discounted_price = purchase_amount - (purchase_amount * discount_rate)\n",
    "\n",
    "print(f\"Original Price: {purchase_amount}\")\n",
    "print(f\"Discount Rate: {discount_rate*100}%\")\n",
    "print(f\"Discounted Price: {discounted_price}\")"
   ]
  },
  {
   "cell_type": "code",
   "execution_count": 21,
   "id": "ec5894d3-dd3e-4f5f-9ea7-46822771ca43",
   "metadata": {},
   "outputs": [
    {
     "name": "stdin",
     "output_type": "stream",
     "text": [
      "Enter the electricity consumption in units:  305\n"
     ]
    },
    {
     "name": "stdout",
     "output_type": "stream",
     "text": [
      "Electricity Consumption: 305.0 kWh\n",
      "Total Bill: ₹1535.00\n"
     ]
    }
   ],
   "source": [
    "# ques 27\n",
    "consumption = float(input(\"Enter the electricity consumption in units: \"))\n",
    "\n",
    "rate_slab1 = 4  # ₹ 4 per unit for the first 100 units\n",
    "rate_slab2 = 5  # ₹ 5 per unit for units between 101-200 \n",
    "rate_slab3 = 6  # ₹ 6 per unit for units between 201-300\n",
    "rate_slab4 = 7  # ₹ 7 per unit for consumption above 300 units\n",
    "\n",
    "total_bill = 0.0\n",
    "if 0 < consumption <= 100:\n",
    "    total_bill = consumption * rate_slab1\n",
    "elif 101 <= consumption <= 200:\n",
    "    total_bill = (100 * rate_slab1) + ((consumption - 100) * rate_slab2)\n",
    "elif 201 <= consumption <= 300:\n",
    "    total_bill = (100 * rate_slab1) + (100 * rate_slab2) + ((consumption - 200) * rate_slab3)\n",
    "else:\n",
    "    total_bill = (100 * rate_slab1) + (100 * rate_slab2) + (100 * rate_slab3) + ((consumption -300) * rate_slab4) \n",
    "\n",
    "\n",
    "print(f\"Electricity Consumption: {consumption} kWh\")\n",
    "print(f\"Total Bill: ₹{total_bill:.2f}\")\n"
   ]
  },
  {
   "cell_type": "code",
   "execution_count": 22,
   "id": "48831fdc-f27c-4884-957f-cfc3fb7b601b",
   "metadata": {},
   "outputs": [
    {
     "name": "stdin",
     "output_type": "stream",
     "text": [
      "Enter the length of side 1:  4\n",
      "Enter the length of side 2:  4\n",
      "Enter the length of side 3:  4\n",
      "Enter the length of side 4:  4\n",
      "Enter the measure of angle 1 in degrees:  90\n",
      "Enter the measure of angle 2 in degrees:  90\n",
      "Enter the measure of angle 3 in degrees:  90\n",
      "Enter the measure of angle 4 in degrees:  90\n"
     ]
    },
    {
     "name": "stdout",
     "output_type": "stream",
     "text": [
      "It is a square.\n"
     ]
    }
   ],
   "source": [
    "# ques 28\n",
    "\n",
    "side1 = float(input(\"Enter the length of side 1: \"))\n",
    "side2 = float(input(\"Enter the length of side 2: \"))\n",
    "side3 = float(input(\"Enter the length of side 3: \"))\n",
    "side4 = float(input(\"Enter the length of side 4: \"))\n",
    "\n",
    "\n",
    "angle1 = float(input(\"Enter the measure of angle 1 in degrees: \"))\n",
    "angle2 = float(input(\"Enter the measure of angle 2 in degrees: \"))\n",
    "angle3 = float(input(\"Enter the measure of angle 3 in degrees: \"))\n",
    "angle4 = float(input(\"Enter the measure of angle 4 in degrees: \"))\n",
    "\n",
    "\n",
    "if side1 == side2 == side3 == side4:\n",
    "    if angle1 == angle2 == angle3 == angle4 == 90:\n",
    "        print(\"It is a square.\")\n",
    "    else:\n",
    "        print(\"It is a rectangle.\")\n",
    "elif angle1 == angle2 == angle3 == angle4 == 90:\n",
    "    print(\"It is a rectangle.\")\n",
    "elif side1 == side3 and side2 == side4:\n",
    "    if angle1 == angle3 and angle2 == angle4:\n",
    "        print(\"It is a parallelogram.\")\n",
    "    else:\n",
    "        print(\"It is a trapezoid.\")\n",
    "else:\n",
    "    print(\"It is a general quadrilateral.\")\n"
   ]
  },
  {
   "cell_type": "code",
   "execution_count": 40,
   "id": "8fe19b47-1fef-426d-b5e3-25c4adb10bc0",
   "metadata": {},
   "outputs": [
    {
     "name": "stdin",
     "output_type": "stream",
     "text": [
      "Enter the month to check the season of year : July\n"
     ]
    },
    {
     "name": "stdout",
     "output_type": "stream",
     "text": [
      "This is the monsoon season.\n"
     ]
    }
   ],
   "source": [
    "# ques 29\n",
    "m1 = input('Enter the month to check the season of year :')\n",
    "month = m1.title()\n",
    "if month == 'March' or month == 'April':\n",
    "    print('This is the spring season.')\n",
    "elif month == 'May' or month == 'June':\n",
    "    print('This is the summer season.')\n",
    "elif month == 'July' or month == 'August' :\n",
    "    print('This is the monsoon season.')\n",
    "elif month == 'September' or month == 'October':\n",
    "    print('This is the autumn season.')\n",
    "elif month == 'November' or month == 'December':\n",
    "    print('This is pre winter season.')\n",
    "elif month == 'January' or month == 'Febuary':\n",
    "    print('This is the winter season.')\n",
    "else:\n",
    "    print('Invalid month , enter correct month of the year.')"
   ]
  },
  {
   "cell_type": "code",
   "execution_count": 58,
   "id": "19318359-31cb-4248-9989-84514d895372",
   "metadata": {},
   "outputs": [
    {
     "name": "stdin",
     "output_type": "stream",
     "text": [
      "Enter a year:  2004\n",
      "Enter a month (1-12):  2\n"
     ]
    },
    {
     "name": "stdout",
     "output_type": "stream",
     "text": [
      "2004 is a leap year.\n",
      "The month 2 has 29 days.\n"
     ]
    }
   ],
   "source": [
    "# ques 30\n",
    "year = int(input(\"Enter a year: \"))\n",
    "month = int(input(\"Enter a month (1-12): \"))\n",
    "\n",
    "is_leap_year = (year % 4 == 0 and year % 100 != 0) or (year % 400 == 0)\n",
    "\n",
    "\n",
    "if month == 2:\n",
    "    if is_leap_year:\n",
    "        days_in_month = 29  \n",
    "    else:\n",
    "        days_in_month = 28  \n",
    "elif month in [4, 6, 9, 11]:\n",
    "    days_in_month = 30  \n",
    "else:\n",
    "    days_in_month = 31  \n",
    "\n",
    "\n",
    "if is_leap_year:\n",
    "    year_type = \"leap year\"\n",
    "else:\n",
    "    year_type = \"common year\"\n",
    "\n",
    "\n",
    "print(f\"{year} is a {year_type}.\")\n",
    "print(f\"The month {month} has {days_in_month} days.\")\n"
   ]
  },
  {
   "cell_type": "code",
   "execution_count": null,
   "id": "5d0e4428-2ab9-4442-98e3-a7f7e19f15dd",
   "metadata": {},
   "outputs": [],
   "source": []
  },
  {
   "cell_type": "code",
   "execution_count": null,
   "id": "2dc9964f-a907-4628-bf71-b504cd4cd5e3",
   "metadata": {},
   "outputs": [],
   "source": []
  },
  {
   "cell_type": "markdown",
   "id": "5cf883c4-03d8-4a0f-97ea-90475f0e7ac4",
   "metadata": {},
   "source": [
    "##  Basic Level\n"
   ]
  },
  {
   "cell_type": "code",
   "execution_count": 60,
   "id": "297bfba1-2165-499b-b209-3ff3bb73c56a",
   "metadata": {},
   "outputs": [
    {
     "name": "stdin",
     "output_type": "stream",
     "text": [
      "Enter a number to check : 5\n"
     ]
    },
    {
     "name": "stdout",
     "output_type": "stream",
     "text": [
      "Entered number is positive.\n"
     ]
    }
   ],
   "source": [
    "# Ques 1\n",
    "number = int(input('Enter a number to check :'))\n",
    "if number >0:\n",
    "    print('Entered number is positive.')\n",
    "elif number ==0:\n",
    "    print('Entered number is zero.')\n",
    "else:\n",
    "    print('Entered number is negative.')"
   ]
  },
  {
   "cell_type": "code",
   "execution_count": 61,
   "id": "f215d741-ed97-4cf4-ad10-267f2bdef054",
   "metadata": {},
   "outputs": [
    {
     "name": "stdin",
     "output_type": "stream",
     "text": [
      "Enter your age : 18\n"
     ]
    },
    {
     "name": "stdout",
     "output_type": "stream",
     "text": [
      "You are eligible to vote.\n"
     ]
    }
   ],
   "source": [
    "# ques 2\n",
    "age = int(input('Enter your age :'))\n",
    "if age >= 18:\n",
    "    print('You are eligible to vote.')\n",
    "else:\n",
    "    print('You are not eligible to vote.')"
   ]
  },
  {
   "cell_type": "code",
   "execution_count": 62,
   "id": "224482d4-4dd2-4917-9eee-ae5ab6fed5d3",
   "metadata": {},
   "outputs": [
    {
     "data": {
      "text/plain": [
       "10"
      ]
     },
     "execution_count": 62,
     "metadata": {},
     "output_type": "execute_result"
    }
   ],
   "source": [
    "# ques 3\n",
    "def maximum(a,b):\n",
    "    if a>b:\n",
    "        return a\n",
    "    else:\n",
    "        return b\n",
    "a = 5\n",
    "b = 10\n",
    "maximum(a,b)"
   ]
  },
  {
   "cell_type": "code",
   "execution_count": 67,
   "id": "f5a4469b-9b0d-42b6-96b8-857b4eb7199d",
   "metadata": {},
   "outputs": [
    {
     "name": "stdin",
     "output_type": "stream",
     "text": [
      "Enter student's score : 55\n"
     ]
    },
    {
     "name": "stdout",
     "output_type": "stream",
     "text": [
      "Student's grade is second.\n"
     ]
    }
   ],
   "source": [
    "# ques 4\n",
    "grade = int(input(\"Enter student's score :\"))\n",
    "if 33 <= grade <40:\n",
    "    print(\"Student's grade is third.\")\n",
    "elif 40 <= grade < 60:\n",
    "    print(\"Student's grade is second.\")\n",
    "elif 60<= grade :\n",
    "    print(\"Student's grade is first.\")\n",
    "else:\n",
    "    print('Student is fail.')"
   ]
  },
  {
   "cell_type": "code",
   "execution_count": 68,
   "id": "4c0ee85a-b973-4653-92d3-cc5bcbeca707",
   "metadata": {},
   "outputs": [
    {
     "name": "stdin",
     "output_type": "stream",
     "text": [
      "Enter a year you want to check : 2008\n"
     ]
    },
    {
     "name": "stdout",
     "output_type": "stream",
     "text": [
      "Given year is a leap year.\n"
     ]
    }
   ],
   "source": [
    "# ques 5\n",
    "def leapyear(n):\n",
    "    if (n%4==0 and n%100!=0) or (n%400==0):\n",
    "        print('Given year is a leap year.')\n",
    "    else:\n",
    "        print('Given year is not a leap year.')\n",
    "n = int(input('Enter a year you want to check :'))\n",
    "leapyear(n)"
   ]
  },
  {
   "cell_type": "code",
   "execution_count": 72,
   "id": "8224425e-612f-4d5c-a8a9-2b6f653c0eb0",
   "metadata": {},
   "outputs": [
    {
     "name": "stdin",
     "output_type": "stream",
     "text": [
      "Enter the first side of triangle : 10\n",
      "Enter the second side of triangle : 10\n",
      "Enter the third side of triangle : 20\n"
     ]
    },
    {
     "name": "stdout",
     "output_type": "stream",
     "text": [
      "Triangle is isosceles.\n"
     ]
    }
   ],
   "source": [
    "# ques 6\n",
    "side1 = float(input('Enter the first side of triangle :'))\n",
    "side2 = float(input('Enter the second side of triangle :'))\n",
    "side3 = float(input('Enter the third side of triangle :'))\n",
    "if side1 != side2:\n",
    "    if side1 != side3:\n",
    "        if side2 != side3:\n",
    "            print('Triangle is scalene.')\n",
    "if side1 != side2  and side1 == side3 or side2 != side3 and side2 == side1 or side3 != side1 and side3 == side2 :\n",
    "    print('Triangle is isosceles.')\n",
    "if side1 == side2:\n",
    "    if side1 == side3:\n",
    "        if side2 == side3:\n",
    "            print('Triangle is equilateral.')"
   ]
  },
  {
   "cell_type": "code",
   "execution_count": 76,
   "id": "825c69e8-139c-448e-9b06-967c57726669",
   "metadata": {},
   "outputs": [
    {
     "name": "stdin",
     "output_type": "stream",
     "text": [
      "Enter first number : 3\n",
      "Enter second number : 4\n",
      "Enter third number : 2\n"
     ]
    },
    {
     "name": "stdout",
     "output_type": "stream",
     "text": [
      "4 is largest number.\n"
     ]
    }
   ],
   "source": [
    "# ques 7\n",
    "def largest_number(a,b,c):\n",
    "    if a>b and a>c:\n",
    "        print(f'{a} is largets number.')\n",
    "    elif b>c and b>a:\n",
    "        print(f'{b} is largest number.')\n",
    "    else:\n",
    "        print(f'{c} is largest number.')\n",
    "a = int(input('Enter first number :'))\n",
    "b = int(input('Enter second number :'))\n",
    "c = int(input('Enter third number :'))\n",
    "largest_number(a,b,c)"
   ]
  },
  {
   "cell_type": "code",
   "execution_count": 79,
   "id": "e46f948a-1c5d-40bb-a5eb-b2a90c1025ab",
   "metadata": {},
   "outputs": [
    {
     "name": "stdin",
     "output_type": "stream",
     "text": [
      "Enter a character you want to check : i\n"
     ]
    },
    {
     "name": "stdout",
     "output_type": "stream",
     "text": [
      "Given character i is vowel.\n"
     ]
    }
   ],
   "source": [
    "# ques 8\n",
    "def vowel_conso(s):\n",
    "    for i in s:\n",
    "        if i == 'a' or i == 'e' or i == 'i' or i == 'o' or i == 'u':\n",
    "            print(f'Given character {s} is vowel.')\n",
    "        else:\n",
    "            print(f'Given character {s} is consonant.')\n",
    "s = input('Enter a character you want to check :')\n",
    "vowel_conso(s)"
   ]
  },
  {
   "cell_type": "code",
   "execution_count": 80,
   "id": "0a555e67-b4ff-4a99-8f81-4c741a940fdc",
   "metadata": {},
   "outputs": [
    {
     "name": "stdin",
     "output_type": "stream",
     "text": [
      "Enter the purchase amount:  12000\n"
     ]
    },
    {
     "name": "stdout",
     "output_type": "stream",
     "text": [
      "Original Price: 12000.0\n",
      "Discount Rate: 10.0%\n",
      "Discounted Price: 10800.0\n"
     ]
    }
   ],
   "source": [
    "# ques 9\n",
    "purchase_amount = float(input(\"Enter the purchase amount: \"))\n",
    "discount_rate = 0.0\n",
    "if purchase_amount >= 10000:\n",
    "    discount_rate = 0.10  # 10% discount \n",
    "elif purchase_amount >= 5000:\n",
    "    discount_rate = 0.05  # 5% discount \n",
    "elif purchase_amount >= 2000:\n",
    "    discount_rate = 0.02  # 2% discount \n",
    "discounted_price = purchase_amount - (purchase_amount * discount_rate)\n",
    "\n",
    "print(f\"Original Price: {purchase_amount}\")\n",
    "print(f\"Discount Rate: {discount_rate*100}%\")\n",
    "print(f\"Discounted Price: {discounted_price}\")"
   ]
  },
  {
   "cell_type": "code",
   "execution_count": 81,
   "id": "c915b10f-9ddd-4429-8e71-c9f1026a296d",
   "metadata": {},
   "outputs": [
    {
     "name": "stdin",
     "output_type": "stream",
     "text": [
      "Enter a number to check : 25\n"
     ]
    },
    {
     "name": "stdout",
     "output_type": "stream",
     "text": [
      "Given number is odd.\n"
     ]
    }
   ],
   "source": [
    "# ques 10\n",
    "def even_odd(n):\n",
    "        if n%2==0:\n",
    "            print('Given number is even.')\n",
    "        else:\n",
    "            print('Given number is odd.')\n",
    "n = int(input('Enter a number to check :'))\n",
    "even_odd(n)"
   ]
  },
  {
   "cell_type": "code",
   "execution_count": null,
   "id": "988e35d1-c7ee-459b-8cff-21bdb9b27900",
   "metadata": {},
   "outputs": [],
   "source": []
  },
  {
   "cell_type": "markdown",
   "id": "ea7f3b52-5b3f-482e-a528-c98f2af1d06c",
   "metadata": {},
   "source": [
    "## Intermediate Level "
   ]
  },
  {
   "cell_type": "code",
   "execution_count": 83,
   "id": "7b7e5d6b-2caf-47ed-bde4-b2f19e658ca3",
   "metadata": {},
   "outputs": [
    {
     "name": "stdin",
     "output_type": "stream",
     "text": [
      "Enter the coefficient a:  1\n",
      "Enter the coefficient b:  1\n",
      "Enter the coefficient c:  10\n"
     ]
    },
    {
     "name": "stdout",
     "output_type": "stream",
     "text": [
      "Root 1: -0.5 + 3.122498999199199i\n",
      "Root 2: -0.5 - 3.122498999199199i\n"
     ]
    }
   ],
   "source": [
    "# ques 11\n",
    "a = float(input(\"Enter the coefficient a: \"))\n",
    "b = float(input(\"Enter the coefficient b: \"))\n",
    "c = float(input(\"Enter the coefficient c: \"))\n",
    "\n",
    "discriminant = b**2 - 4*a*c\n",
    "if discriminant > 0:\n",
    "    root1 = (-b + discriminant**0.5) / (2*a)\n",
    "    root2 = (-b - discriminant**0.5) / (2*a)\n",
    "    print(f\"Root 1: {root1}\")\n",
    "    print(f\"Root 2: {root2}\")\n",
    "elif discriminant == 0:\n",
    "    root = -b / (2*a)\n",
    "    print(f\"Root: {root}\")\n",
    "else:\n",
    "    real_part = -b / (2*a)\n",
    "    imaginary_part = (-discriminant)**0.5 / (2*a)\n",
    "    print(f\"Root 1: {real_part} + {imaginary_part}i\")\n",
    "    print(f\"Root 2: {real_part} - {imaginary_part}i\")"
   ]
  },
  {
   "cell_type": "code",
   "execution_count": 84,
   "id": "e83990bb-509a-4a93-b169-8b0969af8827",
   "metadata": {},
   "outputs": [
    {
     "name": "stdin",
     "output_type": "stream",
     "text": [
      "Enter the number of the day : 2\n"
     ]
    },
    {
     "name": "stdout",
     "output_type": "stream",
     "text": [
      "It is Tuesday.\n"
     ]
    }
   ],
   "source": [
    "# ques 12\n",
    "day = int(input('Enter the number of the day :'))\n",
    "if day>=1 and day <=7:\n",
    "    if day == 1:\n",
    "        print('It is Monday.')\n",
    "    if day == 2:\n",
    "        print('It is Tuesday.')\n",
    "    if day == 3:\n",
    "        print('It is Wednesday.')\n",
    "    if day == 4:\n",
    "        print('It is Thursday.')\n",
    "    if day == 5:\n",
    "        print('It is Friday.')\n",
    "    if day == 6:\n",
    "        print('It is Saturday.')\n",
    "    if day == 7:\n",
    "        print('It is Sunday.')\n",
    "else:\n",
    "    print('Entered number of the day is not valid.')\n",
    "        "
   ]
  },
  {
   "cell_type": "code",
   "execution_count": 97,
   "id": "2dcf379c-9bea-433f-aa39-bfc652b6aa48",
   "metadata": {},
   "outputs": [
    {
     "name": "stdin",
     "output_type": "stream",
     "text": [
      "Enter a number : 5\n"
     ]
    },
    {
     "data": {
      "text/plain": [
       "120"
      ]
     },
     "execution_count": 97,
     "metadata": {},
     "output_type": "execute_result"
    }
   ],
   "source": [
    "# ques 13 \n",
    "def factorial(n):\n",
    "    if n < 0:\n",
    "        print(\"Invalid number , enter a correct number.\")\n",
    "    elif n==0 :\n",
    "        return 1\n",
    "    else:\n",
    "        return n * factorial(n-1)\n",
    "n = int(input('Enter a number :'))\n",
    "factorial(n)"
   ]
  },
  {
   "cell_type": "code",
   "execution_count": 98,
   "id": "ed3ba67f-fc65-4124-9ff2-d6e228d99414",
   "metadata": {},
   "outputs": [
    {
     "name": "stdin",
     "output_type": "stream",
     "text": [
      "Enter first number : 15\n",
      "Enter second number : 14\n",
      "Enter third number : 17\n"
     ]
    },
    {
     "name": "stdout",
     "output_type": "stream",
     "text": [
      "17 is largest number.\n"
     ]
    }
   ],
   "source": [
    "# ques 14\n",
    "def largest_number(a,b,c):\n",
    "    if a>b and a>c:\n",
    "        print(f'{a} is largets number.')\n",
    "    elif b>c and b>a:\n",
    "        print(f'{b} is largest number.')\n",
    "    else:\n",
    "        print(f'{c} is largest number.')\n",
    "a = int(input('Enter first number :'))\n",
    "b = int(input('Enter second number :'))\n",
    "c = int(input('Enter third number :'))\n",
    "largest_number(a,b,c)"
   ]
  },
  {
   "cell_type": "code",
   "execution_count": 102,
   "id": "8d582f29-a0c9-4b79-bbaa-bd7147341534",
   "metadata": {},
   "outputs": [
    {
     "name": "stdout",
     "output_type": "stream",
     "text": [
      "\n",
      "ATM Menu:\n",
      "1. Display Balance\n",
      "2. Deposit\n",
      "3. Withdraw\n",
      "4. Exit\n"
     ]
    },
    {
     "name": "stdin",
     "output_type": "stream",
     "text": [
      "Enter your choice (1/2/3/4):  1\n"
     ]
    },
    {
     "name": "stdout",
     "output_type": "stream",
     "text": [
      "Your account balance is: ₹1000.00\n",
      "\n",
      "ATM Menu:\n",
      "1. Display Balance\n",
      "2. Deposit\n",
      "3. Withdraw\n",
      "4. Exit\n"
     ]
    },
    {
     "name": "stdin",
     "output_type": "stream",
     "text": [
      "Enter your choice (1/2/3/4):  3\n",
      "Enter the amount to withdraw: ₹ 1000\n"
     ]
    },
    {
     "name": "stdout",
     "output_type": "stream",
     "text": [
      "You have successfully withdrawn ₹1000.00.\n",
      "Your account balance is: ₹0.00\n",
      "\n",
      "ATM Menu:\n",
      "1. Display Balance\n",
      "2. Deposit\n",
      "3. Withdraw\n",
      "4. Exit\n"
     ]
    },
    {
     "name": "stdin",
     "output_type": "stream",
     "text": [
      "Enter your choice (1/2/3/4):  4\n"
     ]
    },
    {
     "name": "stdout",
     "output_type": "stream",
     "text": [
      "Thank you for using the ATM. Have a nice day!\n"
     ]
    }
   ],
   "source": [
    "# ques 15\n",
    "# Initialize the account balance\n",
    "account_balance = 1000.0\n",
    "\n",
    "# Function to display the account balance\n",
    "def display_balance():\n",
    "    print(f\"Your account balance is: ₹{account_balance:.2f}\")\n",
    "\n",
    "# Function to deposit money\n",
    "def deposit():\n",
    "    global account_balance\n",
    "    amount = float(input(\"Enter the amount to deposit: ₹\"))\n",
    "    account_balance += amount\n",
    "    print(f\"You have successfully deposited ₹{amount:.2f}.\")\n",
    "    display_balance()\n",
    "\n",
    "# Function to withdraw money\n",
    "def withdraw():\n",
    "    global account_balance\n",
    "    amount = float(input(\"Enter the amount to withdraw: ₹\"))\n",
    "    if amount <= account_balance:\n",
    "        account_balance -= amount\n",
    "        print(f\"You have successfully withdrawn ₹{amount:.2f}.\")\n",
    "    else:\n",
    "        print(\"Insufficient funds. Withdrawal canceled.\")\n",
    "    display_balance()\n",
    "\n",
    "# Function to exit the ATM menu\n",
    "def exit_menu():\n",
    "    print(\"Thank you for using the ATM. Have a nice day!\")\n",
    "\n",
    "# ATM menu\n",
    "while True:\n",
    "    print(\"\\nATM Menu:\")\n",
    "    print(\"1. Display Balance\")\n",
    "    print(\"2. Deposit\")\n",
    "    print(\"3. Withdraw\")\n",
    "    print(\"4. Exit\")\n",
    "\n",
    "    choice = input(\"Enter your choice (1/2/3/4): \")\n",
    "\n",
    "    if choice == '1':\n",
    "        display_balance()\n",
    "    elif choice == '2':\n",
    "        deposit()\n",
    "    elif choice == '3':\n",
    "        withdraw()\n",
    "    elif choice == '4':\n",
    "        exit_menu()\n",
    "        break\n",
    "    else:\n",
    "        print(\"Invalid choice. Please select a valid option.\")\n"
   ]
  },
  {
   "cell_type": "code",
   "execution_count": 105,
   "id": "e20219ce-549e-4588-ac42-36d6cdd50f9c",
   "metadata": {},
   "outputs": [
    {
     "name": "stdin",
     "output_type": "stream",
     "text": [
      "Enter a string : awa\n"
     ]
    },
    {
     "name": "stdout",
     "output_type": "stream",
     "text": [
      "Entered string is palindrome.\n"
     ]
    }
   ],
   "source": [
    "# ques 16\n",
    "def is_palin(s):\n",
    "    if s == s[::-1]:\n",
    "        return True\n",
    "    else:\n",
    "        return False\n",
    "s = input('Enter a string :')\n",
    "if is_palin(s):\n",
    "    print('Entered string is palindrome.')\n",
    "else:\n",
    "    print('Entered string is not palindrome.')"
   ]
  },
  {
   "cell_type": "code",
   "execution_count": 2,
   "id": "e158f78b-850a-426b-801e-17582587fbcc",
   "metadata": {},
   "outputs": [
    {
     "name": "stdout",
     "output_type": "stream",
     "text": [
      "The average (excluding smallest and largest value) is: 10.50\n"
     ]
    }
   ],
   "source": [
    "# ques 17\n",
    "def calculate_average_without_extremes(numbers):\n",
    "    if len(numbers) < 3:\n",
    "        raise ValueError(\"List must contain at least 3 numbers\")\n",
    "\n",
    "    \n",
    "    smallest = min(numbers)\n",
    "    largest = max(numbers)\n",
    "\n",
    "    \n",
    "    numbers.remove(smallest)\n",
    "    numbers.remove(largest)\n",
    "\n",
    "    \n",
    "    total = sum(numbers)\n",
    "\n",
    "    \n",
    "    average = total / len(numbers)\n",
    "\n",
    "    return average\n",
    "\n",
    "\n",
    "try:\n",
    "    input_numbers = [12, 4, 8, 17, 5, 21]\n",
    "    result = calculate_average_without_extremes(input_numbers)\n",
    "    print(f\"The average (excluding smallest and largest value) is: {result:.2f}\")\n",
    "except ValueError as e:\n",
    "    print(e)\n"
   ]
  },
  {
   "cell_type": "code",
   "execution_count": 6,
   "id": "1cbbb3b8-e1e1-4aa5-b658-6263a603bcb1",
   "metadata": {},
   "outputs": [
    {
     "name": "stdin",
     "output_type": "stream",
     "text": [
      "Enter temperature in Celsius:  37\n"
     ]
    },
    {
     "name": "stdout",
     "output_type": "stream",
     "text": [
      "37.0 degrees Celsius is equal to 98.6 degrees Fahrenheit\n"
     ]
    }
   ],
   "source": [
    "# ques 18\n",
    "celsius = float(input(\"Enter temperature in Celsius: \"))\n",
    "if celsius < -273.15:\n",
    "    print(\"The temperature is below absolute zero, which is not physically possible.\")\n",
    "else:\n",
    "    fahrenheit = (celsius * 9/5) + 32\n",
    "    print(f\"{celsius} degrees Celsius is equal to {fahrenheit} degrees Fahrenheit\")\n"
   ]
  },
  {
   "cell_type": "code",
   "execution_count": 9,
   "id": "1d642342-dba5-422c-b569-f1866cfdbe9c",
   "metadata": {},
   "outputs": [
    {
     "name": "stdin",
     "output_type": "stream",
     "text": [
      "Enter the first number : 15\n",
      "Enter the second number :  3\n",
      "Enter the operator : /\n"
     ]
    },
    {
     "name": "stdout",
     "output_type": "stream",
     "text": [
      "Result : 5.0\n"
     ]
    }
   ],
   "source": [
    "# ques 19\n",
    "a = float(input(\"Enter the first number :\"))\n",
    "b = float(input(\"Enter the second number : \"))\n",
    "operator = input(\"Enter the operator :\")\n",
    "if operator == '+':\n",
    "    print('Result :',a+b)\n",
    "elif operator == '-':\n",
    "    print('Result :',a-b)\n",
    "elif operator == '*':\n",
    "    print('Result :',a*b)\n",
    "elif operator == '/':\n",
    "    print('Result :',a/b)\n",
    "else:\n",
    "    print('Error')"
   ]
  },
  {
   "cell_type": "code",
   "execution_count": 15,
   "id": "43889c46-e738-4455-aeac-b7f62e683d28",
   "metadata": {},
   "outputs": [
    {
     "name": "stdin",
     "output_type": "stream",
     "text": [
      "Enter the coefficient a:  2\n",
      "Enter the coefficient b:  5\n",
      "Enter the coefficient c:  6\n",
      "Enter the coefficient d:  7\n"
     ]
    },
    {
     "name": "stdout",
     "output_type": "stream",
     "text": [
      "One real root and two complex roots:\n",
      "Real Root: (-2.246092208371115-0.2043764470814299j)\n",
      "Complex Root 1: (4.57493899788706-1.1641593941870607j)\n",
      "Complex Root 2: (-7.6543645395915085+0.9597829471056307j)\n"
     ]
    }
   ],
   "source": [
    "# ques 20\n",
    "import math\n",
    "\n",
    "# Input coefficients of the cubic equation\n",
    "a = float(input(\"Enter the coefficient a: \"))\n",
    "b = float(input(\"Enter the coefficient b: \"))\n",
    "c = float(input(\"Enter the coefficient c: \"))\n",
    "d = float(input(\"Enter the coefficient d: \"))\n",
    "\n",
    "# Calculate intermediate values\n",
    "delta0 = b ** 2 - 3 * a * c\n",
    "delta1 = 2 * b ** 3 - 9 * a * b * c + 27 * a ** 2 * d\n",
    "\n",
    "# Calculate discriminant\n",
    "discriminant = delta1 ** 2 - 4 * delta0 ** 3\n",
    "\n",
    "if discriminant > 0:\n",
    "    # One real root and two complex roots\n",
    "    C = ((delta1 + math.sqrt(discriminant)) / 2) ** (1/3)\n",
    "    D = ((delta1 - math.sqrt(discriminant)) / 2) ** (1/3)\n",
    "\n",
    "    real_root = -(1 / (3 * a)) * (b + C + D)\n",
    "    complex_root1 = -(1 / (3 * a)) * (b + (C + D) / 2) + (math.sqrt(3) / 2) * (C - D)\n",
    "    complex_root2 = -(1 / (3 * a)) * (b + (C + D) / 2) - (math.sqrt(3) / 2) * (C - D)\n",
    "\n",
    "    print(\"One real root and two complex roots:\")\n",
    "    print(\"Real Root:\", real_root)\n",
    "    print(\"Complex Root 1:\", complex_root1)\n",
    "    print(\"Complex Root 2:\", complex_root2)\n",
    "elif discriminant == 0:\n",
    "    # Three real roots (two equal)\n",
    "    root = -(b / (3 * a)) - (delta1 / (3 * a * delta0))\n",
    "    print(\"Three real roots (two equal):\")\n",
    "    print(\"Root 1:\", root)\n",
    "    print(\"Root 2:\", root)\n",
    "    print(\"Root 3:\", root)\n",
    "else :\n",
    "    # Three distinct real roots\n",
    "    P = (3 * a * c - b ** 2) / (3 * a ** 2)\n",
    "    Q = (2 * b ** 3 - 9 * a * b * c + 27 * a ** 2 * d) / (27 * a ** 3)\n",
    "    theta = math.acos(Q / (2 * math.sqrt(P ** 3)))\n",
    "    root1 = -2 * math.sqrt(P) * math.cos(theta / 3) - (b / (3 * a))\n",
    "    root2 = -2 * math.sqrt(P) * math.cos((theta + 2 * math.pi) / 3) - (b / (3 * a))\n",
    "    root3 = -2 * math.sqrt(P) * math.cos((theta + 4 * math.pi) / 3) - (b / (3 * a))\n",
    "\n",
    "    print(\"Three distinct real roots:\")\n",
    "    print(\"Root 1:\", root1)\n",
    "    print(\"Root 2:\", root2)\n",
    "    print(\"Root 3:\", root3)"
   ]
  },
  {
   "cell_type": "code",
   "execution_count": null,
   "id": "e1c9e619-3751-421c-8cb0-1bb8139f01cd",
   "metadata": {},
   "outputs": [],
   "source": []
  },
  {
   "cell_type": "markdown",
   "id": "6eadbf36-addd-4b35-8779-d3a0927f7ffe",
   "metadata": {},
   "source": [
    "## Advanced Level "
   ]
  },
  {
   "cell_type": "code",
   "execution_count": 5,
   "id": "f6bcfbb4-c9a2-49cf-af31-d8c30d85f49e",
   "metadata": {},
   "outputs": [
    {
     "name": "stdin",
     "output_type": "stream",
     "text": [
      "Enter the annual income of the user : 2500000\n"
     ]
    },
    {
     "name": "stdout",
     "output_type": "stream",
     "text": [
      "Income tax of user is :450000.0\n"
     ]
    }
   ],
   "source": [
    "# ques 21\n",
    "income = float(input('Enter the annual income of the user :'))\n",
    "\n",
    "tax_slab1 = 0\n",
    "tax_slab2 =0.05\n",
    "tax_slab3 = 0.1\n",
    "tax_slab4 = 0.15\n",
    "tax_slab5 = 0.20\n",
    "tax_slab6 = 0.30\n",
    "\n",
    "income_tax = 0.0\n",
    "\n",
    "if 0 < income <= 300000:\n",
    "    income_tax = income * tax_slab1\n",
    "    \n",
    "elif 300001 < income <=  600000:\n",
    "    income_tax = (income * tax_slab1) + ((income - 300000) * tax_slab2)\n",
    "    \n",
    "elif 600001 < income <= 900000 :\n",
    "    income_tax = (300000 * tax_slab1) + (300000 * tax_slab2) + ((income - 600000) * tax_slab3)\n",
    "    \n",
    "elif 900001 < income <= 1200000:\n",
    "    income_tax = (300000 * tax_slab1) + (300000 * tax_slab2) + (300000 * tax_slab3) + ((income - 900000) * tax_slab4)\n",
    "    \n",
    "elif 1200001 < income <= 1500000:\n",
    "    income_tax = (300000 * tax_slab1) + (300000 * tax_slab2) + (300000 * tax_slab3) + (300000 * tax_slab4) + ((income - 1200000) * tax_slab5)\n",
    "    \n",
    "else:\n",
    "    income_tax = (300000 * tax_slab1) + (300000 * tax_slab2) + (300000 * tax_slab3) + (300000 * tax_slab4) + (300000 * tax_slab5) + ((income - 1500000) * tax_slab6)\n",
    "\n",
    "print(f'Income tax of user is :{income_tax}')\n"
   ]
  },
  {
   "cell_type": "code",
   "execution_count": null,
   "id": "1d8e1858-ed03-4112-9e70-2e66ca6e32dc",
   "metadata": {},
   "outputs": [],
   "source": []
  },
  {
   "cell_type": "code",
   "execution_count": 6,
   "id": "ff713d8e-d6af-4b4f-b2c2-81b32c804d33",
   "metadata": {},
   "outputs": [
    {
     "name": "stdin",
     "output_type": "stream",
     "text": [
      "Enter your choice (rock, paper, or scissors):  rock\n"
     ]
    },
    {
     "name": "stdout",
     "output_type": "stream",
     "text": [
      "You chose rock. The computer chose rock.\n",
      "It's a tie!\n"
     ]
    },
    {
     "name": "stdin",
     "output_type": "stream",
     "text": [
      "Do you want to play again? (yes/no):  yes\n",
      "Enter your choice (rock, paper, or scissors):  paper\n"
     ]
    },
    {
     "name": "stdout",
     "output_type": "stream",
     "text": [
      "You chose paper. The computer chose rock.\n",
      "You win!\n"
     ]
    },
    {
     "name": "stdin",
     "output_type": "stream",
     "text": [
      "Do you want to play again? (yes/no):  no\n"
     ]
    }
   ],
   "source": [
    "# ques 22 \n",
    "import random\n",
    "\n",
    "def get_user_choice():\n",
    "    while True:\n",
    "        user_choice = input(\"Enter your choice (rock, paper, or scissors): \").lower()\n",
    "        if user_choice in [\"rock\", \"paper\", \"scissors\"]:\n",
    "            return user_choice\n",
    "        else:\n",
    "            print(\"Invalid choice. Please choose from rock, paper, or scissors.\")\n",
    "\n",
    "def get_computer_choice():\n",
    "    choices = [\"rock\", \"paper\", \"scissors\"]\n",
    "    return random.choice(choices)\n",
    "\n",
    "def determine_winner(user_choice, computer_choice):\n",
    "    if user_choice == computer_choice:\n",
    "        return \"It's a tie!\"\n",
    "    if (\n",
    "        (user_choice == \"rock\" and computer_choice == \"scissors\") or\n",
    "        (user_choice == \"paper\" and computer_choice == \"rock\") or\n",
    "        (user_choice == \"scissors\" and computer_choice == \"paper\")\n",
    "    ):\n",
    "        return \"You win!\"\n",
    "    return \"Computer wins!\"\n",
    "\n",
    "while True:\n",
    "    user_choice = get_user_choice()\n",
    "    computer_choice = get_computer_choice()\n",
    "    print(f\"You chose {user_choice}. The computer chose {computer_choice}.\")\n",
    "    \n",
    "    result = determine_winner(user_choice, computer_choice)\n",
    "    print(result)\n",
    "    \n",
    "    play_again = input(\"Do you want to play again? (yes/no): \").lower()\n",
    "    if play_again != \"yes\":\n",
    "        break\n"
   ]
  },
  {
   "cell_type": "code",
   "execution_count": 7,
   "id": "cd420ef1-593e-40dc-a2d8-19cb87c49cf0",
   "metadata": {},
   "outputs": [
    {
     "name": "stdout",
     "output_type": "stream",
     "text": [
      "Password Generator\n"
     ]
    },
    {
     "name": "stdin",
     "output_type": "stream",
     "text": [
      "Enter the desired password length:  8\n",
      "Enter complexity level (easy, medium, or strong):  strong\n"
     ]
    },
    {
     "name": "stdout",
     "output_type": "stream",
     "text": [
      "Your random strong password: _TuS%2X$\n"
     ]
    }
   ],
   "source": [
    "# ques 23\n",
    "import random\n",
    "import string\n",
    "\n",
    "def generate_password(length, complexity):\n",
    "    characters = string.ascii_letters  # Default to letters only\n",
    "\n",
    "    if complexity == \"medium\":\n",
    "        characters += string.digits  # Add digits for medium complexity\n",
    "    elif complexity == \"strong\":\n",
    "        characters += string.digits + string.punctuation  # Add digits and punctuation for strong complexity\n",
    "\n",
    "    password = ''\n",
    "    for i in range(length):\n",
    "        password += random.choice(characters)\n",
    "\n",
    "    return password\n",
    "\n",
    "def main():\n",
    "    print(\"Password Generator\")\n",
    "    length = int(input(\"Enter the desired password length: \"))\n",
    "    complexity = input(\"Enter complexity level (easy, medium, or strong): \").lower()\n",
    "\n",
    "    if complexity != \"easy\" and complexity != \"medium\" and complexity != \"strong\":\n",
    "        print(\"Invalid complexity level. Using default (easy).\")\n",
    "        complexity = \"easy\"\n",
    "\n",
    "    password = generate_password(length, complexity)\n",
    "    \n",
    "    print(f\"Your random {complexity} password: {password}\")\n",
    "\n",
    "if __name__ == \"__main__\":\n",
    "    main()\n"
   ]
  },
  {
   "cell_type": "code",
   "execution_count": 8,
   "id": "4b486213-22ff-455b-9b1e-c9543022fe4a",
   "metadata": {},
   "outputs": [
    {
     "name": "stdout",
     "output_type": "stream",
     "text": [
      "Welcome to the Text Adventure Game!\n",
      "You find yourself in a dark and spooky forest. You must find a way out.\n",
      "You stand at a crossroads in the forest.\n"
     ]
    },
    {
     "name": "stdin",
     "output_type": "stream",
     "text": [
      "Do you want to go left or right?  right\n"
     ]
    },
    {
     "name": "stdout",
     "output_type": "stream",
     "text": [
      "You cross a bridge and arrive at a friendly house.\n"
     ]
    },
    {
     "name": "stdin",
     "output_type": "stream",
     "text": [
      "Do you want to enter the house? (yes/no):  yes\n"
     ]
    },
    {
     "name": "stdout",
     "output_type": "stream",
     "text": [
      "You enter the house and are welcomed with warm hospitality. You are safe. Congratulations, you win!\n"
     ]
    }
   ],
   "source": [
    "# ques 24\n",
    "import time\n",
    "\n",
    "def forest_adventure():\n",
    "    print(\"Welcome to the Text Adventure Game!\")\n",
    "    print(\"You find yourself in a dark and spooky forest. You must find a way out.\")\n",
    "    time.sleep(2)\n",
    "    print(\"You stand at a crossroads in the forest.\")\n",
    "    time.sleep(1)\n",
    "    choice = input(\"Do you want to go left or right? \").lower()\n",
    "\n",
    "    if choice == \"left\":\n",
    "        print(\"You follow a narrow path and find a hidden cave.\")\n",
    "        time.sleep(2)\n",
    "        choice = input(\"Do you want to enter the cave? (yes/no): \").lower()\n",
    "\n",
    "        if choice == \"yes\":\n",
    "            print(\"You enter the cave but get lost in the darkness. Game over!\")\n",
    "        else:\n",
    "            print(\"You decide not to enter the cave and continue along the path.\")\n",
    "            time.sleep(2)\n",
    "            print(\"You find a way out of the forest. Congratulations, you win!\")\n",
    "    elif choice == \"right\":\n",
    "        print(\"You cross a bridge and arrive at a friendly house.\")\n",
    "        time.sleep(2)\n",
    "        choice = input(\"Do you want to enter the house? (yes/no): \").lower()\n",
    "\n",
    "        if choice == \"yes\":\n",
    "            print(\"You enter the house and are welcomed with warm hospitality. You are safe. Congratulations, you win!\")\n",
    "        else:\n",
    "            print(\"You decide not to enter the house and keep walking.\")\n",
    "            time.sleep(2)\n",
    "            print(\"You encounter a group of wolves. Game over!\")\n",
    "    else:\n",
    "        print(\"Invalid choice. Please enter 'left' or 'right'.\")\n",
    "        forest_adventure()\n",
    "\n",
    "if __name__ == \"__main__\":\n",
    "    forest_adventure()\n"
   ]
  },
  {
   "cell_type": "code",
   "execution_count": 9,
   "id": "0a9004ce-340b-43c4-8994-abb1526ca89f",
   "metadata": {},
   "outputs": [
    {
     "name": "stdout",
     "output_type": "stream",
     "text": [
      "Linear Equation Solver\n"
     ]
    },
    {
     "name": "stdin",
     "output_type": "stream",
     "text": [
      "Enter the coefficient 'a':  2\n",
      "Enter the constant 'b':  5\n"
     ]
    },
    {
     "name": "stdout",
     "output_type": "stream",
     "text": [
      "The solution is x = -2.5\n"
     ]
    }
   ],
   "source": [
    "# ques 25\n",
    "def solve_linear_equation(a, b):\n",
    "    if a == 0:\n",
    "        if b == 0:\n",
    "            return \"Infinite solutions (x can be any real number)\"\n",
    "        else:\n",
    "            return \"No solution (contradiction)\"\n",
    "    else:\n",
    "        x = -b / a\n",
    "        return f\"The solution is x = {x}\"\n",
    "\n",
    "if __name__ == \"__main__\":\n",
    "    print(\"Linear Equation Solver\")\n",
    "    a = float(input(\"Enter the coefficient 'a': \"))\n",
    "    b = float(input(\"Enter the constant 'b': \"))\n",
    "    \n",
    "    solution = solve_linear_equation(a, b)\n",
    "    print(solution)\n"
   ]
  },
  {
   "cell_type": "code",
   "execution_count": 10,
   "id": "d330d775-d632-42f3-b1af-d9faf7dd6a72",
   "metadata": {},
   "outputs": [
    {
     "name": "stdout",
     "output_type": "stream",
     "text": [
      "What is the capital of France?\n",
      "1. London\n",
      "2. Berlin\n",
      "3. Paris\n",
      "4. Madrid\n"
     ]
    },
    {
     "name": "stdin",
     "output_type": "stream",
     "text": [
      "Enter the number of your answer:  3\n"
     ]
    },
    {
     "name": "stdout",
     "output_type": "stream",
     "text": [
      "Correct!\n",
      "\n",
      "Which planet is known as the 'Red Planet'?\n",
      "1. Mars\n",
      "2. Venus\n",
      "3. Jupiter\n",
      "4. Saturn\n"
     ]
    },
    {
     "name": "stdin",
     "output_type": "stream",
     "text": [
      "Enter the number of your answer:  1\n"
     ]
    },
    {
     "name": "stdout",
     "output_type": "stream",
     "text": [
      "Correct!\n",
      "\n",
      "What is 2 + 2?\n",
      "1. 3\n",
      "2. 4\n",
      "3. 5\n",
      "4. 6\n"
     ]
    },
    {
     "name": "stdin",
     "output_type": "stream",
     "text": [
      "Enter the number of your answer:  3\n"
     ]
    },
    {
     "name": "stdout",
     "output_type": "stream",
     "text": [
      "Wrong! The correct answer was: 4\n",
      "\n",
      "Quiz complete! Your score: 2/3\n"
     ]
    }
   ],
   "source": [
    "# ques 26\n",
    "def run_quiz(questions):\n",
    "    score = 0\n",
    "\n",
    "    for question, options, correct_answer in questions:\n",
    "        print(question)\n",
    "        for i, option in enumerate(options, 1):\n",
    "            print(f\"{i}. {option}\")\n",
    "        \n",
    "        user_answer = int(input(\"Enter the number of your answer: \"))\n",
    "        \n",
    "        if user_answer == correct_answer:\n",
    "            print(\"Correct!\\n\")\n",
    "            score += 1\n",
    "        else:\n",
    "            print(f\"Wrong! The correct answer was: {options[correct_answer - 1]}\\n\")\n",
    "\n",
    "    print(f\"Quiz complete! Your score: {score}/{len(questions)}\")\n",
    "\n",
    "if __name__ == \"__main__\":\n",
    "    quiz_questions = [\n",
    "        (\"What is the capital of France?\", [\"London\", \"Berlin\", \"Paris\", \"Madrid\"], 3),\n",
    "        (\"Which planet is known as the 'Red Planet'?\", [\"Mars\", \"Venus\", \"Jupiter\", \"Saturn\"], 1),\n",
    "        (\"What is 2 + 2?\", [\"3\", \"4\", \"5\", \"6\"], 2)\n",
    "    ]\n",
    "\n",
    "    run_quiz(quiz_questions)\n"
   ]
  },
  {
   "cell_type": "code",
   "execution_count": 11,
   "id": "0d7d884f-6ec9-49d6-ac46-3a4d8620eeb7",
   "metadata": {},
   "outputs": [
    {
     "name": "stdin",
     "output_type": "stream",
     "text": [
      "Enter a year to check for primality:  2024\n"
     ]
    },
    {
     "name": "stdout",
     "output_type": "stream",
     "text": [
      "2024 is not a prime year.\n"
     ]
    }
   ],
   "source": [
    "# ques 27\n",
    "def is_prime(year):\n",
    "    if year <= 1:\n",
    "        return False\n",
    "    elif year <= 3:\n",
    "        return True\n",
    "    elif year % 2 == 0 or year % 3 == 0:\n",
    "        return False\n",
    "\n",
    "    i = 5\n",
    "    while i * i <= year:\n",
    "        if year % i == 0 or year % (i + 2) == 0:\n",
    "            return False\n",
    "        i += 6\n",
    "\n",
    "    return True\n",
    "\n",
    "if __name__ == \"__main__\":\n",
    "    year = int(input(\"Enter a year to check for primality: \"))\n",
    "\n",
    "    if is_prime(year):\n",
    "        print(f\"{year} is a prime year.\")\n",
    "    else:\n",
    "        print(f\"{year} is not a prime year.\")\n"
   ]
  },
  {
   "cell_type": "code",
   "execution_count": 13,
   "id": "1540b5ad-b0aa-44c5-a8ea-808be9cdbf05",
   "metadata": {},
   "outputs": [
    {
     "name": "stdin",
     "output_type": "stream",
     "text": [
      "Enter the first number:  10\n",
      "Enter the second number:  74\n",
      "Enter the third number:  16\n"
     ]
    },
    {
     "name": "stdout",
     "output_type": "stream",
     "text": [
      "Sorted numbers in ascending order: 10.0 16.0 74.0\n"
     ]
    }
   ],
   "source": [
    "# ques 28\n",
    "\n",
    "num1 = float(input(\"Enter the first number: \"))\n",
    "num2 = float(input(\"Enter the second number: \"))\n",
    "num3 = float(input(\"Enter the third number: \"))\n",
    "\n",
    "min_num = 0\n",
    "mid_num = 0\n",
    "max_num = 0\n",
    "\n",
    "if num1 <= num2 <= num3:\n",
    "    min_num, mid_num, max_num = num1, num2, num3\n",
    "elif num1 <= num3 <= num2:\n",
    "    min_num, mid_num, max_num = num1, num3, num2\n",
    "elif num2 <= num1 <= num3:\n",
    "    min_num, mid_num, max_num = num2, num1, num3\n",
    "elif num2 <= num3 <= num1:\n",
    "    min_num, mid_num, max_num = num2, num3, num1\n",
    "elif num3 <= num1 <= num2:\n",
    "    min_num, mid_num, max_num = num3, num1, num2\n",
    "else:\n",
    "    min_num, mid_num, max_num = num3, num2, num1\n",
    "\n",
    "\n",
    "print(\"Sorted numbers in ascending order:\", min_num, mid_num, max_num)\n",
    "\n"
   ]
  },
  {
   "cell_type": "code",
   "execution_count": 15,
   "id": "41679d6d-612c-4dbb-b140-aabc9d2317c1",
   "metadata": {},
   "outputs": [
    {
     "name": "stdout",
     "output_type": "stream",
     "text": [
      "Roots are real and same\n",
      "Root: 1.0\n"
     ]
    }
   ],
   "source": [
    "# ques 29\n",
    "a = 1\n",
    "b = -2\n",
    "c = 1\n",
    "\n",
    "# Calculate the discriminant\n",
    "discriminant = b ** 2 - 4 * a * c\n",
    "\n",
    "if discriminant > 0:\n",
    "    root1 = (-b + (discriminant ** 0.5)) / (2 * a)\n",
    "    root2 = (-b - (discriminant ** 0.5)) / (2 * a)\n",
    "    print(\"Roots are real and distinct\")\n",
    "    print(\"Root 1:\", root1)\n",
    "    print(\"Root 2:\", root2)\n",
    "elif discriminant == 0:\n",
    "    root = -b / (2 * a)\n",
    "    print(\"Roots are real and same\")\n",
    "    print(\"Root:\", root)\n",
    "else:\n",
    "    realPart = -b / (2 * a)\n",
    "    imaginaryPart = (abs(discriminant) ** 0.5) / (2 * a)\n",
    "    print(\"Roots are complex and different\")\n",
    "    print(\"Root 1:\", realPart, \"+\", imaginaryPart, \"i\")\n",
    "    print(\"Root 2:\", realPart, \"-\", imaginaryPart, \"i\")\n"
   ]
  },
  {
   "cell_type": "code",
   "execution_count": 17,
   "id": "94fb5c67-399f-4a55-85bd-124260b05107",
   "metadata": {},
   "outputs": [
    {
     "name": "stdin",
     "output_type": "stream",
     "text": [
      "Enter your weight in kilograms:  75\n",
      "Enter your height in meters:  1.78\n"
     ]
    },
    {
     "name": "stdout",
     "output_type": "stream",
     "text": [
      "Your BMI is 23.671253629592222\n",
      "Recommendation: Healthy weight: Keep up the good work!\n"
     ]
    }
   ],
   "source": [
    "# ques 30\n",
    "def calculate_bmi(weight_kg, height_m):\n",
    "    return weight_kg / (height_m ** 2)\n",
    "\n",
    "def get_health_recommendation(bmi):\n",
    "    if bmi < 18.5:\n",
    "        return \"Underweight: You may want to gain some weight. Consult a doctor or a dietitian for guidance.\"\n",
    "    elif 18.5 <= bmi < 24.9:\n",
    "        return \"Healthy weight: Keep up the good work!\"\n",
    "    elif 25 <= bmi < 29.9:\n",
    "        return \"Overweight: Consider managing your weight through a balanced diet and exercise.\"\n",
    "    else:\n",
    "        return \"Obese: It's important to consult a healthcare professional for weight management.\"\n",
    "\n",
    "weight = float(input(\"Enter your weight in kilograms: \"))\n",
    "height = float(input(\"Enter your height in meters: \"))\n",
    "\n",
    "bmi = calculate_bmi(weight, height)\n",
    "recommendation = get_health_recommendation(bmi)\n",
    "\n",
    "print(f\"Your BMI is {bmi:}\")\n",
    "print(f\"Recommendation: {recommendation}\")\n"
   ]
  },
  {
   "cell_type": "code",
   "execution_count": null,
   "id": "dea2d4b1-3482-4e1c-aa9a-ab453891fd9a",
   "metadata": {},
   "outputs": [],
   "source": []
  },
  {
   "cell_type": "markdown",
   "id": "3b64f9a0-0aa1-4faf-9a67-6a06907757db",
   "metadata": {},
   "source": [
    "## Challenge Level\n"
   ]
  },
  {
   "cell_type": "code",
   "execution_count": 2,
   "id": "67a7bb42-61b1-4822-9587-b0d2e4885f2b",
   "metadata": {},
   "outputs": [
    {
     "name": "stdin",
     "output_type": "stream",
     "text": [
      "Enter a password:  Hello123\n"
     ]
    },
    {
     "name": "stdout",
     "output_type": "stream",
     "text": [
      "Password is valid.\n"
     ]
    }
   ],
   "source": [
    "# ques 31\n",
    "import re\n",
    "\n",
    "def is_valid_password(password):\n",
    "    \n",
    "    if len(password) < 8:\n",
    "        return False\n",
    "    \n",
    "    \n",
    "    if not re.search(r'[A-Z]', password):\n",
    "        return False\n",
    "    \n",
    "    \n",
    "    if not re.search(r'[a-z]', password):\n",
    "        return False\n",
    "    \n",
    "    \n",
    "    if not re.search(r'\\d', password):\n",
    "        return False\n",
    "\n",
    "    \n",
    "    return True\n",
    "\n",
    "\n",
    "def main():\n",
    "    password = input(\"Enter a password: \")\n",
    "    if is_valid_password(password):\n",
    "        print(\"Password is valid.\")\n",
    "    else:\n",
    "        print(\"Password is invalid.\")\n",
    "\n",
    "\n",
    "main()\n"
   ]
  },
  {
   "cell_type": "code",
   "execution_count": 5,
   "id": "c6b8db4e-a130-4207-a3ec-e9c243f77a5a",
   "metadata": {},
   "outputs": [
    {
     "name": "stdin",
     "output_type": "stream",
     "text": [
      "Enter the number of rows:  3\n",
      "Enter the number of columns:  3\n"
     ]
    },
    {
     "name": "stdout",
     "output_type": "stream",
     "text": [
      "Enter the first matrix:\n"
     ]
    },
    {
     "name": "stdin",
     "output_type": "stream",
     "text": [
      "Enter row 1 elements separated by space:  1 2 3\n",
      "Enter row 2 elements separated by space:  7 8 9\n",
      "Enter row 3 elements separated by space:  4 8 9\n"
     ]
    },
    {
     "name": "stdout",
     "output_type": "stream",
     "text": [
      "Enter the second matrix:\n"
     ]
    },
    {
     "name": "stdin",
     "output_type": "stream",
     "text": [
      "Enter row 1 elements separated by space:  1 7 9\n",
      "Enter row 2 elements separated by space:  4 8 9\n",
      "Enter row 3 elements separated by space:  5 7 9\n"
     ]
    },
    {
     "name": "stdout",
     "output_type": "stream",
     "text": [
      "\n",
      "Matrix 1:\n",
      "1 2 3\n",
      "7 8 9\n",
      "4 8 9\n",
      "\n",
      "Matrix 2:\n",
      "1 7 9\n",
      "4 8 9\n",
      "5 7 9\n",
      "\n",
      "Matrix Addition:\n",
      "2 9 12\n",
      "11 16 18\n",
      "9 15 18\n",
      "\n",
      "Matrix Subtraction:\n",
      "0 -5 -6\n",
      "3 0 0\n",
      "-1 1 0\n"
     ]
    }
   ],
   "source": [
    "# ques 32\n",
    "def matrix_addition(matrix1, matrix2):\n",
    "    result = [[0 for _ in range(len(matrix1[0]))] for _ in range(len(matrix1))]\n",
    "    for i in range(len(matrix1)):\n",
    "        for j in range(len(matrix1[0])):\n",
    "            result[i][j] = matrix1[i][j] + matrix2[i][j]\n",
    "    return result\n",
    "\n",
    "def matrix_subtraction(matrix1, matrix2):\n",
    "    result = [[0 for _ in range(len(matrix1[0]))] for _ in range(len(matrix1))]\n",
    "    for i in range(len(matrix1)):\n",
    "        for j in range(len(matrix1[0])):\n",
    "            result[i][j] = matrix1[i][j] - matrix2[i][j]\n",
    "    return result\n",
    "\n",
    "def input_matrix(rows, cols, matrix_name):\n",
    "    print(f\"Enter the {matrix_name} matrix:\")\n",
    "    matrix = []\n",
    "    for i in range(rows):\n",
    "        row = input(f\"Enter row {i + 1} elements separated by space: \").split()\n",
    "        if len(row) != cols:\n",
    "            print(f\"Error: Row {i + 1} should contain {cols} elements.\")\n",
    "            return None\n",
    "        matrix.append([int(x) for x in row])\n",
    "    return matrix\n",
    "\n",
    "def print_matrix(matrix):\n",
    "    for row in matrix:\n",
    "        print(\" \".join(map(str, row)))\n",
    "\n",
    "def main():\n",
    "    rows = int(input(\"Enter the number of rows: \"))\n",
    "    cols = int(input(\"Enter the number of columns: \"))\n",
    "\n",
    "    matrix1 = input_matrix(rows, cols, \"first\")\n",
    "    if matrix1 is None:\n",
    "        return \n",
    "\n",
    "    matrix2 = input_matrix(rows, cols, \"second\")\n",
    "    if matrix2 is None:\n",
    "        return  \n",
    "\n",
    "    print(\"\\nMatrix 1:\")\n",
    "    print_matrix(matrix1)\n",
    "    print(\"\\nMatrix 2:\")\n",
    "    print_matrix(matrix2)\n",
    "\n",
    "    add_result = matrix_addition(matrix1, matrix2)\n",
    "    sub_result = matrix_subtraction(matrix1, matrix2)\n",
    "\n",
    "    print(\"\\nMatrix Addition:\")\n",
    "    print_matrix(add_result)\n",
    "\n",
    "    print(\"\\nMatrix Subtraction:\")\n",
    "    print_matrix(sub_result)\n",
    "\n",
    "\n",
    "main()\n"
   ]
  },
  {
   "cell_type": "code",
   "execution_count": 6,
   "id": "8371160b-080b-42b8-b83f-7b22b829cdfb",
   "metadata": {},
   "outputs": [
    {
     "name": "stdin",
     "output_type": "stream",
     "text": [
      "Enter the first number:  1\n",
      "Enter the second number:  5\n"
     ]
    },
    {
     "name": "stdout",
     "output_type": "stream",
     "text": [
      "The GCD of 1 and 5 is 1\n"
     ]
    }
   ],
   "source": [
    "# ques 33\n",
    "def euclidean_gcd(a, b):\n",
    "    while b:\n",
    "        a, b = b, a % b\n",
    "    return a\n",
    "\n",
    "def main():\n",
    "    try:\n",
    "        num1 = int(input(\"Enter the first number: \"))\n",
    "        num2 = int(input(\"Enter the second number: \"))\n",
    "\n",
    "        if num1 < 0 or num2 < 0:\n",
    "            print(\"Error: Please enter positive numbers.\")\n",
    "        else:\n",
    "            gcd = euclidean_gcd(num1, num2)\n",
    "            print(f\"The GCD of {num1} and {num2} is {gcd}\")\n",
    "\n",
    "    except ValueError:\n",
    "        print(\"Error: Please enter valid numeric values.\")\n",
    "\n",
    "main()\n"
   ]
  },
  {
   "cell_type": "code",
   "execution_count": 9,
   "id": "2d5e556a-ac64-45c1-842c-94ebe4cff9a4",
   "metadata": {},
   "outputs": [
    {
     "name": "stdout",
     "output_type": "stream",
     "text": [
      "[114, 160, 60, 27]\n",
      "[74, 97, 73, 14]\n",
      "[119, 157, 112, 23]\n"
     ]
    }
   ],
   "source": [
    "# ques 34\n",
    "def matrix_multiply_recursive(A, B):\n",
    "\t# check if matrices can be multiplied\n",
    "\tif len(A[0]) != len(B):\n",
    "\t\traise ValueError(\"Invalid matrix dimensions\")\n",
    "\n",
    "\t# initialize result matrix with zeros\n",
    "\tresult = [[0 for j in range(len(B[0]))] for i in range(len(A))]\n",
    "\n",
    "\t# recursive multiplication of matrices\n",
    "\tdef multiply(A, B, result, i, j, k):\n",
    "\t\tif i >= len(A):\n",
    "\t\t\treturn\n",
    "\t\tif j >= len(B[0]):\n",
    "\t\t\treturn multiply(A, B, result, i+1, 0, 0)\n",
    "\t\tif k >= len(B):\n",
    "\t\t\treturn multiply(A, B, result, i, j+1, 0)\n",
    "\t\tresult[i][j] += A[i][k] * B[k][j]\n",
    "\t\tmultiply(A, B, result, i, j, k+1)\n",
    "\n",
    "\t\n",
    "\tmultiply(A, B, result, 0, 0, 0)\n",
    "\treturn result\n",
    "\n",
    "\n",
    "\n",
    "A = [[12, 7, 3], [4, 5, 6], [7, 8, 9]]\n",
    "B = [[5, 8, 1, 2], [6, 7, 3, 0], [4, 5, 9, 1]]\n",
    "\n",
    "result = matrix_multiply_recursive(A, B)\n",
    "for row in result:\n",
    "\tprint(row)\n"
   ]
  },
  {
   "cell_type": "code",
   "execution_count": 11,
   "id": "0f4efb9a-305e-4ec2-9c79-a6c6d3dc23dd",
   "metadata": {},
   "outputs": [
    {
     "name": "stdout",
     "output_type": "stream",
     "text": [
      "Welcome to Tic-Tac-Toe! You are 'X', and the computer is 'O'.\n",
      "  |   |  \n",
      "---------\n",
      "  |   |  \n",
      "---------\n",
      "  |   |  \n",
      "---------\n"
     ]
    },
    {
     "name": "stdin",
     "output_type": "stream",
     "text": [
      "Enter your move (1-9):  X\n"
     ]
    },
    {
     "name": "stdout",
     "output_type": "stream",
     "text": [
      "Invalid input. Please enter a number between 1 and 9.\n"
     ]
    },
    {
     "name": "stdin",
     "output_type": "stream",
     "text": [
      "Enter your move (1-9):  5\n"
     ]
    },
    {
     "name": "stdout",
     "output_type": "stream",
     "text": [
      "  |   |  \n",
      "---------\n",
      "  | X |  \n",
      "---------\n",
      "  |   |  \n",
      "---------\n",
      "O |   |  \n",
      "---------\n",
      "  | X |  \n",
      "---------\n",
      "  |   |  \n",
      "---------\n"
     ]
    },
    {
     "name": "stdin",
     "output_type": "stream",
     "text": [
      "Enter your move (1-9):  3\n"
     ]
    },
    {
     "name": "stdout",
     "output_type": "stream",
     "text": [
      "O |   | X\n",
      "---------\n",
      "  | X |  \n",
      "---------\n",
      "  |   |  \n",
      "---------\n",
      "O |   | X\n",
      "---------\n",
      "  | X | O\n",
      "---------\n",
      "  |   |  \n",
      "---------\n"
     ]
    },
    {
     "name": "stdin",
     "output_type": "stream",
     "text": [
      "Enter your move (1-9):  7\n"
     ]
    },
    {
     "name": "stdout",
     "output_type": "stream",
     "text": [
      "O |   | X\n",
      "---------\n",
      "  | X | O\n",
      "---------\n",
      "X |   |  \n",
      "---------\n",
      "Congratulations! You win!\n"
     ]
    }
   ],
   "source": [
    "# ques 35\n",
    "import random\n",
    "\n",
    "def print_board(board):\n",
    "    for row in board:\n",
    "        print(\" | \".join(row))\n",
    "        print(\"-\" * 9)\n",
    "\n",
    "def check_winner(board, player):\n",
    "    for i in range(3):\n",
    "        if all(board[i][j] == player for j in range(3)):\n",
    "            return True\n",
    "\n",
    "    for j in range(3):\n",
    "        if all(board[i][j] == player for i in range(3)):\n",
    "            return True\n",
    "\n",
    "    if all(board[i][i] == player for i in range(3)) or all(board[i][2 - i] == player for i in range(3)):\n",
    "        return True\n",
    "\n",
    "    return False\n",
    "\n",
    "def is_full(board):\n",
    "    return all(board[i][j] != ' ' for i in range(3) for j in range(3))\n",
    "\n",
    "def player_move(board):\n",
    "    while True:\n",
    "        try:\n",
    "            move = int(input(\"Enter your move (1-9): \")) - 1\n",
    "            row, col = divmod(move, 3)\n",
    "            if 0 <= move <= 8 and board[row][col] == ' ':\n",
    "                board[row][col] = 'X'\n",
    "                break\n",
    "            else:\n",
    "                print(\"Invalid move. Please try again.\")\n",
    "        except (ValueError, ZeroDivisionError):\n",
    "            print(\"Invalid input. Please enter a number between 1 and 9.\")\n",
    "\n",
    "def computer_move(board):\n",
    "    empty_cells = [(i, j) for i in range(3) for j in range(3) if board[i][j] == ' ']\n",
    "    if empty_cells:\n",
    "        row, col = random.choice(empty_cells)\n",
    "        board[row][col] = 'O'\n",
    "\n",
    "def play_game():\n",
    "    board = [[' ' for _ in range(3)] for _ in range(3)]\n",
    "\n",
    "    print(\"Welcome to Tic-Tac-Toe! You are 'X', and the computer is 'O'.\")\n",
    "    print_board(board)\n",
    "\n",
    "    for turn in range(9):\n",
    "        if turn % 2 == 0:\n",
    "            player_move(board)\n",
    "        else:\n",
    "            computer_move(board)\n",
    "\n",
    "        print_board(board)\n",
    "\n",
    "        if check_winner(board, 'X'):\n",
    "            print(\"Congratulations! You win!\")\n",
    "            break\n",
    "        elif check_winner(board, 'O'):\n",
    "            print(\"The computer wins! Better luck next time.\")\n",
    "            break\n",
    "        elif is_full(board):\n",
    "            print(\"It's a draw!\")\n",
    "            break\n",
    "\n",
    "\n",
    "play_game()\n"
   ]
  },
  {
   "cell_type": "code",
   "execution_count": 12,
   "id": "a817d936-40ee-430b-89a1-81827796076c",
   "metadata": {},
   "outputs": [
    {
     "name": "stdin",
     "output_type": "stream",
     "text": [
      "Enter the number of Fibonacci terms to generate:  5\n"
     ]
    },
    {
     "name": "stdout",
     "output_type": "stream",
     "text": [
      "Fibonacci Sequence:\n",
      "[0, 1, 1, 2, 3]\n"
     ]
    }
   ],
   "source": [
    "# ques 36\n",
    "def generate_fibonacci(n):\n",
    "    fibonacci_sequence = [0, 1]  # Initialize with the first two Fibonacci numbers\n",
    "\n",
    "    while len(fibonacci_sequence) < n:\n",
    "        next_number = fibonacci_sequence[-1] + fibonacci_sequence[-2]\n",
    "        fibonacci_sequence.append(next_number)\n",
    "\n",
    "    return fibonacci_sequence\n",
    "\n",
    "def main():\n",
    "    try:\n",
    "        n = int(input(\"Enter the number of Fibonacci terms to generate: \"))\n",
    "\n",
    "        if n <= 0:\n",
    "            print(\"Please enter a positive integer.\")\n",
    "        else:\n",
    "            fibonacci_sequence = generate_fibonacci(n)\n",
    "            print(\"Fibonacci Sequence:\")\n",
    "            print(fibonacci_sequence)\n",
    "\n",
    "    except ValueError:\n",
    "        print(\"Error: Please enter a valid positive integer.\")\n",
    "\n",
    "\n",
    "main()\n"
   ]
  },
  {
   "cell_type": "code",
   "execution_count": 14,
   "id": "9cde9803-5ff6-4c44-b19a-e09802bace1b",
   "metadata": {},
   "outputs": [
    {
     "name": "stdin",
     "output_type": "stream",
     "text": [
      "Enter the value of n for the nth Fibonacci term:  7\n"
     ]
    },
    {
     "name": "stdout",
     "output_type": "stream",
     "text": [
      "The 7th Fibonacci term is: 13\n"
     ]
    }
   ],
   "source": [
    "# ques 37\n",
    "# Dictionary to store previously calculated Fibonacci numbers\n",
    "fibonacci_cache = {}\n",
    "\n",
    "def fibonacci_with_memoization(n):\n",
    "    if n in fibonacci_cache:\n",
    "        return fibonacci_cache[n]\n",
    "\n",
    "    if n <= 1:\n",
    "        return n\n",
    "\n",
    "    result = fibonacci_with_memoization(n - 1) + fibonacci_with_memoization(n - 2)\n",
    "    fibonacci_cache[n] = result\n",
    "    return result\n",
    "\n",
    "def main():\n",
    "    try:\n",
    "        n = int(input(\"Enter the value of n for the nth Fibonacci term: \"))\n",
    "\n",
    "        if n < 0:\n",
    "            print(\"Please enter a non-negative integer.\")\n",
    "        else:\n",
    "            nth_fibonacci = fibonacci_with_memoization(n)\n",
    "            print(f\"The {n}th Fibonacci term is: {nth_fibonacci}\")\n",
    "\n",
    "    except ValueError:\n",
    "        print(\"Error: Please enter a valid non-negative integer.\")\n",
    "\n",
    "main()\n"
   ]
  },
  {
   "cell_type": "code",
   "execution_count": 20,
   "id": "6d9a2af8-d476-4a55-a120-94a133e67eba",
   "metadata": {},
   "outputs": [
    {
     "name": "stdin",
     "output_type": "stream",
     "text": [
      "Enter the number of month (1-12) : 11\n",
      "Enter the year : 2023\n"
     ]
    },
    {
     "name": "stdout",
     "output_type": "stream",
     "text": [
      "November 2023\n",
      "Su Mo Tu We Th Fr Sa\n",
      "         01 02 03 04 \n",
      "05 06 07 08 09 10 11 \n",
      "12 13 14 15 16 17 18 \n",
      "19 20 21 22 23 24 25 \n",
      "26 27 28 29 30 "
     ]
    }
   ],
   "source": [
    "# ques 38\n",
    "\n",
    "mm = int(input('Enter the number of month (1-12) :'))\n",
    "yy = int(input('Enter the year :'))\n",
    "\n",
    "month ={1:'January', 2:'February', 3:'March', \n",
    "\t\t4:'April', 5:'May', 6:'June', 7:'July', \n",
    "\t\t8:'August', 9:'September', 10:'October', \n",
    "\t\t11:'November', 12:'December'} \n",
    "\n",
    "# code below for calculation of odd days \n",
    "day =(yy-1)% 400\n",
    "day = (day//100)*5 + ((day % 100) - (day % 100)//4) + ((day % 100)//4)*2\n",
    "day = day % 7\n",
    "\n",
    "nly =[31, 28, 31, 30, 31, 30, \n",
    "\t31, 31, 30, 31, 30, 31] \n",
    "ly =[31, 29, 31, 30, 31, 30, \n",
    "\t31, 31, 30, 31, 30, 31] \n",
    "s = 0\n",
    "\n",
    "if yy % 4 == 0: \n",
    "\tfor i in range(mm-1): \n",
    "\t\ts+= ly[i] \n",
    "else: \n",
    "\tfor i in range(mm-1): \n",
    "\t\ts+= nly[i] \n",
    "\n",
    "day += s % 7\n",
    "day = day % 7\n",
    "\n",
    "# variable used for white space filling \n",
    "# where date not present \n",
    "space ='' \n",
    "space = space.rjust(2, ' ') \n",
    "\n",
    "# code below is to print the calendar \n",
    "print(month[mm], yy) \n",
    "print('Su', 'Mo', 'Tu', 'We', 'Th', 'Fr', 'Sa') \n",
    "\n",
    "if mm == 9 or mm == 4 or mm == 6 or mm == 11: \n",
    "\tfor i in range(31 + day): \n",
    "\t\t\n",
    "\t\tif i<= day: \n",
    "\t\t\tprint(space, end =' ') \n",
    "\t\telse: \n",
    "\t\t\tprint(\"{:02d}\".format(i-day), end =' ') \n",
    "\t\t\tif (i + 1)% 7 == 0: \n",
    "\t\t\t\tprint() \n",
    "elif mm == 2: \n",
    "\tif yy % 4 == 0: \n",
    "\t\tp = 30\n",
    "\telse: \n",
    "\t\tp = 29\n",
    "\t\t\n",
    "\tfor i in range(p + day): \n",
    "\t\tif i<= day: \n",
    "\t\t\tprint(space, end =' ') \n",
    "\t\telse: \n",
    "\t\t\tprint(\"{:02d}\".format(i-day), end =' ') \n",
    "\t\t\tif (i + 1)% 7 == 0: \n",
    "\t\t\t\tprint() \n",
    "else: \n",
    "\tfor i in range(32 + day): \n",
    "\t\t\n",
    "\t\tif i<= day: \n",
    "\t\t\tprint(space, end =' ') \n",
    "\t\telse: \n",
    "\t\t\tprint(\"{:02d}\".format(i-day), end =' ') \n",
    "\t\t\tif (i + 1)% 7 == 0: \n",
    "\t\t\t\tprint() \n"
   ]
  },
  {
   "cell_type": "code",
   "execution_count": 22,
   "id": "a7a2ea41-784e-483e-b661-11e0ee2fe470",
   "metadata": {},
   "outputs": [
    {
     "name": "stdout",
     "output_type": "stream",
     "text": [
      "Welcome to Text-Based Blackjack!\n",
      "Your hand:\n",
      "J 5 (15 points\n"
     ]
    },
    {
     "name": "stdin",
     "output_type": "stream",
     "text": [
      "Do you want to 'hit' or 'stand'?  hit\n"
     ]
    },
    {
     "name": "stdout",
     "output_type": "stream",
     "text": [
      "Your hand:\n",
      "J 5 4 (19 points\n"
     ]
    },
    {
     "name": "stdin",
     "output_type": "stream",
     "text": [
      "Do you want to 'hit' or 'stand'?  hit\n"
     ]
    },
    {
     "name": "stdout",
     "output_type": "stream",
     "text": [
      "Your hand:\n",
      "J 5 4 5 (24 points\n",
      "Dealer's hand:\n",
      "K 4 2 Q (26 points\n",
      "You bust. Dealer wins!\n"
     ]
    },
    {
     "name": "stdin",
     "output_type": "stream",
     "text": [
      "Do you want to play again? (yes/no):  no\n"
     ]
    }
   ],
   "source": [
    "# ques 39\n",
    "import random\n",
    "\n",
    "def deal_card():\n",
    "    \"\"\"Deal a random card from the deck.\"\"\"\n",
    "    cards = ['2', '3', '4', '5', '6', '7', '8', '9', '10', 'J', 'Q', 'K', 'A']\n",
    "    return random.choice(cards)\n",
    "\n",
    "def calculate_hand_value(hand):\n",
    "    \"\"\"Calculate the value of a hand, accounting for aces.\"\"\"\n",
    "    value = 0\n",
    "    num_aces = 0\n",
    "\n",
    "    for card in hand:\n",
    "        if card in '2345678910':\n",
    "            value += int(card)\n",
    "        elif card in 'JQK':\n",
    "            value += 10\n",
    "        elif card == 'A':\n",
    "            num_aces += 1\n",
    "            value += 11\n",
    "\n",
    "    while num_aces > 0 and value > 21:\n",
    "        value -= 10\n",
    "        num_aces -= 1\n",
    "\n",
    "    return value\n",
    "\n",
    "def print_hand(hand):\n",
    "    \"\"\"Print the cards in a hand.\"\"\"\n",
    "    print(\" \".join(hand), f\"({calculate_hand_value(hand)} points\")\n",
    "\n",
    "def blackjack():\n",
    "    print(\"Welcome to Text-Based Blackjack!\")\n",
    "    while True:\n",
    "        player_hand = [deal_card(), deal_card()]\n",
    "        dealer_hand = [deal_card(), deal_card()]\n",
    "\n",
    "        print(\"Your hand:\")\n",
    "        print_hand(player_hand)\n",
    "\n",
    "        while calculate_hand_value(player_hand) < 21:\n",
    "            action = input(\"Do you want to 'hit' or 'stand'? \").strip().lower()\n",
    "            if action == 'hit':\n",
    "                player_hand.append(deal_card())\n",
    "                print(\"Your hand:\")\n",
    "                print_hand(player_hand)\n",
    "            elif action == 'stand':\n",
    "                break\n",
    "\n",
    "        while calculate_hand_value(dealer_hand) < 17:\n",
    "            dealer_hand.append(deal_card())\n",
    "\n",
    "        print(\"Dealer's hand:\")\n",
    "        print_hand(dealer_hand)\n",
    "\n",
    "        player_value = calculate_hand_value(player_hand)\n",
    "        dealer_value = calculate_hand_value(dealer_hand)\n",
    "\n",
    "        if player_value > 21:\n",
    "            print(\"You bust. Dealer wins!\")\n",
    "        elif dealer_value > 21:\n",
    "            print(\"Dealer busts. You win!\")\n",
    "        elif player_value > dealer_value:\n",
    "            print(\"You win!\")\n",
    "        elif dealer_value > player_value:\n",
    "            print(\"Dealer wins!\")\n",
    "        else:\n",
    "            print(\"It's a tie!\")\n",
    "\n",
    "        play_again = input(\"Do you want to play again? (yes/no): \").strip().lower()\n",
    "        if play_again != 'yes':\n",
    "            break\n",
    "\n",
    "\n",
    "blackjack()\n",
    "\n",
    "    "
   ]
  },
  {
   "cell_type": "code",
   "execution_count": 23,
   "id": "f71cb671-21cd-4531-ad5c-c8a6dfbcf0ea",
   "metadata": {},
   "outputs": [
    {
     "name": "stdin",
     "output_type": "stream",
     "text": [
      "Enter a number to find its prime factors:  20\n"
     ]
    },
    {
     "name": "stdout",
     "output_type": "stream",
     "text": [
      "The prime factors of 20 are: 2, 2, 5\n"
     ]
    }
   ],
   "source": [
    "# ques 40\n",
    "def prime_factors(n):\n",
    "    factors = []\n",
    "    divisor = 2\n",
    "\n",
    "    while n > 1:\n",
    "        while n % divisor == 0:\n",
    "            factors.append(divisor)\n",
    "            n //= divisor\n",
    "        divisor += 1\n",
    "\n",
    "    return factors\n",
    "\n",
    "def main():\n",
    "    try:\n",
    "        num = int(input(\"Enter a number to find its prime factors: \"))\n",
    "\n",
    "        if num <= 1:\n",
    "            print(\"Please enter a positive integer greater than 1.\")\n",
    "        else:\n",
    "            factors = prime_factors(num)\n",
    "\n",
    "            if len(factors) == 1:\n",
    "                print(f\"{num} is a prime number.\")\n",
    "            else:\n",
    "                print(f\"The prime factors of {num} are: {', '.join(map(str, factors))}\")\n",
    "\n",
    "    except ValueError:\n",
    "        print(\"Error: Please enter a valid positive integer.\")\n",
    "\n",
    "main()\n"
   ]
  },
  {
   "cell_type": "code",
   "execution_count": null,
   "id": "734c46c6-4284-468b-95a6-f2614981d270",
   "metadata": {},
   "outputs": [],
   "source": []
  }
 ],
 "metadata": {
  "kernelspec": {
   "display_name": "Python 3 (ipykernel)",
   "language": "python",
   "name": "python3"
  },
  "language_info": {
   "codemirror_mode": {
    "name": "ipython",
    "version": 3
   },
   "file_extension": ".py",
   "mimetype": "text/x-python",
   "name": "python",
   "nbconvert_exporter": "python",
   "pygments_lexer": "ipython3",
   "version": "3.10.8"
  }
 },
 "nbformat": 4,
 "nbformat_minor": 5
}
