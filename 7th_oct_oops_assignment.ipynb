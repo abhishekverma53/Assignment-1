{
 "cells": [
  {
   "cell_type": "code",
   "execution_count": 55,
   "id": "575a2454-a4a6-4c02-a90c-ccd344950d9c",
   "metadata": {},
   "outputs": [],
   "source": [
    "# ques 1\n",
    "class bank_account:\n",
    "    \n",
    "    def __init__(self,customer_name,account_num,balance=0.0):\n",
    "        self.customer_name = customer_name\n",
    "        self.account_num = account_num\n",
    "        self.balance = balance\n",
    "    \n",
    "    def deposit(self,amount):\n",
    "        if amount > 0:\n",
    "            self.balance += amount\n",
    "            return f\" deposited  {amount} and New balance is  : {self.balance}\" \n",
    "        else:\n",
    "            return \"Invalid amount please deposit positive amount.\"\n",
    "    \n",
    "    def withdraw(self,amount):\n",
    "        if amount > 0:\n",
    "            if amount <= self.balance:\n",
    "                \n",
    "                self.balance -= amount\n",
    "                return f\" withdrew {amount} and new balance is : {self.balance}\"\n",
    "            \n",
    "            else:\n",
    "                return \"Insufficeint amount in the account.\"\n",
    "            \n",
    "        else:\n",
    "            return \"invalid amount please enter current amount.\"\n",
    "    def get_balance(self):\n",
    "        return f\"Account balance for {self.customer_name} is : {self.balance:.2f}\"\n",
    "\n",
    "    def details(self):\n",
    "        return f\"Account Number: {self.account_num}\\nAccount Holder Name: {self.customer_name}\\nBalance: {self.balance:.2f}\"\n",
    "        \n",
    "    \n",
    "        \n",
    "        \n",
    "        \n",
    "        "
   ]
  },
  {
   "cell_type": "code",
   "execution_count": 56,
   "id": "3c34723f-ae35-4f9a-ab82-b1e02005037e",
   "metadata": {},
   "outputs": [],
   "source": [
    "action = bank_account('Abhishek',123456,1500)"
   ]
  },
  {
   "cell_type": "code",
   "execution_count": 48,
   "id": "b080bb2a-6871-4b54-b0c9-dbe0f8103b36",
   "metadata": {},
   "outputs": [
    {
     "name": "stdout",
     "output_type": "stream",
     "text": [
      "Account Number: 123456\n",
      "Account Holder Name: Abhishek\n",
      "Balance: 1500.00\n"
     ]
    }
   ],
   "source": [
    "print(action.details())"
   ]
  },
  {
   "cell_type": "code",
   "execution_count": 61,
   "id": "8213b8ad-43b8-440e-bcce-3e5154c842f1",
   "metadata": {},
   "outputs": [
    {
     "data": {
      "text/plain": [
       "' deposited  1500 and New balance is  : 3000'"
      ]
     },
     "execution_count": 61,
     "metadata": {},
     "output_type": "execute_result"
    }
   ],
   "source": [
    "action.deposit(1500)"
   ]
  },
  {
   "cell_type": "code",
   "execution_count": 62,
   "id": "516bfb37-a8d6-493a-96e6-565c84db1096",
   "metadata": {},
   "outputs": [
    {
     "data": {
      "text/plain": [
       "' deposited  1000 and New balance is  : 4000'"
      ]
     },
     "execution_count": 62,
     "metadata": {},
     "output_type": "execute_result"
    }
   ],
   "source": [
    "action.deposit(1000)"
   ]
  },
  {
   "cell_type": "code",
   "execution_count": 63,
   "id": "f57a6263-c10d-499e-b906-d3fbc255f846",
   "metadata": {},
   "outputs": [
    {
     "data": {
      "text/plain": [
       "' withdrew 2000 and new balance is : 2000'"
      ]
     },
     "execution_count": 63,
     "metadata": {},
     "output_type": "execute_result"
    }
   ],
   "source": [
    "action.withdraw(2000)"
   ]
  },
  {
   "cell_type": "code",
   "execution_count": 64,
   "id": "5179c5c2-3d54-4963-9348-539b1f17cd63",
   "metadata": {},
   "outputs": [
    {
     "data": {
      "text/plain": [
       "'Account balance for Abhishek is : 2000.00'"
      ]
     },
     "execution_count": 64,
     "metadata": {},
     "output_type": "execute_result"
    }
   ],
   "source": [
    "action.get_balance()"
   ]
  },
  {
   "cell_type": "code",
   "execution_count": 66,
   "id": "d14520f8-323e-4966-9dae-ea27e8f41c3c",
   "metadata": {},
   "outputs": [
    {
     "name": "stdout",
     "output_type": "stream",
     "text": [
      "Account Number: 123456\n",
      "Account Holder Name: Abhishek\n",
      "Balance: 2000.00\n"
     ]
    }
   ],
   "source": [
    "print(action.details())"
   ]
  },
  {
   "cell_type": "code",
   "execution_count": null,
   "id": "7ce1e90d-68d6-4982-86bd-0192d0de957c",
   "metadata": {},
   "outputs": [],
   "source": []
  },
  {
   "cell_type": "code",
   "execution_count": null,
   "id": "16eb25f5-d634-4ab0-a479-5a8a923a5ea2",
   "metadata": {},
   "outputs": [],
   "source": []
  },
  {
   "cell_type": "code",
   "execution_count": 10,
   "id": "811b8aa6-596b-4f16-b17c-f69702eaf6cf",
   "metadata": {},
   "outputs": [
    {
     "name": "stdout",
     "output_type": "stream",
     "text": [
      " Employee Name : Abhishek \n",
      " Employee id : 12345 \n",
      " Employee salary : 1600000\n",
      "Bonus is 160000.0\n"
     ]
    }
   ],
   "source": [
    "# ques 2\n",
    "class employee:\n",
    "    \n",
    "    def __init__(self, name, employee_id, salary = 0.0 , bonus = 0 ):\n",
    "        self.employee_name = name\n",
    "        self.employee_id = employee_id\n",
    "        self.salary = salary\n",
    "        self.bonus = bonus\n",
    "    \n",
    "    def employee_details(self):\n",
    "        return f\" Employee Name : {self.employee_name} \\n Employee id : {self.employee_id} \\n Employee salary : {self.salary}\"\n",
    "    \n",
    "    def calculate_bonus(self, bonus_percentage):\n",
    "        yearly_bonus = self.salary * bonus_percentage\n",
    "        return yearly_bonus\n",
    "    \n",
    "    print(employee1.employee_details())\n",
    "    \n",
    "    bonus_percentage = 0.10\n",
    "    \n",
    "    employee1 = employee('Abhishek',12345,1600000)\n",
    "    \n",
    "    yearly_bonus = employee1.calculate_bonus(bonus_percentage)\n",
    "    print(f'Bonus is {yearly_bonus}')\n",
    "    \n",
    "    \n",
    "\n",
    "       "
   ]
  },
  {
   "cell_type": "code",
   "execution_count": 4,
   "id": "bef5232c-7476-46c5-995f-ef946a4e0f2f",
   "metadata": {},
   "outputs": [],
   "source": [
    "employee1 = employee('Abhishek',12345,1600000)"
   ]
  },
  {
   "cell_type": "code",
   "execution_count": 6,
   "id": "d2a0a027-1dad-4f1f-a763-e4ac35c5b18f",
   "metadata": {},
   "outputs": [
    {
     "data": {
      "text/plain": [
       "160000.0"
      ]
     },
     "execution_count": 6,
     "metadata": {},
     "output_type": "execute_result"
    }
   ],
   "source": [
    "employee1.calculate_bonus(0.10)"
   ]
  },
  {
   "cell_type": "code",
   "execution_count": null,
   "id": "97abd6ae-b029-4a74-a3f8-29e3c5b51fae",
   "metadata": {},
   "outputs": [],
   "source": []
  },
  {
   "cell_type": "code",
   "execution_count": null,
   "id": "6fa6e1c9-449d-479b-94a8-8ccc242f1453",
   "metadata": {},
   "outputs": [],
   "source": []
  },
  {
   "cell_type": "code",
   "execution_count": 2,
   "id": "b9eea066-3275-473e-b1df-42dd9a8ad092",
   "metadata": {},
   "outputs": [
    {
     "name": "stdout",
     "output_type": "stream",
     "text": [
      "Available Vehicles:\n",
      "cars: 101, 102, 103\n",
      "bikes: 201, 202, 203\n",
      "Rented car with ID 102\n",
      "Available Vehicles:\n",
      "cars: 101, 103\n",
      "bikes: 201, 202, 203\n",
      "Returned car with ID 102\n",
      "Available Vehicles:\n",
      "cars: 101, 103, 102\n",
      "bikes: 201, 202, 203\n"
     ]
    }
   ],
   "source": [
    "# ques 3\n",
    "class VehicleRentalSystem:\n",
    "    def __init__(self):\n",
    "        \n",
    "        self.available_vehicles = {}\n",
    "\n",
    "    def rent_vehicle(self, vehicle_type, vehicle_id):\n",
    "        \n",
    "        if vehicle_type in self.available_vehicles and vehicle_id in self.available_vehicles[vehicle_type]:\n",
    "            self.available_vehicles[vehicle_type].remove(vehicle_id)\n",
    "            print(f\"Rented {vehicle_type} with ID {vehicle_id}\")\n",
    "            return True\n",
    "        else:\n",
    "            print(f\"{vehicle_type} with ID {vehicle_id} is not available for rental.\")\n",
    "            return False\n",
    "\n",
    "    def return_vehicle(self, vehicle_type, vehicle_id):\n",
    "        \n",
    "        if vehicle_type in self.available_vehicles:\n",
    "            self.available_vehicles[vehicle_type].append(vehicle_id)\n",
    "            print(f\"Returned {vehicle_type} with ID {vehicle_id}\")\n",
    "        else:\n",
    "            print(f\"Invalid vehicle type: {vehicle_type}\")\n",
    "\n",
    "    def display_available_vehicles(self):\n",
    "       \n",
    "        print(\"Available Vehicles:\")\n",
    "        for vehicle_type, vehicle_list in self.available_vehicles.items():\n",
    "            print(f\"{vehicle_type}s: {', '.join(map(str, vehicle_list))}\")\n",
    "\n",
    "rental_system = VehicleRentalSystem()\n",
    "\n",
    "rental_system.available_vehicles[\"car\"] = [101, 102, 103]\n",
    "rental_system.available_vehicles[\"bike\"] = [201, 202, 203]\n",
    "\n",
    "rental_system.display_available_vehicles()\n",
    "\n",
    "rental_system.rent_vehicle(\"car\", 102)\n",
    "rental_system.display_available_vehicles()\n",
    "\n",
    "rental_system.return_vehicle(\"car\", 102)\n",
    "rental_system.display_available_vehicles()\n"
   ]
  },
  {
   "cell_type": "code",
   "execution_count": null,
   "id": "8d5cdeed-3b6a-4150-954b-59a7e1f71dfe",
   "metadata": {},
   "outputs": [],
   "source": []
  },
  {
   "cell_type": "code",
   "execution_count": null,
   "id": "af957e5b-17ba-412d-869e-2d18dda7d656",
   "metadata": {},
   "outputs": [],
   "source": []
  },
  {
   "cell_type": "code",
   "execution_count": 1,
   "id": "409f92a0-b13f-43d6-a98e-ac711ac383a7",
   "metadata": {},
   "outputs": [
    {
     "name": "stdout",
     "output_type": "stream",
     "text": [
      "Harry Potter and the Sorcerer's Stone by J.K. Rowling\n",
      "To Kill a Mockingbird by Harper Lee\n",
      "The Great Gatsby by F. Scott Fitzgerald\n",
      "You have borrowed 'The Great Gatsby'. Enjoy your reading!\n",
      "Harry Potter and the Sorcerer's Stone by J.K. Rowling\n",
      "To Kill a Mockingbird by Harper Lee\n",
      "Thank you for returning 'The Great Gatsby'.\n",
      "Harry Potter and the Sorcerer's Stone by J.K. Rowling\n",
      "To Kill a Mockingbird by Harper Lee\n",
      "The Great Gatsby by F. Scott Fitzgerald\n"
     ]
    }
   ],
   "source": [
    "# ques 4\n",
    "class Book:\n",
    "    def __init__(self, title, author):\n",
    "        self.title = title\n",
    "        self.author = author\n",
    "        self.available = True\n",
    "\n",
    "    def __str__(self):\n",
    "        return f\"{self.title} by {self.author}\"\n",
    "\n",
    "    def borrow(self):\n",
    "        if self.available:\n",
    "            self.available = False\n",
    "            return True\n",
    "        else:\n",
    "            return False\n",
    "\n",
    "    def return_book(self):\n",
    "        if not self.available:\n",
    "            self.available = True\n",
    "            return True\n",
    "        else:\n",
    "            return False\n",
    "\n",
    "class Library:\n",
    "    def __init__(self):\n",
    "        self.books = []\n",
    "\n",
    "    def add_book(self, book):\n",
    "        self.books.append(book)\n",
    "\n",
    "    def display_available_books(self):\n",
    "        available_books = [book for book in self.books if book.available]\n",
    "        if available_books:\n",
    "            for book in available_books:\n",
    "                print(book)\n",
    "        else:\n",
    "            print(\"No books available in the library.\")\n",
    "\n",
    "    def borrow_book(self, book_title):\n",
    "        for book in self.books:\n",
    "            if book.title == book_title:\n",
    "                if book.borrow():\n",
    "                    print(f\"You have borrowed '{book_title}'. Enjoy your reading!\")\n",
    "                else:\n",
    "                    print(f\"'{book_title}' is already checked out.\")\n",
    "                return\n",
    "        print(f\"'{book_title}' is not found in the library.\")\n",
    "\n",
    "    def return_book(self, book_title):\n",
    "        for book in self.books:\n",
    "            if book.title == book_title:\n",
    "                if book.return_book():\n",
    "                    print(f\"Thank you for returning '{book_title}'.\")\n",
    "                else:\n",
    "                    print(f\"'{book_title}' is already available in the library.\")\n",
    "                return\n",
    "        print(f\"'{book_title}' is not found in the library.\")\n",
    "\n",
    "# Example usage:\n",
    "\n",
    "book1 = Book(\"Harry Potter and the Sorcerer's Stone\", \"J.K. Rowling\")\n",
    "book2 = Book(\"To Kill a Mockingbird\", \"Harper Lee\")\n",
    "book3 = Book(\"The Great Gatsby\", \"F. Scott Fitzgerald\")\n",
    "\n",
    "library = Library()\n",
    "library.add_book(book1)\n",
    "library.add_book(book2)\n",
    "library.add_book(book3)\n",
    "\n",
    "library.display_available_books()\n",
    "\n",
    "library.borrow_book(\"The Great Gatsby\")\n",
    "library.display_available_books()\n",
    "\n",
    "library.return_book(\"The Great Gatsby\")\n",
    "library.display_available_books()\n"
   ]
  },
  {
   "cell_type": "code",
   "execution_count": null,
   "id": "daa37865-44ac-453b-8bc8-4a519ae191ad",
   "metadata": {},
   "outputs": [],
   "source": []
  },
  {
   "cell_type": "code",
   "execution_count": 3,
   "id": "392e03e2-69a8-422c-b84b-71efc80dbc95",
   "metadata": {},
   "outputs": [
    {
     "name": "stdout",
     "output_type": "stream",
     "text": [
      "Laptop - $800 (10 in stock)\n",
      "Phone - $500 (20 in stock)\n",
      "Tablet - $300 (15 in stock)\n",
      "Laptop - $800 (5 in stock)\n",
      "Phone - $500 (20 in stock)\n",
      "Tablet - $300 (15 in stock)\n",
      "Laptop - $800 (5 in stock)\n",
      "Phone - $500 (20 in stock)\n"
     ]
    }
   ],
   "source": [
    "# ques 5\n",
    "\n",
    "class Product:\n",
    "    def __init__(self, name, price, quantity):\n",
    "        self.name = name\n",
    "        self.price = price\n",
    "        self.quantity = quantity\n",
    "\n",
    "    def __str__(self):\n",
    "        return f\"{self.name} - ${self.price} ({self.quantity} in stock)\"\n",
    "\n",
    "class Inventory:\n",
    "    def __init__(self):\n",
    "        self.products = []\n",
    "\n",
    "    def add_product(self, product):\n",
    "        self.products.append(product)\n",
    "\n",
    "    def update_product_quantity(self, product_name, new_quantity):\n",
    "        for product in self.products:\n",
    "            if product.name == product_name:\n",
    "                product.quantity = new_quantity\n",
    "                return\n",
    "        print(f\"{product_name} not found in inventory.\")\n",
    "\n",
    "    def display_available_products(self):\n",
    "        available_products = [product for product in self.products if product.quantity > 0]\n",
    "        if available_products:\n",
    "            for product in available_products:\n",
    "                print(product)\n",
    "        else:\n",
    "            print(\"No products available in the inventory.\")\n",
    "\n",
    "# Example usage:\n",
    "\n",
    "product1 = Product(\"Laptop\", 800, 10)\n",
    "product2 = Product(\"Phone\", 500, 20)\n",
    "product3 = Product(\"Tablet\", 300, 15)\n",
    "\n",
    "inventory = Inventory()\n",
    "inventory.add_product(product1)\n",
    "inventory.add_product(product2)\n",
    "inventory.add_product(product3)\n",
    "\n",
    "inventory.display_available_products()\n",
    "\n",
    "inventory.update_product_quantity(\"Laptop\", 5)\n",
    "inventory.display_available_products()\n",
    "\n",
    "inventory.update_product_quantity(\"Tablet\", 0)\n",
    "inventory.display_available_products()\n"
   ]
  },
  {
   "cell_type": "code",
   "execution_count": 4,
   "id": "7def0696-b59e-4fe7-ab89-ac46e67ed584",
   "metadata": {},
   "outputs": [
    {
     "name": "stdout",
     "output_type": "stream",
     "text": [
      "Rectangle Area: 15\n",
      "Rectangle Perimeter: 16\n",
      "Square Area: 16\n",
      "Square Perimeter: 16\n",
      "Circle Area: 28.274333882308138\n",
      "Circle Perimeter: 18.84955592153876\n",
      "Triangle Area: 10.0\n",
      "Triangle Perimeter: 12\n"
     ]
    }
   ],
   "source": [
    "# ques 6\n",
    "class Shape:\n",
    "    def __init__(self, length=0, width=0, height=0):\n",
    "        self.length = length\n",
    "        self.width = width\n",
    "        self.height = height\n",
    "\n",
    "    def calculate_area(self):\n",
    "        raise NotImplementedError(\"Subclasses must implement this method\")\n",
    "\n",
    "    def calculate_perimeter(self):\n",
    "        raise NotImplementedError(\"Subclasses must implement this method\")\n",
    "\n",
    "class Rectangle(Shape):\n",
    "    def calculate_area(self):\n",
    "        return self.length * self.width\n",
    "\n",
    "    def calculate_perimeter(self):\n",
    "        return 2 * (self.length + self.width)\n",
    "\n",
    "class Square(Rectangle):\n",
    "    def __init__(self, side):\n",
    "        super().__init__(length=side, width=side)\n",
    "\n",
    "class Circle(Shape):\n",
    "    def __init__(self, radius):\n",
    "        super().__init__()\n",
    "        self.radius = radius\n",
    "\n",
    "    def calculate_area(self):\n",
    "        import math\n",
    "        return math.pi * self.radius**2\n",
    "\n",
    "    def calculate_perimeter(self):\n",
    "        import math\n",
    "        return 2 * math.pi * self.radius\n",
    "\n",
    "class Triangle(Shape):\n",
    "    def calculate_area(self):\n",
    "        return 0.5 * self.length * self.height\n",
    "\n",
    "    def calculate_perimeter(self):\n",
    "        return self.length + self.width + self.height\n",
    "\n",
    "# Example usage:\n",
    "\n",
    "rectangle = Rectangle(5, 3)\n",
    "print(\"Rectangle Area:\", rectangle.calculate_area())\n",
    "print(\"Rectangle Perimeter:\", rectangle.calculate_perimeter())\n",
    "\n",
    "square = Square(4)\n",
    "print(\"Square Area:\", square.calculate_area())\n",
    "print(\"Square Perimeter:\", square.calculate_perimeter())\n",
    "\n",
    "circle = Circle(3)\n",
    "print(\"Circle Area:\", circle.calculate_area())\n",
    "print(\"Circle Perimeter:\", circle.calculate_perimeter())\n",
    "\n",
    "triangle = Triangle(4, 3, 5)\n",
    "print(\"Triangle Area:\", triangle.calculate_area())\n",
    "print(\"Triangle Perimeter:\", triangle.calculate_perimeter())\n"
   ]
  },
  {
   "cell_type": "code",
   "execution_count": 5,
   "id": "ca85e483-b0af-4bb2-9d0c-d3e262e26426",
   "metadata": {},
   "outputs": [
    {
     "name": "stdout",
     "output_type": "stream",
     "text": [
      "Student ID: S12345\n",
      "Name: Alice\n",
      "Grades:\n",
      "- 90\n",
      "- 85\n",
      "- 78\n",
      "- 92\n",
      "- 88\n",
      "Average Grade: 86.6\n",
      "\n",
      "\n",
      "Student ID: S67890\n",
      "Name: Bob\n",
      "Grades:\n",
      "- 75\n",
      "- 82\n",
      "- 93\n",
      "Average Grade: 83.33333333333333\n"
     ]
    }
   ],
   "source": [
    "# ques 7\n",
    "class Student:\n",
    "    def __init__(self, student_id, name, grades=[]):\n",
    "        self.student_id = student_id\n",
    "        self.name = name\n",
    "        self.grades = grades\n",
    "\n",
    "    def add_grade(self, grade):\n",
    "        self.grades.append(grade)\n",
    "\n",
    "    def calculate_average_grade(self):\n",
    "        if len(self.grades) == 0:\n",
    "            return 0  # Avoid division by zero\n",
    "        total = sum(self.grades)\n",
    "        return total / len(self.grades)\n",
    "\n",
    "    def display_student_details(self):\n",
    "        print(f\"Student ID: {self.student_id}\")\n",
    "        print(f\"Name: {self.name}\")\n",
    "        if len(self.grades) > 0:\n",
    "            print(\"Grades:\")\n",
    "            for grade in self.grades:\n",
    "                print(f\"- {grade}\")\n",
    "            print(f\"Average Grade: {self.calculate_average_grade()}\")\n",
    "        else:\n",
    "            print(\"No grades available for this student.\")\n",
    "\n",
    "# Example usage:\n",
    "\n",
    "student1 = Student(\"S12345\", \"Alice\", [90, 85, 78, 92, 88])\n",
    "student2 = Student(\"S67890\", \"Bob\")\n",
    "\n",
    "student2.add_grade(75)\n",
    "student2.add_grade(82)\n",
    "student2.add_grade(93)\n",
    "\n",
    "student1.display_student_details()\n",
    "print(\"\\n\")\n",
    "student2.display_student_details()\n"
   ]
  },
  {
   "cell_type": "code",
   "execution_count": 6,
   "id": "32e98f56-f256-48d5-97ce-5489eb035eda",
   "metadata": {},
   "outputs": [
    {
     "name": "stdout",
     "output_type": "stream",
     "text": [
      "Sender: abhishek@gmail.com\n",
      "Recipient: sameer@gmail.com\n",
      "Subject: Meeting Agenda\n",
      "Message:\n",
      "Hi Sameer, here's the agenda for our meeting:\n",
      "1. Project updates\n",
      "2. Budget discussion\n",
      "3. Schedule planning\n",
      "Email sent from abhishek@gmail.com to sameer@gmail.com\n",
      "This email has already been sent.\n",
      "\n",
      "\n",
      "Sender: sameer@gmail.com\n",
      "Recipient: abhishek@gmail.com\n",
      "Subject: Re: Meeting Agenda\n",
      "Message:\n",
      "Hi Abhishek, thanks for the agenda. Let's discuss it tomorrow!\n",
      "Email sent from sameer@gmail.com to abhishek@gmail.com\n"
     ]
    }
   ],
   "source": [
    "# ques 8\n",
    "class Email:\n",
    "    def __init__(self, sender, recipient, subject, message):\n",
    "        self.sender = sender\n",
    "        self.recipient = recipient\n",
    "        self.subject = subject\n",
    "        self.message = message\n",
    "        self.sent = False\n",
    "\n",
    "    def send_email(self):\n",
    "        if not self.sent:\n",
    "            print(f\"Email sent from {self.sender} to {self.recipient}\")\n",
    "            self.sent = True\n",
    "        else:\n",
    "            print(\"This email has already been sent.\")\n",
    "\n",
    "    def display_email_details(self):\n",
    "        print(\"Sender: \" + self.sender)\n",
    "        print(\"Recipient: \" + self.recipient)\n",
    "        print(\"Subject: \" + self.subject)\n",
    "        print(\"Message:\")\n",
    "        print(self.message)\n",
    "\n",
    "# Example usage:\n",
    "\n",
    "email1 = Email(\"abhishek@gmail.com\", \"sameer@gmail.com\", \"Meeting Agenda\", \"Hi Sameer, here's the agenda for our meeting:\\n1. Project updates\\n2. Budget discussion\\n3. Schedule planning\")\n",
    "email2 = Email(\"sameer@gmail.com\", \"abhishek@gmail.com\", \"Re: Meeting Agenda\", \"Hi Abhishek, thanks for the agenda. Let's discuss it tomorrow!\")\n",
    "\n",
    "email1.display_email_details()\n",
    "email1.send_email()\n",
    "email1.send_email()\n",
    "\n",
    "print(\"\\n\")\n",
    "\n",
    "email2.display_email_details()\n",
    "email2.send_email()\n"
   ]
  },
  {
   "cell_type": "code",
   "execution_count": 7,
   "id": "b7da7ad4-16ab-4974-a234-ee1d94e32150",
   "metadata": {},
   "outputs": [
    {
     "name": "stdout",
     "output_type": "stream",
     "text": [
      "user123's Posts:\n",
      "Post 1: Hello, this is my first post.\n",
      "Post 2: Excited to share my vacation photos!\n",
      "\n",
      "\n",
      "user456's Posts:\n",
      "Post 1: Working on a new project today.\n",
      "\n",
      "\n",
      "Posts by user123 containing 'vacation':\n",
      "Post 1: Excited to share my vacation photos!\n",
      "Posts by user456 containing 'project':\n",
      "Post 1: Working on a new project today.\n"
     ]
    }
   ],
   "source": [
    "# ques 9\n",
    "class SocialMediaProfile:\n",
    "    def __init__(self, username):\n",
    "        self.username = username\n",
    "        self.posts = []\n",
    "\n",
    "    def add_post(self, content):\n",
    "        self.posts.append(content)\n",
    "\n",
    "    def display_posts(self):\n",
    "        if not self.posts:\n",
    "            print(f\"{self.username} has no posts yet.\")\n",
    "        else:\n",
    "            print(f\"{self.username}'s Posts:\")\n",
    "            for i, post in enumerate(self.posts, start=1):\n",
    "                print(f\"Post {i}: {post}\")\n",
    "\n",
    "    def search_posts(self, keyword):\n",
    "        matching_posts = [post for post in self.posts if keyword in post]\n",
    "        if matching_posts:\n",
    "            print(f\"Posts by {self.username} containing '{keyword}':\")\n",
    "            for i, post in enumerate(matching_posts, start=1):\n",
    "                print(f\"Post {i}: {post}\")\n",
    "        else:\n",
    "            print(f\"No posts by {self.username} containing '{keyword}' found.\")\n",
    "\n",
    "# Example usage:\n",
    "\n",
    "profile1 = SocialMediaProfile(\"user123\")\n",
    "profile2 = SocialMediaProfile(\"user456\")\n",
    "\n",
    "profile1.add_post(\"Hello, this is my first post.\")\n",
    "profile1.add_post(\"Excited to share my vacation photos!\")\n",
    "profile2.add_post(\"Working on a new project today.\")\n",
    "\n",
    "profile1.display_posts()\n",
    "print(\"\\n\")\n",
    "profile2.display_posts()\n",
    "print(\"\\n\")\n",
    "\n",
    "profile1.search_posts(\"vacation\")\n",
    "profile2.search_posts(\"project\")\n"
   ]
  },
  {
   "cell_type": "code",
   "execution_count": 8,
   "id": "5e611f6c-158d-4836-8884-2145cddf3680",
   "metadata": {},
   "outputs": [
    {
     "name": "stdout",
     "output_type": "stream",
     "text": [
      "Pending Tasks:\n",
      "1. Task: Buy groceries, Due Date: 2023-10-25\n",
      "2. Task: Finish homework, Due Date: 2023-10-20\n",
      "3. Task: Call a friend, Due Date: 2023-10-22\n",
      "Pending Tasks:\n",
      "1. Task: Buy groceries, Due Date: 2023-10-25\n",
      "2. Task: Call a friend, Due Date: 2023-10-22\n"
     ]
    }
   ],
   "source": [
    "# ques 10\n",
    "class ToDoList:\n",
    "    def __init__(self):\n",
    "        self.tasks = []\n",
    "\n",
    "    def add_task(self, task, due_date):\n",
    "        self.tasks.append({\"task\": task, \"due_date\": due_date, \"completed\": False})\n",
    "\n",
    "    def mark_task_as_completed(self, task):\n",
    "        for todo in self.tasks:\n",
    "            if todo[\"task\"] == task:\n",
    "                todo[\"completed\"] = True\n",
    "                return\n",
    "        print(f\"Task '{task}' not found in the ToDo list.\")\n",
    "\n",
    "    def display_pending_tasks(self):\n",
    "        pending_tasks = [todo for todo in self.tasks if not todo[\"completed\"]]\n",
    "        if not pending_tasks:\n",
    "            print(\"No pending tasks in the ToDo list.\")\n",
    "        else:\n",
    "            print(\"Pending Tasks:\")\n",
    "            for i, todo in enumerate(pending_tasks, start=1):\n",
    "                print(f\"{i}. Task: {todo['task']}, Due Date: {todo['due_date']}\")\n",
    "\n",
    "# Example usage:\n",
    "\n",
    "my_todo_list = ToDoList()\n",
    "my_todo_list.add_task(\"Buy groceries\", \"2023-10-25\")\n",
    "my_todo_list.add_task(\"Finish homework\", \"2023-10-20\")\n",
    "my_todo_list.add_task(\"Call a friend\", \"2023-10-22\")\n",
    "\n",
    "my_todo_list.display_pending_tasks()\n",
    "\n",
    "my_todo_list.mark_task_as_completed(\"Finish homework\")\n",
    "my_todo_list.display_pending_tasks()\n"
   ]
  },
  {
   "cell_type": "code",
   "execution_count": null,
   "id": "fff95147-ff9e-474c-94ea-287cd6bcae89",
   "metadata": {},
   "outputs": [],
   "source": []
  }
 ],
 "metadata": {
  "kernelspec": {
   "display_name": "Python 3 (ipykernel)",
   "language": "python",
   "name": "python3"
  },
  "language_info": {
   "codemirror_mode": {
    "name": "ipython",
    "version": 3
   },
   "file_extension": ".py",
   "mimetype": "text/x-python",
   "name": "python",
   "nbconvert_exporter": "python",
   "pygments_lexer": "ipython3",
   "version": "3.10.8"
  }
 },
 "nbformat": 4,
 "nbformat_minor": 5
}
