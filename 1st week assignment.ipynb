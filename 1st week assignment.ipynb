{
 "cells": [
  {
   "cell_type": "code",
   "execution_count": 1,
   "id": "a8cc5586-8ed2-4254-b7d3-ce1d55c76331",
   "metadata": {},
   "outputs": [
    {
     "data": {
      "text/plain": [
       "str"
      ]
     },
     "execution_count": 1,
     "metadata": {},
     "output_type": "execute_result"
    }
   ],
   "source": [
    "# Ques 1\n",
    "# (i)\n",
    "x = 'abhishek'\n",
    "type(x)"
   ]
  },
  {
   "cell_type": "code",
   "execution_count": 2,
   "id": "0d354566-2d24-4cdc-ae72-0eac10e7ce1b",
   "metadata": {},
   "outputs": [
    {
     "data": {
      "text/plain": [
       "list"
      ]
     },
     "execution_count": 2,
     "metadata": {},
     "output_type": "execute_result"
    }
   ],
   "source": [
    "# (ii)\n",
    "y = [1,3,45.6,'abhi',True]\n",
    "type(y)"
   ]
  },
  {
   "cell_type": "code",
   "execution_count": 6,
   "id": "802ed0ae-c197-406e-96ca-5cc844f72f16",
   "metadata": {},
   "outputs": [
    {
     "data": {
      "text/plain": [
       "float"
      ]
     },
     "execution_count": 6,
     "metadata": {},
     "output_type": "execute_result"
    }
   ],
   "source": [
    "# (iii)\n",
    "z = 45.6\n",
    "type (z)"
   ]
  },
  {
   "cell_type": "code",
   "execution_count": 7,
   "id": "b8b68fed-7d8b-46c5-9154-ca7942986f57",
   "metadata": {},
   "outputs": [
    {
     "data": {
      "text/plain": [
       "tuple"
      ]
     },
     "execution_count": 7,
     "metadata": {},
     "output_type": "execute_result"
    }
   ],
   "source": [
    "# (iv)\n",
    "a = ('abhishek','verma')\n",
    "type(a)"
   ]
  },
  {
   "cell_type": "code",
   "execution_count": 11,
   "id": "c8fdb6f4-69af-4a4c-846f-a66a36fbbb2a",
   "metadata": {},
   "outputs": [
    {
     "data": {
      "text/plain": [
       "str"
      ]
     },
     "execution_count": 11,
     "metadata": {},
     "output_type": "execute_result"
    }
   ],
   "source": [
    "# Ques 2\n",
    "# (i)\n",
    "var1 = ''\n",
    "type(var1)"
   ]
  },
  {
   "cell_type": "code",
   "execution_count": 12,
   "id": "37218cdb-98e2-4bd0-ba74-136fe77546d6",
   "metadata": {},
   "outputs": [
    {
     "data": {
      "text/plain": [
       "str"
      ]
     },
     "execution_count": 12,
     "metadata": {},
     "output_type": "execute_result"
    }
   ],
   "source": [
    "# (ii)\n",
    "var2 = '[DS,ML,Python]'\n",
    "type(var2)\n"
   ]
  },
  {
   "cell_type": "code",
   "execution_count": 13,
   "id": "7a974ff0-5dd5-46a0-a6b3-b8aa13fe08ef",
   "metadata": {},
   "outputs": [
    {
     "data": {
      "text/plain": [
       "list"
      ]
     },
     "execution_count": 13,
     "metadata": {},
     "output_type": "execute_result"
    }
   ],
   "source": [
    "# (iii)\n",
    "var3 = ['ds','ml','python']\n",
    "type(var3)"
   ]
  },
  {
   "cell_type": "code",
   "execution_count": 14,
   "id": "98539fa6-bdd6-459a-ae70-22388a4a7f87",
   "metadata": {},
   "outputs": [
    {
     "data": {
      "text/plain": [
       "int"
      ]
     },
     "execution_count": 14,
     "metadata": {},
     "output_type": "execute_result"
    }
   ],
   "source": [
    "# (iv)\n",
    "var4 = 1\n",
    "type(var4)"
   ]
  },
  {
   "cell_type": "code",
   "execution_count": 18,
   "id": "f97b8cb9-f0de-4602-99dd-0e2c6586419c",
   "metadata": {},
   "outputs": [
    {
     "name": "stdout",
     "output_type": "stream",
     "text": [
      "2.0\n"
     ]
    }
   ],
   "source": [
    "# Ques 3 (i)\n",
    "b = 6 \n",
    "c = 3\n",
    "print(b/c)\n",
    "# / is a divide operator used to divide the right variable(b) from the left variable(c)"
   ]
  },
  {
   "cell_type": "code",
   "execution_count": 21,
   "id": "acc440e7-1631-4362-a7e3-17f71559d8bf",
   "metadata": {},
   "outputs": [
    {
     "name": "stdout",
     "output_type": "stream",
     "text": [
      "2\n"
     ]
    }
   ],
   "source": [
    "# (ii)\n",
    "a = 27\n",
    "b = 5\n",
    "print(a%b)\n",
    "# % is modulus operator used to get the reminder"
   ]
  },
  {
   "cell_type": "code",
   "execution_count": 23,
   "id": "606d5a99-acd0-49c7-ad83-2b652b275523",
   "metadata": {},
   "outputs": [
    {
     "name": "stdout",
     "output_type": "stream",
     "text": [
      "3\n"
     ]
    }
   ],
   "source": [
    "# (iii)\n",
    "c = 13\n",
    "d = 4\n",
    "print(c//d)\n",
    "# // is floor operator used to get the last whole number"
   ]
  },
  {
   "cell_type": "code",
   "execution_count": 24,
   "id": "a64de2f7-96c3-4001-bb2b-e887400318fa",
   "metadata": {},
   "outputs": [
    {
     "name": "stdout",
     "output_type": "stream",
     "text": [
      "8\n"
     ]
    }
   ],
   "source": [
    "# (iv)\n",
    "e = 2\n",
    "f = 3\n",
    "print(e**f)\n",
    "# ** is exponential operator is used to get the square of a variable"
   ]
  },
  {
   "cell_type": "code",
   "execution_count": null,
   "id": "501f17d5-3f21-4304-bfdb-4a4490c206f7",
   "metadata": {},
   "outputs": [],
   "source": []
  },
  {
   "cell_type": "code",
   "execution_count": 17,
   "id": "def54dfa-a187-425a-a825-b96a8755de0f",
   "metadata": {},
   "outputs": [
    {
     "name": "stdout",
     "output_type": "stream",
     "text": [
      "<class 'int'>\n",
      "1\n",
      "<class 'int'>\n",
      "2\n",
      "<class 'int'>\n",
      "4\n",
      "<class 'str'>\n",
      "abhi\n",
      "<class 'float'>\n",
      "45.68\n",
      "<class 'bool'>\n",
      "True\n",
      "<class 'bool'>\n",
      "False\n",
      "<class 'str'>\n",
      "pwskills\n",
      "<class 'int'>\n",
      "7\n",
      "<class 'int'>\n",
      "9\n"
     ]
    }
   ],
   "source": [
    "# Ques 4\n",
    "l = [1,2,4,'abhi',45.68,True,False,'pwskills',7,9]\n",
    "for i in l :\n",
    "        print(type(i))\n",
    "        print(i)\n",
    "     "
   ]
  },
  {
   "cell_type": "code",
   "execution_count": 1,
   "id": "4ece1033-0bca-4ce2-ac96-9bbc6e314209",
   "metadata": {},
   "outputs": [
    {
     "name": "stdout",
     "output_type": "stream",
     "text": [
      "A is divisible by B\n",
      "3.0\n"
     ]
    }
   ],
   "source": [
    "# Ques 5 \n",
    "A = 15\n",
    "B = 5\n",
    "while A%B == 0 :\n",
    "    print(\"A is divisible by B\")\n",
    "    break\n",
    "print(A/B)"
   ]
  },
  {
   "cell_type": "code",
   "execution_count": 3,
   "id": "cdf56bbc-e670-4d5b-b95f-d8a309735437",
   "metadata": {},
   "outputs": [
    {
     "name": "stdout",
     "output_type": "stream",
     "text": [
      "not divisible\n",
      "not divisible\n",
      "divisible\n",
      "not divisible\n",
      "not divisible\n",
      "not divisible\n",
      "not divisible\n",
      "divisible\n",
      "divisible\n",
      "not divisible\n",
      "not divisible\n",
      "divisible\n",
      "divisible\n",
      "not divisible\n",
      "not divisible\n",
      "not divisible\n",
      "divisible\n",
      "not divisible\n",
      "not divisible\n",
      "not divisible\n",
      "not divisible\n",
      "divisible\n",
      "not divisible\n",
      "divisible\n",
      "divisible\n"
     ]
    }
   ],
   "source": [
    "# Ques 6\n",
    "l1 = [1,32,45,67,89,11,23,27,18,56,98,876,999,1111,2222,445,786,986,1145,89,56798,2223,5567,8715,33]\n",
    "for i in l1 :\n",
    "    if i%3==0:\n",
    "        print(\"divisible\")\n",
    "    else:\n",
    "        print(\"not divisible\")"
   ]
  },
  {
   "cell_type": "code",
   "execution_count": 4,
   "id": "f37b765d-f997-490d-96e6-cd92f5cb91e2",
   "metadata": {},
   "outputs": [
    {
     "data": {
      "text/plain": [
       "[1, 3, 4, 5, 'abhi', 45.65, True]"
      ]
     },
     "execution_count": 4,
     "metadata": {},
     "output_type": "execute_result"
    }
   ],
   "source": [
    "#Ques 7\n",
    "# Mutable = when we able to reassign the data in a list on a particular index. it is called mutability of that data type.\n",
    "l=[1,3,4,5,'abhi',45.65,True]"
   ]
  },
  {
   "cell_type": "code",
   "execution_count": 5,
   "id": "b62e79fa-1e2e-41f9-9c60-f88400eb562d",
   "metadata": {},
   "outputs": [
    {
     "data": {
      "text/plain": [
       "[1, 3, 4, 5, 'abhi', 45.65, True]"
      ]
     },
     "execution_count": 5,
     "metadata": {},
     "output_type": "execute_result"
    }
   ],
   "source": [
    "l"
   ]
  },
  {
   "cell_type": "code",
   "execution_count": 6,
   "id": "5ab44a93-0c6d-4c79-a0e4-0535c5d9a94d",
   "metadata": {},
   "outputs": [
    {
     "data": {
      "text/plain": [
       "'abhi'"
      ]
     },
     "execution_count": 6,
     "metadata": {},
     "output_type": "execute_result"
    }
   ],
   "source": [
    "l[4]"
   ]
  },
  {
   "cell_type": "code",
   "execution_count": 7,
   "id": "b2195404-666f-4e0f-96ef-951915d0b224",
   "metadata": {},
   "outputs": [],
   "source": [
    "l[4]= \"abhishek\"\n"
   ]
  },
  {
   "cell_type": "code",
   "execution_count": 8,
   "id": "f7b32d27-aaf4-4890-b34a-0c41226ec47e",
   "metadata": {},
   "outputs": [
    {
     "data": {
      "text/plain": [
       "[1, 3, 4, 5, 'abhishek', 45.65, True]"
      ]
     },
     "execution_count": 8,
     "metadata": {},
     "output_type": "execute_result"
    }
   ],
   "source": [
    "l"
   ]
  },
  {
   "cell_type": "code",
   "execution_count": 9,
   "id": "200a0681-a95a-4cc9-8a3b-4378668c6dd0",
   "metadata": {},
   "outputs": [
    {
     "data": {
      "text/plain": [
       "'i'"
      ]
     },
     "execution_count": 9,
     "metadata": {},
     "output_type": "execute_result"
    }
   ],
   "source": [
    "# immutablity\n",
    "# when we not able reassign the data is called immutability.\n",
    "a = \"abhi\"\n",
    "a[3]"
   ]
  },
  {
   "cell_type": "code",
   "execution_count": 10,
   "id": "2fe08633-cb53-439c-9610-dc1f93c3c0d5",
   "metadata": {},
   "outputs": [
    {
     "ename": "TypeError",
     "evalue": "'str' object does not support item assignment",
     "output_type": "error",
     "traceback": [
      "\u001b[0;31m---------------------------------------------------------------------------\u001b[0m",
      "\u001b[0;31mTypeError\u001b[0m                                 Traceback (most recent call last)",
      "Cell \u001b[0;32mIn[10], line 1\u001b[0m\n\u001b[0;32m----> 1\u001b[0m \u001b[43ma\u001b[49m\u001b[43m[\u001b[49m\u001b[38;5;241;43m3\u001b[39;49m\u001b[43m]\u001b[49m \u001b[38;5;241m=\u001b[39m \u001b[38;5;124m\"\u001b[39m\u001b[38;5;124mr\u001b[39m\u001b[38;5;124m\"\u001b[39m\n",
      "\u001b[0;31mTypeError\u001b[0m: 'str' object does not support item assignment"
     ]
    }
   ],
   "source": [
    "a[3] = \"r\""
   ]
  },
  {
   "cell_type": "code",
   "execution_count": null,
   "id": "aa9d6fed-1947-4dfe-8ecf-fc303cba7bda",
   "metadata": {},
   "outputs": [],
   "source": []
  }
 ],
 "metadata": {
  "kernelspec": {
   "display_name": "Python 3 (ipykernel)",
   "language": "python",
   "name": "python3"
  },
  "language_info": {
   "codemirror_mode": {
    "name": "ipython",
    "version": 3
   },
   "file_extension": ".py",
   "mimetype": "text/x-python",
   "name": "python",
   "nbconvert_exporter": "python",
   "pygments_lexer": "ipython3",
   "version": "3.10.8"
  }
 },
 "nbformat": 4,
 "nbformat_minor": 5
}
