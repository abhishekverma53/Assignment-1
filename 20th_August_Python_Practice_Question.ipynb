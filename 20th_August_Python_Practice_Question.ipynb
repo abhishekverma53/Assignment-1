{
 "cells": [
  {
   "cell_type": "code",
   "execution_count": null,
   "id": "510a076c-1e4d-4f57-a9ff-67e32daed6cb",
   "metadata": {},
   "outputs": [],
   "source": []
  },
  {
   "cell_type": "markdown",
   "id": "c4e5759a-0c63-4f59-a738-ea636b1871ff",
   "metadata": {},
   "source": [
    "# TOPIC : String based question\n"
   ]
  },
  {
   "cell_type": "code",
   "execution_count": null,
   "id": "f56e011f-5823-420d-8481-821912587e95",
   "metadata": {},
   "outputs": [],
   "source": [
    "# Ques 1\n",
    "s = 'this is my second assignment'"
   ]
  },
  {
   "cell_type": "code",
   "execution_count": 2,
   "id": "25fe2f42-6b9c-4457-9345-93cc77ab78c7",
   "metadata": {},
   "outputs": [
    {
     "data": {
      "text/plain": [
       "'tnemngissa dnoces ym si siht'"
      ]
     },
     "execution_count": 2,
     "metadata": {},
     "output_type": "execute_result"
    }
   ],
   "source": [
    "# Ques 1\n",
    "s[::-1]"
   ]
  },
  {
   "cell_type": "code",
   "execution_count": 7,
   "id": "9328c36a-5969-48f1-8b87-15f3e3f84cc8",
   "metadata": {},
   "outputs": [
    {
     "data": {
      "text/plain": [
       "False"
      ]
     },
     "execution_count": 7,
     "metadata": {},
     "output_type": "execute_result"
    }
   ],
   "source": [
    "# Ques 2\n",
    "s==s[::-1]"
   ]
  },
  {
   "cell_type": "code",
   "execution_count": 4,
   "id": "9b6c090b-5d35-45b3-9cb1-8592d93ad324",
   "metadata": {},
   "outputs": [
    {
     "data": {
      "text/plain": [
       "'THIS IS MY SECOND ASSIGNMENT'"
      ]
     },
     "execution_count": 4,
     "metadata": {},
     "output_type": "execute_result"
    }
   ],
   "source": [
    "# Ques 3\n",
    "s.upper()"
   ]
  },
  {
   "cell_type": "code",
   "execution_count": 5,
   "id": "efe6b7bf-6811-4762-921f-6092d17a2c42",
   "metadata": {},
   "outputs": [
    {
     "data": {
      "text/plain": [
       "'this is my second assignment'"
      ]
     },
     "execution_count": 5,
     "metadata": {},
     "output_type": "execute_result"
    }
   ],
   "source": [
    "# Ques 4\n",
    "s.lower()"
   ]
  },
  {
   "cell_type": "code",
   "execution_count": 4,
   "id": "07480620-0dc8-46c7-8766-6777c164775d",
   "metadata": {},
   "outputs": [
    {
     "data": {
      "text/plain": [
       "'thisismysecondassignment'"
      ]
     },
     "execution_count": 4,
     "metadata": {},
     "output_type": "execute_result"
    }
   ],
   "source": [
    "# Ques 7\n",
    "s.replace(' ','')"
   ]
  },
  {
   "cell_type": "code",
   "execution_count": 13,
   "id": "dd926e19-39cf-406f-8d4b-f5bd1de29ad2",
   "metadata": {},
   "outputs": [
    {
     "data": {
      "text/plain": [
       "True"
      ]
     },
     "execution_count": 13,
     "metadata": {},
     "output_type": "execute_result"
    }
   ],
   "source": [
    "# ques 9\n",
    "'is' in s\n"
   ]
  },
  {
   "cell_type": "code",
   "execution_count": 17,
   "id": "1a9d5509-a405-489a-93c0-6c65545d38c4",
   "metadata": {},
   "outputs": [
    {
     "data": {
      "text/plain": [
       "'this is my third assignment'"
      ]
     },
     "execution_count": 17,
     "metadata": {},
     "output_type": "execute_result"
    }
   ],
   "source": [
    "# ques 10\n",
    "s.replace('second','third')"
   ]
  },
  {
   "cell_type": "code",
   "execution_count": 21,
   "id": "0cf33624-6027-4b97-921a-d0f4791bedc3",
   "metadata": {},
   "outputs": [
    {
     "data": {
      "text/plain": [
       "1"
      ]
     },
     "execution_count": 21,
     "metadata": {},
     "output_type": "execute_result"
    }
   ],
   "source": [
    "# ques 11\n",
    "s.count('my')"
   ]
  },
  {
   "cell_type": "code",
   "execution_count": 28,
   "id": "a438ec23-6c5e-42a4-b7db-3be77f57cabb",
   "metadata": {},
   "outputs": [
    {
     "data": {
      "text/plain": [
       "1"
      ]
     },
     "execution_count": 28,
     "metadata": {},
     "output_type": "execute_result"
    }
   ],
   "source": [
    "# ques 12\n",
    "s.find('h')"
   ]
  },
  {
   "cell_type": "code",
   "execution_count": 24,
   "id": "67438536-f7de-49c7-b140-7a33697a7df6",
   "metadata": {},
   "outputs": [
    {
     "name": "stdout",
     "output_type": "stream",
     "text": [
      "Index of the last occurrence: 18\n"
     ]
    }
   ],
   "source": [
    "# ques 13\n",
    "def find_last_occurrence(text, word):\n",
    "    index = text.rfind(word)\n",
    "    if index == -1:\n",
    "        return None  \n",
    "    return index\n",
    "text = \"This is my second assignment\"\n",
    "word = \"assignment\"\n",
    "result = find_last_occurrence(text, word)\n",
    "print(\"Index of the last occurrence:\", result)"
   ]
  },
  {
   "cell_type": "code",
   "execution_count": null,
   "id": "7ddedc6e-f7af-419d-bdb4-e29ab2d1bb81",
   "metadata": {},
   "outputs": [],
   "source": [
    "# ques 14\n",
    "s = 'this is my 4th day of coding'"
   ]
  },
  {
   "cell_type": "code",
   "execution_count": 3,
   "id": "a5870179-c74b-479c-b04a-0d05e7e1e02b",
   "metadata": {},
   "outputs": [
    {
     "data": {
      "text/plain": [
       "['this', 'is', 'my', '4th', 'day', 'of', 'coding']"
      ]
     },
     "execution_count": 3,
     "metadata": {},
     "output_type": "execute_result"
    }
   ],
   "source": [
    "s.split()"
   ]
  },
  {
   "cell_type": "code",
   "execution_count": 28,
   "id": "05460a65-835b-4f70-aa75-02dbf890baab",
   "metadata": {},
   "outputs": [],
   "source": [
    "# ques 15 \n",
    "l1 = ['abhishek', 'kumar']\n",
    "l2 = ['verma']"
   ]
  },
  {
   "cell_type": "code",
   "execution_count": 31,
   "id": "e34e28b7-9016-4582-8f81-a114d9a2c036",
   "metadata": {},
   "outputs": [
    {
     "data": {
      "text/plain": [
       "\"['abhishek', 'kumar', 'verma']\""
      ]
     },
     "execution_count": 31,
     "metadata": {},
     "output_type": "execute_result"
    }
   ],
   "source": [
    "str(l1 + l2)"
   ]
  },
  {
   "cell_type": "code",
   "execution_count": 6,
   "id": "7a7b0912-0609-4854-ac9f-35fa236e9f6a",
   "metadata": {},
   "outputs": [
    {
     "data": {
      "text/plain": [
       "'this_is_my_4th_day_of_coding'"
      ]
     },
     "execution_count": 6,
     "metadata": {},
     "output_type": "execute_result"
    }
   ],
   "source": [
    "# ques 16\n",
    "s = 'this is my 4th day of coding'\n",
    "s.replace(' ','_')"
   ]
  },
  {
   "cell_type": "code",
   "execution_count": 7,
   "id": "8feef769-4a0d-47ca-b894-d11e59e103e3",
   "metadata": {},
   "outputs": [
    {
     "data": {
      "text/plain": [
       "True"
      ]
     },
     "execution_count": 7,
     "metadata": {},
     "output_type": "execute_result"
    }
   ],
   "source": [
    "# ques 17\n",
    "s.startswith('this')"
   ]
  },
  {
   "cell_type": "code",
   "execution_count": 8,
   "id": "a3d8259e-8d64-46fa-aaa1-b3629b71cefb",
   "metadata": {},
   "outputs": [
    {
     "data": {
      "text/plain": [
       "False"
      ]
     },
     "execution_count": 8,
     "metadata": {},
     "output_type": "execute_result"
    }
   ],
   "source": [
    "# ques 18\n",
    "s.endswith('class')"
   ]
  },
  {
   "cell_type": "code",
   "execution_count": 9,
   "id": "cacc8bd8-47e1-4ca4-9810-1711adfd9f52",
   "metadata": {},
   "outputs": [
    {
     "data": {
      "text/plain": [
       "'This Is My 4Th Day Of Coding'"
      ]
     },
     "execution_count": 9,
     "metadata": {},
     "output_type": "execute_result"
    }
   ],
   "source": [
    "# ques 19\n",
    "s.title()"
   ]
  },
  {
   "cell_type": "code",
   "execution_count": 12,
   "id": "3ea8f825-5b69-4e32-a7aa-0abbeb0a716d",
   "metadata": {},
   "outputs": [
    {
     "data": {
      "text/plain": [
       "'gnidoc fo yad ht4 ym si siht'"
      ]
     },
     "execution_count": 12,
     "metadata": {},
     "output_type": "execute_result"
    }
   ],
   "source": [
    "s[::-1]"
   ]
  },
  {
   "cell_type": "markdown",
   "id": "f43f94a7-890c-4a67-a08a-d3cf194723b1",
   "metadata": {},
   "source": []
  },
  {
   "cell_type": "code",
   "execution_count": 2,
   "id": "7d065a05-1685-45d3-a7d1-94951a4d077d",
   "metadata": {},
   "outputs": [],
   "source": [
    "# Ques 5"
   ]
  },
  {
   "cell_type": "code",
   "execution_count": 6,
   "id": "3c7b10ab-9692-4b96-b69f-2aaf1c4f2d79",
   "metadata": {},
   "outputs": [
    {
     "name": "stdout",
     "output_type": "stream",
     "text": [
      "Enter the sentence :\n"
     ]
    },
    {
     "name": "stdin",
     "output_type": "stream",
     "text": [
      " this is my second assignment\n"
     ]
    },
    {
     "name": "stdout",
     "output_type": "stream",
     "text": [
      "Number of vowels are:\n",
      "7\n"
     ]
    }
   ],
   "source": [
    "\n",
    "print('Enter the sentence :')\n",
    "s = str(input())\n",
    "vowels = 0\n",
    "for i in s:\n",
    "    if(i == 'a' or i == 'e' or i == 'i' or i == 'o' or i == 'u' or i == 'A' or i == 'O' or i == 'E' or i == 'I' or  i == 'U'):\n",
    "        vowels = vowels +1\n",
    "print('Number of vowels are:')\n",
    "print(vowels)\n",
    "          "
   ]
  },
  {
   "cell_type": "code",
   "execution_count": 7,
   "id": "83c9e12c-5445-46ff-b7e5-4f738c91ca26",
   "metadata": {},
   "outputs": [],
   "source": [
    "# Ques 6"
   ]
  },
  {
   "cell_type": "code",
   "execution_count": 12,
   "id": "230e38db-dc1e-4a71-a867-e072348d999c",
   "metadata": {},
   "outputs": [
    {
     "name": "stdout",
     "output_type": "stream",
     "text": [
      "Enter the sentence :\n"
     ]
    },
    {
     "name": "stdin",
     "output_type": "stream",
     "text": [
      " this is third try\n"
     ]
    },
    {
     "name": "stdout",
     "output_type": "stream",
     "text": [
      "Number of consonants are:\n",
      "14\n"
     ]
    }
   ],
   "source": [
    "print('Enter the sentence :')\n",
    "s = str(input())\n",
    "vowels = 0\n",
    "for i in s:\n",
    "    if(i == 'a' or i == 'e' or i == 'i' or i == 'o' or i == 'u' or i == 'A' or i == 'O' or i == 'E' or i == 'I' or  i == 'U'):\n",
    "        vowels = vowels +1\n",
    "print('Number of consonants are:')\n",
    "print(len(s)-vowels)"
   ]
  },
  {
   "cell_type": "code",
   "execution_count": 13,
   "id": "9b45d839-5b26-4d5b-b1ce-3ee655b5dd8e",
   "metadata": {},
   "outputs": [],
   "source": [
    "# Ques 8"
   ]
  },
  {
   "cell_type": "code",
   "execution_count": 22,
   "id": "364de411-d658-403e-a71f-7ac7e2337214",
   "metadata": {},
   "outputs": [
    {
     "name": "stdin",
     "output_type": "stream",
     "text": [
      " hello\n"
     ]
    },
    {
     "name": "stdout",
     "output_type": "stream",
     "text": [
      "Length of the string is : 5\n"
     ]
    }
   ],
   "source": [
    "s = str(input())\n",
    "count = 0\n",
    "for char in s:\n",
    "  count = count +1\n",
    "print('Length of the string is :', count)"
   ]
  },
  {
   "cell_type": "code",
   "execution_count": 27,
   "id": "b76ea76e-8aa0-4291-b806-dc3294a4e1b5",
   "metadata": {},
   "outputs": [
    {
     "data": {
      "text/plain": [
       "5"
      ]
     },
     "execution_count": 27,
     "metadata": {},
     "output_type": "execute_result"
    }
   ],
   "source": [
    "# Ques 13\n",
    "s = 'abhishek'\n",
    "s.rfind('h')"
   ]
  },
  {
   "cell_type": "code",
   "execution_count": 38,
   "id": "2e0b28e0-7bd5-4fdc-b6e7-e30b6ef5503c",
   "metadata": {},
   "outputs": [
    {
     "name": "stdout",
     "output_type": "stream",
     "text": [
      "Longest word: 4\n"
     ]
    }
   ],
   "source": [
    "# Ques 20\n",
    "def find_longest_word(text):\n",
    "    words = text.split()\n",
    "    longest_word = \"\"\n",
    "    max_length = 0\n",
    "    for word in words :\n",
    "        if len(word) > max_length:\n",
    "            max_length = len(word)\n",
    "            longest_word = max_length\n",
    "    return longest_word\n",
    "       \n",
    "text = \"This is \"\n",
    "longest_word = find_longest_word(text)\n",
    "print(\"Longest word:\", longest_word)"
   ]
  },
  {
   "cell_type": "code",
   "execution_count": 39,
   "id": "3b305612-768e-4110-8d3b-57a897ed636b",
   "metadata": {},
   "outputs": [],
   "source": [
    "#ques 21\n"
   ]
  },
  {
   "cell_type": "code",
   "execution_count": 50,
   "id": "2a651890-f67b-4193-a94c-2db45b713cd0",
   "metadata": {},
   "outputs": [
    {
     "name": "stdin",
     "output_type": "stream",
     "text": [
      "Please enter string : This is my second assignemnt\n"
     ]
    },
    {
     "data": {
      "text/plain": [
       "'assignemnt'"
      ]
     },
     "execution_count": 50,
     "metadata": {},
     "output_type": "execute_result"
    }
   ],
   "source": [
    "def find_longest_word(text):  \n",
    "    longest_word =  max(text, key=len)\n",
    "    return longest_word\n",
    "\n",
    "\n",
    "words = input('Please enter string :')  \n",
    "text = words.split()  \n",
    "find_longest_word(text)  "
   ]
  },
  {
   "cell_type": "code",
   "execution_count": 47,
   "id": "c883895e-88c8-4de0-bad6-9c43f956d014",
   "metadata": {},
   "outputs": [],
   "source": [
    "# Ques 22"
   ]
  },
  {
   "cell_type": "code",
   "execution_count": 52,
   "id": "e2621da4-be2c-4bdb-b887-6834d642317e",
   "metadata": {},
   "outputs": [
    {
     "name": "stdin",
     "output_type": "stream",
     "text": [
      "Please enter string : This is my second assignemnt\n"
     ]
    },
    {
     "data": {
      "text/plain": [
       "'is'"
      ]
     },
     "execution_count": 52,
     "metadata": {},
     "output_type": "execute_result"
    }
   ],
   "source": [
    "def find_longest_word(text):  \n",
    "    longest_word =  min(text, key=len)\n",
    "    return longest_word\n",
    "\n",
    "\n",
    "words = input('Please enter string :')  \n",
    "text = words.split()  \n",
    "find_longest_word(text)  "
   ]
  },
  {
   "cell_type": "code",
   "execution_count": 49,
   "id": "570ed232-6a46-402b-b196-06b2ba7078a5",
   "metadata": {},
   "outputs": [],
   "source": [
    "# Ques 23"
   ]
  },
  {
   "cell_type": "code",
   "execution_count": 51,
   "id": "dfc94533-d924-4385-a0f1-cb1236582b8f",
   "metadata": {},
   "outputs": [
    {
     "data": {
      "text/plain": [
       "False"
      ]
     },
     "execution_count": 51,
     "metadata": {},
     "output_type": "execute_result"
    }
   ],
   "source": [
    "string = 'This is my second assignemnt'\n",
    "string.isalnum()"
   ]
  },
  {
   "cell_type": "code",
   "execution_count": 53,
   "id": "9b4a610a-960b-481a-bac2-1aebf6aa7a18",
   "metadata": {},
   "outputs": [],
   "source": [
    "#ques 24"
   ]
  },
  {
   "cell_type": "code",
   "execution_count": 55,
   "id": "c8334157-d8ed-490b-948e-aea8f5dcb48f",
   "metadata": {},
   "outputs": [
    {
     "name": "stdout",
     "output_type": "stream",
     "text": [
      "digits: 123456\n"
     ]
    }
   ],
   "source": [
    "def extract_digits(text):\n",
    "  digits = \"\"\n",
    "  for char in text:\n",
    "    if char.isdigit():\n",
    "      digits += char\n",
    "\n",
    "  return digits\n",
    "text = \"Hello123world456\"\n",
    "extract_digits = extract_digits(text)\n",
    "print(\"digits:\",extract_digits)"
   ]
  },
  {
   "cell_type": "code",
   "execution_count": 64,
   "id": "e15d7e30-3cea-4dce-b2e5-2de4863a3416",
   "metadata": {},
   "outputs": [
    {
     "name": "stdout",
     "output_type": "stream",
     "text": [
      "alphabets : Helloworld\n"
     ]
    }
   ],
   "source": [
    "# Ques 25\n",
    "def extract_alphabets(text):\n",
    "  alphabets =\"\"\n",
    "  for char in text:\n",
    "    if char.isalpha():\n",
    "        alphabets += char\n",
    "  return alphabets\n",
    "text = \"Hello123world456\"\n",
    "extract_alphabets = extract_alphabets(text)\n",
    "print(\"alphabets :\",extract_alphabets)"
   ]
  },
  {
   "cell_type": "code",
   "execution_count": null,
   "id": "51631824-1852-496b-a3b6-10991a1871f0",
   "metadata": {},
   "outputs": [],
   "source": []
  },
  {
   "cell_type": "code",
   "execution_count": 1,
   "id": "992f161c-9d5d-4d6f-8a11-2e8e0efd152f",
   "metadata": {},
   "outputs": [],
   "source": [
    "# Ques 26"
   ]
  },
  {
   "cell_type": "code",
   "execution_count": 11,
   "id": "ae4a5103-019c-48ba-808e-e35f8a059a12",
   "metadata": {},
   "outputs": [
    {
     "name": "stdout",
     "output_type": "stream",
     "text": [
      "Enter the string :\n"
     ]
    },
    {
     "name": "stdin",
     "output_type": "stream",
     "text": [
      " Abhishek\n"
     ]
    },
    {
     "name": "stdout",
     "output_type": "stream",
     "text": [
      "no. of uppercase : 1\n"
     ]
    }
   ],
   "source": [
    "print('Enter the string :')\n",
    "s = input()\n",
    "upper = 0\n",
    "for i in s:\n",
    "    if(i.isupper()):\n",
    "        upper += 1\n",
    "print('no. of uppercase :',upper)"
   ]
  },
  {
   "cell_type": "code",
   "execution_count": 13,
   "id": "a6222b75-e705-49ef-8478-548a234b2b52",
   "metadata": {},
   "outputs": [
    {
     "name": "stdout",
     "output_type": "stream",
     "text": [
      "Enter the string :\n"
     ]
    },
    {
     "name": "stdin",
     "output_type": "stream",
     "text": [
      " Abhishek\n"
     ]
    },
    {
     "name": "stdout",
     "output_type": "stream",
     "text": [
      "no. of uppercase : 7\n"
     ]
    }
   ],
   "source": [
    "# Ques 27\n",
    "print('Enter the string :')\n",
    "s = input()\n",
    "lower = 0\n",
    "for i in s:\n",
    "    if(i.islower()):\n",
    "        lower += 1\n",
    "print('no. of uppercase :',lower)"
   ]
  },
  {
   "cell_type": "code",
   "execution_count": 14,
   "id": "ab934731-d07d-43a7-b17c-3e0973b783e4",
   "metadata": {},
   "outputs": [],
   "source": [
    "## Ques 28"
   ]
  },
  {
   "cell_type": "code",
   "execution_count": 18,
   "id": "7fa8f5e8-64a4-4529-9c88-952c80ea3832",
   "metadata": {},
   "outputs": [
    {
     "name": "stdout",
     "output_type": "stream",
     "text": [
      "Enter the string:\n"
     ]
    },
    {
     "name": "stdin",
     "output_type": "stream",
     "text": [
      " Abhishek\n"
     ]
    },
    {
     "name": "stdout",
     "output_type": "stream",
     "text": [
      "aBHISHEK\n"
     ]
    }
   ],
   "source": [
    "print('Enter the string:')\n",
    "s = input()\n",
    "print(s.swapcase())"
   ]
  },
  {
   "cell_type": "code",
   "execution_count": 19,
   "id": "5321f740-2386-4294-b0a5-7206b5a216cb",
   "metadata": {},
   "outputs": [],
   "source": [
    "# Ques 29"
   ]
  },
  {
   "cell_type": "code",
   "execution_count": 23,
   "id": "aa8e5113-b062-460b-bc8b-ee923d490a85",
   "metadata": {},
   "outputs": [
    {
     "data": {
      "text/plain": [
       "'abhishek  verma'"
      ]
     },
     "execution_count": 23,
     "metadata": {},
     "output_type": "execute_result"
    }
   ],
   "source": [
    "s = 'abhishek kumar verma'\n",
    "s.replace('kumar','')"
   ]
  },
  {
   "cell_type": "code",
   "execution_count": 24,
   "id": "9d72ffc1-c699-40ad-9a39-22f6023d8004",
   "metadata": {},
   "outputs": [],
   "source": [
    "# Ques 30"
   ]
  },
  {
   "cell_type": "code",
   "execution_count": 1,
   "id": "093e5db8-7934-4ece-8cdb-a82bee77e45a",
   "metadata": {},
   "outputs": [
    {
     "name": "stdout",
     "output_type": "stream",
     "text": [
      "True\n",
      "False\n"
     ]
    }
   ],
   "source": [
    "import re\n",
    "def is_valid_email(email):\n",
    "    pattern = r'^[\\w\\.-]+@[\\w\\.-]+\\.\\w+$'  \n",
    "    if re.match(pattern, email):\n",
    "        return True\n",
    "    else:\n",
    "        return False\n",
    "email1 = \"pwskills@gmail.com\"\n",
    "email2 = \"pwskills\"\n",
    "result1 = is_valid_email(email1)\n",
    "result2 = is_valid_email(email2)\n",
    "print(result1)\n",
    "print(result2)"
   ]
  },
  {
   "cell_type": "code",
   "execution_count": 2,
   "id": "7624dd86-8f1f-437a-977d-c2f79d4b437d",
   "metadata": {},
   "outputs": [
    {
     "name": "stdout",
     "output_type": "stream",
     "text": [
      "pwskills\n"
     ]
    }
   ],
   "source": [
    "# ques 31\n",
    "def extract_username(email):\n",
    "    username = email.split('@')[0]   \n",
    "    return username\n",
    "\n",
    "\n",
    "email = \"pwskills@gmail.com\"\n",
    "result = extract_username(email)\n",
    "print(result)"
   ]
  },
  {
   "cell_type": "code",
   "execution_count": 3,
   "id": "3bbbf690-056f-407c-91b4-c755ee4ca41f",
   "metadata": {},
   "outputs": [
    {
     "name": "stdout",
     "output_type": "stream",
     "text": [
      "gmail.com\n"
     ]
    }
   ],
   "source": [
    "# ques 32\n",
    "def extract_domain(email):\n",
    "    domain = email.split('@')[1]   \n",
    "    return domain\n",
    "\n",
    "\n",
    "email = \"pwskills@gmail.com\"\n",
    "result = extract_domain(email)\n",
    "print(result)"
   ]
  },
  {
   "cell_type": "code",
   "execution_count": 6,
   "id": "0d858fe5-d5a6-4ddf-88dd-b12612f645c4",
   "metadata": {},
   "outputs": [
    {
     "name": "stdout",
     "output_type": "stream",
     "text": [
      "Hello this is my second assignment\n"
     ]
    }
   ],
   "source": [
    "# ques 33\n",
    "def replace_multiple_spaces(input_string):\n",
    "    cleaned_string = ' '.join(input_string.split())  \n",
    "    return cleaned_string\n",
    "\n",
    "\n",
    "input_string = \"Hello        this  is  my second   assignment\"\n",
    "result = replace_multiple_spaces(input_string)\n",
    "print(result)"
   ]
  },
  {
   "cell_type": "code",
   "execution_count": 7,
   "id": "37b54857-96a8-4c6c-bd11-fc19eb5396fe",
   "metadata": {},
   "outputs": [
    {
     "name": "stdout",
     "output_type": "stream",
     "text": [
      "True\n",
      "False\n"
     ]
    }
   ],
   "source": [
    "# ques 34\n",
    "from urllib.parse import urlparse\n",
    "\n",
    "def is_valid_url(url):\n",
    "    try:\n",
    "        result = urlparse(url)\n",
    "        return all([result.scheme, result.netloc])  \n",
    "    except ValueError:\n",
    "        return False\n",
    "\n",
    "\n",
    "url1 = \"https://www.google.com\"\n",
    "url2 = \"google\"\n",
    "result1 = is_valid_url(url1)\n",
    "result2 = is_valid_url(url2)\n",
    "print(result1) \n",
    "print(result2)  "
   ]
  },
  {
   "cell_type": "code",
   "execution_count": 11,
   "id": "197b12eb-43e4-4600-b149-5d3bc5e8c86e",
   "metadata": {},
   "outputs": [
    {
     "name": "stdout",
     "output_type": "stream",
     "text": [
      "Protocol 1: ftp\n",
      "Protocol 2: http\n",
      "Protocol 3: http\n"
     ]
    }
   ],
   "source": [
    "# ques 35\n",
    "def extract_protocol(url):\n",
    "    \n",
    "    protocol_end = url.find(\"://\")\n",
    "\n",
    "    if protocol_end != -1:\n",
    "        \n",
    "        protocol = url[:protocol_end]\n",
    "        return protocol\n",
    "    else:\n",
    "        return None\n",
    "\n",
    "\n",
    "url1 = \"ftp://ftp.youtube.com\"\n",
    "url2 = \"http://google.com\"\n",
    "url3 = \"http://www.pwskills.com\"\n",
    "\n",
    "protocol1 = extract_protocol(url1)\n",
    "protocol2 = extract_protocol(url2)\n",
    "protocol3 = extract_protocol(url3)\n",
    "\n",
    "print(\"Protocol 1:\", protocol1)\n",
    "print(\"Protocol 2:\", protocol2)\n",
    "print(\"Protocol 3:\", protocol3)"
   ]
  },
  {
   "cell_type": "code",
   "execution_count": 14,
   "id": "2459b05f-7517-46f7-89d1-212ff0947e19",
   "metadata": {},
   "outputs": [
    {
     "name": "stdout",
     "output_type": "stream",
     "text": [
      "Character: 'p', Frequency: 1\n",
      "Character: 'w', Frequency: 1\n",
      "Character: 's', Frequency: 2\n",
      "Character: 'k', Frequency: 1\n",
      "Character: 'i', Frequency: 1\n",
      "Character: 'l', Frequency: 2\n"
     ]
    }
   ],
   "source": [
    "# ques 36\n",
    "def character_frequency(input_string):\n",
    "    frequency = {}  \n",
    "\n",
    "    for char in input_string:\n",
    "        if char in frequency:\n",
    "            frequency[char] += 1  \n",
    "        else:\n",
    "            frequency[char] = 1   \n",
    "\n",
    "    return frequency\n",
    "\n",
    "\n",
    "input_str = \"pwskills\"\n",
    "\n",
    "\n",
    "char_freq = character_frequency(input_str)\n",
    "\n",
    "\n",
    "for char, freq in char_freq.items():\n",
    "    print(f\"Character: '{char}', Frequency: {freq}\")\n"
   ]
  },
  {
   "cell_type": "code",
   "execution_count": 17,
   "id": "1a58529e-be64-4ad6-80e9-6adebb27097f",
   "metadata": {},
   "outputs": [
    {
     "name": "stdout",
     "output_type": "stream",
     "text": [
      "Original string: Hello, This is my second assignment.\n",
      "Cleaned string: Hello This is my second assignment\n"
     ]
    }
   ],
   "source": [
    "# ques 37\n",
    "import string\n",
    "\n",
    "def remove_punctuation(input_string):\n",
    "    \n",
    "    translator = str.maketrans(\"\", \"\", string.punctuation)\n",
    "\n",
    "    \n",
    "    clean_string = input_string.translate(translator)\n",
    "\n",
    "    return clean_string\n",
    "\n",
    "\n",
    "input_str = \"Hello, This is my second assignment.\"\n",
    "\n",
    "cleaned_str = remove_punctuation(input_str)\n",
    "\n",
    "\n",
    "print(\"Original string:\", input_str)\n",
    "print(\"Cleaned string:\", cleaned_str)"
   ]
  },
  {
   "cell_type": "code",
   "execution_count": 19,
   "id": "c71675f8-7871-41c4-8e63-1337fd3aeff8",
   "metadata": {},
   "outputs": [
    {
     "name": "stdout",
     "output_type": "stream",
     "text": [
      "'484515' contains only digits: True\n",
      "'pwskills1232' contains only digits: False\n",
      "'7475.4541' contains only digits: False\n"
     ]
    }
   ],
   "source": [
    "# ques 38\n",
    "def contains_only_digits(input_string):\n",
    "    \n",
    "    return input_string.isdigit()\n",
    "\n",
    "\n",
    "string1 = \"484515\"\n",
    "string2 = \"pwskills1232\"\n",
    "string3 = \"7475.4541\"\n",
    "\n",
    "\n",
    "result1 = contains_only_digits(string1)\n",
    "result2 = contains_only_digits(string2)\n",
    "result3 = contains_only_digits(string3)\n",
    "\n",
    "\n",
    "print(f\"'{string1}' contains only digits:\", result1)\n",
    "print(f\"'{string2}' contains only digits:\", result2)\n",
    "print(f\"'{string3}' contains only digits:\", result3)"
   ]
  },
  {
   "cell_type": "code",
   "execution_count": 20,
   "id": "803ad3d0-5cab-46f6-b998-ada8ed0fb7a6",
   "metadata": {},
   "outputs": [
    {
     "name": "stdout",
     "output_type": "stream",
     "text": [
      "'pwskills' contains only alphabets: True\n",
      "'1458611' contains only alphabets: False\n",
      "'451.451' contains only alphabets: False\n"
     ]
    }
   ],
   "source": [
    "# ques 39\n",
    "def contains_only_alphabets(input_string):\n",
    "    \n",
    "    return input_string.isalpha()\n",
    "\n",
    "\n",
    "string1 = \"pwskills\"\n",
    "string2 = \"1458611\"\n",
    "string3 = \"451.451\"\n",
    "\n",
    "result1 = contains_only_alphabets(string1)\n",
    "result2 = contains_only_alphabets(string2)\n",
    "result3 = contains_only_alphabets(string3)\n",
    "\n",
    "\n",
    "print(f\"'{string1}' contains only alphabets:\", result1)\n",
    "print(f\"'{string2}' contains only alphabets:\", result2)\n",
    "print(f\"'{string3}' contains only alphabets:\", result3)"
   ]
  },
  {
   "cell_type": "code",
   "execution_count": 21,
   "id": "c1bd372c-93bb-48e6-bf1b-941ae94d3acc",
   "metadata": {},
   "outputs": [
    {
     "name": "stdout",
     "output_type": "stream",
     "text": [
      "Original string: Pwskills\n",
      "List of characters: ['P', 'w', 's', 'k', 'i', 'l', 'l', 's']\n"
     ]
    }
   ],
   "source": [
    "# ques 40\n",
    "def string_to_list(input_string):\n",
    "    \n",
    "    char_list = list(input_string)\n",
    "    return char_list\n",
    "\n",
    "\n",
    "input_str = \"Pwskills\"\n",
    "\n",
    "\n",
    "char_list = string_to_list(input_str)\n",
    "\n",
    "\n",
    "print(\"Original string:\", input_str)\n",
    "print(\"List of characters:\", char_list)"
   ]
  },
  {
   "cell_type": "code",
   "execution_count": 26,
   "id": "8fd8c54e-49a7-4d74-a836-794a9139bb36",
   "metadata": {},
   "outputs": [
    {
     "name": "stdout",
     "output_type": "stream",
     "text": [
      "'race' and 'care' are anagrams: True\n",
      "'pwskills' and 'ineuron' are anagrams: False\n"
     ]
    }
   ],
   "source": [
    "# ques 41\n",
    "def are_anagrams(str1, str2):\n",
    "    \n",
    "    str1 = str1.replace(\" \", \"\").lower()\n",
    "    str2 = str2.replace(\" \", \"\").lower()\n",
    "\n",
    "    \n",
    "    return sorted(str1) == sorted(str2)\n",
    "\n",
    "\n",
    "string1 = \"race\"\n",
    "string2 = \"care\"\n",
    "string3 = \"pwskills\"\n",
    "string4 = \"ineuron\"\n",
    "\n",
    "\n",
    "result1 = are_anagrams(string1, string2)\n",
    "result2 = are_anagrams(string3, string4)\n",
    "\n",
    "\n",
    "print(f\"'{string1}' and '{string2}' are anagrams:\", result1)\n",
    "print(f\"'{string3}' and '{string4}' are anagrams:\", result2)"
   ]
  },
  {
   "cell_type": "code",
   "execution_count": 44,
   "id": "7b79ad5b-3696-4277-b4d8-6988c3add909",
   "metadata": {},
   "outputs": [
    {
     "name": "stdout",
     "output_type": "stream",
     "text": [
      "Encoded text: qklv lv pb vhfrqg dvvljqphqw\n"
     ]
    }
   ],
   "source": [
    "#ques 42\n",
    "def caesar_cipher(text, shift):\n",
    "    encoded_text = \"\"\n",
    "    for char in text:\n",
    "        if char.isalpha():\n",
    "         encoded_char = chr((ord(char) + shift - ord('a')) % 26 + ord('a'))\n",
    "        else:\n",
    "            encoded_char = char\n",
    "        encoded_text += encoded_char\n",
    "    return encoded_text\n",
    "text = \"This is my second assignment\"\n",
    "shift = 3\n",
    "encoded_text = caesar_cipher(text, shift)\n",
    "print(\"Encoded text:\", encoded_text)\n",
    "        "
   ]
  },
  {
   "cell_type": "code",
   "execution_count": 50,
   "id": "9c1f23a6-4dda-474f-bb0d-25b8363f5998",
   "metadata": {},
   "outputs": [
    {
     "name": "stdout",
     "output_type": "stream",
     "text": [
      "Encoded text: mzvnloov\n"
     ]
    }
   ],
   "source": [
    "# ques 42\n",
    "def caesar_cipher(text, shift):\n",
    "\n",
    "  \n",
    "  encoded_text = \"\"\n",
    "\n",
    "  \n",
    "  for char in text:\n",
    "    \n",
    "    if char.isalpha():\n",
    "      \n",
    "      encoded_char = chr((ord(char) + shift - ord('a')) % 26 + ord('a'))\n",
    "    else:\n",
    "      \n",
    "      encoded_char = char\n",
    "\n",
    "    \n",
    "    encoded_text += encoded_char\n",
    "\n",
    "  \n",
    "  return encoded_text\n",
    "\n",
    "text = \"Pwskills\"\n",
    "shift = 3\n",
    "\n",
    "\n",
    "encoded_text = caesar_cipher(text, shift)\n",
    "\n",
    "\n",
    "print(\"Encoded text:\", encoded_text)"
   ]
  },
  {
   "cell_type": "code",
   "execution_count": 52,
   "id": "9e54dbac-72c7-4636-a196-f5b3b00111c8",
   "metadata": {},
   "outputs": [
    {
     "name": "stdout",
     "output_type": "stream",
     "text": [
      "Decoded text: jwskills\n"
     ]
    }
   ],
   "source": [
    "# ques 43\n",
    "def caesar_cipher_decoder(text, shift):\n",
    "    \n",
    "\n",
    "    \n",
    "    decoded_text = \"\"\n",
    "\n",
    "    \n",
    "    for char in text:\n",
    "        \n",
    "        if char.isalpha():\n",
    "            \n",
    "            decoded_char = chr((ord(char) - shift - ord('a')) % 26 + ord('a'))\n",
    "        else:\n",
    "           \n",
    "            decoded_char = char\n",
    "\n",
    "        \n",
    "        decoded_text += decoded_char\n",
    "\n",
    "    \n",
    "    return decoded_text\n",
    "\n",
    "text = \"mzvnloov\"\n",
    "shift = 3\n",
    "\n",
    "\n",
    "decoded_text = caesar_cipher_decoder(text, shift)\n",
    "\n",
    "\n",
    "print(\"Decoded text:\", decoded_text)"
   ]
  },
  {
   "cell_type": "code",
   "execution_count": 57,
   "id": "64f2dfbc-f5aa-4e5f-b0a9-625d2e707d3a",
   "metadata": {},
   "outputs": [
    {
     "name": "stdout",
     "output_type": "stream",
     "text": [
      "Most frequent word: is\n"
     ]
    }
   ],
   "source": [
    "# ques 44\n",
    "import re\n",
    "from collections import Counter\n",
    "\n",
    "def most_frequent_word(input_string):\n",
    "    \n",
    "    clean_string = re.sub(r'[^\\w\\s]', '', input_string).lower()\n",
    "\n",
    "    \n",
    "    words = clean_string.split()\n",
    "\n",
    "    \n",
    "    word_counter = Counter(words)\n",
    "\n",
    "    \n",
    "    most_common_word = word_counter.most_common(1)[0][0]\n",
    "\n",
    "\n",
    "\n",
    "\n",
    "    return most_common_word\n",
    "\n",
    "\n",
    "input_str = \"Hello this is my second assignmnet , my name is xyz\"\n",
    "\n",
    "\n",
    "most_common = most_frequent_word(input_str)\n",
    "\n",
    "\n",
    "print(\"Most frequent word:\", most_common)"
   ]
  },
  {
   "cell_type": "code",
   "execution_count": 59,
   "id": "9c8c9f07-4c8c-4f49-ba29-2557051048a9",
   "metadata": {},
   "outputs": [
    {
     "name": "stdout",
     "output_type": "stream",
     "text": [
      "Unique words: {'my', 'this', 'assignmnet', 'second', 'xyz', 'hello', 'name', 'is'}\n"
     ]
    }
   ],
   "source": [
    "# ques 45\n",
    "import re\n",
    "\n",
    "def unique_words(input_string):\n",
    "    \n",
    "    clean_string = re.sub(r'[^\\w\\s]', '', input_string).lower()\n",
    "\n",
    "    \n",
    "    words = set(clean_string.split())\n",
    "\n",
    "    return words\n",
    "\n",
    "input_str = \"Hello this is my second assignmnet , my name is xyz\"\n",
    "\n",
    "\n",
    "unique_word_set = unique_words(input_str)\n",
    "\n",
    "\n",
    "print(\"Unique words:\", unique_word_set)"
   ]
  },
  {
   "cell_type": "code",
   "execution_count": 61,
   "id": "f5048f9b-c352-4501-9df5-9736a9912f1c",
   "metadata": {},
   "outputs": [
    {
     "name": "stdout",
     "output_type": "stream",
     "text": [
      "'pwskills' has 1 syllables.\n",
      "'ineuron' has 3 syllables.\n",
      "'data science' has 4 syllables.\n"
     ]
    }
   ],
   "source": [
    "# ques 46\n",
    "import re\n",
    "\n",
    "def count_syllables(word):\n",
    "    \n",
    "    vowel_groups = re.findall(r'[aeiouy]+', word, re.IGNORECASE)\n",
    "\n",
    "    return len(vowel_groups)\n",
    "\n",
    "\n",
    "word1 = \"pwskills\"\n",
    "word2 = \"ineuron\"\n",
    "word3 = \"data science\"\n",
    "\n",
    "\n",
    "syllables1 = count_syllables(word1)\n",
    "syllables2 = count_syllables(word2)\n",
    "syllables3 = count_syllables(word3)\n",
    "\n",
    "\n",
    "print(f\"'{word1}' has {syllables1} syllables.\")\n",
    "print(f\"'{word2}' has {syllables2} syllables.\")\n",
    "print(f\"'{word3}' has {syllables3} syllables.\")"
   ]
  },
  {
   "cell_type": "code",
   "execution_count": 64,
   "id": "c9ae6517-9d3d-4cfb-bc8e-38055a1e4c84",
   "metadata": {},
   "outputs": [
    {
     "name": "stdout",
     "output_type": "stream",
     "text": [
      "'Hello , this is my second assignment.' contains special characters: True\n",
      "'hello' contains special characters: False\n",
      "'@' contains special characters: True\n"
     ]
    }
   ],
   "source": [
    "# ques 47\n",
    "import re\n",
    "\n",
    "def contains_special_characters(input_string):\n",
    "    \n",
    "    pattern = re.compile(r'[!@#$%^&*()_+{}\\[\\]:;<>,.?~\\\\/]')\n",
    "\n",
    "    \n",
    "    match = pattern.search(input_string)\n",
    "\n",
    "    \n",
    "    return bool(match)\n",
    "\n",
    "\n",
    "string1 = \"Hello , this is my second assignment.\"\n",
    "string2 = \"hello\"\n",
    "string3 = \"@\"\n",
    "\n",
    "\n",
    "result1 = contains_special_characters(string1)\n",
    "result2 = contains_special_characters(string2)\n",
    "result3 = contains_special_characters(string3)\n",
    "\n",
    "\n",
    "print(f\"'{string1}' contains special characters:\", result1)\n",
    "print(f\"'{string2}' contains special characters:\", result2)\n",
    "print(f\"'{string3}' contains special characters:\", result3)"
   ]
  },
  {
   "cell_type": "code",
   "execution_count": 66,
   "id": "4a105284-7eb9-4336-b09c-3636c65631b1",
   "metadata": {},
   "outputs": [
    {
     "name": "stdout",
     "output_type": "stream",
     "text": [
      "Original string: This is second assigment\n",
      "Modified string: This second assigment\n",
      "Removed word: is\n"
     ]
    }
   ],
   "source": [
    "# ques 48\n",
    "def remove_nth_word(input_string, n):\n",
    "    \n",
    "    words = input_string.split()\n",
    "\n",
    "    \n",
    "    if n >= 1 and n <= len(words):\n",
    "        \n",
    "        removed_word = words.pop(n - 1)\n",
    "\n",
    "        \n",
    "        modified_string = ' '.join(words)\n",
    "\n",
    "        return modified_string, removed_word\n",
    "    else:\n",
    "        return None, None\n",
    "\n",
    "\n",
    "input_str = \"This is second assigment\"\n",
    "n_value = 2\n",
    "\n",
    "\n",
    "modified_str, removed_word = remove_nth_word(input_str, n_value)\n",
    "\n",
    "\n",
    "print(\"Original string:\", input_str)\n",
    "if modified_str is not None:\n",
    "    print(\"Modified string:\", modified_str)\n",
    "    print(\"Removed word:\", removed_word)\n",
    "else:\n",
    "    print(\"Invalid n value.\")"
   ]
  },
  {
   "cell_type": "code",
   "execution_count": 40,
   "id": "77a3478a-4d5d-4d2f-81a3-36763eee65e8",
   "metadata": {},
   "outputs": [
    {
     "name": "stdout",
     "output_type": "stream",
     "text": [
      "character added to nth position : pwskills\n"
     ]
    }
   ],
   "source": [
    "# ques 49\n",
    "s = 'pwskils'\n",
    "s1 = s[:5] + 'l' + s[5:]\n",
    "print('character added to nth position :',s1)"
   ]
  },
  {
   "cell_type": "code",
   "execution_count": 68,
   "id": "d0c9d92a-86b9-4119-b9a9-4a29f7c38303",
   "metadata": {},
   "outputs": [
    {
     "name": "stdout",
     "output_type": "stream",
     "text": [
      "['Name', ' Age', ' Country']\n",
      "['Abhishek', ' 24', ' IND']\n",
      "['Sameer', ' 25', ' IND']\n",
      "['Sanjeev', ' 22', ' IND']\n"
     ]
    }
   ],
   "source": [
    "# ques 50 \n",
    "def csv_string_to_list(csv_string):\n",
    "    \n",
    "    lines = csv_string.split('\\n')\n",
    "\n",
    "    \n",
    "    result = []\n",
    "\n",
    "    for line in lines:\n",
    "        \n",
    "        fields = line.split(',')\n",
    "\n",
    "        \n",
    "        result.append(fields)\n",
    "\n",
    "    return result\n",
    "\n",
    "\n",
    "csv_data = \"Name, Age, Country\\nAbhishek, 24, IND\\nSameer, 25, IND\\nSanjeev, 22, IND\"\n",
    "\n",
    "\n",
    "list_of_lists = csv_string_to_list(csv_data)\n",
    "\n",
    "\n",
    "for row in list_of_lists:\n",
    "    print(row)"
   ]
  },
  {
   "cell_type": "code",
   "execution_count": null,
   "id": "22c0cc53-3469-4582-8474-7e66e510b00f",
   "metadata": {},
   "outputs": [],
   "source": []
  },
  {
   "cell_type": "markdown",
   "id": "6fec444c-af93-4505-8a72-31b27ba71dbd",
   "metadata": {},
   "source": [
    "## List based question"
   ]
  },
  {
   "cell_type": "code",
   "execution_count": 77,
   "id": "23a40b3f-7620-45de-9c3f-f04d4a01d37e",
   "metadata": {},
   "outputs": [
    {
     "name": "stdout",
     "output_type": "stream",
     "text": [
      "[1, 2, 3, 4, 5, 6, 7, 8, 9, 10]\n"
     ]
    }
   ],
   "source": [
    "# ques 1\n",
    "l = []\n",
    "for i in range(1,11):\n",
    "    l.append(i)\n",
    "print(l)"
   ]
  },
  {
   "cell_type": "code",
   "execution_count": 4,
   "id": "35351483-b570-430a-b581-cd177411fda1",
   "metadata": {},
   "outputs": [
    {
     "name": "stdout",
     "output_type": "stream",
     "text": [
      "Length of the given lsit : 7\n"
     ]
    }
   ],
   "source": [
    "# ques 2\n",
    "l = [1,5,46,7,5,1,4]\n",
    "count = 0\n",
    "for i in l:\n",
    "    count += 1\n",
    "print('Length of the given lsit :',count)"
   ]
  },
  {
   "cell_type": "code",
   "execution_count": 8,
   "id": "05f53f1c-814f-49c9-9e4a-f3074c5ec209",
   "metadata": {},
   "outputs": [
    {
     "name": "stdout",
     "output_type": "stream",
     "text": [
      "Updated list : [1, 4, 8, 6, 4, 40]\n"
     ]
    }
   ],
   "source": [
    "# ques 3\n",
    "l = [1,4,8,6,4]\n",
    "l1 = 40\n",
    "l.append(l1)\n",
    "print('Updated list :',l)"
   ]
  },
  {
   "cell_type": "code",
   "execution_count": 12,
   "id": "18efbc04-dcab-4e81-90aa-dcd56806d246",
   "metadata": {},
   "outputs": [
    {
     "name": "stdout",
     "output_type": "stream",
     "text": [
      "Updated list : [4, 5, 8, 46, 51, 4]\n"
     ]
    }
   ],
   "source": [
    "# ques 4\n",
    "l = [4,5,8,46,4]\n",
    "l1 = 51\n",
    "l.insert(4,l1)\n",
    "print('Updated list :',l)"
   ]
  },
  {
   "cell_type": "code",
   "execution_count": 13,
   "id": "b2f8c425-638b-4df5-95c4-7068f96e3942",
   "metadata": {},
   "outputs": [
    {
     "name": "stdout",
     "output_type": "stream",
     "text": [
      "Updated list : [1, 4, 5, 45, 4, 5]\n"
     ]
    }
   ],
   "source": [
    "# ques 5\n",
    "l = [1,4,5,12,45,4,5]\n",
    "l.remove(12)\n",
    "print('Updated list :',l)"
   ]
  },
  {
   "cell_type": "code",
   "execution_count": 18,
   "id": "4976c548-9a50-4533-9059-eb64dff58c1c",
   "metadata": {},
   "outputs": [
    {
     "name": "stdout",
     "output_type": "stream",
     "text": [
      "Original list : [45, 477, 54, 12, 4, 1]\n",
      "Updated list : [45, 54, 12, 4, 1]\n",
      "Removed element : 477\n"
     ]
    }
   ],
   "source": [
    "#ques 6\n",
    "l = [45,477,54,12,4,1]\n",
    "print('Original list :',l)\n",
    "element_to_remove = l.pop(1)\n",
    "\n",
    "print('Updated list :',l)\n",
    "print('Removed element :',element_to_remove)\n"
   ]
  },
  {
   "cell_type": "code",
   "execution_count": 19,
   "id": "0323ad66-c029-482e-a016-e395f1a909d0",
   "metadata": {},
   "outputs": [
    {
     "name": "stdout",
     "output_type": "stream",
     "text": [
      "67 is present in the list.\n"
     ]
    }
   ],
   "source": [
    "# ques 7\n",
    "l = [1,4,5,67,5,9,4]\n",
    "element_to_check = 67\n",
    "if element_to_check in  l:\n",
    "    print(f'{element_to_check} is present in the list.')\n",
    "else:\n",
    "    print(f\"{element_to_check} is not present in the list.\")\n",
    "    \n"
   ]
  },
  {
   "cell_type": "code",
   "execution_count": 23,
   "id": "450ba171-f838-4eab-9af6-3cfa6362b500",
   "metadata": {},
   "outputs": [
    {
     "name": "stdout",
     "output_type": "stream",
     "text": [
      "Index of 64 is : 3\n"
     ]
    }
   ],
   "source": [
    "# ques 8\n",
    "l = [1,48,54,64,15,45]\n",
    "element = 64\n",
    "index = l.index(element)\n",
    "print(f\"Index of {element} is : {index}\")\n"
   ]
  },
  {
   "cell_type": "code",
   "execution_count": 24,
   "id": "5fc8bff7-eed6-42b2-9338-aafbec43da87",
   "metadata": {},
   "outputs": [
    {
     "name": "stdout",
     "output_type": "stream",
     "text": [
      "The element 1 is occurs 5 times in the list\n"
     ]
    }
   ],
   "source": [
    "# ques 9\n",
    "l = [1,4,5,41,1,4,21,5,31,41,1,1,1]\n",
    "element = 1\n",
    "occur = l.count(element)\n",
    "print(f\"The element {element} is occurs {occur} times in the list\")"
   ]
  },
  {
   "cell_type": "code",
   "execution_count": 27,
   "id": "4b96541a-ec6a-4ecd-a416-c3fa3a3b4b1f",
   "metadata": {},
   "outputs": [
    {
     "name": "stdout",
     "output_type": "stream",
     "text": [
      "Reversed list : [9, 8, 7, 5, 4, 12, 1]\n"
     ]
    }
   ],
   "source": [
    "# ques 10\n",
    "l = [1,12,4,5,7,8,9]\n",
    "l.reverse()\n",
    "print('Reversed list :',l)"
   ]
  },
  {
   "cell_type": "code",
   "execution_count": 29,
   "id": "35400647-4a11-446a-8c71-77c3b738e106",
   "metadata": {},
   "outputs": [
    {
     "name": "stdout",
     "output_type": "stream",
     "text": [
      "Reversed list ascending order : [4, 4, 7, 7, 9, 21, 84, 461]\n"
     ]
    }
   ],
   "source": [
    "# ques 11\n",
    "l = [9,7,84,21,4,461,4,7]\n",
    "l.sort()\n",
    "print('Reversed list ascending order :',l)"
   ]
  },
  {
   "cell_type": "code",
   "execution_count": 31,
   "id": "cb1b36e3-2f5f-42e7-a1c6-e416fbb2228c",
   "metadata": {},
   "outputs": [
    {
     "name": "stdout",
     "output_type": "stream",
     "text": [
      "Reversed list desending order : [461, 84, 21, 9, 7, 7, 4, 4]\n"
     ]
    }
   ],
   "source": [
    "# ques 12\n",
    "l = [9,7,84,21,4,461,4,7]\n",
    "l.sort(reverse=True)\n",
    "print('Reversed list desending order :',l)"
   ]
  },
  {
   "cell_type": "code",
   "execution_count": 35,
   "id": "ed81897d-1913-4a88-b86a-eccb5f2bd403",
   "metadata": {},
   "outputs": [
    {
     "name": "stdout",
     "output_type": "stream",
     "text": [
      "[2, 4, 6, 8, 10, 12, 14, 16, 18, 20]\n"
     ]
    }
   ],
   "source": [
    "# ques 13\n",
    "l1 = []\n",
    "for i in range(1,21):\n",
    "    if i%2==0:\n",
    "        l1.append(i)\n",
    "print(l1)"
   ]
  },
  {
   "cell_type": "code",
   "execution_count": 36,
   "id": "87d34eda-a150-4fdd-89e4-4bce97fbc92a",
   "metadata": {},
   "outputs": [
    {
     "name": "stdout",
     "output_type": "stream",
     "text": [
      "[1, 3, 5, 7, 9, 11, 13, 15, 17, 19]\n"
     ]
    }
   ],
   "source": [
    "# ques 14\n",
    "l1 = []\n",
    "for i in range(1,21):\n",
    "    if i%2!=0:\n",
    "        l1.append(i)\n",
    "print(l1)"
   ]
  },
  {
   "cell_type": "code",
   "execution_count": 38,
   "id": "2246db91-1fb2-4de5-bc79-ea5cafbe22f3",
   "metadata": {},
   "outputs": [
    {
     "name": "stdout",
     "output_type": "stream",
     "text": [
      "Sum of the element of list : 25\n"
     ]
    }
   ],
   "source": [
    "# ques 15\n",
    "l = [1,4,2,4,8,6]\n",
    "total_sum = sum(l)\n",
    "print('Sum of the all element in list :',total_sum)"
   ]
  },
  {
   "cell_type": "code",
   "execution_count": 39,
   "id": "58ca47f7-1208-4f56-a57d-8b06b0b53aa2",
   "metadata": {},
   "outputs": [
    {
     "name": "stdout",
     "output_type": "stream",
     "text": [
      "Maximum value : 8\n"
     ]
    }
   ],
   "source": [
    "# ques 16\n",
    "l = [1,4,2,4,8,6]\n",
    "max_value = max(l)\n",
    "print('Maximum value :',max_value)"
   ]
  },
  {
   "cell_type": "code",
   "execution_count": 40,
   "id": "5db9cb47-497b-45f0-8398-e65cb45e0435",
   "metadata": {},
   "outputs": [
    {
     "name": "stdout",
     "output_type": "stream",
     "text": [
      "Minimum value : 1\n"
     ]
    }
   ],
   "source": [
    "# ques 17\n",
    "l = [1,4,2,4,8,6]\n",
    "min_value = min(l)\n",
    "print('Minimum value :',min_value)"
   ]
  },
  {
   "cell_type": "code",
   "execution_count": 42,
   "id": "9c04a66b-623b-4b05-b22c-80e84ffb4e4f",
   "metadata": {},
   "outputs": [
    {
     "name": "stdout",
     "output_type": "stream",
     "text": [
      "List of squares : [1, 4, 9, 16, 25, 36, 49, 64, 81, 100]\n"
     ]
    }
   ],
   "source": [
    "# ques 18\n",
    "l1 = []\n",
    "for i in range(1,11):\n",
    "    i = i*i\n",
    "    l1.append(i)\n",
    "print('List of squares :',l1)\n",
    "    "
   ]
  },
  {
   "cell_type": "code",
   "execution_count": 43,
   "id": "39031bd0-3f0f-4781-a4b3-e266128fd99a",
   "metadata": {},
   "outputs": [
    {
     "name": "stdout",
     "output_type": "stream",
     "text": [
      "List of random integers: [24, 4, 30, 51, 94, 45, 74, 36, 62, 29]\n"
     ]
    }
   ],
   "source": [
    "# ques 19\n",
    "import random\n",
    "random_integers = [random.randint(1, 100) for _ in range(10)]\n",
    "print(\"List of random integers:\", random_integers)"
   ]
  },
  {
   "cell_type": "code",
   "execution_count": 46,
   "id": "71a9b1aa-0ae7-4c8e-8ceb-1d98afff1b3e",
   "metadata": {},
   "outputs": [
    {
     "name": "stdout",
     "output_type": "stream",
     "text": [
      "List without duplicates : [1, 4, 5, 7, 9, 11, 49]\n"
     ]
    }
   ],
   "source": [
    "# ques 20\n",
    "l = [11,11,1,1,4,5,7,49,1,9,9]\n",
    "l1 = list(set(l))\n",
    "print('List without duplicates :',l1)"
   ]
  },
  {
   "cell_type": "code",
   "execution_count": 43,
   "id": "88b5ff9e-99a7-4ce3-a210-0392a9cd5051",
   "metadata": {},
   "outputs": [
    {
     "name": "stdout",
     "output_type": "stream",
     "text": [
      "Common elements between two lits : [3, 4]\n"
     ]
    }
   ],
   "source": [
    "# ques 21\n",
    "l1 = [1,2,3,4]\n",
    "l2 = [3,4,5,6]\n",
    "l3 = []\n",
    "for i in l1:\n",
    "    if i in l2:\n",
    "        l3.append(i)\n",
    "print('Common elements between two lits :',l3)\n"
   ]
  },
  {
   "cell_type": "code",
   "execution_count": 55,
   "id": "35a300a6-f19f-4933-af98-392c5eb9ac28",
   "metadata": {},
   "outputs": [
    {
     "name": "stdout",
     "output_type": "stream",
     "text": [
      "Difference between list : [3, 6, 8]\n"
     ]
    }
   ],
   "source": [
    "# ques 22\n",
    "l1 = [1,4,5,6,12,3,1,8,5]\n",
    "l2 = [1,4,5,1,2,4,12,4]\n",
    "different_element = list(set(l1).difference(l2))\n",
    "print('Difference between list :' ,different_element)"
   ]
  },
  {
   "cell_type": "code",
   "execution_count": 56,
   "id": "8cbcff41-bd4c-47c2-91c5-dc10356cf855",
   "metadata": {},
   "outputs": [
    {
     "name": "stdout",
     "output_type": "stream",
     "text": [
      "Merged list [1, 2, 3, 4, 5, 6]\n"
     ]
    }
   ],
   "source": [
    "# ques 23\n",
    "l1 = [1,2,3]\n",
    "l2 = [4,5,6]\n",
    "merge = l1 + l2\n",
    "print('Merged list',merge)"
   ]
  },
  {
   "cell_type": "code",
   "execution_count": 59,
   "id": "e32ae7d2-1843-44b0-b368-f0cd63e313bc",
   "metadata": {},
   "outputs": [
    {
     "name": "stdout",
     "output_type": "stream",
     "text": [
      "Multiplied list : [2, 4, 6]\n"
     ]
    }
   ],
   "source": [
    "# ques 24\n",
    "l = [1,2,3]\n",
    "l1 = []\n",
    "for i in l:\n",
    "    i = i*2\n",
    "    l1.append(i)\n",
    "print('Multiplied list :',l1)"
   ]
  },
  {
   "cell_type": "code",
   "execution_count": 62,
   "id": "33b4ba6b-5ed5-41a4-89b2-aefc949cd74f",
   "metadata": {},
   "outputs": [
    {
     "name": "stdout",
     "output_type": "stream",
     "text": [
      "Filtered list (even number) : [1, 5, 41, 3, 1, 3, 15]\n"
     ]
    }
   ],
   "source": [
    "# ques 25\n",
    "l = [1,2,4,8,6,12,5,41,3,1,3,15]\n",
    "l1 = []\n",
    "for i in l:\n",
    "    if i%2!=0:\n",
    "        l1.append(i)\n",
    "print('Filtered list (even number) :',l1)\n",
    "        "
   ]
  },
  {
   "cell_type": "code",
   "execution_count": 65,
   "id": "a318bd13-ddc2-4c79-a914-b46226efff96",
   "metadata": {},
   "outputs": [
    {
     "name": "stdout",
     "output_type": "stream",
     "text": [
      "List of integers : [2, 5, 6]\n"
     ]
    }
   ],
   "source": [
    "# ques 26\n",
    "l = ['2','5','6']\n",
    "l1 = []\n",
    "for i in l:\n",
    "    i = int(i)\n",
    "    l1.append(i)\n",
    "print('List of integers :',l1)"
   ]
  },
  {
   "cell_type": "code",
   "execution_count": 66,
   "id": "efc08c21-f050-4782-b49a-7b5663626a13",
   "metadata": {},
   "outputs": [
    {
     "name": "stdout",
     "output_type": "stream",
     "text": [
      "List of strings : ['1', '2', '3', '4', '5', '6']\n"
     ]
    }
   ],
   "source": [
    "# ques 27\n",
    "l = [1,2,3,4,5,6]\n",
    "l1 =[]\n",
    "for i in l:\n",
    "    i = str(i)\n",
    "    l1.append(i)\n",
    "print('List of strings :',l1)"
   ]
  },
  {
   "cell_type": "code",
   "execution_count": 68,
   "id": "2301514f-90da-4472-8da7-a8d80d865f55",
   "metadata": {},
   "outputs": [
    {
     "name": "stdout",
     "output_type": "stream",
     "text": [
      "Flattened list: [1, 2, 3, 4, 5, 6, 7, 8, 9]\n"
     ]
    }
   ],
   "source": [
    "# ques 28\n",
    "nested_list = [[1, 2, 3], [4, 5], [6, 7, 8, 9]]\n",
    "def flatten_list(nested):\n",
    "    flattened = []\n",
    "    for sublist in nested:\n",
    "        if isinstance(sublist, list):\n",
    "            flattened.extend(flatten_list(sublist))\n",
    "        else:\n",
    "            flattened.append(sublist)\n",
    "    return flattened\n",
    "flattened_list = flatten_list(nested_list)\n",
    "print(\"Flattened list:\", flattened_list)"
   ]
  },
  {
   "cell_type": "code",
   "execution_count": 79,
   "id": "8e6ab7f3-3411-4b50-9515-75200ff6288b",
   "metadata": {},
   "outputs": [
    {
     "ename": "SyntaxError",
     "evalue": "'return' outside function (2226599204.py, line 6)",
     "output_type": "error",
     "traceback": [
      "\u001b[0;36m  Cell \u001b[0;32mIn[79], line 6\u001b[0;36m\u001b[0m\n\u001b[0;31m    return fib(n-1) + fib(n-2)\u001b[0m\n\u001b[0m    ^\u001b[0m\n\u001b[0;31mSyntaxError\u001b[0m\u001b[0;31m:\u001b[0m 'return' outside function\n"
     ]
    }
   ],
   "source": [
    "# ques 29\n",
    "for i in range(1,10):\n",
    "    if i <=1:\n",
    "            print(n)\n",
    "    else:\n",
    "        return fib(n-1) + fib(n-2)"
   ]
  },
  {
   "cell_type": "code",
   "execution_count": 76,
   "id": "83d7d1a9-8716-4f5e-b349-a4bbae2a7efc",
   "metadata": {},
   "outputs": [
    {
     "data": {
      "text/plain": [
       "10"
      ]
     },
     "execution_count": 76,
     "metadata": {},
     "output_type": "execute_result"
    }
   ],
   "source": []
  },
  {
   "cell_type": "code",
   "execution_count": 2,
   "id": "6722071f-a807-406a-9691-f87e1302d7cf",
   "metadata": {},
   "outputs": [
    {
     "name": "stdout",
     "output_type": "stream",
     "text": [
      "The list is sorted in ascending order.\n"
     ]
    }
   ],
   "source": [
    "# ques 30\n",
    "def is_sorted_ascending(lst):\n",
    "    for i in range(1, len(lst)):\n",
    "        if lst[i] < lst[i - 1]:\n",
    "            return False\n",
    "    return True\n",
    "ascending_list = [1, 2, 3, 4, 5]\n",
    "if is_sorted_ascending(ascending_list):\n",
    "    print(\"The list is sorted in ascending order.\")\n",
    "else:\n",
    "    print(\"The list is not sorted in ascending order.\")"
   ]
  },
  {
   "cell_type": "code",
   "execution_count": 4,
   "id": "f3153924-7e24-46bb-8e28-39c8e62f7dc5",
   "metadata": {},
   "outputs": [
    {
     "name": "stdout",
     "output_type": "stream",
     "text": [
      "Rotated list: [2, 3, 4, 5, 6, 1]\n"
     ]
    }
   ],
   "source": [
    "# ques 31\n",
    "def rotate_left(lst, n):\n",
    "    n = n % len(lst) \n",
    "    rotated = lst[n:] + lst[:n]\n",
    "    return rotated\n",
    "my_list = [1, 2, 3, 4, 5, 6]\n",
    "n = 1\n",
    "\n",
    "rotated_list = rotate_left(my_list, n)\n",
    "\n",
    "print(\"Rotated list:\", rotated_list)\n"
   ]
  },
  {
   "cell_type": "code",
   "execution_count": 6,
   "id": "d0602409-f35b-47d7-919b-e40b37b01866",
   "metadata": {},
   "outputs": [
    {
     "name": "stdout",
     "output_type": "stream",
     "text": [
      "Rotated list: [4, 5, 6, 1, 2, 3]\n"
     ]
    }
   ],
   "source": [
    "# ques 32\n",
    "def rotate_right(lst, n):\n",
    "    n = n % len(lst)  \n",
    "    rotated = lst[-n:] + lst[:-n]\n",
    "    return rotated\n",
    "my_list = [1, 2, 3, 4, 5, 6]\n",
    "n = 3\n",
    "rotated_list = rotate_right(my_list, n)\n",
    "print(\"Rotated list:\", rotated_list)\n"
   ]
  },
  {
   "cell_type": "code",
   "execution_count": 13,
   "id": "83f1fa1a-659a-4b90-8cef-96f114b93ee3",
   "metadata": {},
   "outputs": [
    {
     "name": "stdout",
     "output_type": "stream",
     "text": [
      "List of prime numbers up to 50: [2, 3, 5, 7, 11, 13, 17, 19, 23, 29, 31, 37, 41, 43, 47]\n"
     ]
    }
   ],
   "source": [
    "# ques 33\n",
    "def sieve_of_eratosthenes(limit):\n",
    "    primes = []\n",
    "    is_prime = [True] * (limit + 1)\n",
    "    is_prime[0] = is_prime[1] = False\n",
    "\n",
    "    for num in range(2, int(limit ** 0.5) + 1):\n",
    "        if is_prime[num]:\n",
    "            primes.append(num)\n",
    "            for multiple in range(num * num, limit + 1, num):\n",
    "                is_prime[multiple] = False\n",
    "\n",
    "    for num in range(int(limit ** 0.5) + 1, limit + 1):\n",
    "        if is_prime[num]:\n",
    "            primes.append(num)\n",
    "\n",
    "    return primes\n",
    "\n",
    "prime_numbers = sieve_of_eratosthenes(50)\n",
    "print(\"List of prime numbers up to 50:\", prime_numbers)"
   ]
  },
  {
   "cell_type": "code",
   "execution_count": 47,
   "id": "ac30b0dd-35f1-49f0-9869-cd345b219ac5",
   "metadata": {},
   "outputs": [
    {
     "name": "stdout",
     "output_type": "stream",
     "text": [
      "[0, 1, 2]\n",
      "[3, 4, 5]\n",
      "[6, 7, 8]\n"
     ]
    }
   ],
   "source": [
    "# ques 34\n",
    "my_list = list(range(9))\n",
    "chunk_size = 3\n",
    "while my_list:\n",
    "    chunk, my_list = my_list[:chunk_size], my_list[chunk_size:]\n",
    "    print(chunk)"
   ]
  },
  {
   "cell_type": "code",
   "execution_count": 16,
   "id": "30f3790b-22bf-4849-9ef4-8eba27a9e9d4",
   "metadata": {},
   "outputs": [
    {
     "name": "stdout",
     "output_type": "stream",
     "text": [
      "Second largest number: 41\n"
     ]
    }
   ],
   "source": [
    "# ques 35\n",
    "my_list = [1,5,41,6,84,5]\n",
    "sorted_list = sorted(set(my_list))\n",
    "if len(sorted_list) >= 2:\n",
    "    second_largest = sorted_list[-2]\n",
    "    print(\"Second largest number:\", second_largest)\n",
    "else:\n",
    "    print(\"The list does not contain enough elements.\")"
   ]
  },
  {
   "cell_type": "code",
   "execution_count": 21,
   "id": "0ffbdaf2-8cfa-4082-ba10-3ff538bc17a1",
   "metadata": {},
   "outputs": [
    {
     "name": "stdout",
     "output_type": "stream",
     "text": [
      "List of squares : [4, 16, 36, 64, 100]\n"
     ]
    }
   ],
   "source": [
    "# ques 36\n",
    "my_list = [2, 4, 6, 8, 10]\n",
    "new_list = [ ]\n",
    "for i in my_list:\n",
    "    i = i*i\n",
    "    new_list.append(i)\n",
    "print('List of squares :',new_list)"
   ]
  },
  {
   "cell_type": "code",
   "execution_count": 23,
   "id": "ba581922-2bbf-4cd2-ad30-58181400d1c6",
   "metadata": {},
   "outputs": [
    {
     "name": "stdout",
     "output_type": "stream",
     "text": [
      "Converted dictionary: {'books': 0, 'pen': 1, 'pencils': 2, 'class': 3, 'notebooks': 4}\n"
     ]
    }
   ],
   "source": [
    "# ques 37\n",
    "my_list = ['books', 'pen', 'pencils', 'class', 'notebooks']\n",
    "\n",
    "my_dict = {element: index for index, element in enumerate(my_list)}\n",
    "\n",
    "print(\"Converted dictionary:\", my_dict)"
   ]
  },
  {
   "cell_type": "code",
   "execution_count": 25,
   "id": "7455f913-4989-49cd-9798-54890b12f489",
   "metadata": {},
   "outputs": [
    {
     "name": "stdout",
     "output_type": "stream",
     "text": [
      "Shuffled list: [14, 8, 10, 15, 19, 6, 5, 20, 17, 2, 13, 18, 16, 1, 3, 4, 7, 9, 11, 12]\n"
     ]
    }
   ],
   "source": [
    "# ques 38\n",
    "import random\n",
    "my_list = [1, 2, 3, 4, 5, 6, 7, 8, 9, 10,11,12,13,14,15,16,17,18,19,20]\n",
    "random.shuffle(my_list)\n",
    "print(\"Shuffled list:\", my_list)"
   ]
  },
  {
   "cell_type": "code",
   "execution_count": 26,
   "id": "6a2ffdea-5fd4-4da3-a155-d51f88f77c07",
   "metadata": {},
   "outputs": [
    {
     "name": "stdout",
     "output_type": "stream",
     "text": [
      "List of the first 10 factorial numbers: [1, 1, 2, 6, 24, 120, 720, 5040, 40320, 362880]\n"
     ]
    }
   ],
   "source": [
    "# ques 39\n",
    "def factorial(n):\n",
    "    if n == 0 or n == 1:\n",
    "        return 1\n",
    "    else:\n",
    "        return n * factorial(n - 1)\n",
    "factorial_numbers = [factorial(i) for i in range(10)]\n",
    "print(\"List of the first 10 factorial numbers:\", factorial_numbers)\n"
   ]
  },
  {
   "cell_type": "code",
   "execution_count": 28,
   "id": "4bb63339-f2ba-4efe-a05b-6e9d458a7b80",
   "metadata": {},
   "outputs": [
    {
     "name": "stdout",
     "output_type": "stream",
     "text": [
      "Yes ,The lists have at least one common element.\n"
     ]
    }
   ],
   "source": [
    "# ques 40\n",
    "def has_common_element(list1, list2):\n",
    "    for item in list1:\n",
    "        if item in list2:\n",
    "            return True\n",
    "    return False\n",
    "list1 = [1, 2, 3, 4, 5]\n",
    "list2 = [4, 5, 6, 7, 8]\n",
    "if has_common_element(list1, list2):\n",
    "    print(\"Yes ,The lists have at least one common element.\")\n",
    "else:\n",
    "    print(\"The lists do not have any common elements.\")"
   ]
  },
  {
   "cell_type": "code",
   "execution_count": 29,
   "id": "1c5f1091-dbaf-4f19-865e-80a9cc2894ab",
   "metadata": {},
   "outputs": [
    {
     "name": "stdout",
     "output_type": "stream",
     "text": [
      "Empty list: []\n"
     ]
    }
   ],
   "source": [
    "# ques 41\n",
    "l = [1, 2, 3, 4, 5]\n",
    "l.clear()\n",
    "print(\"Empty list:\", l)\n"
   ]
  },
  {
   "cell_type": "code",
   "execution_count": 30,
   "id": "28be726b-29f9-4062-9dfd-19a15e031fb2",
   "metadata": {},
   "outputs": [
    {
     "name": "stdout",
     "output_type": "stream",
     "text": [
      "List after replacing negative numbers with 0: [10, 0, 20, 0, 30, 0]\n"
     ]
    }
   ],
   "source": [
    "# ques 42\n",
    "my_list = [10, -5, 20, -15, 30, -25]\n",
    "for i in range(len(my_list)):\n",
    "    if my_list[i] < 0:\n",
    "        my_list[i] = 0\n",
    "print(\"List after replacing negative numbers with 0:\", my_list)"
   ]
  },
  {
   "cell_type": "code",
   "execution_count": 31,
   "id": "6cfd2adb-3e55-44fa-8fdc-70917d28c676",
   "metadata": {},
   "outputs": [
    {
     "name": "stdout",
     "output_type": "stream",
     "text": [
      "List of words: ['Hello,', 'this', 'is', 'a', 'sample', 'sentence.']\n"
     ]
    }
   ],
   "source": [
    "# ques 43\n",
    "my_string = \"Hello, this is a sample sentence.\"\n",
    "word_list = my_string.split()\n",
    "print(\"List of words:\", word_list)"
   ]
  },
  {
   "cell_type": "code",
   "execution_count": 32,
   "id": "a6903325-b3b7-416d-99db-39061382d883",
   "metadata": {},
   "outputs": [
    {
     "name": "stdout",
     "output_type": "stream",
     "text": [
      "Converted string: Hello, this is a sample sentence.\n"
     ]
    }
   ],
   "source": [
    "# ques 44\n",
    "word_list = [\"Hello,\", \"this\", \"is\", \"a\", \"sample\", \"sentence.\"]\n",
    "my_string = \" \".join(word_list)\n",
    "print(\"Converted string:\", my_string)"
   ]
  },
  {
   "cell_type": "code",
   "execution_count": 33,
   "id": "291e12b4-cb4c-45f0-8b12-1bb846b8d091",
   "metadata": {},
   "outputs": [
    {
     "name": "stdout",
     "output_type": "stream",
     "text": [
      "List of the first 5 powers of 2: [1, 2, 4, 8, 16]\n"
     ]
    }
   ],
   "source": [
    "# ques 45\n",
    "n = 5\n",
    "power_list = [2 ** i for i in range(n)]\n",
    "print(\"List of the first\", n, \"powers of 2:\", power_list)"
   ]
  },
  {
   "cell_type": "code",
   "execution_count": 35,
   "id": "4dec31ad-46e3-4218-8b31-b28952ebe962",
   "metadata": {},
   "outputs": [
    {
     "name": "stdout",
     "output_type": "stream",
     "text": [
      "Longest string: machine learning\n"
     ]
    }
   ],
   "source": [
    "# ques 46\n",
    "string_list = [\"pwskills\", \"ineuron\", \"data science\", \"python\", \"machine learning\"]\n",
    "longest_string = \"\"\n",
    "for s in string_list:\n",
    "    if len(s) > len(longest_string):\n",
    "        longest_string = s\n",
    "print(\"Longest string:\", longest_string)\n"
   ]
  },
  {
   "cell_type": "code",
   "execution_count": 36,
   "id": "529abdff-2401-4039-91c7-e4e7a7befc21",
   "metadata": {},
   "outputs": [
    {
     "name": "stdout",
     "output_type": "stream",
     "text": [
      "Shortest string: python\n"
     ]
    }
   ],
   "source": [
    "# ques 47\n",
    "string_list = [\"pwskills\", \"ineuron\", \"data science\", \"python\", \"machine learning\"]\n",
    "shortest_string = string_list[0] \n",
    "for s in string_list:\n",
    "    if len(s) < len(shortest_string):\n",
    "        shortest_string = s\n",
    "print(\"Shortest string:\", shortest_string)\n"
   ]
  },
  {
   "cell_type": "code",
   "execution_count": 38,
   "id": "f69e9b9e-2cdc-40a2-9b92-a87db470205c",
   "metadata": {},
   "outputs": [
    {
     "name": "stdout",
     "output_type": "stream",
     "text": [
      "List of the first 10 triangular numbers: [1, 3, 6, 10, 15, 21, 28, 36, 45, 55]\n"
     ]
    }
   ],
   "source": [
    "# ques 48\n",
    "def triangular_numbers(n):\n",
    "    return [i * (i + 1) // 2 for i in range(1, n + 1)]\n",
    "n = 10\n",
    "triangular_list = triangular_numbers(n)\n",
    "print(\"List of the first\", n, \"triangular numbers:\", triangular_list)"
   ]
  },
  {
   "cell_type": "code",
   "execution_count": 41,
   "id": "6b4f4f2b-b4a8-4095-b166-11956b390192",
   "metadata": {},
   "outputs": [
    {
     "name": "stdout",
     "output_type": "stream",
     "text": [
      "Main list does not contain the subsequence.\n"
     ]
    }
   ],
   "source": [
    "# ques 49\n",
    "def is_subsequence(subsequence, main_list):\n",
    "    subseq_index = 0  \n",
    "    for element in main_list:\n",
    "        if element == subsequence[subseq_index]:\n",
    "            subseq_index += 1\n",
    "            if subseq_index == len(subsequence):\n",
    "                return True\n",
    "    return False\n",
    "main_list = [1, 2, 3, 4, 5, 6, 7]\n",
    "subsequence = [3, 5, 8]\n",
    "if is_subsequence(subsequence, main_list):\n",
    "    print(\"Main list contains the subsequence.\")\n",
    "else:\n",
    "    print(\"Main list does not contain the subsequence.\")"
   ]
  },
  {
   "cell_type": "code",
   "execution_count": 44,
   "id": "a8a0c586-5312-44a5-bd9d-235f068de742",
   "metadata": {},
   "outputs": [
    {
     "name": "stdout",
     "output_type": "stream",
     "text": [
      "List after swapping elements: [45, 49, 8, 74, 1, 58]\n"
     ]
    }
   ],
   "source": [
    "# ques 50\n",
    "my_list = [45,74,8,49,1,58]\n",
    "index1 = 1\n",
    "index2 = 3\n",
    "temp = my_list[index1]\n",
    "my_list[index1] = my_list[index2]\n",
    "my_list[index2] = temp\n",
    "print(\"List after swapping elements:\", my_list)"
   ]
  },
  {
   "cell_type": "markdown",
   "id": "48f8fa88-b62c-401a-a16e-3c0bc82c19fe",
   "metadata": {},
   "source": [
    "## Tuple based question"
   ]
  },
  {
   "cell_type": "code",
   "execution_count": 2,
   "id": "257ae54d-4a43-437b-bbd2-71d6e43bc550",
   "metadata": {},
   "outputs": [],
   "source": [
    "# ques 1\n",
    "t = (1,2,3,4,5)"
   ]
  },
  {
   "cell_type": "code",
   "execution_count": 47,
   "id": "44dc0125-df0d-411a-940d-fd3a08528066",
   "metadata": {},
   "outputs": [
    {
     "name": "stdout",
     "output_type": "stream",
     "text": [
      "Third element is : 3\n"
     ]
    }
   ],
   "source": [
    "# ques 2\n",
    "t3 = t[2]\n",
    "print('Third element is :',t3)"
   ]
  },
  {
   "cell_type": "code",
   "execution_count": 3,
   "id": "a76bfbbb-c074-4a2d-99be-b14e8f391965",
   "metadata": {},
   "outputs": [
    {
     "name": "stdout",
     "output_type": "stream",
     "text": [
      "The lenght of tuple is : 5\n"
     ]
    }
   ],
   "source": [
    "# ques 3\n",
    "count = 0\n",
    "for i in t:\n",
    "    count += 1\n",
    "print('The lenght of tuple is :',count)"
   ]
  },
  {
   "cell_type": "code",
   "execution_count": 6,
   "id": "f551b29f-7e71-416a-b956-f371033b73fd",
   "metadata": {},
   "outputs": [
    {
     "name": "stdout",
     "output_type": "stream",
     "text": [
      "Element 2 is occurs 4 times in the tuple\n"
     ]
    }
   ],
   "source": [
    "# ques 4\n",
    "t = (1,2,45,8,41,2,41,21,2,1,2)\n",
    "count = 0\n",
    "ele_count = 2\n",
    "for i in t:\n",
    "    if i == ele_count:\n",
    "        count += 1\n",
    "print(f'Element {ele_count} is occurs {count} times in the tuple')"
   ]
  },
  {
   "cell_type": "code",
   "execution_count": 7,
   "id": "757c42cd-0d0a-4ed7-be92-c8b4490f5040",
   "metadata": {},
   "outputs": [
    {
     "name": "stdout",
     "output_type": "stream",
     "text": [
      "The first occurrence of 51 is at index 3.\n"
     ]
    }
   ],
   "source": [
    "# ques 5\n",
    "my_tuple = (1,5,41,51,31,4,8,51,21,54)\n",
    "element_to_find = 51\n",
    "index = -1\n",
    "for i, item in enumerate(my_tuple):\n",
    "    if item == element_to_find:\n",
    "        index = i\n",
    "        break  \n",
    "if index != -1:\n",
    "    print(f\"The first occurrence of {element_to_find} is at index {index}.\")\n",
    "else:\n",
    "    print(f\"{element_to_find} is not found in the tuple.\")"
   ]
  },
  {
   "cell_type": "code",
   "execution_count": 8,
   "id": "64c631fc-c530-41af-9d39-53f1f191e2bb",
   "metadata": {},
   "outputs": [
    {
     "name": "stdout",
     "output_type": "stream",
     "text": [
      "Element 41 is present in the tuple\n"
     ]
    }
   ],
   "source": [
    "# ques 6\n",
    "t = (1,5,41,1,3,1,51,41)\n",
    "ele_check = 41\n",
    "if ele_check in t:\n",
    "    print(f'Element {ele_check} is present in the tuple')\n",
    "else:\n",
    "    print(f'Element {ele_check} is not present in the tuple')"
   ]
  },
  {
   "cell_type": "code",
   "execution_count": 9,
   "id": "9671b686-4cc2-4f24-9e9d-c437e03d67b4",
   "metadata": {},
   "outputs": [
    {
     "name": "stdout",
     "output_type": "stream",
     "text": [
      "Tuple : (1, 2, 4, 3, 4)\n",
      "List : [1, 2, 4, 3, 4]\n"
     ]
    }
   ],
   "source": [
    "# ques 7\n",
    "t = (1,2,4,3,4)\n",
    "l = list(t)\n",
    "print('Tuple :', t)\n",
    "print('List :',l)"
   ]
  },
  {
   "cell_type": "code",
   "execution_count": 11,
   "id": "a26c475a-5bef-4554-8e83-22a8ba1b05cd",
   "metadata": {},
   "outputs": [
    {
     "name": "stdout",
     "output_type": "stream",
     "text": [
      "List : [1, 2, 34, 5]\n",
      "Tuple : (1, 2, 34, 5)\n"
     ]
    }
   ],
   "source": [
    "# ques 8\n",
    "l = [1,2,34,5]\n",
    "t = tuple(l)\n",
    "print('List :',l)\n",
    "print('Tuple :',t)"
   ]
  },
  {
   "cell_type": "code",
   "execution_count": 13,
   "id": "4fdfdae2-eb3b-4b23-9fb3-436d9f005ab0",
   "metadata": {},
   "outputs": [
    {
     "name": "stdout",
     "output_type": "stream",
     "text": [
      "Variable 1 : 40\n",
      "Variable 2 : 50\n",
      "Variable 3 : 60\n",
      "Variable 4 : 70\n"
     ]
    }
   ],
   "source": [
    "# ques 9\n",
    "t = (40,50,60,70)\n",
    "var1,var2,var3,var4=t\n",
    "print('Variable 1 :',var1)\n",
    "print('Variable 2 :', var2)\n",
    "print('Variable 3 :', var3)\n",
    "print('Variable 4 :', var4)"
   ]
  },
  {
   "cell_type": "code",
   "execution_count": 15,
   "id": "3d61e1d0-e083-407f-b254-e3b3c6a7e150",
   "metadata": {},
   "outputs": [
    {
     "name": "stdout",
     "output_type": "stream",
     "text": [
      "Tuple of even numbers : (2, 4, 6, 8, 10)\n"
     ]
    }
   ],
   "source": [
    "# ques 10\n",
    "l = []\n",
    "for i in range(1,11):\n",
    "    if i%2==0:\n",
    "        l.append(i)\n",
    "print('Tuple of even numbers :',tuple(l))"
   ]
  },
  {
   "cell_type": "code",
   "execution_count": 16,
   "id": "ca517c7a-2c85-436a-9287-ab0b90aa4c9e",
   "metadata": {},
   "outputs": [
    {
     "name": "stdout",
     "output_type": "stream",
     "text": [
      "Tuple of odd numbers : (1, 3, 5, 7, 9)\n"
     ]
    }
   ],
   "source": [
    "# ques 11\n",
    "l = []\n",
    "for i in range(1,11):\n",
    "    if i%2!=0:\n",
    "        l.append(i)\n",
    "print('Tuple of odd numbers :',tuple(l))"
   ]
  },
  {
   "cell_type": "code",
   "execution_count": 17,
   "id": "95d51119-7bb6-4266-8eba-b007ec976938",
   "metadata": {},
   "outputs": [
    {
     "name": "stdout",
     "output_type": "stream",
     "text": [
      "Concatenated tuple : (1, 2, 3, 7, 8, 9)\n"
     ]
    }
   ],
   "source": [
    "# ques 12\n",
    "t1 = (1,2,3)\n",
    "t2 = (7,8,9)\n",
    "t3 = t1 + t2\n",
    "print('Concatenated tuple :',t3)"
   ]
  },
  {
   "cell_type": "code",
   "execution_count": 19,
   "id": "c88c99e7-fb00-4525-b7f1-10c6668bcdc6",
   "metadata": {},
   "outputs": [
    {
     "name": "stdout",
     "output_type": "stream",
     "text": [
      "Repeated tuple : (1, 2, 1, 2, 1, 2)\n"
     ]
    }
   ],
   "source": [
    "# ques 13\n",
    "t = (1,2)\n",
    "t2 = t*3\n",
    "print('Repeated tuple :',t2)"
   ]
  },
  {
   "cell_type": "code",
   "execution_count": 22,
   "id": "d58c6f4d-0961-4b68-a409-8c2ae8a9451c",
   "metadata": {},
   "outputs": [
    {
     "name": "stdout",
     "output_type": "stream",
     "text": [
      "Tuple is not empty\n"
     ]
    }
   ],
   "source": [
    "# ques 14\n",
    "t1 = (1,2,3)\n",
    "if len(t1) == 0:\n",
    "    print('Tuple is empty')\n",
    "else:\n",
    "    print('Tuple is not empty')"
   ]
  },
  {
   "cell_type": "code",
   "execution_count": 25,
   "id": "9b9ff276-fea7-4317-97d5-4295d4c81897",
   "metadata": {},
   "outputs": [
    {
     "name": "stdout",
     "output_type": "stream",
     "text": [
      "Nested Tuple : ((1, 2, 3), (4, 5, 6), (7, 8, 9))\n"
     ]
    }
   ],
   "source": [
    "# ques 15\n",
    "t = ((1,2,3),(4,5,6),(7,8,9))\n",
    "print('Nested Tuple :',t)"
   ]
  },
  {
   "cell_type": "code",
   "execution_count": 26,
   "id": "8730ee1e-7e0c-4b3e-a33a-1d4c20a32fca",
   "metadata": {},
   "outputs": [
    {
     "name": "stdout",
     "output_type": "stream",
     "text": [
      "First element of tuple : (1, 2, 3)\n"
     ]
    }
   ],
   "source": [
    "# ques 16\n",
    "t = ((1,2,3),(4,5,6),(7,8,9))\n",
    "first_ele = t[0]\n",
    "print('First element of tuple :',first_ele)"
   ]
  },
  {
   "cell_type": "code",
   "execution_count": 28,
   "id": "0d58ac92-1225-4929-b736-01a9aa94fa7f",
   "metadata": {},
   "outputs": [
    {
     "name": "stdout",
     "output_type": "stream",
     "text": [
      "Single element tuple : (12,)\n"
     ]
    }
   ],
   "source": [
    "# ques 17\n",
    "t = (12,)\n",
    "print('Single element tuple :',t)"
   ]
  },
  {
   "cell_type": "code",
   "execution_count": 29,
   "id": "ac4fdf9f-cf43-49f9-a0af-cf4280547ad3",
   "metadata": {},
   "outputs": [
    {
     "name": "stdout",
     "output_type": "stream",
     "text": [
      "tuple1 == tuple2: False\n",
      "tuple1 != tuple2: True\n",
      "tuple1 < tuple2: True\n",
      "tuple1 <= tuple2: True\n",
      "tuple1 > tuple2: False\n",
      "tuple1 >= tuple2: False\n"
     ]
    }
   ],
   "source": [
    "# ques 18\n",
    "tuple1 = (1,2,3)\n",
    "tuple2 = (1,2,4,5,6)\n",
    "print(\"tuple1 == tuple2:\", tuple1 == tuple2)  \n",
    "print(\"tuple1 != tuple2:\", tuple1 != tuple2)  \n",
    "print(\"tuple1 < tuple2:\", tuple1 < tuple2)   \n",
    "print(\"tuple1 <= tuple2:\", tuple1 <= tuple2)  \n",
    "print(\"tuple1 > tuple2:\", tuple1 > tuple2)    \n",
    "print(\"tuple1 >= tuple2:\", tuple1 >= tuple2)  "
   ]
  },
  {
   "cell_type": "code",
   "execution_count": 31,
   "id": "655c8276-5e54-4e07-ae9f-f4189c23e71e",
   "metadata": {},
   "outputs": [
    {
     "ename": "NameError",
     "evalue": "name 't' is not defined",
     "output_type": "error",
     "traceback": [
      "\u001b[0;31m---------------------------------------------------------------------------\u001b[0m",
      "\u001b[0;31mNameError\u001b[0m                                 Traceback (most recent call last)",
      "Cell \u001b[0;32mIn[31], line 4\u001b[0m\n\u001b[1;32m      2\u001b[0m t \u001b[38;5;241m=\u001b[39m (\u001b[38;5;241m1\u001b[39m,\u001b[38;5;241m2\u001b[39m,\u001b[38;5;241m3\u001b[39m,\u001b[38;5;241m4\u001b[39m,\u001b[38;5;241m5\u001b[39m,\u001b[38;5;241m6\u001b[39m)\n\u001b[1;32m      3\u001b[0m \u001b[38;5;28;01mdel\u001b[39;00m t\n\u001b[0;32m----> 4\u001b[0m \u001b[38;5;28mprint\u001b[39m(\u001b[43mt\u001b[49m)\n",
      "\u001b[0;31mNameError\u001b[0m: name 't' is not defined"
     ]
    }
   ],
   "source": [
    "# ques 19\n",
    "t = (1,2,3,4,5,6)\n",
    "del t\n",
    "print(t)"
   ]
  },
  {
   "cell_type": "code",
   "execution_count": 32,
   "id": "63e93e98-56cb-4fa5-9a84-4a95c5ea3866",
   "metadata": {},
   "outputs": [
    {
     "name": "stdout",
     "output_type": "stream",
     "text": [
      "Sliced tuple : (2, 34, 56)\n"
     ]
    }
   ],
   "source": [
    "# ques 20\n",
    "t = (1,2,34,56,4,5)\n",
    "sliced = t[1:4]\n",
    "print('Sliced tuple :',sliced)"
   ]
  },
  {
   "cell_type": "code",
   "execution_count": 34,
   "id": "294c2584-818b-4ede-81ce-4de2aa49b093",
   "metadata": {},
   "outputs": [
    {
     "name": "stdout",
     "output_type": "stream",
     "text": [
      "Maximum value in tuple : 51\n"
     ]
    }
   ],
   "source": [
    "# ques 21\n",
    "t = (1,48,41,51,47,5)\n",
    "max_value = max(t)\n",
    "print('Maximum value in tuple :',max_value)"
   ]
  },
  {
   "cell_type": "code",
   "execution_count": 35,
   "id": "ec2e769f-3a9d-4269-83b1-de4bcdc9fbdd",
   "metadata": {},
   "outputs": [
    {
     "name": "stdout",
     "output_type": "stream",
     "text": [
      "Minimum value in tuple: 1\n"
     ]
    }
   ],
   "source": [
    "# ques 22\n",
    "t = (1,48,41,51,47,5)\n",
    "min_value = min(t)\n",
    "print('Minimum value in tuple:',min_value)"
   ]
  },
  {
   "cell_type": "code",
   "execution_count": 37,
   "id": "424f1f84-d99e-452b-bf60-3c73bd2ee131",
   "metadata": {},
   "outputs": [
    {
     "name": "stdout",
     "output_type": "stream",
     "text": [
      "Tuple of characters : ('p', 'w', 's', 'k', 'i', 'l', 'l', 's')\n"
     ]
    }
   ],
   "source": [
    "# ques 23\n",
    "s = 'pwskills'\n",
    "t = tuple(s)\n",
    "print('Tuple of characters :',t)"
   ]
  },
  {
   "cell_type": "code",
   "execution_count": 38,
   "id": "b19066c7-9789-41c7-b0b6-88ac90b267e2",
   "metadata": {},
   "outputs": [
    {
     "name": "stdout",
     "output_type": "stream",
     "text": [
      "String from tuple : pwskills\n"
     ]
    }
   ],
   "source": [
    "# ques 24\n",
    "t = ('p', 'w', 's', 'k', 'i', 'l', 'l', 's')\n",
    "s = ''.join(t)\n",
    "print('String from tuple :',s)"
   ]
  },
  {
   "cell_type": "code",
   "execution_count": 40,
   "id": "ad808edf-4285-4712-92df-0b78827a648e",
   "metadata": {},
   "outputs": [
    {
     "name": "stdout",
     "output_type": "stream",
     "text": [
      "Multiple data type tuple : (1, 'pwskills', 34.15, True)\n"
     ]
    }
   ],
   "source": [
    "# ques 25\n",
    "t = (1,'pwskills',34.15,True)\n",
    "print('Multiple data type tuple :',t)"
   ]
  },
  {
   "cell_type": "code",
   "execution_count": 42,
   "id": "dd7b18da-c93f-4519-a430-7c250235096c",
   "metadata": {},
   "outputs": [
    {
     "name": "stdout",
     "output_type": "stream",
     "text": [
      "Is tuple 1 and tuple 2 identical? : False\n",
      "Is tuple 1 and tuple 3 identical? : True\n"
     ]
    }
   ],
   "source": [
    "# ques 26\n",
    "t1 = (1,2,3)\n",
    "t2 = (4,5,6)\n",
    "t3 = (1,2,3)\n",
    "case1 = t1 == t2\n",
    "case2 = t1 == t3\n",
    "print('Is tuple 1 and tuple 2 identical? :',case1)\n",
    "print('Is tuple 1 and tuple 3 identical? :',case2)"
   ]
  },
  {
   "cell_type": "code",
   "execution_count": 47,
   "id": "6d7357d3-e6d2-4903-847c-7661562884ea",
   "metadata": {},
   "outputs": [
    {
     "name": "stdout",
     "output_type": "stream",
     "text": [
      "Sorted tuple : (1, 7, 45, 48, 58, 61, 641)\n"
     ]
    }
   ],
   "source": [
    "# ques 27\n",
    "t = (1,7,48,61,641,58,45)\n",
    "sorted_tuple = tuple(sorted(t))\n",
    "print('Sorted tuple :',sorted_tuple)"
   ]
  },
  {
   "cell_type": "code",
   "execution_count": 51,
   "id": "47147956-d4e3-4a38-bd60-d096aeb7c022",
   "metadata": {},
   "outputs": [
    {
     "name": "stdout",
     "output_type": "stream",
     "text": [
      "Tuple of strings : ('1', '7', '48', '61', '641', '58', '45')\n"
     ]
    }
   ],
   "source": [
    "# ques 28\n",
    "t = (1,7,48,61,641,58,45)\n",
    "l = []\n",
    "for i in t:\n",
    "    i = str(i)\n",
    "    l.append(i)\n",
    "print('Tuple of strings :',tuple(l))\n"
   ]
  },
  {
   "cell_type": "code",
   "execution_count": 54,
   "id": "60fe9dd6-f15f-4c3f-818b-6e9146b7b8ed",
   "metadata": {},
   "outputs": [
    {
     "name": "stdout",
     "output_type": "stream",
     "text": [
      "Tuple of integers : (1, 7, 48, 61, 641, 58, 45)\n"
     ]
    }
   ],
   "source": [
    "# ques 29\n",
    "t = ('1', '7', '48', '61', '641', '58', '45')\n",
    "l = []\n",
    "for i in t:\n",
    "    i = int(i)\n",
    "    l.append(i)\n",
    "print('Tuple of integers :',tuple(l))"
   ]
  },
  {
   "cell_type": "code",
   "execution_count": 56,
   "id": "6435085d-fcc5-46cb-86b8-9f6ad82c2b03",
   "metadata": {},
   "outputs": [
    {
     "name": "stdout",
     "output_type": "stream",
     "text": [
      "Merged Tuple : (45, 74, 6, 5, 12, 52, 85, 4)\n"
     ]
    }
   ],
   "source": [
    "# ques 30\n",
    "t1 = (45,74,6,5)\n",
    "t2 = (12,52,85,4)\n",
    "merged_tuple = t1 + t2\n",
    "print('Merged Tuple :',merged_tuple)"
   ]
  },
  {
   "cell_type": "code",
   "execution_count": 58,
   "id": "4829a9f7-801c-404e-8e77-1424c7fbb314",
   "metadata": {},
   "outputs": [
    {
     "name": "stdout",
     "output_type": "stream",
     "text": [
      "Flattened tuple: (11, 42, 113, 44, 58, 46, 557, 158)\n"
     ]
    }
   ],
   "source": [
    "# ques 31\n",
    "def flatten_tuple(nested_tuple):\n",
    "    flattened = []\n",
    "    for item in nested_tuple:\n",
    "        if isinstance(item, tuple):\n",
    "            flattened.extend(flatten_tuple(item))\n",
    "        else:\n",
    "            flattened.append(item)\n",
    "    return flattened\n",
    "nested_tuple = ((11, 42), (113, 44, 58), (46, (557, 158)))\n",
    "flattened_tuple = tuple(flatten_tuple(nested_tuple))\n",
    "print(\"Flattened tuple:\", flattened_tuple)"
   ]
  },
  {
   "cell_type": "code",
   "execution_count": 59,
   "id": "8e49774a-1eab-4c46-9053-189838b81ca9",
   "metadata": {},
   "outputs": [
    {
     "name": "stdout",
     "output_type": "stream",
     "text": [
      "Tuple of the first 5 prime numbers: (2, 3, 5, 7, 11)\n"
     ]
    }
   ],
   "source": [
    "# ques 32\n",
    "def is_prime(num):\n",
    "    if num <= 1:\n",
    "        return False\n",
    "    for i in range(2, int(num ** 0.5) + 1):\n",
    "        if num % i == 0:\n",
    "            return False\n",
    "    return True\n",
    "prime_numbers_list = [num for num in range(2, 100) if is_prime(num)][:5]\n",
    "prime_numbers_tuple = tuple(prime_numbers_list)\n",
    "print(\"Tuple of the first 5 prime numbers:\", prime_numbers_tuple)"
   ]
  },
  {
   "cell_type": "code",
   "execution_count": 62,
   "id": "f2af7363-fd65-4483-a110-2715d0ec4608",
   "metadata": {},
   "outputs": [
    {
     "name": "stdout",
     "output_type": "stream",
     "text": [
      "Tuple is palindrome\n"
     ]
    }
   ],
   "source": [
    "# ques 33\n",
    "t1 = (1,2,3,2,1)\n",
    "if t1 == t1[::-1]:\n",
    "    print('Tuple is palindrome')\n",
    "else:\n",
    "    print(\"Tuple is not palindrome\")"
   ]
  },
  {
   "cell_type": "code",
   "execution_count": 64,
   "id": "0c4bcb2c-ae6b-44ff-9b90-7695ee76faec",
   "metadata": {},
   "outputs": [
    {
     "name": "stdout",
     "output_type": "stream",
     "text": [
      "Tuple of squares : (1, 4, 9, 16, 25)\n"
     ]
    }
   ],
   "source": [
    "# ques 34\n",
    "l =[]\n",
    "for i in range(1,6):\n",
    "    i = i*i\n",
    "    l.append(i)\n",
    "print('Tuple of squares :',tuple(l))"
   ]
  },
  {
   "cell_type": "code",
   "execution_count": 65,
   "id": "6c5f04ea-b915-437c-8230-32cd1f38614f",
   "metadata": {},
   "outputs": [
    {
     "name": "stdout",
     "output_type": "stream",
     "text": [
      "Filtered Tuple : (1, 3, 5, 7, 9)\n"
     ]
    }
   ],
   "source": [
    "# ques 35\n",
    "t = (1,2,3,4,5,6,7,8,9)\n",
    "l = []\n",
    "for i in t:\n",
    "    if i%2!=0:\n",
    "        l.append(i)\n",
    "print('Filtered Tuple :',tuple(l))"
   ]
  },
  {
   "cell_type": "code",
   "execution_count": 66,
   "id": "2e0b735b-c737-4438-9d33-2d36dc7709ec",
   "metadata": {},
   "outputs": [
    {
     "name": "stdout",
     "output_type": "stream",
     "text": [
      "Tuple : (2, 10, 20)\n"
     ]
    }
   ],
   "source": [
    "# ques 36\n",
    "t = (1,5,10)\n",
    "l = []\n",
    "for i in t:\n",
    "    i = i*2\n",
    "    l.append(i)\n",
    "print('Tuple :',tuple(l))"
   ]
  },
  {
   "cell_type": "code",
   "execution_count": 67,
   "id": "21c45e83-8478-4cdc-9de7-7937ee099a15",
   "metadata": {},
   "outputs": [
    {
     "name": "stdout",
     "output_type": "stream",
     "text": [
      "Random tuple: (34, 79, 64, 75, 6, 15, 72, 4, 15, 57)\n"
     ]
    }
   ],
   "source": [
    "# ques 37\n",
    "import random\n",
    "random_tuple = tuple(random.randint(1, 100) for _ in range(10))\n",
    "print(\"Random tuple:\", random_tuple)"
   ]
  },
  {
   "cell_type": "code",
   "execution_count": 68,
   "id": "088ca4fd-a8d5-404d-a039-c0b88f0550fc",
   "metadata": {},
   "outputs": [
    {
     "name": "stdout",
     "output_type": "stream",
     "text": [
      "Is tuple sorted? : True\n"
     ]
    }
   ],
   "source": [
    "# ques 38\n",
    "def is_sorted(tup):\n",
    "    for i in range(len(tup) - 1):\n",
    "        if tup[i] > tup[i + 1]:\n",
    "            return False\n",
    "    return True\n",
    "t = (1,5,48,64)\n",
    "is_sort = is_sorted(t)\n",
    "print('Is tuple sorted? :',is_sort)"
   ]
  },
  {
   "cell_type": "code",
   "execution_count": 71,
   "id": "3a16dbd8-6546-4954-a54c-e29f0cfe299a",
   "metadata": {},
   "outputs": [
    {
     "name": "stdout",
     "output_type": "stream",
     "text": [
      "(45, 11, 211, 13, 41)\n"
     ]
    }
   ],
   "source": [
    "# ques 39\n",
    "def rotate_tuple_left(tup, n):\n",
    "    n = n % len(tup)  \n",
    "    rotated_tuple = tup[n:] + tup[:n]  \n",
    "    return rotated_tuple\n",
    "my_tuple = (11, 211, 13, 41, 45)\n",
    "n_positions = 4\n",
    "result = rotate_tuple_left(my_tuple, n_positions)\n",
    "print(result)\n"
   ]
  },
  {
   "cell_type": "code",
   "execution_count": 72,
   "id": "628ece65-1e1d-4f31-98cc-3396b59ce300",
   "metadata": {},
   "outputs": [
    {
     "name": "stdout",
     "output_type": "stream",
     "text": [
      "(211, 13, 41, 45, 11)\n"
     ]
    }
   ],
   "source": [
    "# ques 40\n",
    "def rotate_tuple_right(tup, n):\n",
    "    n = n % len(tup)  # Ensure n is within the range of tuple length\n",
    "    rotated_tuple = tup[-n:] + tup[:-n]  # Rotate the tuple\n",
    "    return rotated_tuple\n",
    "my_tuple = (11, 211, 13, 41, 45)\n",
    "n_positions = 4\n",
    "result = rotate_tuple_right(my_tuple, n_positions)\n",
    "print(result)"
   ]
  },
  {
   "cell_type": "code",
   "execution_count": 73,
   "id": "6f6c84c4-60e3-43ce-a70d-573eb547a11b",
   "metadata": {},
   "outputs": [
    {
     "name": "stdout",
     "output_type": "stream",
     "text": [
      "(0, 1, 1, 2, 3)\n"
     ]
    }
   ],
   "source": [
    "# ques 41\n",
    "def generate_fibonacci(n):\n",
    "    fibonacci = [0, 1]  \n",
    "    while len(fibonacci) < n:  \n",
    "        next_number = fibonacci[-1] + fibonacci[-2]  \n",
    "        fibonacci.append(next_number)  \n",
    "    return tuple(fibonacci)  \n",
    "fibonacci_tuple = generate_fibonacci(5)\n",
    "print(fibonacci_tuple)"
   ]
  },
  {
   "cell_type": "code",
   "execution_count": 74,
   "id": "8dff24dc-d5ab-4937-b1a8-be02c470205f",
   "metadata": {},
   "outputs": [
    {
     "name": "stdin",
     "output_type": "stream",
     "text": [
      "Enter elements separated by commas:  pwskills,ineuron,data,science\n"
     ]
    },
    {
     "name": "stdout",
     "output_type": "stream",
     "text": [
      "User input tuple: ('pwskills', 'ineuron', 'data', 'science')\n"
     ]
    }
   ],
   "source": [
    "# Ques 42\n",
    "input_str = input(\"Enter elements separated by commas: \")\n",
    "input_list = input_str.split(',')\n",
    "user_tuple = tuple(input_list)\n",
    "print(\"User input tuple:\", user_tuple)"
   ]
  },
  {
   "cell_type": "code",
   "execution_count": 76,
   "id": "ee0b50d2-cd7e-42af-8ce7-70c623be19d8",
   "metadata": {},
   "outputs": [
    {
     "name": "stdout",
     "output_type": "stream",
     "text": [
      "Swapped tuple: (1, 4, 3, 2, 5)\n"
     ]
    }
   ],
   "source": [
    "# ques 43\n",
    "my_tuple = (1, 2, 3, 4, 5)\n",
    "index1 = 1\n",
    "index2 = 3\n",
    "swapped_tuple = tuple(my_tuple[i] if i not in (index1, index2) else my_tuple[index2] if i == index1 else\n",
    "    my_tuple[index1] for i in range(len(my_tuple)))\n",
    "print(\"Swapped tuple:\", swapped_tuple)"
   ]
  },
  {
   "cell_type": "code",
   "execution_count": 78,
   "id": "e5a5b55a-0172-4732-93cc-0c59c6af1276",
   "metadata": {},
   "outputs": [
    {
     "name": "stdout",
     "output_type": "stream",
     "text": [
      "Reversed tuple : (5, 4, 3, 2, 1)\n"
     ]
    }
   ],
   "source": [
    "# ques 44\n",
    "t = (1,2,3,4,5)\n",
    "t2 = t[::-1]\n",
    "print('Reversed tuple :',t2)"
   ]
  },
  {
   "cell_type": "code",
   "execution_count": 82,
   "id": "16e1546e-5cbc-4ac9-a11f-8978d7af565e",
   "metadata": {},
   "outputs": [
    {
     "name": "stdout",
     "output_type": "stream",
     "text": [
      "The tuple of first 5 powers of 2 is : (1, 2, 4, 8, 16)\n"
     ]
    }
   ],
   "source": [
    "# ques 45\n",
    "n = 5\n",
    "l = []\n",
    "for i in range(n):\n",
    "    i = 2**i\n",
    "    l.append(i)\n",
    "print(f'The tuple of first {n} powers of 2 is :',tuple(l))"
   ]
  },
  {
   "cell_type": "code",
   "execution_count": 84,
   "id": "b025c3b1-580f-4b1a-97b7-61951ec4f184",
   "metadata": {},
   "outputs": [
    {
     "name": "stdout",
     "output_type": "stream",
     "text": [
      "Longest string in tuple : data science\n"
     ]
    }
   ],
   "source": [
    "# ques 46\n",
    "t = ('pwskills','ineuron','data science')\n",
    "longest_string = max(t, key = len)\n",
    "print('Longest string in tuple :',largest_string)"
   ]
  },
  {
   "cell_type": "code",
   "execution_count": 85,
   "id": "07aab70a-4c14-42ce-84ae-4a0864a49b82",
   "metadata": {},
   "outputs": [
    {
     "name": "stdout",
     "output_type": "stream",
     "text": [
      "Smallest string in tuple : ineuron\n"
     ]
    }
   ],
   "source": [
    "# ques 47\n",
    "t = ('pwskills','ineuron','data science')\n",
    "smallest_string = min(t, key = len)\n",
    "print('Smallest string in tuple :',smallest_string)"
   ]
  },
  {
   "cell_type": "code",
   "execution_count": 86,
   "id": "6a618456-0f79-47e2-9d95-2b4d4876dbd2",
   "metadata": {},
   "outputs": [
    {
     "name": "stdout",
     "output_type": "stream",
     "text": [
      "Tuple of the first 6 triangular numbers: (1, 3, 6, 10, 15, 21)\n"
     ]
    }
   ],
   "source": [
    "# ques 48\n",
    "n = 6\n",
    "triangular_numbers_tuple = tuple((i * (i + 1)) // 2 for i in range(1, n + 1))\n",
    "print(\"Tuple of the first\", n, \"triangular numbers:\", triangular_numbers_tuple)"
   ]
  },
  {
   "cell_type": "code",
   "execution_count": 90,
   "id": "0a1b741e-8241-4538-b170-60b30b588ecd",
   "metadata": {},
   "outputs": [
    {
     "name": "stdout",
     "output_type": "stream",
     "text": [
      "Main tuple contains subsequence tuple: True\n"
     ]
    }
   ],
   "source": [
    "# ques 49\n",
    "def contains_subsequence(main_tuple, sub_tuple):\n",
    "    sub_length = len(sub_tuple)\n",
    "    for i in range(len(main_tuple) - sub_length + 1):\n",
    "        if main_tuple[i:i+sub_length] == sub_tuple:\n",
    "            return True\n",
    "    return False\n",
    "main_tuple = (1, 2, 3, 4, 5, 6, 7, 8, 9)\n",
    "sub_tuple = (3, 4, 5)\n",
    "contains_subseq = contains_subsequence(main_tuple, sub_tuple)\n",
    "print(\"Main tuple contains subsequence tuple:\", contains_subseq)"
   ]
  },
  {
   "cell_type": "code",
   "execution_count": 4,
   "id": "6f272546-7303-48f0-b6d7-ef25a0fb910b",
   "metadata": {},
   "outputs": [
    {
     "name": "stdout",
     "output_type": "stream",
     "text": [
      "Tuple of alternating 1s and 0s: (0, 1, 0, 1, 0)\n"
     ]
    }
   ],
   "source": [
    "# ques 50\n",
    "n = 5\n",
    "alternating_tuple = tuple(i % 2 for i in range(n))\n",
    "print(\"Tuple of alternating 1s and 0s:\", alternating_tuple)"
   ]
  },
  {
   "cell_type": "code",
   "execution_count": null,
   "id": "89921acd-485a-4ecc-ae0e-708538c21392",
   "metadata": {},
   "outputs": [],
   "source": []
  },
  {
   "cell_type": "markdown",
   "id": "31804001-e1dd-4fea-b037-227a4d3f80f4",
   "metadata": {},
   "source": [
    "## Set based question"
   ]
  },
  {
   "cell_type": "code",
   "execution_count": 2,
   "id": "62c941b8-c8c0-486b-985e-082e397b3e73",
   "metadata": {},
   "outputs": [
    {
     "name": "stdout",
     "output_type": "stream",
     "text": [
      "{1, 2, 3, 4, 5}\n"
     ]
    }
   ],
   "source": [
    "# ques 1\n",
    "s = set()\n",
    "s.add(1)\n",
    "s.add(2)\n",
    "s.add(3)\n",
    "s.add(4)\n",
    "s.add(5)\n",
    "print(s)"
   ]
  },
  {
   "cell_type": "code",
   "execution_count": 5,
   "id": "1bbe13cb-d2f2-4487-905b-3c59a1ce0adc",
   "metadata": {},
   "outputs": [
    {
     "name": "stdout",
     "output_type": "stream",
     "text": [
      "Original set : {1, 2}\n",
      "Updated set : {1, 2, 4}\n"
     ]
    }
   ],
   "source": [
    "# ques 2\n",
    "s  = {1,2}\n",
    "print('Original set :',s)\n",
    "ele_add = 4\n",
    "s.add(ele_add)\n",
    "print('Updated set :',s)"
   ]
  },
  {
   "cell_type": "code",
   "execution_count": 7,
   "id": "13022ee7-98fe-4659-a881-cf88bbe0028e",
   "metadata": {},
   "outputs": [
    {
     "name": "stdout",
     "output_type": "stream",
     "text": [
      "Original set : {1, 2, 4, 5, 6}\n",
      "Updated set : {1, 2, 5, 6}\n"
     ]
    }
   ],
   "source": [
    "# ques 3\n",
    "s = {1,2,4,5,6}\n",
    "print('Original set :',s)\n",
    "ele_remove = 4\n",
    "s.remove(ele_remove)\n",
    "print('Updated set :',s)"
   ]
  },
  {
   "cell_type": "code",
   "execution_count": 11,
   "id": "01cdc9a7-026d-42f7-9237-72a0937ebcfd",
   "metadata": {},
   "outputs": [
    {
     "name": "stdin",
     "output_type": "stream",
     "text": [
      "Enter an element to check : 5\n"
     ]
    },
    {
     "name": "stdout",
     "output_type": "stream",
     "text": [
      "5 exits in set.\n"
     ]
    }
   ],
   "source": [
    "# ques 4\n",
    "s = {1,4,5,6,7,9}\n",
    "ele_check = int(input('Enter an element to check :'))\n",
    "if ele_check in s:\n",
    "    print(f'{ele_check} exits in set.')\n",
    "else:\n",
    "    print(f'{ele_check} does not exist in set.')"
   ]
  },
  {
   "cell_type": "code",
   "execution_count": 13,
   "id": "26e00355-b0a6-486e-86f3-6b2c12f1bfdb",
   "metadata": {},
   "outputs": [
    {
     "name": "stdout",
     "output_type": "stream",
     "text": [
      "Length of set is : 6\n"
     ]
    }
   ],
   "source": [
    "# ques 5\n",
    "s = {1,7,8,6,9,4,6}\n",
    "count = 0\n",
    "for i in s:\n",
    "    count += 1\n",
    "print('Length of set is :',count)"
   ]
  },
  {
   "cell_type": "code",
   "execution_count": 15,
   "id": "ebc3074b-5daa-4445-b960-20cff37d4c69",
   "metadata": {},
   "outputs": [
    {
     "name": "stdout",
     "output_type": "stream",
     "text": [
      "Original set : {1, 4, 8, 9, 10}\n",
      "Updated set after clear : set()\n"
     ]
    }
   ],
   "source": [
    "# ques 6\n",
    "s = {1,4,8,9,10}\n",
    "print('Original set :',s)\n",
    "s.clear()\n",
    "print('Updated set after clear :',s)"
   ]
  },
  {
   "cell_type": "code",
   "execution_count": 17,
   "id": "b968cf29-fc4b-4b54-8d41-9fc12407fff9",
   "metadata": {},
   "outputs": [
    {
     "name": "stdout",
     "output_type": "stream",
     "text": [
      "Set of even number : {2, 4, 6, 8, 10}\n"
     ]
    }
   ],
   "source": [
    "# ques 7\n",
    "s = set()\n",
    "for i in range(1,11):\n",
    "    if i%2==0:\n",
    "        s.add(i)\n",
    "print('Set of even number :',s)"
   ]
  },
  {
   "cell_type": "code",
   "execution_count": 19,
   "id": "9d597123-a6f0-41bf-9ced-3f5f720af542",
   "metadata": {},
   "outputs": [
    {
     "name": "stdout",
     "output_type": "stream",
     "text": [
      "Set of odd number : {1, 3, 5, 7, 9}\n"
     ]
    }
   ],
   "source": [
    "# ques 8\n",
    "s = set()\n",
    "for i in range(1,11):\n",
    "    if i%2!=0:\n",
    "        s.add(i)\n",
    "print('Set of odd number :',s)"
   ]
  },
  {
   "cell_type": "code",
   "execution_count": 21,
   "id": "199221f9-65ad-4b39-b8db-e5d16a1645b7",
   "metadata": {},
   "outputs": [
    {
     "name": "stdout",
     "output_type": "stream",
     "text": [
      "Union of two sets : {1, 2, 3, 5, 7, 9}\n"
     ]
    }
   ],
   "source": [
    "# ques 9\n",
    "s1 = {1,2,3}\n",
    "s2 = {7,5,9}\n",
    "s3 = s1.union(s2)\n",
    "print('Union of two sets :',s3)"
   ]
  },
  {
   "cell_type": "code",
   "execution_count": 24,
   "id": "5c5acc16-60fc-4d90-af29-b43bbdd396c3",
   "metadata": {},
   "outputs": [
    {
     "name": "stdout",
     "output_type": "stream",
     "text": [
      "Intersection of two sets : {3, 7}\n"
     ]
    }
   ],
   "source": [
    "# ques 10\n",
    "s1 = {1,2,3,7,8}\n",
    "s2 = {3,7,5,9,6,10}\n",
    "s3 = s1.intersection(s2)\n",
    "print('Intersection of two sets :',s3)"
   ]
  },
  {
   "cell_type": "code",
   "execution_count": 25,
   "id": "ff1afe1b-cd07-4459-b806-ef088690305e",
   "metadata": {},
   "outputs": [
    {
     "name": "stdout",
     "output_type": "stream",
     "text": [
      "Difference of two sets : {8, 1, 2}\n"
     ]
    }
   ],
   "source": [
    "# ques 11\n",
    "s1 = {1,2,3,7,8}\n",
    "s2 = {3,7,5,9,6,10}\n",
    "s3 = s1.difference(s2)\n",
    "print('Difference of two sets :',s3)"
   ]
  },
  {
   "cell_type": "code",
   "execution_count": 26,
   "id": "7de1a5b5-06cc-423d-ab6d-ae43d95f9d39",
   "metadata": {},
   "outputs": [
    {
     "name": "stdout",
     "output_type": "stream",
     "text": [
      "Is set 1 subset of set 2? : False\n"
     ]
    }
   ],
   "source": [
    "# ques 12\n",
    "s1 = {1,2,3,7,8}\n",
    "s2 = {3,7,5,9,6,10}\n",
    "s3 = s1.issubset(s2)\n",
    "print('Is set 1 subset of set 2? :',s3)"
   ]
  },
  {
   "cell_type": "code",
   "execution_count": 28,
   "id": "aed9e149-32f0-4ba9-b0a3-c383ff2121f9",
   "metadata": {},
   "outputs": [
    {
     "name": "stdout",
     "output_type": "stream",
     "text": [
      "Set 2 is subset of Set 1\n"
     ]
    }
   ],
   "source": [
    "# ques 13\n",
    "s1 = {1,2,3,4,5,6,7}\n",
    "s2 = {4,5}\n",
    "s3 = s1.issuperset(s2)\n",
    "if s3:\n",
    "    print(\"Set 2 is subset of Set 1\")\n",
    "else:\n",
    "    print(\"Set2 is not subset of Set 1\")"
   ]
  },
  {
   "cell_type": "code",
   "execution_count": 30,
   "id": "d8348de9-786b-400e-a0a1-4d571d91417a",
   "metadata": {},
   "outputs": [
    {
     "name": "stdout",
     "output_type": "stream",
     "text": [
      "Original list : [1, 23, 4, 5]\n",
      "Set from list : {1, 4, 5, 23}\n"
     ]
    }
   ],
   "source": [
    "# ques 14\n",
    "l = [1,23,4,5]\n",
    "s = set(l)\n",
    "print('Original list :',l)\n",
    "print('Set from list :',s)"
   ]
  },
  {
   "cell_type": "code",
   "execution_count": 31,
   "id": "87d1ae2e-ef70-426b-bf53-3ccdfa01eae2",
   "metadata": {},
   "outputs": [
    {
     "name": "stdout",
     "output_type": "stream",
     "text": [
      "Original set : {1, 2, 3, 4, 5}\n",
      "List from set : [1, 2, 3, 4, 5]\n"
     ]
    }
   ],
   "source": [
    "# ques 15\n",
    "s = {1,2,3,4,5}\n",
    "l = list(s)\n",
    "print('Original set :',s)\n",
    "print('List from set :',l)"
   ]
  },
  {
   "cell_type": "code",
   "execution_count": 33,
   "id": "63f16c40-2573-4df6-992e-29ee845bfec0",
   "metadata": {},
   "outputs": [
    {
     "name": "stdout",
     "output_type": "stream",
     "text": [
      "Original set: {1, 2, 3, 4}\n",
      "Updated set after removing 1 : {2, 3, 4}\n"
     ]
    }
   ],
   "source": [
    "# ques 16\n",
    "import random\n",
    "s = {1, 2, 3, 4}\n",
    "print(\"Original set:\", s)\n",
    "random_element = random.choice(list(s))\n",
    "s.remove(random_element)\n",
    "print(\"Updated set after removing\", random_element, \":\", s)"
   ]
  },
  {
   "cell_type": "code",
   "execution_count": 34,
   "id": "9546f095-f74b-4b5f-9fea-4e715968c363",
   "metadata": {},
   "outputs": [
    {
     "name": "stdout",
     "output_type": "stream",
     "text": [
      "Original set : {1, 2, 3, 4}\n",
      "Popped element : 1\n",
      "Set after pop : {2, 3, 4}\n"
     ]
    }
   ],
   "source": [
    "# ques 17\n",
    "s = {1, 2, 3, 4}\n",
    "print('Original set :',s)\n",
    "pop_ele = s.pop()\n",
    "print('Popped element :',pop_ele)\n",
    "print('Set after pop :',s)\n"
   ]
  },
  {
   "cell_type": "code",
   "execution_count": 43,
   "id": "99b9424c-3af6-4580-b73c-cb9575a7f0bc",
   "metadata": {},
   "outputs": [
    {
     "name": "stdout",
     "output_type": "stream",
     "text": [
      "Sets dont have common element\n"
     ]
    }
   ],
   "source": [
    "# ques 18\n",
    "s1 = {1,2,3}\n",
    "s2 = {4,6,5}\n",
    "ele_check = s1.intersection(s2)\n",
    "if len(ele_check) > 0:\n",
    "    print('Sets have common element :',ele_check)\n",
    "else :\n",
    "    print(\"Sets dont have common element\")\n"
   ]
  },
  {
   "cell_type": "code",
   "execution_count": 46,
   "id": "89a8a11a-e0a0-48da-987c-410e77241de8",
   "metadata": {},
   "outputs": [
    {
     "name": "stdout",
     "output_type": "stream",
     "text": [
      "Symmetric difference : {2, 3, 4, 5}\n"
     ]
    }
   ],
   "source": [
    "# ques 19\n",
    "s1 = {1,2,3}\n",
    "s2 = {4,1,5}\n",
    "symm_diff = s1 ^ s2\n",
    "print('Symmetric difference :',symm_diff)"
   ]
  },
  {
   "cell_type": "code",
   "execution_count": 49,
   "id": "45d25dd9-6782-4588-bedf-7550b72b31d8",
   "metadata": {},
   "outputs": [
    {
     "name": "stdout",
     "output_type": "stream",
     "text": [
      "Set 1 : {1, 2, 3}\n",
      "Set 2 : {4, 5, 6}\n",
      "Updated set 1 : {1, 2, 3, 4, 5, 6}\n"
     ]
    }
   ],
   "source": [
    "# ques 20\n",
    "s1 = {1,2,3}\n",
    "s2 = {4,6,5}\n",
    "print('Set 1 :',s1)\n",
    "print('Set 2 :',s2)\n",
    "s1.update(s2)\n",
    "print('Updated set 1 :',s1)"
   ]
  },
  {
   "cell_type": "code",
   "execution_count": 2,
   "id": "a4702ffb-d114-4b62-8f28-6007165c5225",
   "metadata": {},
   "outputs": [
    {
     "name": "stdout",
     "output_type": "stream",
     "text": [
      "Set of the first 5 prime numbers: {2, 3, 5, 7, 11}\n"
     ]
    }
   ],
   "source": [
    "# ques 21\n",
    "def is_prime(num):\n",
    "    if num <= 1:\n",
    "        return False\n",
    "    for i in range(2, int(num ** 0.5) + 1):\n",
    "        if num % i == 0:\n",
    "            return False\n",
    "    return True\n",
    "prime_set = set()\n",
    "num = 2\n",
    "while len(prime_set) < 5:\n",
    "    if is_prime(num):\n",
    "        prime_set.add(num)\n",
    "    num += 1\n",
    "print(\"Set of the first 5 prime numbers:\", prime_set)"
   ]
  },
  {
   "cell_type": "code",
   "execution_count": 3,
   "id": "cf54008a-88ae-4968-86ea-30f64a1c3ba3",
   "metadata": {},
   "outputs": [
    {
     "name": "stdout",
     "output_type": "stream",
     "text": [
      "Sets are not identical\n"
     ]
    }
   ],
   "source": [
    "# ques 22\n",
    "s1 = {1,2,3,4}\n",
    "s2 = {4,5,6}\n",
    "if s1 == s2:\n",
    "    print('Sets are identical')\n",
    "else:\n",
    "    print('Sets are not identical')"
   ]
  },
  {
   "cell_type": "code",
   "execution_count": 4,
   "id": "b5ada91c-9c3a-446a-b26a-60d111fa7f6d",
   "metadata": {},
   "outputs": [
    {
     "name": "stdout",
     "output_type": "stream",
     "text": [
      "Frozen set : frozenset({1, 2, 3, 4, 6})\n"
     ]
    }
   ],
   "source": [
    "# ques 23\n",
    "l = [1,2,3,4,6]\n",
    "frozen_set = frozenset(l)\n",
    "print('Frozen set :', frozen_set)"
   ]
  },
  {
   "cell_type": "code",
   "execution_count": 5,
   "id": "66a900fd-1ed1-4fe2-b5dc-f02cb31ea0d3",
   "metadata": {},
   "outputs": [
    {
     "name": "stdout",
     "output_type": "stream",
     "text": [
      "Are the sets disjoint? : False\n"
     ]
    }
   ],
   "source": [
    "# ques 24\n",
    "s1 = {1,2,3,4}\n",
    "s2 = {4,5,6}\n",
    "disj = s1.isdisjoint(s2)\n",
    "print('Are the sets disjoint? :',disj)"
   ]
  },
  {
   "cell_type": "code",
   "execution_count": 6,
   "id": "e939bba3-cd10-4707-ad3b-7551cb77400d",
   "metadata": {},
   "outputs": [
    {
     "name": "stdout",
     "output_type": "stream",
     "text": [
      "Set of squares : {1, 4, 9, 16, 25}\n"
     ]
    }
   ],
   "source": [
    "# ques 25\n",
    "s = set()\n",
    "for i in range(1,6):\n",
    "    i = i*i\n",
    "    s.add(i)\n",
    "print('Set of squares :',s)"
   ]
  },
  {
   "cell_type": "code",
   "execution_count": 8,
   "id": "4aef7a05-52f7-48a3-badb-7db0f1a97f5a",
   "metadata": {},
   "outputs": [
    {
     "name": "stdout",
     "output_type": "stream",
     "text": [
      "Updated set of odd numbers : {1, 85, 15}\n"
     ]
    }
   ],
   "source": [
    "# ques 26\n",
    "d = {1,4,6,2,15,85,6}\n",
    "s = set()\n",
    "for i in d:\n",
    "    if i%2!=0:\n",
    "        s.add(i)\n",
    "print('Updated set of odd numbers :',s)\n",
    "        "
   ]
  },
  {
   "cell_type": "code",
   "execution_count": 11,
   "id": "5b894bf0-2dfd-4d23-ba8d-0b1d345a5213",
   "metadata": {},
   "outputs": [
    {
     "name": "stdout",
     "output_type": "stream",
     "text": [
      "Set after multiplied by 2 : {2, 6, 8, 14, 18}\n"
     ]
    }
   ],
   "source": [
    "# ques 27\n",
    "s = set()\n",
    "s1 = {1,4,9,3,7}\n",
    "for i in s1:\n",
    "    i = i*2\n",
    "    s.add(i)\n",
    "print('Set after multiplied by 2 :',s)"
   ]
  },
  {
   "cell_type": "code",
   "execution_count": 12,
   "id": "3a094190-482d-4bf9-a9f5-7f566d118762",
   "metadata": {},
   "outputs": [
    {
     "name": "stdout",
     "output_type": "stream",
     "text": [
      "Generated set of random numbers: {100, 42, 83, 52}\n"
     ]
    }
   ],
   "source": [
    "# ques 28\n",
    "import random\n",
    "num_random_numbers = 5\n",
    "random_number_set = set()\n",
    "for i in range(num_random_numbers):\n",
    "    random_num = random.randint(1, 100)\n",
    "    random_number_set.add(random_num)\n",
    "print(\"Generated set of random numbers:\", random_number_set)"
   ]
  },
  {
   "cell_type": "code",
   "execution_count": 13,
   "id": "6596e540-5ee9-4c7d-b636-cdaf84f773d9",
   "metadata": {},
   "outputs": [
    {
     "name": "stdout",
     "output_type": "stream",
     "text": [
      "Set is not empty.\n"
     ]
    }
   ],
   "source": [
    "# ques 29\n",
    "s = {1,4,45,6}\n",
    "if len(s) > 0:\n",
    "    print('Set is not empty.')\n",
    "else:\n",
    "    print('Set is empty.')"
   ]
  },
  {
   "cell_type": "code",
   "execution_count": 14,
   "id": "074f86a5-ad57-401d-9f68-d7bebb4aebd0",
   "metadata": {},
   "outputs": [
    {
     "name": "stdout",
     "output_type": "stream",
     "text": [
      "Nested Set: {frozenset({1, 2, 3, 4, 5}), frozenset({6, 7, 8, 9, 10})}\n"
     ]
    }
   ],
   "source": [
    "# ques 30\n",
    "s1 = {1, 2, 3, 4, 5}\n",
    "s2 = {6, 7, 8, 9, 10}\n",
    "frzn_s1 = frozenset(s1)\n",
    "frzn_s2 = frozenset(s2)\n",
    "nested_set = {frzn_s1, frzn_s2}\n",
    "print(\"Nested Set:\", nested_set)"
   ]
  },
  {
   "cell_type": "code",
   "execution_count": 15,
   "id": "6d1c1c6e-8026-4549-9a29-14584c2aa76b",
   "metadata": {},
   "outputs": [
    {
     "name": "stdout",
     "output_type": "stream",
     "text": [
      "Original set {1, 4, 9, 45, 63}\n",
      "Set after discarding element 63 : {1, 4, 9, 45}\n"
     ]
    }
   ],
   "source": [
    "# ques 31\n",
    "s = {1,4,9,63,45}\n",
    "print(\"Original set\",s)\n",
    "ele_disc = 63\n",
    "s.discard(ele_disc)\n",
    "print(\"Set after discarding element\",ele_disc,\":\",s)"
   ]
  },
  {
   "cell_type": "code",
   "execution_count": 16,
   "id": "6a9023e2-4d83-401a-9c82-7042978f3701",
   "metadata": {},
   "outputs": [
    {
     "name": "stdout",
     "output_type": "stream",
     "text": [
      "Set 1: {1, 2, 3, 4, 5}\n",
      "Set 2: {4, 5, 6, 7, 8}\n",
      "Is set1 a subset of set2? False\n",
      "Is set2 a subset of set1? False\n",
      "Intersection: {4, 5}\n",
      "Union: {1, 2, 3, 4, 5, 6, 7, 8}\n",
      "Elements in set1 but not in set2: {1, 2, 3}\n",
      "Elements in set2 but not in set1: {8, 6, 7}\n"
     ]
    }
   ],
   "source": [
    "# ques 32\n",
    "set1 = {1, 2, 3, 4, 5}\n",
    "set2 = {4, 5, 6, 7, 8}\n",
    "is_subset = set1.issubset(set2)\n",
    "is_superset = set1.issuperset(set2)\n",
    "intersection = set1.intersection(set2)\n",
    "union = set1.union(set2)\n",
    "difference1 = set1.difference(set2)\n",
    "difference2 = set2.difference(set1)\n",
    "print(\"Set 1:\", set1)\n",
    "print(\"Set 2:\", set2)\n",
    "print(\"Is set1 a subset of set2?\", is_subset)\n",
    "print(\"Is set2 a subset of set1?\", is_superset)\n",
    "print(\"Intersection:\", intersection)\n",
    "print(\"Union:\", union)\n",
    "print(\"Elements in set1 but not in set2:\", difference1)\n",
    "print(\"Elements in set2 but not in set1:\", difference2)"
   ]
  },
  {
   "cell_type": "code",
   "execution_count": 18,
   "id": "23240619-7916-40df-83bc-86b9f6eb979d",
   "metadata": {},
   "outputs": [
    {
     "name": "stdout",
     "output_type": "stream",
     "text": [
      "Set from string : {'s', 'i', 'k', 'l', 'p', 'w'}\n"
     ]
    }
   ],
   "source": [
    "# ques 33\n",
    "s = 'pwskills'\n",
    "set1 = set(s)\n",
    "print('Set from string :',set1)"
   ]
  },
  {
   "cell_type": "code",
   "execution_count": 19,
   "id": "b352bb51-458f-42e8-a438-06d6142e0c55",
   "metadata": {},
   "outputs": [
    {
     "name": "stdout",
     "output_type": "stream",
     "text": [
      "Original String Set: {'789', '456', '123'}\n",
      "Converted Integer Set: {456, 123, 789}\n"
     ]
    }
   ],
   "source": [
    "# ques 34\n",
    "string_set = {\"123\", \"456\", \"789\"}\n",
    "integer_set = set()\n",
    "for string in string_set:\n",
    "    integer_value = int(string)\n",
    "    integer_set.add(integer_value)\n",
    "print(\"Original String Set:\", string_set)\n",
    "print(\"Converted Integer Set:\", integer_set)"
   ]
  },
  {
   "cell_type": "code",
   "execution_count": 22,
   "id": "7d5f3faf-0694-40d2-bf58-88611f9219cd",
   "metadata": {},
   "outputs": [
    {
     "name": "stdout",
     "output_type": "stream",
     "text": [
      "Original set : {1, 2, 3}\n",
      "Converted set : {'2', '3', '1'}\n"
     ]
    }
   ],
   "source": [
    "# ques 35\n",
    "int_set = {1,2,3}\n",
    "str_set = set()\n",
    "for i in int_set:\n",
    "    str1 = str(i)\n",
    "    str_set.add(str1)\n",
    "print('Original set :',int_set)\n",
    "print('Converted set :',str_set)"
   ]
  },
  {
   "cell_type": "code",
   "execution_count": 27,
   "id": "e7de176d-e2df-4392-ba22-e5c243a711c6",
   "metadata": {},
   "outputs": [
    {
     "name": "stdout",
     "output_type": "stream",
     "text": [
      "Converted set from tuple : {1, 2, 3, 4, 85}\n"
     ]
    }
   ],
   "source": [
    "# ques 36\n",
    "t = (1,2,3,4,85,4)\n",
    "s = set(t)\n",
    "print(\"Converted set from tuple :\",s)"
   ]
  },
  {
   "cell_type": "code",
   "execution_count": 28,
   "id": "f98339ed-545b-43d3-aa01-2ff1c7a3b4b9",
   "metadata": {},
   "outputs": [
    {
     "name": "stdout",
     "output_type": "stream",
     "text": [
      "Converted tuple from set : (1, 2, 5, 46)\n"
     ]
    }
   ],
   "source": [
    "# ques 37\n",
    "s = {1,2,5,46}\n",
    "t = tuple(s)\n",
    "print('Converted tuple from set :',t)"
   ]
  },
  {
   "cell_type": "code",
   "execution_count": 29,
   "id": "d79bcc7b-c9e2-4f34-ad48-5a53cc788d6a",
   "metadata": {},
   "outputs": [
    {
     "name": "stdout",
     "output_type": "stream",
     "text": [
      "Maximum value: 22\n"
     ]
    }
   ],
   "source": [
    "# ques 38\n",
    "my_set = {15, 7, 22, 13, 8}\n",
    "max_value = None\n",
    "for num in my_set:\n",
    "  \n",
    "    if max_value is None or num > max_value:\n",
    "        max_value = num \n",
    "\n",
    "print(\"Maximum value:\", max_value)"
   ]
  },
  {
   "cell_type": "code",
   "execution_count": 30,
   "id": "c41287ce-07b8-4019-a922-616903265b51",
   "metadata": {},
   "outputs": [
    {
     "name": "stdout",
     "output_type": "stream",
     "text": [
      "The minimum value in the set is: 4\n"
     ]
    }
   ],
   "source": [
    "# ques 39\n",
    "number_set = {15, 8, 23, 4, 42, 11}\n",
    "min_value = None\n",
    "\n",
    "for num in number_set:\n",
    "\n",
    "    if min_value is None or num < min_value:\n",
    "        min_value = num\n",
    "\n",
    "print(\"The minimum value in the set is:\", min_value)"
   ]
  },
  {
   "cell_type": "code",
   "execution_count": 31,
   "id": "68dd8488-264f-461f-bd12-8be56a442e81",
   "metadata": {},
   "outputs": [
    {
     "name": "stdout",
     "output_type": "stream",
     "text": [
      "Enter elements for the set (type 'done' to finish):\n"
     ]
    },
    {
     "name": "stdin",
     "output_type": "stream",
     "text": [
      ">  1\n",
      ">  5\n",
      ">  9\n",
      ">  15\n",
      ">  done\n"
     ]
    },
    {
     "name": "stdout",
     "output_type": "stream",
     "text": [
      "Final set: {'15', '5', '9', '1'}\n"
     ]
    }
   ],
   "source": [
    "# ques 40\n",
    "user_set = set()\n",
    "print(\"Enter elements for the set (type 'done' to finish):\")\n",
    "while True:\n",
    "    user_input = input(\"> \") \n",
    "\n",
    "    if user_input.lower() == 'done':\n",
    "        break \n",
    "    user_set.add(user_input)\n",
    "\n",
    "print(\"Final set:\", user_set)"
   ]
  },
  {
   "cell_type": "code",
   "execution_count": 1,
   "id": "ae6deef7-1ae3-4dad-a78b-f5f4f2eb87a4",
   "metadata": {},
   "outputs": [
    {
     "name": "stdout",
     "output_type": "stream",
     "text": [
      "Intersection of two sets is not empty.\n"
     ]
    }
   ],
   "source": [
    "# ques 41\n",
    "s1 = {1,2,3}\n",
    "s2 = {3,4,5}\n",
    "s3 = s1.intersection(s2)\n",
    "if len(s3) ==0:\n",
    "    print('Intersection of two sets is epmty.')\n",
    "else:\n",
    "    print('Intersection of two sets is not empty.')"
   ]
  },
  {
   "cell_type": "code",
   "execution_count": 6,
   "id": "52c13c13-2b3d-4506-8006-a4e64fb94080",
   "metadata": {},
   "outputs": [
    {
     "name": "stdout",
     "output_type": "stream",
     "text": [
      "Set of first five fibbonaci numbers : {0, 1, 2, 3, 5}\n"
     ]
    }
   ],
   "source": [
    "# ques 42\n",
    "s =set()\n",
    "a,b = 0, 1\n",
    "for i in range(6):\n",
    "    s.add(a)\n",
    "    a,b=b,a+b\n",
    "print('Set of first five fibbonaci numbers :',s)"
   ]
  },
  {
   "cell_type": "code",
   "execution_count": 7,
   "id": "8447e1ba-4136-4d11-9183-580ba2b58093",
   "metadata": {},
   "outputs": [
    {
     "name": "stdout",
     "output_type": "stream",
     "text": [
      "Original list with duplicates : [1, 2, 4, 1, 4, 2, 10, 2, 4, 1, 5, 1]\n",
      "Original list with no duplicates : [1, 2, 4, 5, 10]\n"
     ]
    }
   ],
   "source": [
    "# ques 43\n",
    "l = [1,2,4,1,4,2,10,2,4,1,5,1]\n",
    "s = set(l)\n",
    "l1 = list(s)\n",
    "print('Original list with duplicates :',l)\n",
    "print('Original list with no duplicates :',l1)"
   ]
  },
  {
   "cell_type": "code",
   "execution_count": 8,
   "id": "53f0a525-84c5-4a96-9503-54de9e931c8f",
   "metadata": {},
   "outputs": [
    {
     "name": "stdout",
     "output_type": "stream",
     "text": [
      "The sets have the same elements.\n"
     ]
    }
   ],
   "source": [
    "# ques 44\n",
    "def have_same_elements(set1, set2):\n",
    "    sorted_list1 = sorted(list(set1))\n",
    "    sorted_list2 = sorted(list(set2))\n",
    "    return sorted_list1 == sorted_list2\n",
    "set1 = {1, 2, 3, 2, 1}\n",
    "set2 = {3, 1, 2}\n",
    "result = have_same_elements(set1, set2)\n",
    "if result:\n",
    "    print(\"The sets have the same elements.\")\n",
    "else:\n",
    "    print(\"The sets do not have the same elements.\")"
   ]
  },
  {
   "cell_type": "code",
   "execution_count": 12,
   "id": "b790086b-6e6a-46dd-857d-9ec57e16600f",
   "metadata": {},
   "outputs": [
    {
     "name": "stdin",
     "output_type": "stream",
     "text": [
      "Enter the power of 2 : 5\n"
     ]
    },
    {
     "name": "stdout",
     "output_type": "stream",
     "text": [
      "first 5 powers of 2 is : {1, 2, 4, 8, 16}\n"
     ]
    }
   ],
   "source": [
    "# ques 45\n",
    "s = set()\n",
    "n = int(input('Enter the power of 2 :'))\n",
    "for i in range(n):\n",
    "    \n",
    "    i = 2**i\n",
    "    s.add(i)\n",
    "print(f'first {n} powers of 2 is :',s)"
   ]
  },
  {
   "cell_type": "code",
   "execution_count": 15,
   "id": "ba1cca0b-59f9-4b1d-a300-0b0daec33f6e",
   "metadata": {},
   "outputs": [
    {
     "name": "stdout",
     "output_type": "stream",
     "text": [
      "Common Elemensts : [4, 5]\n"
     ]
    }
   ],
   "source": [
    "# ques 46\n",
    "s = {1,2,3,4,5}\n",
    "l = [4,5,6,7,8]\n",
    "s1 = set(l)\n",
    "common_ele = []\n",
    "for i in s:\n",
    "    if i in s1:\n",
    "        common_ele.append(i)\n",
    "print('Common Elemensts :',common_ele)"
   ]
  },
  {
   "cell_type": "code",
   "execution_count": 16,
   "id": "bac828da-a1da-43da-b4ac-6728642aa41c",
   "metadata": {},
   "outputs": [
    {
     "name": "stdin",
     "output_type": "stream",
     "text": [
      "Enter the value of n:  4\n"
     ]
    },
    {
     "name": "stdout",
     "output_type": "stream",
     "text": [
      "The set of the first 4 triangular numbers is: {1, 10, 3, 6}\n"
     ]
    }
   ],
   "source": [
    "# ques 47\n",
    "def generate_triangular_numbers(n):\n",
    "    triangular_numbers = set()  \n",
    "    for i in range(1, n + 1):\n",
    "        triangular_number = i * (i + 1) // 2 \n",
    "        triangular_numbers.add(triangular_number)   \n",
    "    return triangular_numbers\n",
    "n = int(input(\"Enter the value of n: \"))\n",
    "\n",
    "triangular_set = generate_triangular_numbers(n)\n",
    "print(f\"The set of the first {n} triangular numbers is:\", triangular_set)"
   ]
  },
  {
   "cell_type": "code",
   "execution_count": 19,
   "id": "a4f44635-46d2-46eb-a26c-670d64682177",
   "metadata": {},
   "outputs": [
    {
     "name": "stdout",
     "output_type": "stream",
     "text": [
      "Set 2 is subset of set 1\n"
     ]
    }
   ],
   "source": [
    "# ques 48\n",
    "s1 = {1,2,4,5,6}\n",
    "s2 = {4,5,6}\n",
    "s3 = s2.issubset(s1)\n",
    "if s3:\n",
    "    print('Set 2 is subset of set 1')\n",
    "else:\n",
    "    print('set2 is not subset of set 1')"
   ]
  },
  {
   "cell_type": "code",
   "execution_count": 21,
   "id": "893d1f8d-c089-453e-8f2e-118f328bcfc9",
   "metadata": {},
   "outputs": [
    {
     "name": "stdout",
     "output_type": "stream",
     "text": [
      "{0, 1}\n"
     ]
    }
   ],
   "source": [
    "# ques 49\n",
    "def create_alternating_set(n):\n",
    "    alternating_set = set()\n",
    "    for i in range(n):\n",
    "        if i % 2 == 0:\n",
    "            alternating_set.add(1)  \n",
    "        else:\n",
    "            alternating_set.add(0)  \n",
    "\n",
    "    return alternating_set\n",
    "length_n = 10\n",
    "\n",
    "result = create_alternating_set(length_n)\n",
    "print(result)"
   ]
  },
  {
   "cell_type": "code",
   "execution_count": 22,
   "id": "b0068779-7d62-4ae5-b9bd-af653e939e67",
   "metadata": {},
   "outputs": [
    {
     "name": "stdout",
     "output_type": "stream",
     "text": [
      "Merged sets : {1, 2, 3, 4, 5, 6, 7, 8, 9}\n"
     ]
    }
   ],
   "source": [
    "# ques 50\n",
    "s1 = {1,2,3}\n",
    "s2 = {4,5,6}\n",
    "s3 ={7,8,9}\n",
    "merged_set = s1.union(s2,s3)\n",
    "print('Merged sets :',merged_set)"
   ]
  },
  {
   "cell_type": "code",
   "execution_count": null,
   "id": "1c5ff3f9-c5b2-4850-b9f8-d534ff136d59",
   "metadata": {},
   "outputs": [],
   "source": []
  }
 ],
 "metadata": {
  "kernelspec": {
   "display_name": "Python 3 (ipykernel)",
   "language": "python",
   "name": "python3"
  },
  "language_info": {
   "codemirror_mode": {
    "name": "ipython",
    "version": 3
   },
   "file_extension": ".py",
   "mimetype": "text/x-python",
   "name": "python",
   "nbconvert_exporter": "python",
   "pygments_lexer": "ipython3",
   "version": "3.10.8"
  }
 },
 "nbformat": 4,
 "nbformat_minor": 5
}
