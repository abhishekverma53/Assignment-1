{
 "cells": [
  {
   "cell_type": "markdown",
   "id": "134eae01-bc63-454d-9bb7-6e2cce22ff11",
   "metadata": {},
   "source": [
    "# For loop"
   ]
  },
  {
   "cell_type": "raw",
   "id": "34343502-80ce-4221-b2f0-26dabba87067",
   "metadata": {},
   "source": []
  },
  {
   "cell_type": "code",
   "execution_count": 1,
   "id": "0a590205-ebda-43f2-82e9-094e2cca0cee",
   "metadata": {},
   "outputs": [
    {
     "name": "stdout",
     "output_type": "stream",
     "text": [
      "1\n",
      "2\n",
      "3\n",
      "4\n",
      "5\n",
      "6\n",
      "7\n",
      "8\n",
      "9\n",
      "10\n"
     ]
    }
   ],
   "source": [
    "# ques 1\n",
    "for i in range(1,11):\n",
    "    print(i)"
   ]
  },
  {
   "cell_type": "code",
   "execution_count": 5,
   "id": "ed749bb7-37a2-474d-9b1f-fc151ccc95fe",
   "metadata": {},
   "outputs": [],
   "source": [
    "# Ques 2\n",
    "# for loop used when number of iteration is known and while loop used when number of iteration is not known it will run the iteration till boolean value becomes false"
   ]
  },
  {
   "cell_type": "code",
   "execution_count": 51,
   "id": "36b1891c-0897-4ca6-8c26-c7b77ed83205",
   "metadata": {},
   "outputs": [
    {
     "name": "stdout",
     "output_type": "stream",
     "text": [
      "5050\n"
     ]
    }
   ],
   "source": [
    "# ques 3\n",
    "sum1 = 0\n",
    "for i in range(1,101):\n",
    "    sum1 = sum1 + i\n",
    "print(sum1)\n",
    "    "
   ]
  },
  {
   "cell_type": "code",
   "execution_count": 52,
   "id": "8581c90b-27d2-44cd-8cf3-b2f5559182dd",
   "metadata": {},
   "outputs": [
    {
     "name": "stdout",
     "output_type": "stream",
     "text": [
      "1\n",
      "3\n",
      "2\n",
      "4\n",
      "6\n"
     ]
    }
   ],
   "source": [
    "# ques 4\n",
    "# let suppose we have a list l\n",
    "l = [1,3,2,4,6]\n",
    "for i in l:\n",
    "    print(i)"
   ]
  },
  {
   "cell_type": "code",
   "execution_count": 53,
   "id": "2458d8d6-246f-4935-b276-f28f53f5eb72",
   "metadata": {},
   "outputs": [
    {
     "name": "stdout",
     "output_type": "stream",
     "text": [
      "product of the list is : 120\n"
     ]
    }
   ],
   "source": [
    "# ques 5\n",
    "l = [1,2,3,4,5]\n",
    "def prod_list(n):\n",
    "    prod = 1\n",
    "    for i in n:\n",
    "        prod = prod * i\n",
    "    return prod\n",
    "print('product of the list is :',prod_list(l))"
   ]
  },
  {
   "cell_type": "code",
   "execution_count": 57,
   "id": "497d88b7-e123-4217-b118-f1fdec533f6b",
   "metadata": {},
   "outputs": [
    {
     "name": "stdout",
     "output_type": "stream",
     "text": [
      "2\n",
      "4\n",
      "6\n",
      "8\n",
      "10\n",
      "12\n",
      "14\n",
      "16\n",
      "18\n",
      "20\n"
     ]
    }
   ],
   "source": [
    "# ques 6\n",
    "for i in range(1,21):\n",
    "    if i%2==0:\n",
    "        print(i)"
   ]
  },
  {
   "cell_type": "code",
   "execution_count": 73,
   "id": "418a49af-c1a6-4c0a-ad26-8530388afcfc",
   "metadata": {},
   "outputs": [
    {
     "name": "stdin",
     "output_type": "stream",
     "text": [
      "enter the number : 4\n"
     ]
    },
    {
     "name": "stdout",
     "output_type": "stream",
     "text": [
      "factorial of number is : 24\n"
     ]
    }
   ],
   "source": [
    "# ques 7\n",
    "n = int(input('enter the number :'))\n",
    "def fact(n):\n",
    "    \n",
    "    if n<=1:\n",
    "        return 1\n",
    "    else:\n",
    "        return n *fact(n-1)\n",
    "print(\"factorial of number is :\",fact(n))\n",
    "            \n",
    "            \n"
   ]
  },
  {
   "cell_type": "code",
   "execution_count": 1,
   "id": "06da0744-c146-467d-85a8-5d93a2789288",
   "metadata": {},
   "outputs": [
    {
     "name": "stdout",
     "output_type": "stream",
     "text": [
      "p\n",
      "w\n",
      "s\n",
      "k\n",
      "i\n",
      "l\n",
      "l\n",
      "s\n"
     ]
    }
   ],
   "source": [
    "# ques 8\n",
    "s = 'pwskills'\n",
    "for i in s:\n",
    "    print(i)"
   ]
  },
  {
   "cell_type": "code",
   "execution_count": 22,
   "id": "d6f40de9-7f1d-4aff-ad97-5e936f51e056",
   "metadata": {},
   "outputs": [
    {
     "name": "stdout",
     "output_type": "stream",
     "text": [
      "8\n"
     ]
    }
   ],
   "source": [
    "# ques 9\n",
    "l = [1,2,8,4,5,6]\n",
    "l1 = l[0]\n",
    "for i in l:\n",
    "    if i > l1:\n",
    "        l1 = i\n",
    "print(l1)\n",
    "    \n",
    "    "
   ]
  },
  {
   "cell_type": "code",
   "execution_count": 2,
   "id": "2e0ab153-311a-436d-b027-f1385a699803",
   "metadata": {},
   "outputs": [
    {
     "name": "stdout",
     "output_type": "stream",
     "text": [
      "0\n",
      "1\n",
      "1\n",
      "2\n",
      "3\n",
      "5\n",
      "8\n",
      "13\n",
      "21\n",
      "34\n"
     ]
    }
   ],
   "source": [
    "# ques 10\n",
    "first = 0\n",
    "second = 1\n",
    "print(first)\n",
    "print(second)\n",
    "for i in range(1,9):\n",
    "    third = first + second\n",
    "    print(third)\n",
    "    first,second = second,third"
   ]
  },
  {
   "cell_type": "code",
   "execution_count": 3,
   "id": "5f64f302-ccce-4ef8-a46e-8060a57f20ee",
   "metadata": {},
   "outputs": [
    {
     "name": "stdout",
     "output_type": "stream",
     "text": [
      "Number of vowels are: 1\n"
     ]
    }
   ],
   "source": [
    "# ques 11\n",
    "s = 'pwskills'\n",
    "vowels = 0\n",
    "for i in s:\n",
    "    if i=='a' or i=='e' or i == 'i' or i =='o' or i=='u':\n",
    "        vowels += 1\n",
    "        print('Number of vowels are:' ,vowels)"
   ]
  },
  {
   "cell_type": "code",
   "execution_count": 9,
   "id": "9bb0604c-8aac-4c21-9d8e-7c927faab7ae",
   "metadata": {},
   "outputs": [
    {
     "name": "stdin",
     "output_type": "stream",
     "text": [
      "enter the number : 1\n"
     ]
    },
    {
     "name": "stdout",
     "output_type": "stream",
     "text": [
      "1 2 3 4 5 6 7 8 9 10 "
     ]
    }
   ],
   "source": [
    "# ques 12\n",
    "n = int(input('enter the number :'))\n",
    "for j in range(1,11) :\n",
    "    \n",
    "          \n",
    "    print(n*j, end = \" \")\n",
    "              "
   ]
  },
  {
   "cell_type": "code",
   "execution_count": 13,
   "id": "cd2e0f96-edb0-45c1-8fec-ab6dee2b3529",
   "metadata": {},
   "outputs": [
    {
     "data": {
      "text/plain": [
       "[5, 4, 3, 2, 1]"
      ]
     },
     "execution_count": 13,
     "metadata": {},
     "output_type": "execute_result"
    }
   ],
   "source": [
    "# ques 13\n",
    "l= [1,2,3,4,5]\n",
    "l1 = []\n",
    "for i in l:\n",
    "    l1.append(i)\n",
    "l1[::-1]"
   ]
  },
  {
   "cell_type": "code",
   "execution_count": 2,
   "id": "448fc320-f8b7-4bdd-882b-af894998e140",
   "metadata": {},
   "outputs": [
    {
     "data": {
      "text/plain": [
       "[1, 5, 7]"
      ]
     },
     "execution_count": 2,
     "metadata": {},
     "output_type": "execute_result"
    }
   ],
   "source": [
    "# ques 14\n",
    "l1 = [1,4,5,6,7]\n",
    "l2 = [1,5,7,8,9]\n",
    "common = []\n",
    "for i in l1:\n",
    "    if i in l2:\n",
    "        common.append(i)\n",
    "common"
   ]
  },
  {
   "cell_type": "code",
   "execution_count": 13,
   "id": "4f584bcd-d1d7-47eb-a66f-76c37d32d1f2",
   "metadata": {},
   "outputs": [
    {
     "name": "stdout",
     "output_type": "stream",
     "text": [
      "keys : name\n",
      "keys : course\n",
      "values : abhishek\n",
      "values : fsds\n"
     ]
    }
   ],
   "source": [
    "# ques 15\n",
    "d = {'name':'abhishek','course':'fsds'}\n",
    "for i in d.keys():\n",
    "    print('keys :',i)\n",
    "for i in d.values():\n",
    "    print('values :',i)"
   ]
  },
  {
   "cell_type": "code",
   "execution_count": 18,
   "id": "fe41b8ad-dfee-4d53-b16c-38f70990d213",
   "metadata": {},
   "outputs": [
    {
     "name": "stdout",
     "output_type": "stream",
     "text": [
      "GCD of 4 and 8 is: 4\n"
     ]
    }
   ],
   "source": [
    "# ques 16\n",
    "x = 4\n",
    "y = 8\n",
    "if x > y:\n",
    "    x, y = y, x\n",
    "for i in range(1,x+1):\n",
    "    if x%i == 0 and y%i == 0:\n",
    "        gcd = i\n",
    "\n",
    "print(\"GCD of\", x, \"and\", y, \"is:\", gcd)"
   ]
  },
  {
   "cell_type": "code",
   "execution_count": 3,
   "id": "28630ecc-be1e-4686-836b-79a06986709a",
   "metadata": {},
   "outputs": [
    {
     "name": "stdin",
     "output_type": "stream",
     "text": [
      "enter the string : pwskills\n"
     ]
    },
    {
     "name": "stdout",
     "output_type": "stream",
     "text": [
      "string is not palindrome\n"
     ]
    }
   ],
   "source": [
    "# ques 17\n",
    "s = input('enter the string :')\n",
    "s1 = []\n",
    "for i in s:\n",
    "    s1.append(i)\n",
    "if s1 == s1[::-1]:\n",
    "    print('string is palindrome')\n",
    "else:\n",
    "    print('string is not palindrome')"
   ]
  },
  {
   "cell_type": "code",
   "execution_count": 5,
   "id": "590d24e7-37c0-4cf6-98b0-9bf3d9f11992",
   "metadata": {},
   "outputs": [
    {
     "data": {
      "text/plain": [
       "[1, 2, 4, 5, 12]"
      ]
     },
     "execution_count": 5,
     "metadata": {},
     "output_type": "execute_result"
    }
   ],
   "source": [
    "# ques 18\n",
    "l = [1,2,4,1,2,4,12,4,5]\n",
    "l1 = []\n",
    "for i in l:\n",
    "    l1.append(i)\n",
    "list(set(l1))"
   ]
  },
  {
   "cell_type": "code",
   "execution_count": 5,
   "id": "1e7375b1-0526-4bbe-b030-3eef2ecac5cb",
   "metadata": {},
   "outputs": [
    {
     "name": "stdin",
     "output_type": "stream",
     "text": [
      "enter the sentence : this is 19th question\n"
     ]
    },
    {
     "name": "stdout",
     "output_type": "stream",
     "text": [
      "Number of words: 4\n"
     ]
    }
   ],
   "source": [
    "# ques 19\n",
    "sentence = input('enter the sentence :')\n",
    "words = 0\n",
    "for i in sentence:\n",
    "    if i == \" \" or i == \"\\t\" or i == \"\\n\":\n",
    "        words += 1\n",
    "if len(sentence) > 0:\n",
    "    print(\"Number of words:\", words + 1)\n",
    "else:\n",
    "    print(\"Number of words: 0\")"
   ]
  },
  {
   "cell_type": "code",
   "execution_count": 9,
   "id": "d2f2e580-a5f8-4297-b4e4-68923e973f51",
   "metadata": {},
   "outputs": [
    {
     "name": "stdout",
     "output_type": "stream",
     "text": [
      "625\n"
     ]
    }
   ],
   "source": [
    "# ques 20\n",
    "l1 = []\n",
    "for i in range(1,51):\n",
    "    if i%2!=0:\n",
    "        l1.append(i)\n",
    "print(sum(l1))"
   ]
  },
  {
   "cell_type": "code",
   "execution_count": 27,
   "id": "0c2f2390-1732-45cb-bf1b-eb45dc56281a",
   "metadata": {},
   "outputs": [
    {
     "name": "stdin",
     "output_type": "stream",
     "text": [
      "Enter the year : 2024\n"
     ]
    },
    {
     "name": "stdout",
     "output_type": "stream",
     "text": [
      "Given year is leap year\n"
     ]
    }
   ],
   "source": [
    "# ques 21\n",
    "a = int(input('Enter the year :'))\n",
    "for i in range(a,a+1):\n",
    "    if i%4==0 and (i%100!=0 or i%400==0):\n",
    "        print('Given year is leap year')\n",
    "    else:\n",
    "        print('Given year is not a leap year')"
   ]
  },
  {
   "cell_type": "code",
   "execution_count": 61,
   "id": "0156c169-f205-4117-91aa-95bbf66ccf3d",
   "metadata": {},
   "outputs": [],
   "source": [
    "# ques 22\n",
    "def calculate_square_root(number):\n",
    "    if number < 0:\n",
    "        return \"Cannot calculate the square root of a negative number\"\n",
    "    guess = 1\n",
    "    iterations = 100  \n",
    "    for i in range(iterations):\n",
    "        guess = 0.5 * (guess + number / guess)\n",
    "    \n",
    "    return guess"
   ]
  },
  {
   "cell_type": "code",
   "execution_count": 62,
   "id": "4115c549-7b03-415d-b26c-2cb52eb420f3",
   "metadata": {},
   "outputs": [
    {
     "data": {
      "text/plain": [
       "10.0"
      ]
     },
     "execution_count": 62,
     "metadata": {},
     "output_type": "execute_result"
    }
   ],
   "source": [
    "calculate_square_root(100)"
   ]
  },
  {
   "cell_type": "code",
   "execution_count": 67,
   "id": "2e1084d1-a377-488f-821a-46f9910648ae",
   "metadata": {},
   "outputs": [
    {
     "name": "stdout",
     "output_type": "stream",
     "text": [
      "LCM of 20 and 25 is: 100.0\n"
     ]
    }
   ],
   "source": [
    "# ques 23\n",
    "x = 20\n",
    "y = 25\n",
    "if x > y:\n",
    "    x, y = y, x\n",
    "for i in range(1,x+1):\n",
    "    if x%i == 0 and y%i == 0:\n",
    "        gcd = i\n",
    "\n",
    "lcm = (x*y)/gcd\n",
    "\n",
    "print(\"LCM of\", x, \"and\", y, \"is:\", lcm)"
   ]
  },
  {
   "cell_type": "code",
   "execution_count": null,
   "id": "4352e369-51e6-4ff6-90de-85ba2486cf87",
   "metadata": {},
   "outputs": [],
   "source": []
  },
  {
   "cell_type": "markdown",
   "id": "51f0e2e8-96eb-4b9c-8740-5e8e970fcb29",
   "metadata": {},
   "source": [
    "## If else statement"
   ]
  },
  {
   "cell_type": "code",
   "execution_count": 3,
   "id": "dc0faaa0-a3b5-4670-b2ca-463479062830",
   "metadata": {},
   "outputs": [
    {
     "name": "stdin",
     "output_type": "stream",
     "text": [
      "Enter the number : -5\n"
     ]
    },
    {
     "name": "stdout",
     "output_type": "stream",
     "text": [
      "Given number is negative\n"
     ]
    }
   ],
   "source": [
    "# ques 1\n",
    "num = int(input('Enter the number :'))\n",
    "if num < 0:\n",
    "    print('Given number is negative')\n",
    "elif num == 0:\n",
    "    print('Given number is zero')\n",
    "else:\n",
    "    print('Given number is positive')"
   ]
  },
  {
   "cell_type": "code",
   "execution_count": 6,
   "id": "77db2f9b-8148-4b74-98a2-6974d13107b0",
   "metadata": {},
   "outputs": [
    {
     "name": "stdin",
     "output_type": "stream",
     "text": [
      "Enter the number : 5\n"
     ]
    },
    {
     "name": "stdout",
     "output_type": "stream",
     "text": [
      "Given number is odd\n"
     ]
    }
   ],
   "source": [
    "# ques 2\n",
    "num = int(input('Enter the number :'))\n",
    "if num%2==0:\n",
    "    print('Given number is even')\n",
    "else:\n",
    "    print('Given number is odd')"
   ]
  },
  {
   "cell_type": "code",
   "execution_count": 11,
   "id": "f5dda594-b06f-4cce-a25f-9aa2c813f2fc",
   "metadata": {},
   "outputs": [
    {
     "name": "stdin",
     "output_type": "stream",
     "text": [
      "Enter a letter D\n"
     ]
    },
    {
     "name": "stdout",
     "output_type": "stream",
     "text": [
      "Letter isn't A or B or C\n"
     ]
    }
   ],
   "source": [
    "# ques 3\n",
    "letter = input('Enter a letter')\n",
    "if letter == 'A':\n",
    "    print('Letter is A')\n",
    "else:\n",
    "    if letter == 'B':\n",
    "        print('Letter is B')\n",
    "    else:\n",
    "        if letter == 'C':\n",
    "            print('Letter is C')\n",
    "        else:\n",
    "            print(\"Letter isn't A or B or C\")"
   ]
  },
  {
   "cell_type": "code",
   "execution_count": 16,
   "id": "8198b3ab-54d7-4d19-aa2f-4ab4be9f1ca7",
   "metadata": {},
   "outputs": [
    {
     "name": "stdin",
     "output_type": "stream",
     "text": [
      "Enter the first number : 50\n",
      "Enter the second number : 60\n",
      "Enter the third number : 40\n"
     ]
    },
    {
     "name": "stdout",
     "output_type": "stream",
     "text": [
      "second number 60 is the largest number\n"
     ]
    }
   ],
   "source": [
    "# ques 4\n",
    "a = int(input('Enter the first number :'))\n",
    "b = int(input('Enter the second number :'))\n",
    "c = int(input('Enter the third number :'))\n",
    "if a>b and a>c:\n",
    "    print('first number',a,'is the largest number')\n",
    "else:\n",
    "    if b>a and b>c:\n",
    "        print('second number',b,'is the largest number')\n",
    "    else:\n",
    "        if c>b and c>a:\n",
    "            print('third number', c, 'is the largest number')\n"
   ]
  },
  {
   "cell_type": "code",
   "execution_count": 20,
   "id": "a72b7f9e-25fa-4c77-8f64-27a9a570b33b",
   "metadata": {},
   "outputs": [
    {
     "name": "stdin",
     "output_type": "stream",
     "text": [
      "Enter the number : -112\n"
     ]
    },
    {
     "name": "stdout",
     "output_type": "stream",
     "text": [
      "Absolute value of given number -112 is : 112\n"
     ]
    }
   ],
   "source": [
    "# ques 5\n",
    "n = int(input('Enter the number :'))\n",
    "if n >=0:\n",
    "    print('Absolute value of given number',n,'is :',n)\n",
    "else:\n",
    "    print('Absolute value of given number',n,'is :',abs(n))"
   ]
  },
  {
   "cell_type": "code",
   "execution_count": 22,
   "id": "757f3cde-b856-44ea-8abb-659898be0352",
   "metadata": {},
   "outputs": [
    {
     "name": "stdin",
     "output_type": "stream",
     "text": [
      "Enter the character : B\n"
     ]
    },
    {
     "name": "stdout",
     "output_type": "stream",
     "text": [
      "Given character is consonant\n"
     ]
    }
   ],
   "source": [
    "# ques 6\n",
    "a = input('Enter the character :')\n",
    "if a == 'a' or a =='A' or a =='e' or a =='E' or a == 'i' or a == 'I' or a == 'o' or a == 'O' or a == 'u' or a == 'U':\n",
    "    print('Given character is vowel')\n",
    "else:\n",
    "    print('Given character is consonant')"
   ]
  },
  {
   "cell_type": "code",
   "execution_count": 26,
   "id": "93b5f6d5-1edc-4ba1-b215-72948e334129",
   "metadata": {},
   "outputs": [
    {
     "name": "stdin",
     "output_type": "stream",
     "text": [
      "Enter the age of user: 17\n"
     ]
    },
    {
     "name": "stdout",
     "output_type": "stream",
     "text": [
      "User is not eligible to vote\n"
     ]
    }
   ],
   "source": [
    "# ques 7\n",
    "age = int(input('Enter the age of user:'))\n",
    "\n",
    "valid_age = 18\n",
    "if age >= valid_age:\n",
    "          print('User is eligible to vote')\n",
    "else:\n",
    "    print(\"User is not eligible to vote\")\n",
    "        "
   ]
  },
  {
   "cell_type": "code",
   "execution_count": 32,
   "id": "65a0d6c1-9fe5-4000-b7b9-b38716eb57db",
   "metadata": {},
   "outputs": [
    {
     "name": "stdin",
     "output_type": "stream",
     "text": [
      "Enter the total purchase amount : 10000\n"
     ]
    },
    {
     "name": "stdout",
     "output_type": "stream",
     "text": [
      "Final amount after the discount : 9000.0\n"
     ]
    }
   ],
   "source": [
    "# ques 8\n",
    "pur_amount = int(input('Enter the total purchase amount :'))\n",
    "dis_amount = pur_amount * 10/100\n",
    "final_amount = pur_amount - dis_amount\n",
    "if pur_amount >= 5000:\n",
    "    print('Final amount after the discount :',final_amount)\n",
    "else:\n",
    "    print('There is no discount if purchase amount less than 5000 and your final amount is',pur_amount)\n"
   ]
  },
  {
   "cell_type": "code",
   "execution_count": 38,
   "id": "77bb066c-0637-4ce5-b4c1-0f8fc578f381",
   "metadata": {},
   "outputs": [
    {
     "name": "stdin",
     "output_type": "stream",
     "text": [
      "Enter the lower limit : 10\n",
      "Enter the upper limit : 20\n",
      "Enter the number : 25\n"
     ]
    },
    {
     "name": "stdout",
     "output_type": "stream",
     "text": [
      "Number is not within specified range\n"
     ]
    }
   ],
   "source": [
    "# ques 9\n",
    "a = int(input('Enter the lower limit :'))\n",
    "b = int(input('Enter the upper limit :'))\n",
    "i = int(input('Enter the number :'))\n",
    "\n",
    "if a <= i <= b:\n",
    "    print('Number is within specified range')\n",
    "else:\n",
    "    print('Number is not within specified range')"
   ]
  },
  {
   "cell_type": "code",
   "execution_count": 47,
   "id": "2195d50d-3c8b-4658-bac2-2af2fadaf3e5",
   "metadata": {},
   "outputs": [
    {
     "name": "stdin",
     "output_type": "stream",
     "text": [
      "Enter the percentage of student : 74\n"
     ]
    },
    {
     "name": "stdout",
     "output_type": "stream",
     "text": [
      "Student is passed in first division\n"
     ]
    }
   ],
   "source": [
    "# ques 10\n",
    "a = int(input('Enter the percentage of student :'))\n",
    "if 33 <= a < 50:\n",
    "    print('Student is passed in third division')\n",
    "elif 50 <= a < 60:\n",
    "    print('Student is passed in second division')\n",
    "elif 60 <= a < 75:\n",
    "    print('Student is passed in first division' )\n",
    "else:\n",
    "     print('Student is passed in first division with distinction')\n"
   ]
  },
  {
   "cell_type": "code",
   "execution_count": 50,
   "id": "b1c9eddc-ae14-4e89-a739-17d3af080647",
   "metadata": {},
   "outputs": [
    {
     "name": "stdin",
     "output_type": "stream",
     "text": [
      "Enter the string : \n"
     ]
    },
    {
     "name": "stdout",
     "output_type": "stream",
     "text": [
      "String is empty\n"
     ]
    }
   ],
   "source": [
    "# ques 11\n",
    "s = input('Enter the string :')\n",
    "if len(s) < 1:\n",
    "    print('String is empty')\n",
    "else:\n",
    "    print('String is not empty')"
   ]
  },
  {
   "cell_type": "code",
   "execution_count": 63,
   "id": "e0f90f25-2d84-4b88-841b-b47e79de9022",
   "metadata": {},
   "outputs": [
    {
     "name": "stdin",
     "output_type": "stream",
     "text": [
      "Enter the first side of triangle : 3\n",
      "Enter the second side of triangle : 2\n",
      "Enter the third side of triangle : 3\n"
     ]
    },
    {
     "name": "stdout",
     "output_type": "stream",
     "text": [
      "Traingle is isosceles\n"
     ]
    }
   ],
   "source": [
    "# ques 12\n",
    "a = int(input('Enter the first side of triangle :'))\n",
    "b = int(input('Enter the second side of triangle :'))\n",
    "c = int(input('Enter the third side of triangle :'))\n",
    "if a!=b and a!=c and b!=c:\n",
    "    print('Triangle is scalene triangle')\n",
    "elif a==b==c:\n",
    "    print('Triangle is equilateral')\n",
    "else:\n",
    "    print('Traingle is isosceles')\n",
    "   "
   ]
  },
  {
   "cell_type": "code",
   "execution_count": 71,
   "id": "aa534102-ade1-46f6-b614-908aa9462d1e",
   "metadata": {},
   "outputs": [
    {
     "name": "stdin",
     "output_type": "stream",
     "text": [
      "Enter the day of the week : 5\n"
     ]
    },
    {
     "name": "stdout",
     "output_type": "stream",
     "text": [
      "Friday\n"
     ]
    }
   ],
   "source": [
    "# ques 13\n",
    "day = int(input('Enter the day of the week :'))\n",
    "if day == 1:\n",
    "    print('Monday')\n",
    "elif day == 2:\n",
    "    print('Tuesday')\n",
    "elif day == 3:\n",
    "    print('Wednesday')\n",
    "elif day == 4:\n",
    "    print('Thursday')\n",
    "elif day == 5:\n",
    "    print('Friday')\n",
    "elif day == 6:\n",
    "    print('Saturday')\n",
    "elif day == 7:\n",
    "    print('Sunday')\n",
    "else:\n",
    "    print('Error, please enter the correct day of week')\n",
    "    "
   ]
  },
  {
   "cell_type": "code",
   "execution_count": 92,
   "id": "6e4184d4-31a2-4109-947b-be447196b4a7",
   "metadata": {},
   "outputs": [
    {
     "name": "stdin",
     "output_type": "stream",
     "text": [
      "Enter a year:  2006\n"
     ]
    },
    {
     "name": "stdout",
     "output_type": "stream",
     "text": [
      "2006 is not a leap year.\n"
     ]
    }
   ],
   "source": [
    "# ques 14\n",
    "is_leap_year = lambda year: (year % 4 == 0 and year % 100 != 0) or (year % 400 == 0)\n",
    "\n",
    "year = int(input(\"Enter a year: \"))\n",
    "\n",
    "if is_leap_year(year):\n",
    "    print(year, \" is a leap year\")\n",
    "else:\n",
    "    print(year, \"is not a leap year.\")\n"
   ]
  },
  {
   "cell_type": "code",
   "execution_count": 95,
   "id": "a278e770-6628-4865-a44c-49979b214094",
   "metadata": {},
   "outputs": [],
   "source": [
    "# ques 15"
   ]
  },
  {
   "cell_type": "raw",
   "id": "f86db695-93ac-4b6a-a842-e895d18721b3",
   "metadata": {
    "jp-MarkdownHeadingCollapsed": true,
    "tags": []
   },
   "source": [
    "In Python, the assert keyword helps in achieving this task. This statement takes as input a boolean condition, which when returns true doesn’t do anything and continues the normal flow of execution, but if it is computed to be false, then it raises an AssertionError along with the optional message provided."
   ]
  },
  {
   "cell_type": "code",
   "execution_count": null,
   "id": "3d6ad27b-20d3-4a85-86d3-7c1f5ef274ff",
   "metadata": {},
   "outputs": [],
   "source": []
  },
  {
   "cell_type": "code",
   "execution_count": 103,
   "id": "4796151b-aefa-4942-b09c-ac0bedf76ca9",
   "metadata": {},
   "outputs": [
    {
     "name": "stdin",
     "output_type": "stream",
     "text": [
      "Enter the first number : 15\n",
      "Enter the second number : 0\n"
     ]
    },
    {
     "ename": "AssertionError",
     "evalue": "Zero division error",
     "output_type": "error",
     "traceback": [
      "\u001b[0;31m---------------------------------------------------------------------------\u001b[0m",
      "\u001b[0;31mAssertionError\u001b[0m                            Traceback (most recent call last)",
      "Cell \u001b[0;32mIn[103], line 8\u001b[0m\n\u001b[1;32m      6\u001b[0m     \u001b[38;5;28mprint\u001b[39m(\u001b[38;5;124m'\u001b[39m\u001b[38;5;124mThe value of a/b is :\u001b[39m\u001b[38;5;124m'\u001b[39m,a\u001b[38;5;241m/\u001b[39mb)\n\u001b[1;32m      7\u001b[0m \u001b[38;5;28;01melse\u001b[39;00m:\n\u001b[0;32m----> 8\u001b[0m     \u001b[38;5;28;01massert\u001b[39;00m b\u001b[38;5;241m!=\u001b[39m\u001b[38;5;241m0\u001b[39m, \u001b[38;5;124m'\u001b[39m\u001b[38;5;124mZero division error\u001b[39m\u001b[38;5;124m'\u001b[39m\n",
      "\u001b[0;31mAssertionError\u001b[0m: Zero division error"
     ]
    }
   ],
   "source": [
    "# example\n",
    "a = int(input('Enter the first number :'))\n",
    "b = int(input('Enter the second number :'))\n",
    "\n",
    "if b>0:\n",
    "    print('The value of a/b is :',a/b)\n",
    "else:\n",
    "    assert b!=0, 'Zero division error'\n"
   ]
  },
  {
   "cell_type": "code",
   "execution_count": 107,
   "id": "cb4cd4d5-cb3c-461a-a0f2-454499a7557a",
   "metadata": {},
   "outputs": [
    {
     "name": "stdin",
     "output_type": "stream",
     "text": [
      "Enter the age of person : 61\n"
     ]
    },
    {
     "name": "stdout",
     "output_type": "stream",
     "text": [
      "Person is eligible for senior citizen discount\n"
     ]
    }
   ],
   "source": [
    "# ques 16\n",
    "age = int(input('Enter the age of person :'))\n",
    "if age >= 60:\n",
    "    print('Person is eligible for senior citizen discount')\n",
    "else:\n",
    "    print('Person is not eligible for senior citizen discount')"
   ]
  },
  {
   "cell_type": "code",
   "execution_count": 110,
   "id": "7c4a97bc-bd81-4cc5-a6bb-6fe0dbca7bc8",
   "metadata": {},
   "outputs": [
    {
     "name": "stdin",
     "output_type": "stream",
     "text": [
      "Enter the characer : @\n"
     ]
    },
    {
     "name": "stdout",
     "output_type": "stream",
     "text": [
      "Character is neither uppercase nor lowercase\n"
     ]
    }
   ],
   "source": [
    "# ques 17\n",
    "char = input('Enter the characer :')\n",
    "if char.isupper():\n",
    "    print('Character is uppercase')\n",
    "elif char.islower():\n",
    "    print('Character is lowercase')\n",
    "else:\n",
    "    print('Character is neither uppercase nor lowercase')"
   ]
  },
  {
   "cell_type": "code",
   "execution_count": 119,
   "id": "697eecda-5951-425f-93f0-8ac2489bfe57",
   "metadata": {},
   "outputs": [
    {
     "name": "stdout",
     "output_type": "stream",
     "text": [
      "Equation: ax^2 + bx + c \n"
     ]
    },
    {
     "name": "stdin",
     "output_type": "stream",
     "text": [
      "Enter the value of a:  2\n",
      "Enter the value of b:  4\n",
      "Enter the value of c:  2\n"
     ]
    },
    {
     "name": "stdout",
     "output_type": "stream",
     "text": [
      "The first root:  -4.0\n",
      "The second root:  -4.0\n"
     ]
    }
   ],
   "source": [
    "# ques 18\n",
    "print(\"Equation: ax^2 + bx + c \")\n",
    "a=int(input(\"Enter the value of a: \"))\n",
    "b=int(input(\"Enter the value of b: \"))\n",
    "c=int(input(\"Enter the value of c: \"))\n",
    "d=b**2-4*a*c\n",
    "d1=d**0.5\n",
    "if(d<0):\n",
    "    print(\"The roots are imaginary. \")\n",
    "else:\n",
    "    r1=(-b+d1)/2*a\n",
    "    r2=(-b-d1)/2*a\n",
    "    print(\"The first root: \",round(r1,3))\n",
    "    print(\"The second root: \",round(r2,3))"
   ]
  },
  {
   "cell_type": "code",
   "execution_count": 126,
   "id": "84ac8f35-248e-48ed-9c5a-9e186647405f",
   "metadata": {},
   "outputs": [
    {
     "name": "stdin",
     "output_type": "stream",
     "text": [
      "Enter the year : 1885\n"
     ]
    },
    {
     "name": "stdout",
     "output_type": "stream",
     "text": [
      "Given year is not a century year\n"
     ]
    }
   ],
   "source": [
    "# ques 19\n",
    "year = int(input('Enter the year :'))\n",
    "if year%100 == 0:\n",
    "    print('Given year is a century year')\n",
    "else:\n",
    "    print('Given year is not a century year')"
   ]
  },
  {
   "cell_type": "code",
   "execution_count": 163,
   "id": "209ed4fb-6e3d-48b2-8395-f2569b5e7db5",
   "metadata": {},
   "outputs": [
    {
     "name": "stdin",
     "output_type": "stream",
     "text": [
      "Enter the number : 10\n"
     ]
    },
    {
     "name": "stdout",
     "output_type": "stream",
     "text": [
      "Given number is not a perfect square\n"
     ]
    }
   ],
   "source": [
    "# ques 20\n",
    "import math\n",
    "num=int(input('Enter the number :'))\n",
    "x=math.sqrt(num)\n",
    "y=int(x)\n",
    "a=y*y\n",
    "if num==a:\n",
    "    print('Given number is perfect square')\n",
    "else:\n",
    "    print('Given number is not a perfect square')"
   ]
  },
  {
   "cell_type": "raw",
   "id": "da228131-77d1-4fd7-8fab-97d0a0a173b1",
   "metadata": {},
   "source": [
    "# ques 21\n",
    "The break statement is used to terminate the loop immediately. The continue statement is used to skip the current iteration of the loop."
   ]
  },
  {
   "cell_type": "code",
   "execution_count": null,
   "id": "853e29da-f913-4f50-91e8-f2917af9d5a2",
   "metadata": {},
   "outputs": [],
   "source": []
  },
  {
   "cell_type": "code",
   "execution_count": 5,
   "id": "3346e74b-fb96-4647-9fd5-7dbc5e756235",
   "metadata": {},
   "outputs": [
    {
     "name": "stdin",
     "output_type": "stream",
     "text": [
      "Enter the weight : 72\n",
      "Enter the height in cm : 178\n"
     ]
    },
    {
     "name": "stdout",
     "output_type": "stream",
     "text": [
      "normal weight\n"
     ]
    }
   ],
   "source": [
    "# ques 22\n",
    "weight = float(input('Enter the weight :'))\n",
    "height_foot = float(input('Enter the height in cm :'))\n",
    "height = height_foot/100\n",
    "BMI = weight / (height*height)\n",
    "if BMI < 18.5:\n",
    "    print('underweight')\n",
    "elif 18.5 < BMI <24.9:\n",
    "    print('normal weight')\n",
    "elif 25 < BMI < 29.9:\n",
    "    print('over weight')\n",
    "else:\n",
    "    print('obese')\n"
   ]
  },
  {
   "cell_type": "code",
   "execution_count": 1,
   "id": "5ed0906b-7fed-4c68-a136-c518b70f4403",
   "metadata": {},
   "outputs": [
    {
     "data": {
      "text/plain": [
       "[4, 2, 6, 4, 6]"
      ]
     },
     "execution_count": 1,
     "metadata": {},
     "output_type": "execute_result"
    }
   ],
   "source": [
    "# ques 23\n",
    "l = [1,4,5,2,47,85,6,4,6]\n",
    "list(filter(lambda x: x%2==0 ,l))\n"
   ]
  },
  {
   "cell_type": "code",
   "execution_count": 15,
   "id": "693f4e4c-76aa-4ef6-929c-1b8dd8b9cfbc",
   "metadata": {},
   "outputs": [
    {
     "name": "stdin",
     "output_type": "stream",
     "text": [
      "Enter any number:  9\n"
     ]
    },
    {
     "name": "stdout",
     "output_type": "stream",
     "text": [
      "9 is not a prime number\n"
     ]
    }
   ],
   "source": [
    "# ques 24\n",
    "number = int(input(\"Enter any number: \"))\n",
    "if number > 1:\n",
    "    for i in range(2, number):\n",
    "        if (number % i) == 0:\n",
    "            print(number, \"is not a prime number\")\n",
    "            break\n",
    "    else:\n",
    "        print(number, \"is a prime number\")\n",
    "        \n",
    "else:\n",
    "    print(number, \"is not a prime number\")"
   ]
  },
  {
   "cell_type": "code",
   "execution_count": null,
   "id": "0e6c84a2-c99f-469a-bb3a-098a8abe9b1e",
   "metadata": {},
   "outputs": [],
   "source": []
  },
  {
   "cell_type": "markdown",
   "id": "b4373c75-d64e-444a-9c42-c53ac7e06806",
   "metadata": {},
   "source": [
    "## Map"
   ]
  },
  {
   "cell_type": "code",
   "execution_count": 2,
   "id": "bcbcd308-f114-4738-a6ad-590d9b9249e3",
   "metadata": {},
   "outputs": [],
   "source": [
    "# ques 1\n",
    "## Map in Python is a function that works as an iterator to return a result after applying a function to every item of an iterable (tuple, lists, etc.). It is used when you want to apply a single transformation function to all the iterable elements\n"
   ]
  },
  {
   "cell_type": "code",
   "execution_count": 13,
   "id": "3ba68837-a45d-46cf-b126-e3526a7d4c33",
   "metadata": {},
   "outputs": [
    {
     "data": {
      "text/plain": [
       "[3, 4, 5, 6, 7]"
      ]
     },
     "execution_count": 13,
     "metadata": {},
     "output_type": "execute_result"
    }
   ],
   "source": [
    "# example\n",
    "l = [1,2,3,4,5] \n",
    "\n",
    "list(map(lambda a : a+2,l))\n"
   ]
  },
  {
   "cell_type": "code",
   "execution_count": 14,
   "id": "ced34f1a-5f7c-4cab-98f7-b55fbc016a91",
   "metadata": {},
   "outputs": [
    {
     "data": {
      "text/plain": [
       "[1, 4, 9, 16, 25]"
      ]
     },
     "execution_count": 14,
     "metadata": {},
     "output_type": "execute_result"
    }
   ],
   "source": [
    "# ques 2\n",
    "l = [1,2,3,4,5]\n",
    "\n",
    "list(map(lambda a : a**2 , l))\n"
   ]
  },
  {
   "cell_type": "markdown",
   "id": "de533ef5-89c3-40b9-8411-dbb42c57cd74",
   "metadata": {},
   "source": [
    "# ques 3\n",
    "## map() and list comprehensions are both techniques in Python for applying a function to each element of a sequence (e.g., a list) to create a new sequence.\n",
    "\n",
    "\n",
    "## map():\n",
    "## map() is a built-in function in Python that applies a given function to each item in an iterable (e.g., a list) and returns an iterable (typically a map object or a list, depending on how it's used).\n",
    "## It takes two arguments: the function to apply and the iterable you want to process.\n",
    "## map() is typically more memory-efficient than a list comprehension when working with large data because it processes items one by one without constructing an intermediate list in memory.\n",
    "## It can be less readable than a list comprehension in some cases because it separates the mapping logic from the iteration over the sequence.\n",
    "\n",
    "## list Comprehension:\n",
    "## List comprehensions are a concise and readable way to create lists by applying an expression to each item in an iterable.\n",
    "## They use square brackets [] to enclose the expression and the iteration over the iterable.\n",
    "## List comprehensions construct a new list in memory and return it.\n",
    "## They are often more Pythonic and readable when you want to create a new list based on the elements of an existing list.\n"
   ]
  },
  {
   "cell_type": "code",
   "execution_count": null,
   "id": "baeadd55-7355-4d56-af50-323507a5bfe0",
   "metadata": {},
   "outputs": [],
   "source": [
    "\n"
   ]
  },
  {
   "cell_type": "code",
   "execution_count": null,
   "id": "0f74d997-0439-48ec-a3c9-ed99359469f6",
   "metadata": {},
   "outputs": [],
   "source": []
  },
  {
   "cell_type": "code",
   "execution_count": null,
   "id": "ed07a57f-56cf-4c58-9d92-3226fce9b4ee",
   "metadata": {},
   "outputs": [],
   "source": []
  },
  {
   "cell_type": "code",
   "execution_count": 18,
   "id": "d3535280-5e88-4531-9f4b-f885d5a34d59",
   "metadata": {},
   "outputs": [
    {
     "data": {
      "text/plain": [
       "['PWSKILLS', 'INEURON', 'FSDS']"
      ]
     },
     "execution_count": 18,
     "metadata": {},
     "output_type": "execute_result"
    }
   ],
   "source": [
    "# ques 4\n",
    "\n",
    "l = ['pwskills', 'ineuron', 'fsds']\n",
    "list(map(lambda a : a.upper() , l))"
   ]
  },
  {
   "cell_type": "code",
   "execution_count": 21,
   "id": "c31f621d-de4e-4922-9baf-03a5bfa36488",
   "metadata": {},
   "outputs": [
    {
     "data": {
      "text/plain": [
       "[8, 7, 4]"
      ]
     },
     "execution_count": 21,
     "metadata": {},
     "output_type": "execute_result"
    }
   ],
   "source": [
    "# ques 5\n",
    "l = ['pwskills', 'ineuron', 'fsds']\n",
    "list(map(lambda a : len(a),l))\n"
   ]
  },
  {
   "cell_type": "code",
   "execution_count": 22,
   "id": "7ea3cbb7-9f0d-4a2c-8be5-507778593b74",
   "metadata": {},
   "outputs": [
    {
     "name": "stdout",
     "output_type": "stream",
     "text": [
      "[5, 7, 9]\n"
     ]
    }
   ],
   "source": [
    "# ques 6\n",
    "# Define a custom function that takes two arguments and returns their sum\n",
    "def add(x, y):\n",
    "    return x + y\n",
    "\n",
    "# Create two lists\n",
    "list1 = [1, 2, 3]\n",
    "list2 = [4, 5, 6]\n",
    "\n",
    "# Use zip to combine the lists into tuples, and map to apply the custom function\n",
    "result = map(add, list1, list2)\n",
    "\n",
    "# Convert the map object to a list if needed\n",
    "result_list = list(result)\n",
    "\n",
    "print(result_list)  \n"
   ]
  },
  {
   "cell_type": "code",
   "execution_count": 31,
   "id": "627418dc-c4da-4734-b83a-6137757dd90d",
   "metadata": {},
   "outputs": [
    {
     "name": "stdout",
     "output_type": "stream",
     "text": [
      "10°C is equal to 50.0°F\n",
      "20°C is equal to 68.0°F\n",
      "37°C is equal to 98.6°F\n"
     ]
    }
   ],
   "source": [
    "# ques 7\n",
    "\n",
    "def celsius_to_fahrenheit(celsius):\n",
    "    return (celsius * 9/5) + 32\n",
    "\n",
    "\n",
    "celsius_temperatures = [10,20,37]\n",
    "\n",
    "\n",
    "fahrenheit_temperatures = map(celsius_to_fahrenheit, celsius_temperatures)\n",
    "\n",
    "\n",
    "fahrenheit_temperatures = list(fahrenheit_temperatures)\n",
    "\n",
    "for celsius, fahrenheit in zip(celsius_temperatures, fahrenheit_temperatures):\n",
    "    print(f\"{celsius}°C is equal to {fahrenheit}°F\")\n",
    "\n"
   ]
  },
  {
   "cell_type": "code",
   "execution_count": 32,
   "id": "c68d6b71-b992-44a6-9816-f2ee6b995a84",
   "metadata": {},
   "outputs": [
    {
     "name": "stdout",
     "output_type": "stream",
     "text": [
      "3.14 => 3\n",
      "2.718 => 3\n",
      "1.618 => 2\n",
      "4.567 => 5\n",
      "5.432 => 5\n"
     ]
    }
   ],
   "source": [
    "# ques 8\n",
    "# List of floating-point numbers\n",
    "float_numbers = [3.14, 2.718, 1.618, 4.567, 5.432]\n",
    "\n",
    "# Use map() to round each element to the nearest integer\n",
    "rounded_integers = map(round, float_numbers)\n",
    "\n",
    "# Convert the map object to a list for easy printing\n",
    "rounded_integers = list(rounded_integers)\n",
    "\n",
    "# Print the original floating-point numbers and their rounded integer equivalents\n",
    "for original, rounded in zip(float_numbers, rounded_integers):\n",
    "    print(f\"{original} => {rounded}\")\n"
   ]
  },
  {
   "cell_type": "code",
   "execution_count": null,
   "id": "b73fe823-5461-4e9e-9e79-2310757dbf31",
   "metadata": {},
   "outputs": [],
   "source": []
  },
  {
   "cell_type": "markdown",
   "id": "649f3f00-ac75-4a54-a8fc-394981864793",
   "metadata": {},
   "source": [
    "## Reduce "
   ]
  },
  {
   "cell_type": "markdown",
   "id": "340a9eb8-23e0-4833-95a2-22d939cccd6b",
   "metadata": {},
   "source": [
    "# ques 1\n",
    "The reduce() function in Python is used to repeatedly apply a given function to the elements of an iterable (e.g., a list) in a cumulative way. It's part of the functools module, so you need to import this module to use reduce(). The reduce() function is not a built-in function in Python 3 like map() or filter() (as in Python 2). To use it, you must import it from the functools module."
   ]
  },
  {
   "cell_type": "code",
   "execution_count": 33,
   "id": "f994b2b1-074d-405e-bb5e-e29185546d09",
   "metadata": {},
   "outputs": [
    {
     "name": "stdout",
     "output_type": "stream",
     "text": [
      "120\n"
     ]
    }
   ],
   "source": [
    "# example \n",
    "from functools import reduce\n",
    "\n",
    "\n",
    "def multiply(x, y):\n",
    "    return x * y\n",
    "\n",
    "numbers = [1, 2, 3, 4, 5]\n",
    "\n",
    "result = reduce(multiply, numbers)\n",
    "\n",
    "print(result) \n"
   ]
  },
  {
   "cell_type": "code",
   "execution_count": 35,
   "id": "8e25b829-e1aa-477d-9f43-e31d3fe45734",
   "metadata": {},
   "outputs": [
    {
     "data": {
      "text/plain": [
       "24"
      ]
     },
     "execution_count": 35,
     "metadata": {},
     "output_type": "execute_result"
    }
   ],
   "source": [
    "# ques 2\n",
    "l = [1,2,3,4]\n",
    "reduce(lambda a,b : a*b , l)"
   ]
  },
  {
   "cell_type": "code",
   "execution_count": 38,
   "id": "9cc7aded-7b41-40dc-b45f-bd9b92867653",
   "metadata": {},
   "outputs": [
    {
     "name": "stdout",
     "output_type": "stream",
     "text": [
      "5515\n"
     ]
    }
   ],
   "source": [
    "# ques 3\n",
    "def maxi(a,b):\n",
    "    if a>b:\n",
    "        return a\n",
    "    else:\n",
    "        return b\n",
    "numbers = [1,75,84,678,5515]\n",
    "result = reduce(maxi,numbers)\n",
    "print(result)"
   ]
  },
  {
   "cell_type": "code",
   "execution_count": 40,
   "id": "9955548d-7659-465a-b83e-c66f184fae63",
   "metadata": {},
   "outputs": [
    {
     "name": "stdout",
     "output_type": "stream",
     "text": [
      "Hello, world, how are you?\n"
     ]
    }
   ],
   "source": [
    "# ques 4\n",
    "def concatenate_strings(x, y):\n",
    "    return x + y\n",
    "\n",
    "\n",
    "strings = [\"Hello, \", \"world, \", \"how \", \"are \", \"you?\"]\n",
    "\n",
    "result = reduce(concatenate_strings, strings)\n",
    "\n",
    "print(result)  \n",
    "\n"
   ]
  },
  {
   "cell_type": "code",
   "execution_count": 54,
   "id": "3754ddcc-e06f-42b9-a3a4-51a7453432c8",
   "metadata": {},
   "outputs": [
    {
     "name": "stdin",
     "output_type": "stream",
     "text": [
      "Enter a non-negative integer:  5\n"
     ]
    },
    {
     "name": "stdout",
     "output_type": "stream",
     "text": [
      "5! = 120\n"
     ]
    }
   ],
   "source": [
    "# ques 5\n",
    "\n",
    "def factorial(x, y):\n",
    "    return x * y\n",
    "\n",
    "\n",
    "n = int(input(\"Enter a non-negative integer: \"))\n",
    "\n",
    "\n",
    "if n < 0:\n",
    "    print(\"Factorial is undefined for negative numbers.\")\n",
    "else:\n",
    "    \n",
    "    numbers = list(range(1, n + 1))\n",
    "\n",
    "    \n",
    "    result = reduce(factorial, numbers)\n",
    "\n",
    "    print(f\"{n}! = {result}\")\n",
    "\n"
   ]
  },
  {
   "cell_type": "code",
   "execution_count": 55,
   "id": "47269ca8-1217-4d54-b280-7fefd10ef9ba",
   "metadata": {},
   "outputs": [
    {
     "name": "stdout",
     "output_type": "stream",
     "text": [
      "GCD of the numbers is: 12\n"
     ]
    }
   ],
   "source": [
    "# ques 6\n",
    "def gcd(x, y):\n",
    "    while y != 0:\n",
    "        x, y = y, x % y\n",
    "    return x\n",
    "\n",
    "numbers = [24, 36, 48, 60, 72]\n",
    "\n",
    "result = reduce(gcd, numbers)\n",
    "\n",
    "print(f\"GCD of the numbers is: {result}\")"
   ]
  },
  {
   "cell_type": "code",
   "execution_count": 57,
   "id": "21305390-c811-4013-b300-1b7274610011",
   "metadata": {},
   "outputs": [
    {
     "name": "stdout",
     "output_type": "stream",
     "text": [
      "Sum of the digits of a given numbers is 27\n"
     ]
    }
   ],
   "source": [
    "# ques 7\n",
    "def sum(a,b):\n",
    "    return a+b\n",
    "numbers = [4,8,9,6]\n",
    "result = reduce(sum,numbers)\n",
    "print(f'Sum of the digits of a given numbers is {result}')"
   ]
  },
  {
   "cell_type": "code",
   "execution_count": null,
   "id": "e3d9ba3d-dee2-4aa5-aa7b-453bf41df2b5",
   "metadata": {},
   "outputs": [],
   "source": []
  },
  {
   "cell_type": "code",
   "execution_count": null,
   "id": "6638a6a4-deb0-4f75-a2b1-5387d08d50d1",
   "metadata": {},
   "outputs": [],
   "source": []
  },
  {
   "cell_type": "markdown",
   "id": "87162a20-a175-41f3-9ef8-99db7eba1c36",
   "metadata": {},
   "source": [
    "## Filter"
   ]
  },
  {
   "cell_type": "markdown",
   "id": "dd8ac81d-607e-4c71-9f70-296ae1b3b5e9",
   "metadata": {},
   "source": [
    "# ques 1\n",
    " The filter() function in Python is used to filter elements from an iterable (such as a list, tuple, or any other iterable object) based on a specified filtering condition. It returns an iterator containing the elements from the original iterable for which the filtering condition evaluates to True. In other words, it allows you to create a new iterable that includes only those items that meet a certain criteria.\n",
    "\n",
    "The filter() function takes two arguments:\n",
    "\n",
    "A function that defines the filtering condition.\n",
    "\n",
    "An iterable to be filtered."
   ]
  },
  {
   "cell_type": "code",
   "execution_count": 2,
   "id": "5abbfa9b-0e30-49ce-8e33-9447f2dae4e2",
   "metadata": {},
   "outputs": [
    {
     "name": "stdout",
     "output_type": "stream",
     "text": [
      "[2, 4, 6, 8, 10]\n"
     ]
    }
   ],
   "source": [
    "# example \n",
    "\n",
    "def is_even(number):\n",
    "    return number % 2 == 0\n",
    "\n",
    "\n",
    "numbers = [1, 2, 3, 4, 5, 6, 7, 8, 9, 10]\n",
    "\n",
    "\n",
    "filtered_numbers = list(filter(is_even, numbers))\n",
    "\n",
    "\n",
    "print(filtered_numbers)\n"
   ]
  },
  {
   "cell_type": "code",
   "execution_count": 4,
   "id": "1015b24f-c133-4fbc-99d1-edf2431fcf35",
   "metadata": {},
   "outputs": [
    {
     "name": "stdout",
     "output_type": "stream",
     "text": [
      "[2, 4, 8, 6]\n"
     ]
    }
   ],
   "source": [
    "# ques 2\n",
    "l = [1,2,4,8,59,6,31]\n",
    "even_num = list(filter(lambda a : a%2 ==0 , l))\n",
    "print(even_num)"
   ]
  },
  {
   "cell_type": "code",
   "execution_count": 5,
   "id": "7b18f8c2-705f-4fe3-8c4d-7154421f333c",
   "metadata": {},
   "outputs": [
    {
     "name": "stdout",
     "output_type": "stream",
     "text": [
      "Names starting with 'A':\n",
      "Abhishek\n",
      "Amit\n"
     ]
    }
   ],
   "source": [
    "# ques 3\n",
    "def starts_with_letter(letter, name):\n",
    "    return name.startswith(letter)\n",
    "\n",
    "names = ['Abhishek', 'Sameer', 'Sanjeev', 'Amit', 'Rishabh']\n",
    "\n",
    "\n",
    "letter_to_filter = \"A\"\n",
    "\n",
    "\n",
    "filtered_names = list(filter(lambda name: starts_with_letter(letter_to_filter, name), names))\n",
    "\n",
    "\n",
    "print(f\"Names starting with '{letter_to_filter}':\")\n",
    "for name in filtered_names:\n",
    "    print(name)\n"
   ]
  },
  {
   "cell_type": "code",
   "execution_count": 10,
   "id": "38aa8d1f-4565-4367-9d70-cb1d353b8a60",
   "metadata": {},
   "outputs": [
    {
     "name": "stdout",
     "output_type": "stream",
     "text": [
      "Prime numbers:\n",
      "2\n",
      "3\n",
      "5\n",
      "7\n",
      "11\n",
      "13\n"
     ]
    }
   ],
   "source": [
    "# ques 4\n",
    "\n",
    "def is_prime(number):\n",
    "    if number <= 1:\n",
    "        return False\n",
    "    if number <= 3:\n",
    "        return True\n",
    "    if number % 2 == 0 or number % 3 == 0:\n",
    "        return False\n",
    "    i = 5\n",
    "    while i * i <= number:\n",
    "        if number % i == 0 or number % (i + 2) == 0:\n",
    "            return False\n",
    "        i += 6\n",
    "    return True\n",
    "\n",
    "\n",
    "integers = [2, 3, 4, 5, 6, 7, 8, 9, 10, 11, 12, 13]\n",
    "\n",
    "\n",
    "prime_numbers = list(filter(is_prime, integers))\n",
    "\n",
    "\n",
    "print(\"Prime numbers:\")\n",
    "for number in prime_numbers:\n",
    "    print(number)\n"
   ]
  },
  {
   "cell_type": "code",
   "execution_count": 14,
   "id": "31600eb0-02a2-4439-9e06-d70eb197d20d",
   "metadata": {},
   "outputs": [
    {
     "name": "stdout",
     "output_type": "stream",
     "text": [
      "[1, 2, 5, 6, 4, 58]\n"
     ]
    }
   ],
   "source": [
    "# ques 5\n",
    "l = [1,2,5,6,None,4,None,58,None] \n",
    "\n",
    "result = list(filter(lambda a : a is not None , l))\n",
    "\n",
    "print(result)\n"
   ]
  },
  {
   "cell_type": "code",
   "execution_count": 15,
   "id": "f8efa86f-dc82-4916-9c91-f5c3cdbf3fca",
   "metadata": {},
   "outputs": [
    {
     "data": {
      "text/plain": [
       "['name', 'Abhishek']"
      ]
     },
     "execution_count": 15,
     "metadata": {},
     "output_type": "execute_result"
    }
   ],
   "source": [
    "# ques 6\n",
    "\n",
    "l = ['My' , 'name', 'is', 'Abhishek']\n",
    "\n",
    "list(filter(lambda a : len(a) > 2 , l))"
   ]
  },
  {
   "cell_type": "code",
   "execution_count": 16,
   "id": "fee8c4b0-73fd-4ce6-9b74-d05f8bb37900",
   "metadata": {},
   "outputs": [
    {
     "name": "stdout",
     "output_type": "stream",
     "text": [
      "Values greater than 5:\n",
      "8\n",
      "9\n",
      "12\n",
      "7\n",
      "6\n"
     ]
    }
   ],
   "source": [
    "# ques 7\n",
    "\n",
    "threshold = 5\n",
    "\n",
    "values = [3, 8, 2, 9, 5, 12, 1, 7, 6]\n",
    "\n",
    "\n",
    "filtered_values = list(filter(lambda x: x > threshold, values))\n",
    "\n",
    "print(f\"Values greater than {threshold}:\")\n",
    "for value in filtered_values:\n",
    "    print(value)\n"
   ]
  },
  {
   "cell_type": "code",
   "execution_count": null,
   "id": "4cba897c-8756-4580-bb62-712f9dc76921",
   "metadata": {},
   "outputs": [],
   "source": []
  },
  {
   "cell_type": "markdown",
   "id": "3596c5e7-295c-45bb-80e9-adf9caf04131",
   "metadata": {},
   "source": [
    "## Recursion"
   ]
  },
  {
   "cell_type": "markdown",
   "id": "433343b5-9d10-4995-8d0e-bc21fb353f63",
   "metadata": {
    "tags": []
   },
   "source": [
    "# ques 1\n",
    " Recursion is a technique in which the function calls itself in its body to solve the problem, typically breaking into smaller and more manageable sub-problems. In contrast, Iteration is a technique that repetitively executes a code block until the condition is unmet"
   ]
  },
  {
   "cell_type": "code",
   "execution_count": null,
   "id": "2d041f3d-d0ce-43ba-9cb4-d5c05f3fd913",
   "metadata": {},
   "outputs": [],
   "source": []
  },
  {
   "cell_type": "code",
   "execution_count": 32,
   "id": "7db07e85-fde0-493e-a81a-9877035617e1",
   "metadata": {},
   "outputs": [
    {
     "name": "stdin",
     "output_type": "stream",
     "text": [
      "Enter the number : 5\n"
     ]
    },
    {
     "name": "stdout",
     "output_type": "stream",
     "text": [
      "factorial of 5 is :  120\n"
     ]
    }
   ],
   "source": [
    "# ques 2\n",
    "def factorial(n):\n",
    "    if n <= 0:\n",
    "        return 1\n",
    "    else:\n",
    "        return n * factorial(n-1)\n",
    "n = int(input(\"Enter the number :\"))\n",
    "print(f\"factorial of {n} is : \",factorial(n))"
   ]
  },
  {
   "cell_type": "code",
   "execution_count": 31,
   "id": "f8a7451b-e927-40c5-ad33-9adb2ff5deed",
   "metadata": {},
   "outputs": [
    {
     "name": "stdout",
     "output_type": "stream",
     "text": [
      "3th fibonacci number is : 2\n"
     ]
    }
   ],
   "source": [
    "# ques 3 \n",
    "def fibo(n):\n",
    "    if n <= 1:\n",
    "        return n\n",
    "    else:\n",
    "        return fibo(n-1) + fibo(n-2)\n",
    "    \n",
    "n = 3\n",
    "print(f\"{n}th fibonacci number is :\",fibo(n))"
   ]
  },
  {
   "cell_type": "code",
   "execution_count": 30,
   "id": "925b01f5-7284-4a39-9592-a20c32b0b96e",
   "metadata": {},
   "outputs": [
    {
     "name": "stdout",
     "output_type": "stream",
     "text": [
      "Sum of the list is : 48\n"
     ]
    }
   ],
   "source": [
    "# ques 4\n",
    "def sum_of_list(l):\n",
    "    \n",
    "    if not l:\n",
    "        return 0\n",
    "    else:\n",
    "        return l[0] + sum_of_list(l[1:])\n",
    "l = [1,2,34,5,6]\n",
    "print(f\"Sum of the list is :\",sum_of_list(l))"
   ]
  },
  {
   "cell_type": "markdown",
   "id": "9a73205f-826e-4538-b79b-34d3b79a592a",
   "metadata": {},
   "source": [
    "# ques 5\n",
    "Implement a base case: A base case is a condition in which the recursive function will not call itself again. This is important because it ensures that the recursive function will eventually stop and not continue indefinitely, which can lead to stack overflow."
   ]
  },
  {
   "cell_type": "code",
   "execution_count": null,
   "id": "1961fa47-82c6-4f80-b825-4e218a52db17",
   "metadata": {},
   "outputs": [],
   "source": []
  },
  {
   "cell_type": "code",
   "execution_count": 42,
   "id": "c9be94d7-dbf8-45ec-b63e-14a779c521be",
   "metadata": {},
   "outputs": [
    {
     "name": "stdout",
     "output_type": "stream",
     "text": [
      "GCD of 48 and 18 is : 6\n"
     ]
    }
   ],
   "source": [
    "# ques 6\n",
    "def gcd(a,b):\n",
    "    if b == 0:\n",
    "        return a\n",
    "    else :\n",
    "        return gcd(b, a%b)\n",
    "num1 = 48\n",
    "num2 = 18\n",
    "print(f\"GCD of {num1} and {num2} is :\",gcd(num1,num2))"
   ]
  },
  {
   "cell_type": "code",
   "execution_count": 49,
   "id": "a6242a17-c052-4c0c-99de-177565991445",
   "metadata": {},
   "outputs": [
    {
     "name": "stdout",
     "output_type": "stream",
     "text": [
      "Original string : This is my 5th assignment\n",
      "Reversed string :tnemngissa ht5 ym si sihT\n"
     ]
    }
   ],
   "source": [
    "# ques 7\n",
    "def reverse_string(s):\n",
    "    \n",
    "    if len(s) <= 1:\n",
    "        return s\n",
    "    else:\n",
    "        return s[-1] + reverse_string(s[1:-1]) + s[0]\n",
    "    \n",
    "og_string = \"This is my 5th assignment\"\n",
    "\n",
    "print(f\"Original string : {og_string}\")\n",
    "print(f\"Reversed string :{reverse_string(og_string)}\")"
   ]
  },
  {
   "cell_type": "code",
   "execution_count": null,
   "id": "3799ec7b-744b-4177-849a-fe3ca72a2e06",
   "metadata": {},
   "outputs": [],
   "source": []
  },
  {
   "cell_type": "code",
   "execution_count": 73,
   "id": "70f23332-8972-4291-96b2-a357058b9400",
   "metadata": {},
   "outputs": [
    {
     "name": "stdout",
     "output_type": "stream",
     "text": [
      "3^2 = 9\n"
     ]
    }
   ],
   "source": [
    "# ques 8\n",
    "def power(a,b):\n",
    "    if b == 0:\n",
    "        return 1\n",
    "    else:\n",
    "        return a * power(a,b-1)\n",
    "base = 3\n",
    "exponant = 2\n",
    "print(f\"{base}^{exponant} = {power(base,exponant)}\")"
   ]
  },
  {
   "cell_type": "code",
   "execution_count": null,
   "id": "cfdb016e-0b28-4baa-b843-f376dc73faac",
   "metadata": {},
   "outputs": [],
   "source": []
  },
  {
   "cell_type": "code",
   "execution_count": 74,
   "id": "8df67558-11f0-4403-8362-332bc7d2a141",
   "metadata": {},
   "outputs": [
    {
     "name": "stdout",
     "output_type": "stream",
     "text": [
      "abc\n",
      "acb\n",
      "bac\n",
      "bca\n",
      "cab\n",
      "cba\n"
     ]
    }
   ],
   "source": [
    "# ques 9\n",
    "def find_permutations(s):\n",
    "    if len(s) == 1:\n",
    "        return [s]\n",
    "\n",
    "    \n",
    "    permutations = []\n",
    "\n",
    "    for i in range(len(s)):\n",
    "        \n",
    "        current_char = s[i]\n",
    "\n",
    "        \n",
    "        remaining_chars = s[:i] + s[i + 1:]\n",
    "        sub_permutations = find_permutations(remaining_chars)\n",
    "\n",
    "        \n",
    "        for sub_permutation in sub_permutations:\n",
    "            permutations.append(current_char + sub_permutation)\n",
    "\n",
    "    return permutations\n",
    "\n",
    "\n",
    "input_string = \"abc\"\n",
    "all_permutations = find_permutations(input_string)\n",
    "for permutation in all_permutations:\n",
    "    print(permutation)\n"
   ]
  },
  {
   "cell_type": "code",
   "execution_count": null,
   "id": "1edb434e-5429-465f-ba45-c888b6ba5bdf",
   "metadata": {},
   "outputs": [],
   "source": []
  },
  {
   "cell_type": "code",
   "execution_count": 75,
   "id": "3df14c7f-0ca7-4c98-9409-359fa76f9884",
   "metadata": {},
   "outputs": [
    {
     "name": "stdout",
     "output_type": "stream",
     "text": [
      "Is \"racecar\" a palindrome? True\n",
      "Is \"hello\" a palindrome? False\n"
     ]
    }
   ],
   "source": [
    "# ques 10\n",
    "def is_palindrome(s):\n",
    "    \n",
    "    if len(s) <= 1:\n",
    "        return True\n",
    "\n",
    "    if s[0].lower() != s[-1].lower():\n",
    "        return False\n",
    "\n",
    "  \n",
    "    return is_palindrome(s[1:-1])\n",
    "\n",
    "\n",
    "string1 = \"racecar\"\n",
    "string2 = \"hello\"\n",
    "print(f'Is \"{string1}\" a palindrome? {is_palindrome(string1)}')\n",
    "print(f'Is \"{string2}\" a palindrome? {is_palindrome(string2)}')\n"
   ]
  },
  {
   "cell_type": "code",
   "execution_count": null,
   "id": "f7a2eb7d-66c8-429d-923f-f942df7e27d2",
   "metadata": {},
   "outputs": [],
   "source": []
  },
  {
   "cell_type": "code",
   "execution_count": null,
   "id": "5cbeb3a6-1232-495e-9eaa-e64051109e71",
   "metadata": {},
   "outputs": [],
   "source": [
    "# ques 11"
   ]
  },
  {
   "cell_type": "code",
   "execution_count": 76,
   "id": "65c7e14f-2904-4dcb-b5ea-6abf2ff1f665",
   "metadata": {},
   "outputs": [
    {
     "name": "stdout",
     "output_type": "stream",
     "text": [
      "[]\n",
      "[1]\n",
      "[2]\n",
      "[1, 2]\n",
      "[3]\n",
      "[1, 3]\n",
      "[2, 3]\n",
      "[1, 2, 3]\n"
     ]
    }
   ],
   "source": [
    "def generate_combinations(elements):\n",
    "    if len(elements) == 0:\n",
    "        return [[]]\n",
    "\n",
    "    \n",
    "    first_element = elements[0]\n",
    "    rest_combinations = generate_combinations(elements[1:])\n",
    "\n",
    "    combinations = []\n",
    "    for combination in rest_combinations:\n",
    "        \n",
    "        combinations.append(combination)\n",
    "\n",
    "        \n",
    "        combinations.append([first_element] + combination)\n",
    "\n",
    "    return combinations\n",
    "\n",
    "\n",
    "input_list = [1, 2, 3]\n",
    "all_combinations = generate_combinations(input_list)\n",
    "for combination in all_combinations:\n",
    "    print(combination)\n"
   ]
  },
  {
   "cell_type": "code",
   "execution_count": null,
   "id": "30e0e457-eeda-4c0f-aef5-14b4a92a7acc",
   "metadata": {},
   "outputs": [],
   "source": []
  },
  {
   "cell_type": "code",
   "execution_count": null,
   "id": "6fa3b52e-9d2e-44a5-b0ce-a432d6361a39",
   "metadata": {},
   "outputs": [],
   "source": []
  },
  {
   "cell_type": "markdown",
   "id": "8f3f558a-f5b9-48f2-99a9-a833c23e4f75",
   "metadata": {},
   "source": [
    "## Basics of Functions"
   ]
  },
  {
   "cell_type": "markdown",
   "id": "d3035a90-641b-4ad6-86da-0657d02a0be5",
   "metadata": {},
   "source": [
    "# ques 1\n",
    "A function is a block of code which only runs when it is called.\n",
    "\n",
    "You can pass data, known as parameters, into a function.\n",
    "\n",
    "A function can return data as a result.\n",
    "\n"
   ]
  },
  {
   "cell_type": "code",
   "execution_count": null,
   "id": "e5a0699c-d332-46a4-a09e-3b70e3b67218",
   "metadata": {},
   "outputs": [],
   "source": []
  },
  {
   "cell_type": "markdown",
   "id": "527717a5-6c4b-4283-943e-67ca2f942084",
   "metadata": {},
   "source": [
    "# ques 2\n",
    "In Python, you define a function with the def keyword, then write the function identifier (name) followed by parentheses and a colon"
   ]
  },
  {
   "cell_type": "code",
   "execution_count": 2,
   "id": "3709298a-89b0-4b8b-b379-92b43d4c2a0a",
   "metadata": {},
   "outputs": [
    {
     "name": "stdout",
     "output_type": "stream",
     "text": [
      "12\n"
     ]
    }
   ],
   "source": [
    "# example\n",
    "def multi(a,b):\n",
    "    return a*b\n",
    "\n",
    "print(multi(2,6))"
   ]
  },
  {
   "cell_type": "code",
   "execution_count": null,
   "id": "2fe559d9-f195-4e5a-bb6a-fd790ff55878",
   "metadata": {},
   "outputs": [],
   "source": []
  },
  {
   "cell_type": "markdown",
   "id": "4cd3cff4-7f49-4c85-ac9c-01da2f3ede04",
   "metadata": {},
   "source": [
    "# ques 3\n",
    "A function is a block of code that does a particular operation and returns a result. It usually accepts inputs as parameters and returns a result. The parameters are not mandatory.\n",
    "\n",
    "E.g:\n",
    "Function add(a,b)\n",
    "return a+ b\n",
    "\n",
    "A function call is the code used to pass control to a function.\n",
    "\n",
    "E.g.:\n",
    "\n",
    "b = add(5,6)\n",
    "\n",
    "Now b will have the value 11."
   ]
  },
  {
   "cell_type": "code",
   "execution_count": null,
   "id": "4a2e58aa-1d2f-4c8e-abf1-530401ffcb1e",
   "metadata": {},
   "outputs": [],
   "source": []
  },
  {
   "cell_type": "code",
   "execution_count": 4,
   "id": "e05c3f28-5556-42a5-8500-8fe629c0e20a",
   "metadata": {},
   "outputs": [
    {
     "data": {
      "text/plain": [
       "3"
      ]
     },
     "execution_count": 4,
     "metadata": {},
     "output_type": "execute_result"
    }
   ],
   "source": [
    "# ques 4\n",
    "def sum(a,b):\n",
    "    return a+b\n",
    "sum(1,2)"
   ]
  },
  {
   "cell_type": "markdown",
   "id": "64bbff55-6f17-4649-89b8-2ef6701b570b",
   "metadata": {},
   "source": [
    "# ques 5\n",
    "In Python, a function signature provides crucial information about the types of parameters that a function can accept and the type of data it returns. The signature() function from the inspect module is used to determine the function signature, helping developers to ensure they are passing the correct types of arguments to their functions. This function can be particularly useful in large programs where a small mistake can lead to significant issues"
   ]
  },
  {
   "cell_type": "code",
   "execution_count": null,
   "id": "d672ae8d-277b-4c29-bdd6-6ec30c6443ba",
   "metadata": {},
   "outputs": [],
   "source": []
  },
  {
   "cell_type": "code",
   "execution_count": 5,
   "id": "e1ce00fe-076a-4870-a052-4d6c6a3d64cf",
   "metadata": {},
   "outputs": [
    {
     "data": {
      "text/plain": [
       "12"
      ]
     },
     "execution_count": 5,
     "metadata": {},
     "output_type": "execute_result"
    }
   ],
   "source": [
    "# ques 6\n",
    "def product(a,b):\n",
    "    return a*b\n",
    "product(2,6)"
   ]
  },
  {
   "cell_type": "code",
   "execution_count": null,
   "id": "9c5cce52-4af1-4965-9cd8-9ddd1d2f8f3d",
   "metadata": {},
   "outputs": [],
   "source": []
  },
  {
   "cell_type": "markdown",
   "id": "5625651e-33d8-401e-a5ba-d3cfbd2cfed0",
   "metadata": {},
   "source": [
    "# Function Parameters and Arguments"
   ]
  },
  {
   "cell_type": "markdown",
   "id": "c36cc6b7-e602-4470-8acc-9604b830552a",
   "metadata": {},
   "source": [
    "# ques 1\n",
    "Actual Parameters vary from Formal Parameters in that Actual Parameters are values supplied to the function when it is invoked, whereas Formal Parameters are variables declared by the function that get values when the function is called."
   ]
  },
  {
   "cell_type": "code",
   "execution_count": 6,
   "id": "c29eef4b-ab69-461d-85a9-ae6e4152699d",
   "metadata": {},
   "outputs": [
    {
     "name": "stdout",
     "output_type": "stream",
     "text": [
      "25\n"
     ]
    }
   ],
   "source": [
    "# example\n",
    "def sum(a, b):\n",
    "    c = a + b            # a and b are formal arguments\n",
    "    print(c)\n",
    "# call the function\n",
    "x = 10\n",
    "y = 15\n",
    "sum(x, y)            # x and y are actual arguments"
   ]
  },
  {
   "cell_type": "code",
   "execution_count": 7,
   "id": "bd37414e-9e25-416c-9881-c174dc7e5acd",
   "metadata": {},
   "outputs": [
    {
     "name": "stdout",
     "output_type": "stream",
     "text": [
      "Hello, Guest!\n",
      "Hello, Abhishek!\n",
      "Hi, Sameer!\n"
     ]
    }
   ],
   "source": [
    "# ques 2\n",
    "def greet(name=\"Guest\", greeting=\"Hello\"):\n",
    "    \n",
    "    message = f\"{greeting}, {name}!\"\n",
    "    print(message)\n",
    "\n",
    "\n",
    "greet()  \n",
    "greet(\"Abhishek\")  \n",
    "greet(\"Sameer\", \"Hi\")  \n"
   ]
  },
  {
   "cell_type": "code",
   "execution_count": 9,
   "id": "06a4143a-64bf-47b3-90a2-663527fd5d0d",
   "metadata": {},
   "outputs": [
    {
     "name": "stdout",
     "output_type": "stream",
     "text": [
      "Name: Abhishek, Age: 30, City: New Delhi\n",
      "Name: Sameer, Age: 30, City:  Bhopal\n"
     ]
    }
   ],
   "source": [
    "# ques 3\n",
    "def create_person_info(name, age, city):\n",
    "    info = f\"Name: {name}, Age: {age}, City: {city}\"\n",
    "    return info\n",
    "\n",
    "# Using keyword arguments to call the function\n",
    "person1 = create_person_info(name=\"Abhishek\", age=30, city=\"New Delhi\")\n",
    "person2 = create_person_info(city=\" Bhopal\", name=\"Sameer\", age=30)\n",
    "\n",
    "\n",
    "print(person1)\n",
    "print(person2)\n"
   ]
  },
  {
   "cell_type": "code",
   "execution_count": 23,
   "id": "cea0ce43-b5cc-4f0b-9254-556a46cf2009",
   "metadata": {},
   "outputs": [
    {
     "name": "stdout",
     "output_type": "stream",
     "text": [
      "93\n"
     ]
    }
   ],
   "source": [
    "# ques 4\n",
    "def calculate_sum(*args):\n",
    "    total = 0\n",
    "    for i in args:\n",
    "        total += i\n",
    "    return total\n",
    "    \n",
    "result = calculate_sum(1,2,34,56)\n",
    "print(result)"
   ]
  },
  {
   "cell_type": "markdown",
   "id": "e6e91db7-ee25-4e94-994d-30547c738069",
   "metadata": {},
   "source": [
    "# ques 5\n",
    "*args allows a function to accept any number of positional arguments i.e. arguments that are non-keyword arguments, variable-length argument list.\n",
    "**kwargs is a special syntax that allows us to pass a variable length of keyword arguments to the function."
   ]
  },
  {
   "cell_type": "code",
   "execution_count": null,
   "id": "33cb5a0c-c948-44c6-aa92-140851637099",
   "metadata": {},
   "outputs": [],
   "source": []
  },
  {
   "cell_type": "markdown",
   "id": "a33c50de-d855-4ce8-8da1-d14a1490a3b0",
   "metadata": {},
   "source": [
    "# Return Values and Scoping:\n"
   ]
  },
  {
   "cell_type": "markdown",
   "id": "fcb923c3-3597-4ff7-9771-33db021e53c5",
   "metadata": {},
   "source": [
    "# ques 1\n",
    "A return statement is used to end the execution of the function call and “returns” the result (value of the expression following the return keyword) to the caller. The statements after the return statements are not executed. If the return statement is without any expression, then the special value None is returned. A return statement is overall used to invoke a function so that the passed statements can be executed."
   ]
  },
  {
   "cell_type": "code",
   "execution_count": null,
   "id": "8df73258-bc6e-45c0-8897-391bcd8acf7f",
   "metadata": {},
   "outputs": [],
   "source": [
    "\n"
   ]
  },
  {
   "cell_type": "markdown",
   "id": "2bd41f8c-5ceb-4334-8bca-26b8436a21aa",
   "metadata": {},
   "source": [
    "# ques 2\n",
    "Python Global variables are those which are not defined inside any function and have a global scope whereas Python local variables are those which are defined inside a function and their scope is limited to that function only."
   ]
  },
  {
   "cell_type": "code",
   "execution_count": 25,
   "id": "e4043591-d958-4fc6-8d11-88fcfa6b28d8",
   "metadata": {},
   "outputs": [
    {
     "name": "stdout",
     "output_type": "stream",
     "text": [
      "Hello\n"
     ]
    }
   ],
   "source": [
    "# Example \n",
    "def f():\n",
    "\n",
    "\t# local variable\n",
    "\ts = \"Hello\"\n",
    "\tprint(s)\n",
    "\n",
    "\n",
    "# Driver code\n",
    "f()\n"
   ]
  },
  {
   "cell_type": "code",
   "execution_count": 26,
   "id": "08d15b28-e66f-4575-9286-5d766e07489b",
   "metadata": {},
   "outputs": [
    {
     "name": "stdout",
     "output_type": "stream",
     "text": [
      "Inside Function Hello\n",
      "Outside Function Hello\n"
     ]
    }
   ],
   "source": [
    "# This function uses global variable s\n",
    "def f():\n",
    "\tprint(\"Inside Function\", s)\n",
    "\n",
    "# Global scope\n",
    "s = \"Hello\"\n",
    "f()\n",
    "print(\"Outside Function\", s)\n"
   ]
  },
  {
   "cell_type": "code",
   "execution_count": 27,
   "id": "e821c378-55bd-4355-865a-dd2c92eccd5b",
   "metadata": {},
   "outputs": [
    {
     "name": "stdout",
     "output_type": "stream",
     "text": [
      "Initial global variable: 42\n",
      "Modified global variable: 52\n"
     ]
    }
   ],
   "source": [
    "# ques 3\n",
    "# Define a global variable\n",
    "global_variable = 42\n",
    "\n",
    "def modify_global_variable():\n",
    "    # Access the global variable\n",
    "    global global_variable\n",
    "\n",
    "    # Modify the global variable\n",
    "    global_variable += 10\n",
    "\n",
    "# Display the initial global variable value\n",
    "print(\"Initial global variable:\", global_variable)\n",
    "\n",
    "# Call the function to modify the global variable\n",
    "modify_global_variable()\n",
    "\n",
    "# Display the modified global variable value\n",
    "print(\"Modified global variable:\", global_variable)\n"
   ]
  },
  {
   "cell_type": "code",
   "execution_count": null,
   "id": "eae978d8-0abc-4431-bd14-980c5d0d0391",
   "metadata": {},
   "outputs": [],
   "source": []
  },
  {
   "cell_type": "code",
   "execution_count": 29,
   "id": "96f9838e-b599-43cd-82d5-15c86166241e",
   "metadata": {},
   "outputs": [
    {
     "name": "stdout",
     "output_type": "stream",
     "text": [
      "720\n"
     ]
    }
   ],
   "source": [
    "# ques 4\n",
    "def fact(n):\n",
    "    if n <= 1:\n",
    "        return 1\n",
    "    else:\n",
    "        return n * fact(n-1)\n",
    "n = 6\n",
    "print(fact(n))"
   ]
  },
  {
   "cell_type": "markdown",
   "id": "3a60ebe3-60e4-4224-88fd-1c1cd4ee223a",
   "metadata": {},
   "source": [
    "# ques 5\n",
    "You can access variables defined outside a function from within the function in Python by using the global keyword, but this is typically used for modifying global variables. If you want to access variables for reading (not modifying) within a function, you can do so directly without using the global keyword"
   ]
  },
  {
   "cell_type": "code",
   "execution_count": null,
   "id": "2dde0c93-8641-4676-a10d-a51b528048a8",
   "metadata": {},
   "outputs": [],
   "source": []
  },
  {
   "cell_type": "markdown",
   "id": "4d5933ac-36b3-4c2b-8c1f-54d893fe508b",
   "metadata": {},
   "source": [
    "# Lambda Functions and Higher-Order Functions"
   ]
  },
  {
   "cell_type": "markdown",
   "id": "500e3c38-3a46-47a5-9152-932f2736a96c",
   "metadata": {},
   "source": [
    "# ques 1\n",
    "Lambda functions are similar to user-defined functions but without a name. They're commonly referred to as anonymous functions. Lambda functions are efficient whenever you want to create a function that will only contain simple expressions – that is, expressions that are usually a single line of a statement"
   ]
  },
  {
   "cell_type": "code",
   "execution_count": null,
   "id": "5d93d878-01ea-4d5f-b220-56165668988f",
   "metadata": {},
   "outputs": [],
   "source": []
  },
  {
   "cell_type": "code",
   "execution_count": 30,
   "id": "119ab54f-5a2f-47f7-b2b7-194b41b76138",
   "metadata": {},
   "outputs": [
    {
     "name": "stdout",
     "output_type": "stream",
     "text": [
      "Sorted Data: [(5, 0), (3, 1), (2, 2), (1, 3), (4, 4)]\n"
     ]
    }
   ],
   "source": [
    "# ques 2\n",
    "\n",
    "data = [(1, 3), (2, 2), (3, 1), (4, 4), (5, 0)]\n",
    "\n",
    "# Sort the list of tuples based on the second element using a lambda function\n",
    "sorted_data = sorted(data, key=lambda x: x[1])\n",
    "\n",
    "\n",
    "print(\"Sorted Data:\", sorted_data)\n"
   ]
  },
  {
   "cell_type": "markdown",
   "id": "86ac42be-deb5-42db-bd3f-45bc78113d8a",
   "metadata": {},
   "source": [
    "# ques 3\n",
    "Higher-order functions are functions that take a function as a parameter and/or return a function as an output. A few useful higher-order functions are map() , filter() , and reduce() . map() and filter() are built-in functions, whereas reduce() is contained in functools() module."
   ]
  },
  {
   "cell_type": "code",
   "execution_count": 40,
   "id": "5cc07215-2992-4dc6-b133-6e0969216e99",
   "metadata": {},
   "outputs": [
    {
     "name": "stdout",
     "output_type": "stream",
     "text": [
      "[3, 25, 6, 7]\n"
     ]
    }
   ],
   "source": [
    "# Example\n",
    "\n",
    "l = [1,23,4,5]\n",
    "print(list(map(lambda a : a +2 , l)))"
   ]
  },
  {
   "cell_type": "code",
   "execution_count": 41,
   "id": "52f22017-032a-43cd-963d-d5ddfdef9eb9",
   "metadata": {},
   "outputs": [
    {
     "name": "stdout",
     "output_type": "stream",
     "text": [
      "Original Numbers: [1, 2, 3, 4, 5]\n",
      "Doubled Numbers: [2, 4, 6, 8, 10]\n"
     ]
    }
   ],
   "source": [
    "# ques 4\n",
    "def apply_function_to_list(numbers, func):\n",
    "    \n",
    "    results = [func(num) for num in numbers]\n",
    "    return results\n",
    "\n",
    "def double(x):\n",
    "    return x * 2\n",
    "\n",
    "numbers = [1, 2, 3, 4, 5]\n",
    "doubled_numbers = apply_function_to_list(numbers, double)\n",
    "print(\"Original Numbers:\", numbers)\n",
    "print(\"Doubled Numbers:\", doubled_numbers)\n"
   ]
  },
  {
   "cell_type": "code",
   "execution_count": null,
   "id": "31283e96-5c93-4bcb-a337-99d87690a89d",
   "metadata": {},
   "outputs": [],
   "source": []
  },
  {
   "cell_type": "markdown",
   "id": "3395a5f0-72cb-4978-8655-6807e042ca84",
   "metadata": {},
   "source": [
    "# Built-in Functions:"
   ]
  },
  {
   "cell_type": "markdown",
   "id": "71f31bbf-27c5-4c59-9afb-6995f03d11d3",
   "metadata": {},
   "source": [
    "# ques 1\n",
    " len():\n",
    " Role: len() is used to determine the length or the number of elements in a data structure.\n",
    "\n",
    "max():\n",
    "Role: max() is used to find the maximum (largest) element from a sequence.\n",
    "\n",
    "min():\n",
    "Role: min() is used to find the minimum (smallest) element from a sequence."
   ]
  },
  {
   "cell_type": "code",
   "execution_count": null,
   "id": "8594677f-1f12-4ff7-a202-88c5ad9d90f3",
   "metadata": {},
   "outputs": [],
   "source": []
  },
  {
   "cell_type": "code",
   "execution_count": 44,
   "id": "80812dad-6f6e-4bc0-95b4-b351c8d80f46",
   "metadata": {},
   "outputs": [
    {
     "name": "stdout",
     "output_type": "stream",
     "text": [
      "Orginal numbers : [1, 2, 5, 4, 8, 9]\n",
      "Squared numbers : [1, 4, 25, 16, 64, 81]\n"
     ]
    }
   ],
   "source": [
    "# ques 2\n",
    "def square(n):\n",
    "    return n**2\n",
    "\n",
    "num = [1,2,5,4,8,9]\n",
    "result = list(map(square,num))\n",
    "\n",
    "print(f\"Orginal numbers : {num}\")\n",
    "print(f\"Squared numbers : {result}\")"
   ]
  },
  {
   "cell_type": "markdown",
   "id": "7f4cec7e-f609-4204-af4d-2adf46b2ca23",
   "metadata": {},
   "source": [
    "# ques 3\n",
    "The filter() function returns an iterator where the items are filtered through a function to test if the item is accepted or not.\n",
    "\n"
   ]
  },
  {
   "cell_type": "code",
   "execution_count": 47,
   "id": "8a78501a-cf52-4a15-80a2-53837b05f1f0",
   "metadata": {},
   "outputs": [
    {
     "name": "stdout",
     "output_type": "stream",
     "text": [
      "Product of the list : 720\n"
     ]
    }
   ],
   "source": [
    "# ques 4\n",
    "from functools import reduce\n",
    "def product(a,b):\n",
    "    return a*b\n",
    "\n",
    "num = [1,2,3,4,5,6]\n",
    "result45 = reduce(product,num)\n",
    "\n",
    "print(f\"Product of the list : {result45}\")"
   ]
  },
  {
   "cell_type": "code",
   "execution_count": null,
   "id": "99e42c6c-b7a1-4673-afb9-3de19a4e3e8f",
   "metadata": {},
   "outputs": [],
   "source": []
  },
  {
   "cell_type": "markdown",
   "id": "4459280c-5229-4810-8a43-42bca26d37ac",
   "metadata": {},
   "source": [
    "# Function Documentation and Best Practices:"
   ]
  },
  {
   "cell_type": "markdown",
   "id": "0802fa90-41be-432c-806c-ac2ce5407b5c",
   "metadata": {},
   "source": [
    "Docstrings in Python functions serve as a form of documentation. They provide a way to describe the purpose, usage, and details of a function, making it easier for developers to understand and use the function correctly. Docstrings are accessible through the `help()` function, and various documentation tools and libraries use them to generate documentation for your code.\n",
    "\n",
    "Here's how to write and use docstrings in Python functions:\n",
    "\n",
    "1. **Writing Docstrings**:\n",
    "\n",
    "   A docstring is typically placed as a string at the beginning of a function or a class. It is enclosed in triple-quotes (either single or double), and it can span multiple lines. The basic structure of a docstring includes a brief description followed by more detailed information:\n",
    "\n",
    "   ```python\n",
    "   def my_function(arg1, arg2):\n",
    "       \"\"\"\n",
    "       Brief description of the function.\n",
    "\n",
    "       More detailed explanation of the function, its parameters, and what it does.\n",
    "\n",
    "       :param arg1: Description of the first argument.\n",
    "       :param arg2: Description of the second argument.\n",
    "       :return: Description of what the function returns.\n",
    "       \"\"\"\n",
    "       # Function code goes here\n",
    "   ```\n",
    "\n",
    "2. **Accessing Docstrings**:\n",
    "\n",
    "   You can access a function's docstring using the `help()` function or by accessing the `__doc__` attribute of the function:\n",
    "\n",
    "   ```python\n",
    "   help(my_function)\n",
    "   # OR\n",
    "   print(my_function.__doc__)\n",
    "   ```\n",
    "\n",
    "3. **Best Practices for Writing Docstrings**:\n",
    "\n",
    "   - Keep it concise but informative.\n",
    "   - Mention the purpose of the function, its arguments, and return values.\n",
    "   - Use descriptive parameter names in the docstring.\n",
    "   - Follow a consistent style guide, such as PEP 257 (Python Enhancement Proposal) for docstring conventions.\n",
    "\n",
    "Here's an example with a well-documented function:\n",
    "\n",
    "```python\n",
    "def add(a, b):\n",
    "    \"\"\"\n",
    "    Calculate the sum of two numbers.\n",
    "\n",
    "    This function takes two numbers as input and returns their sum.\n",
    "\n",
    "    :param a: The first number.\n",
    "    :param b: The second number.\n",
    "    :return: The sum of 'a' and 'b'.\n",
    "    \"\"\"\n",
    "    return a + b\n",
    "```\n",
    "\n",
    "Writing clear and informative docstrings is good practice, as it makes your code more understandable and maintainable, especially when others read and use your code, and when you need to revisit your own code after some time."
   ]
  },
  {
   "cell_type": "code",
   "execution_count": null,
   "id": "4b8c4667-e367-4b57-a436-3a08edc5f231",
   "metadata": {},
   "outputs": [],
   "source": []
  },
  {
   "cell_type": "code",
   "execution_count": null,
   "id": "6d74e967-fb79-4411-a64d-290748942c70",
   "metadata": {},
   "outputs": [],
   "source": []
  },
  {
   "cell_type": "code",
   "execution_count": 48,
   "id": "4fa14344-b64b-4721-a7a0-6eecd9aa1031",
   "metadata": {},
   "outputs": [],
   "source": [
    "# ques 2\n"
   ]
  },
  {
   "cell_type": "markdown",
   "id": "895cb9cc-3e79-45ac-a2d3-44d5189c0e46",
   "metadata": {},
   "source": [
    "Naming conventions and guidelines for functions and variables in Python are important for code readability and maintainability. Here are some best practices:\n",
    "\n",
    "1. **Use Descriptive Names**:\n",
    "   - Choose names that clearly and concisely describe the purpose of the function or variable.\n",
    "   - Avoid single-letter or cryptic names (e.g., `x`, `i`, `tmp`).\n",
    "   - Use meaningful words that make the code self-explanatory.\n",
    "\n",
    "2. **Follow PEP 8**:\n",
    "   - PEP 8 is the Python Enhancement Proposal that provides style conventions for Python code.\n",
    "   - For function and variable names, PEP 8 recommends using lowercase letters and separating words with underscores (snake_case). For example: `my_function`, `my_variable`.\n",
    "\n",
    "3. **Use Verbs for Function Names**:\n",
    "   - Function names should typically begin with a verb that describes the action the function performs. For example: `calculate_total`, `get_user_name`.\n",
    "\n",
    "4. **Use Nouns for Variable Names**:\n",
    "   - Variable names should be nouns or noun phrases that describe the data they hold. For example: `customer_name`, `list_of_numbers`.\n",
    "\n",
    "5. **Be Consistent**:\n",
    "   - Maintain consistency in your naming throughout your codebase. If you use a specific naming convention or pattern, stick to it.\n",
    "\n",
    "6. **Avoid Reserved Keywords**:\n",
    "   - Do not use Python reserved words or keywords as function or variable names (e.g., `print`, `if`, `while`).\n",
    "\n",
    "7. **Use All Uppercase for Constants**:\n",
    "   - Constants, which are variables with values that should not change, are typically named using all uppercase letters with underscores. For example: `PI`, `MAX_VALUE`.\n",
    "\n",
    "8. **Use Short Names for Loops**:\n",
    "   - Short names like `i`, `j`, and `k` are acceptable for loop variables when iterating over sequences.\n",
    "\n",
    "9. **Use Descriptive Names for Collections**:\n",
    "   - Use plural and descriptive names for collections (lists, dictionaries, etc.) to indicate that they hold multiple items. For example: `students`, `books`.\n",
    "\n",
    "10. **Avoid Abbreviations Except Common Ones**:\n",
    "    - Avoid abbreviations in function and variable names, as they can make code less readable. Use full words that describe the purpose.\n",
    "    - Common abbreviations, like `str` for \"string\" or `num` for \"number,\" may be acceptable when they are well-known and widely used.\n",
    "\n",
    "11. **Use CamelCase for Class Names**:\n",
    "    - Class names should use CamelCase (each word starts with a capital letter without spaces) to distinguish them from functions and variables. For example: `MyClass`, `PersonInfo`.\n",
    "\n",
    "12. **Use Intuitive and Consistent Naming Conventions for Packages and Modules**:\n",
    "    - Packages and modules should have short, lowercase names, and package names should avoid underscores.\n",
    "    - Follow PEP 8 for package and module naming guidelines.\n",
    "\n",
    "13. **Document Your Code**:\n",
    "    - In addition to clear naming, provide meaningful docstrings to describe the purpose of functions and their parameters.\n",
    "\n",
    "Following these best practices for naming functions and variables in Python will help ensure your code is more readable, maintainable, and understandable by other developers, and it will align with Python's standard conventions."
   ]
  },
  {
   "cell_type": "code",
   "execution_count": null,
   "id": "346d4583-e0b2-4469-bc53-08723c4b53b2",
   "metadata": {},
   "outputs": [],
   "source": []
  }
 ],
 "metadata": {
  "kernelspec": {
   "display_name": "Python 3 (ipykernel)",
   "language": "python",
   "name": "python3"
  },
  "language_info": {
   "codemirror_mode": {
    "name": "ipython",
    "version": 3
   },
   "file_extension": ".py",
   "mimetype": "text/x-python",
   "name": "python",
   "nbconvert_exporter": "python",
   "pygments_lexer": "ipython3",
   "version": "3.10.8"
  }
 },
 "nbformat": 4,
 "nbformat_minor": 5
}
